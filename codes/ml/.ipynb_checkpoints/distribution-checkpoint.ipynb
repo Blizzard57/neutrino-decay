{
 "cells": [
  {
   "cell_type": "code",
   "execution_count": 1,
   "id": "d1779e91-baf4-4252-baa9-2027bdd70b64",
   "metadata": {},
   "outputs": [],
   "source": [
    "import pandas as pd\n",
    "import numpy as np\n",
    "import matplotlib.pyplot as plt\n",
    "import seaborn as sns\n",
    "from matplotlib import style as mpl\n",
    "from keras.models import Sequential, load_model\n",
    "from keras.layers import LSTM, Dense, Dropout, BatchNormalization\n",
    "from sklearn.utils import shuffle\n",
    "from PIL import ImageFont\n",
    "import datetime\n",
    "import visualkeras"
   ]
  },
  {
   "cell_type": "code",
   "execution_count": 20,
   "id": "6b2ef308-53b3-47cc-ad9d-554aa4903bdf",
   "metadata": {},
   "outputs": [],
   "source": [
    "%matplotlib inline\n",
    "mpl.use('seaborn')"
   ]
  },
  {
   "cell_type": "code",
   "execution_count": 21,
   "id": "a09f4b26-eda6-4e73-8f73-0f93347f1975",
   "metadata": {},
   "outputs": [],
   "source": [
    "df = []\n",
    "for f in [500,750,1000,1250,1400]:\n",
    "    con_df = []\n",
    "    \n",
    "    # The maximum file number \n",
    "    for i in range(1,90):\n",
    "        try:\n",
    "            con_df.append(pd.read_csv('~/neutrino/datasets/n2n2_' + str(f)\\\n",
    "                                      + '/n2n2' + str(i) + '.csv'))\n",
    "        except:\n",
    "            pass\n",
    "    \n",
    "    df.append(pd.concat(con_df,ignore_index=True))\n",
    "    df[-1]['type'] = f"
   ]
  },
  {
   "cell_type": "code",
   "execution_count": 22,
   "id": "5e080890-0565-417f-8b06-ae094ea757a2",
   "metadata": {},
   "outputs": [
    {
     "data": {
      "image/png": "[encoded data removed]",
      "text/plain": [
       "<Figure size 576x396 with 1 Axes>"
      ]
     },
     "metadata": {},
     "output_type": "display_data"
    }
   ],
   "source": [
    "for f in range(5):\n",
    "    plt.hist(df[f]['infl'],bins=100)\n",
    "plt.xlim([0,2500])\n",
    "plt.show()"
   ]
  },
  {
   "cell_type": "code",
   "execution_count": 24,
   "id": "7f43e22b-929d-4a73-afef-bd76272dd437",
   "metadata": {},
   "outputs": [
    {
     "data": {
      "text/plain": [
       "2.001"
      ]
     },
     "execution_count": 24,
     "metadata": {},
     "output_type": "execute_result"
    }
   ],
   "source": [
    "np.median(df[2]['drfl'])"
   ]
  },
  {
   "cell_type": "code",
   "execution_count": null,
   "id": "25ca4b33-7cd7-4ebd-bc49-da4465e91bc8",
   "metadata": {},
   "outputs": [],
   "source": []
  }
 ],
 "metadata": {
  "kernelspec": {
   "display_name": "Python 3 (ipykernel)",
   "language": "python",
   "name": "python3"
  },
  "language_info": {
   "codemirror_mode": {
    "name": "ipython",
    "version": 3
   },
   "file_extension": ".py",
   "mimetype": "text/x-python",
   "name": "python",
   "nbconvert_exporter": "python",
   "pygments_lexer": "ipython3",
   "version": "3.10.4"
  }
 },
 "nbformat": 4,
 "nbformat_minor": 5
}

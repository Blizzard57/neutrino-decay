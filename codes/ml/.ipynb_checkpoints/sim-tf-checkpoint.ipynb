{
 "cells": [
  {
   "cell_type": "markdown",
   "metadata": {},
   "source": [
    "# Cuts on the Right Handed Neutrino Decay\n",
    "\n",
    "This notebook will contain some of the elementary cuts applied on the monoleptonic channel of the right handed neutrino decay.\n",
    "\n",
    "The signal and the background for the process are as follows :\n",
    "- Signal\n",
    "    - n2n2 <br>\n",
    "$p p → Z' → N_r N_r, N_r → Z v_l → j j v_l, N_r → W l → l j j$\n",
    "\n",
    "- Background \n",
    "    - ttbar <br>\n",
    "$p p → t t, t → W b, W → j j$\n",
    "\n",
    "    - wmp <br>\n",
    "$ p p → W → l v_l$\n",
    "\n",
    "    - wpmp <br>\n",
    "$ p p → W+ W- → l v_l j j$\n",
    "\n",
    "    - zwmp <br>\n",
    "$ p p → Z W, Z → j j, W → l v_l $\n",
    "\n",
    "    - zzjj <br>\n",
    "$ p p → Z Z, Z → j j $\n"
   ]
  },
  {
   "cell_type": "markdown",
   "metadata": {},
   "source": [
    "## Hyperparameters used\n",
    "\n",
    "### Testing parameters :\n",
    "- gX = 0.1\n",
    "- gN = 0.1\n",
    "- Zn2 = 2.838\n",
    "- Mzp = 3000 GeV\n",
    "- Beam Energy = 14 TeV\n",
    "- Default Jet Matching Settings\n",
    "\n",
    "### Generation Level Cuts :\n",
    "- Minimum $P_T$ of leading Lepton = 120\n",
    "- Minimum $P_T$ of leading Jet = 120\n",
    "- Minimum $\\eta_j$ = -2\n",
    "- Maximum $\\eta_j$ = 2\n",
    "\n",
    "### Analysis Level Cuts (Using Topology):\n",
    "- Minimum Number of Leptons = 1\n",
    "- Minimum number of Narrow Jets = 2\n",
    "- Minimum Number of Fat Jets = 2"
   ]
  },
  {
   "cell_type": "markdown",
   "metadata": {
    "tags": []
   },
   "source": [
    "## Preprocessing\n",
    "\n",
    "Preprocessing the python files to get the imports required and the Machine Learning to work properly"
   ]
  },
  {
   "cell_type": "code",
   "execution_count": 1,
   "metadata": {},
   "outputs": [],
   "source": [
    "import pandas as pd\n",
    "import numpy as np\n",
    "import matplotlib.pyplot as plt\n",
    "from matplotlib import style as mpl\n",
    "from tensorflow.keras.models import Sequential, load_model\n",
    "from tensorflow.keras.layers import LSTM, Dense, Dropout, BatchNormalization\n",
    "from sklearn.utils import shuffle\n",
    "import datetime\n",
    "import visualkeras\n",
    "import gc"
   ]
  },
  {
   "cell_type": "code",
   "execution_count": 2,
   "metadata": {},
   "outputs": [],
   "source": [
    "import warnings\n",
    "warnings.filterwarnings('ignore')"
   ]
  },
  {
   "cell_type": "code",
   "execution_count": 3,
   "metadata": {},
   "outputs": [],
   "source": [
    "import os\n",
    "os.environ['CUDA_VISIBLE_DEVICES'] = '-1'"
   ]
  },
  {
   "cell_type": "code",
   "execution_count": 4,
   "metadata": {},
   "outputs": [],
   "source": [
    "import tensorflow as tf\n",
    "%load_ext tensorboard"
   ]
  },
  {
   "cell_type": "code",
   "execution_count": 5,
   "metadata": {},
   "outputs": [],
   "source": [
    "%matplotlib inline\n",
    "mpl.use('seaborn')"
   ]
  },
  {
   "cell_type": "markdown",
   "metadata": {},
   "source": [
    "### Hyperparameters"
   ]
  },
  {
   "cell_type": "code",
   "execution_count": 6,
   "metadata": {},
   "outputs": [
    {
     "name": "stderr",
     "output_type": "stream",
     "text": [
      "2022-05-11 17:57:10.461856: E tensorflow/stream_executor/cuda/cuda_driver.cc:271] failed call to cuInit: CUDA_ERROR_NO_DEVICE: no CUDA-capable device is detected\n",
      "2022-05-11 17:57:10.461908: I tensorflow/stream_executor/cuda/cuda_diagnostics.cc:169] retrieving CUDA diagnostic information for host: gnode32\n",
      "2022-05-11 17:57:10.461919: I tensorflow/stream_executor/cuda/cuda_diagnostics.cc:176] hostname: gnode32\n",
      "2022-05-11 17:57:10.462131: I tensorflow/stream_executor/cuda/cuda_diagnostics.cc:200] libcuda reported version is: 440.95.1\n",
      "2022-05-11 17:57:10.462168: I tensorflow/stream_executor/cuda/cuda_diagnostics.cc:204] kernel reported version is: 440.95.1\n",
      "2022-05-11 17:57:10.462178: I tensorflow/stream_executor/cuda/cuda_diagnostics.cc:310] kernel version seems to match DSO: 440.95.1\n",
      "2022-05-11 17:57:10.462608: I tensorflow/core/platform/cpu_feature_guard.cc:151] This TensorFlow binary is optimized with oneAPI Deep Neural Network Library (oneDNN) to use the following CPU instructions in performance-critical operations:  SSE4.1 SSE4.2 AVX AVX2 FMA\n",
      "To enable them in other operations, rebuild TensorFlow with the appropriate compiler flags.\n"
     ]
    }
   ],
   "source": [
    "mn2 = 1400\n",
    "prop_seed = 345\n",
    "train_div = 0.5\n",
    "back_callback_dir = \"/home2/kalp_shah/neutrino/codes/ml/backup/dnn\"\n",
    "log_folder = \"logs/dnn\"\n",
    "model_dir = \"/home2/kalp_shah/neutrino/datasets/model/\"\n",
    "sig_epoch = {'test' : [], 'complete' : []}\n",
    "model_max = Sequential()\n",
    "max_sig = 0"
   ]
  },
  {
   "cell_type": "code",
   "execution_count": 7,
   "metadata": {},
   "outputs": [],
   "source": [
    "!rm -rf /home2/kalp_shah/neutrino/codes/ml/backup/dnn\n",
    "!rm -rf logs/dnn"
   ]
  },
  {
   "cell_type": "markdown",
   "metadata": {
    "tags": []
   },
   "source": [
    "## Calculating the Cross Section"
   ]
  },
  {
   "cell_type": "markdown",
   "metadata": {},
   "source": [
    "The calculation of the cross section is done as follows :\n",
    "\n",
    "$\\sigma_p = \\sigma_{LO} \\frac{\\sigma_{MGcuts}}{\\sigma_{MGno-cuts}} $"
   ]
  },
  {
   "cell_type": "code",
   "execution_count": 8,
   "metadata": {},
   "outputs": [],
   "source": [
    "n2n2_cs = {500  : 5.13*1e-4,\n",
    "           750  : 3.83*1e-4,\n",
    "           #1000 : 3.99*1e-4,\\\n",
    "           1000 : 2.42*1e-4,\n",
    "           1250 : 9.56*1e-5,\n",
    "           1400 : 4.74*1e-5}"
   ]
  },
  {
   "cell_type": "code",
   "execution_count": 9,
   "metadata": {},
   "outputs": [],
   "source": [
    "cs_lo_k = { 'ttbar':988.57,\n",
    "            'wmp'  :1.95*1e5,\n",
    "            'wpwm' :124.31,\n",
    "            'zwpm' :51.82,\n",
    "            'n2n2' :1}\n",
    "\n",
    "br_ratio = {'ttbar':0.67*(1-0.67)*2,\n",
    "            'wmp'  :(1-0.67),\n",
    "            'wpwm' :(1-0.67)*0.67*2,\n",
    "            'zwpm' :0.7*(1-0.67),\n",
    "            'n2n2' :1}\n",
    "\n",
    "cs_nmg = {  'ttbar':393.30,\n",
    "            'wmp'  :7.865*1e4,\n",
    "            'wpwm' :74.96,\n",
    "            'zwpm' :14.28,\n",
    "            'n2n2' :1}\n",
    "\n",
    "cs_mg = {   'ttbar':5.883,\n",
    "            'wmp':111.5,\n",
    "            'wpwm':0.944,\n",
    "            'zwpm':0.2381,\n",
    "            'n2n2':n2n2_cs[mn2]}"
   ]
  },
  {
   "cell_type": "code",
   "execution_count": 10,
   "metadata": {},
   "outputs": [],
   "source": [
    "files = ['ttbar','wmp','wpwm','zwpm','n2n2']\n",
    "\n",
    "# The cross sections are given in picobarn\n",
    "cs_pb = []\n",
    "for f in files:\n",
    "    cs_pb.append((cs_lo_k[f]*br_ratio[f]*cs_mg[f])/cs_nmg[f])\n",
    "\n",
    "cs = [i*1e3 for i in cs_pb]\n",
    "cs_corr = {files[i] : cs[i] for i in range(len(files))}"
   ]
  },
  {
   "cell_type": "code",
   "execution_count": 11,
   "metadata": {},
   "outputs": [],
   "source": [
    "cs_print = pd.DataFrame([cs_corr.keys(),cs_corr.values()]).T\n",
    "cs_print.rename(columns = {0:'Process',1:'Cross section (fb)'}, inplace = True)"
   ]
  },
  {
   "cell_type": "code",
   "execution_count": 12,
   "metadata": {},
   "outputs": [
    {
     "data": {
      "text/html": [
       "<style type=\"text/css\">\n",
       "</style>\n",
       "<table id=\"T_43ffc\">\n",
       "  <thead>\n",
       "    <tr>\n",
       "      <th id=\"T_43ffc_level0_col0\" class=\"col_heading level0 col0\" >Process</th>\n",
       "      <th id=\"T_43ffc_level0_col1\" class=\"col_heading level0 col1\" >Cross section (fb)</th>\n",
       "    </tr>\n",
       "  </thead>\n",
       "  <tbody>\n",
       "    <tr>\n",
       "      <td id=\"T_43ffc_row0_col0\" class=\"data row0 col0\" >ttbar</td>\n",
       "      <td id=\"T_43ffc_row0_col1\" class=\"data row0 col1\" >6538.845366</td>\n",
       "    </tr>\n",
       "    <tr>\n",
       "      <td id=\"T_43ffc_row1_col0\" class=\"data row1 col0\" >wmp</td>\n",
       "      <td id=\"T_43ffc_row1_col1\" class=\"data row1 col1\" >91227.272727</td>\n",
       "    </tr>\n",
       "    <tr>\n",
       "      <td id=\"T_43ffc_row2_col0\" class=\"data row2 col0\" >wpwm</td>\n",
       "      <td id=\"T_43ffc_row2_col1\" class=\"data row2 col1\" >692.256785</td>\n",
       "    </tr>\n",
       "    <tr>\n",
       "      <td id=\"T_43ffc_row3_col0\" class=\"data row3 col0\" >zwpm</td>\n",
       "      <td id=\"T_43ffc_row3_col1\" class=\"data row3 col1\" >199.590826</td>\n",
       "    </tr>\n",
       "    <tr>\n",
       "      <td id=\"T_43ffc_row4_col0\" class=\"data row4 col0\" >n2n2</td>\n",
       "      <td id=\"T_43ffc_row4_col1\" class=\"data row4 col1\" >0.047400</td>\n",
       "    </tr>\n",
       "  </tbody>\n",
       "</table>\n"
      ],
      "text/plain": [
       "<pandas.io.formats.style.Styler at 0x154dab577d30>"
      ]
     },
     "execution_count": 12,
     "metadata": {},
     "output_type": "execute_result"
    }
   ],
   "source": [
    "cs_print.style.hide_index()"
   ]
  },
  {
   "cell_type": "markdown",
   "metadata": {},
   "source": [
    "## Getting the Data"
   ]
  },
  {
   "cell_type": "markdown",
   "metadata": {},
   "source": [
    "Finding the amount of events in storage using the following formula :\n",
    "\n",
    "$ N_{p} = N_{files}*N_{Events-per-files} $"
   ]
  },
  {
   "cell_type": "code",
   "execution_count": 13,
   "metadata": {},
   "outputs": [],
   "source": [
    "no_of_files = {'ttbar':0,\n",
    "               'wmp':0,\n",
    "               'wpwm':0,\n",
    "               'zwpm':0,\n",
    "               'n2n2':0\n",
    "               }"
   ]
  },
  {
   "cell_type": "code",
   "execution_count": 14,
   "metadata": {
    "tags": []
   },
   "outputs": [],
   "source": [
    "df = []\n",
    "for f in range(len(files)):\n",
    "    con_df = []\n",
    "    \n",
    "    # The maximum file number \n",
    "    for i in range(1,80):\n",
    "        try:\n",
    "            if files[f] == 'n2n2':\n",
    "                con_df.append(pd.read_csv('~/neutrino/datasets/n2n2_' + str(mn2) + '/' + files[f] + str(i) + '.csv'))\n",
    "            else:\n",
    "                con_df.append(pd.read_csv('~/neutrino/datasets/backgrounds/' + files[f] + str(i) + '.csv'))\n",
    "            no_of_files[files[f]] += 1\n",
    "        except:\n",
    "            pass\n",
    "    \n",
    "    df.append(pd.concat(con_df,ignore_index=True))\n",
    "    df[-1]['type'] = f\n",
    "    \n",
    "    if files[f] == \"n2n2\":\n",
    "        df[-1]['tag'] = 1\n",
    "    else:\n",
    "        df[-1]['tag'] = 0"
   ]
  },
  {
   "cell_type": "markdown",
   "metadata": {},
   "source": [
    "### Total Number of Files"
   ]
  },
  {
   "cell_type": "code",
   "execution_count": 15,
   "metadata": {},
   "outputs": [],
   "source": [
    "red_merging = {'ttbar':98159,\n",
    "               'wmp':96494,\n",
    "               'wpwm':97633,\n",
    "               'zwpm':81076,\n",
    "               'n2n2':int(1e5)\n",
    "               }"
   ]
  },
  {
   "cell_type": "code",
   "execution_count": 16,
   "metadata": {},
   "outputs": [],
   "source": [
    "total_events = []\n",
    "\n",
    "for f in range(len(files)):\n",
    "    total_events.append(no_of_files[files[f]] * red_merging[files[f]])"
   ]
  },
  {
   "cell_type": "code",
   "execution_count": 17,
   "metadata": {},
   "outputs": [],
   "source": [
    "nf_print = pd.DataFrame([no_of_files.keys(),total_events]).T\n",
    "nf_print.rename(columns = {0:'Process',1:'Number of Events'}, inplace = True)"
   ]
  },
  {
   "cell_type": "code",
   "execution_count": 18,
   "metadata": {},
   "outputs": [
    {
     "data": {
      "text/html": [
       "<style type=\"text/css\">\n",
       "</style>\n",
       "<table id=\"T_94362\">\n",
       "  <thead>\n",
       "    <tr>\n",
       "      <th id=\"T_94362_level0_col0\" class=\"col_heading level0 col0\" >Process</th>\n",
       "      <th id=\"T_94362_level0_col1\" class=\"col_heading level0 col1\" >Number of Events</th>\n",
       "    </tr>\n",
       "  </thead>\n",
       "  <tbody>\n",
       "    <tr>\n",
       "      <td id=\"T_94362_row0_col0\" class=\"data row0 col0\" >ttbar</td>\n",
       "      <td id=\"T_94362_row0_col1\" class=\"data row0 col1\" >6085858</td>\n",
       "    </tr>\n",
       "    <tr>\n",
       "      <td id=\"T_94362_row1_col0\" class=\"data row1 col0\" >wmp</td>\n",
       "      <td id=\"T_94362_row1_col1\" class=\"data row1 col1\" >5886134</td>\n",
       "    </tr>\n",
       "    <tr>\n",
       "      <td id=\"T_94362_row2_col0\" class=\"data row2 col0\" >wpwm</td>\n",
       "      <td id=\"T_94362_row2_col1\" class=\"data row2 col1\" >4002953</td>\n",
       "    </tr>\n",
       "    <tr>\n",
       "      <td id=\"T_94362_row3_col0\" class=\"data row3 col0\" >zwpm</td>\n",
       "      <td id=\"T_94362_row3_col1\" class=\"data row3 col1\" >3648420</td>\n",
       "    </tr>\n",
       "    <tr>\n",
       "      <td id=\"T_94362_row4_col0\" class=\"data row4 col0\" >n2n2</td>\n",
       "      <td id=\"T_94362_row4_col1\" class=\"data row4 col1\" >4200000</td>\n",
       "    </tr>\n",
       "  </tbody>\n",
       "</table>\n"
      ],
      "text/plain": [
       "<pandas.io.formats.style.Styler at 0x154f61bdc5e0>"
      ]
     },
     "execution_count": 18,
     "metadata": {},
     "output_type": "execute_result"
    }
   ],
   "source": [
    "nf_print.style.hide_index()"
   ]
  },
  {
   "cell_type": "markdown",
   "metadata": {},
   "source": [
    "### Sample Output"
   ]
  },
  {
   "cell_type": "code",
   "execution_count": 19,
   "metadata": {},
   "outputs": [
    {
     "data": {
      "text/html": [
       "<style type=\"text/css\">\n",
       "</style>\n",
       "<table id=\"T_0e3b2\">\n",
       "  <thead>\n",
       "    <tr>\n",
       "      <th id=\"T_0e3b2_level0_col0\" class=\"col_heading level0 col0\" >ptl</th>\n",
       "      <th id=\"T_0e3b2_level0_col1\" class=\"col_heading level0 col1\" >etal</th>\n",
       "      <th id=\"T_0e3b2_level0_col2\" class=\"col_heading level0 col2\" >energyl</th>\n",
       "      <th id=\"T_0e3b2_level0_col3\" class=\"col_heading level0 col3\" >ptj</th>\n",
       "      <th id=\"T_0e3b2_level0_col4\" class=\"col_heading level0 col4\" >etaj</th>\n",
       "      <th id=\"T_0e3b2_level0_col5\" class=\"col_heading level0 col5\" >energyj</th>\n",
       "      <th id=\"T_0e3b2_level0_col6\" class=\"col_heading level0 col6\" >massj</th>\n",
       "      <th id=\"T_0e3b2_level0_col7\" class=\"col_heading level0 col7\" >mjj</th>\n",
       "      <th id=\"T_0e3b2_level0_col8\" class=\"col_heading level0 col8\" >rjj</th>\n",
       "      <th id=\"T_0e3b2_level0_col9\" class=\"col_heading level0 col9\" >rjl</th>\n",
       "      <th id=\"T_0e3b2_level0_col10\" class=\"col_heading level0 col10\" >met</th>\n",
       "      <th id=\"T_0e3b2_level0_col11\" class=\"col_heading level0 col11\" >n21_1</th>\n",
       "      <th id=\"T_0e3b2_level0_col12\" class=\"col_heading level0 col12\" >n21_2</th>\n",
       "      <th id=\"T_0e3b2_level0_col13\" class=\"col_heading level0 col13\" >n32_1</th>\n",
       "      <th id=\"T_0e3b2_level0_col14\" class=\"col_heading level0 col14\" >n32_2</th>\n",
       "      <th id=\"T_0e3b2_level0_col15\" class=\"col_heading level0 col15\" >infl</th>\n",
       "      <th id=\"T_0e3b2_level0_col16\" class=\"col_heading level0 col16\" >drfl</th>\n",
       "      <th id=\"T_0e3b2_level0_col17\" class=\"col_heading level0 col17\" >type</th>\n",
       "      <th id=\"T_0e3b2_level0_col18\" class=\"col_heading level0 col18\" >tag</th>\n",
       "    </tr>\n",
       "  </thead>\n",
       "  <tbody>\n",
       "    <tr>\n",
       "      <td id=\"T_0e3b2_row0_col0\" class=\"data row0 col0\" >436.093000</td>\n",
       "      <td id=\"T_0e3b2_row0_col1\" class=\"data row0 col1\" >-2.389730</td>\n",
       "      <td id=\"T_0e3b2_row0_col2\" class=\"data row0 col2\" >2399.000000</td>\n",
       "      <td id=\"T_0e3b2_row0_col3\" class=\"data row0 col3\" >556.001000</td>\n",
       "      <td id=\"T_0e3b2_row0_col4\" class=\"data row0 col4\" >-0.577863</td>\n",
       "      <td id=\"T_0e3b2_row0_col5\" class=\"data row0 col5\" >652.801000</td>\n",
       "      <td id=\"T_0e3b2_row0_col6\" class=\"data row0 col6\" >42.065200</td>\n",
       "      <td id=\"T_0e3b2_row0_col7\" class=\"data row0 col7\" >510.828000</td>\n",
       "      <td id=\"T_0e3b2_row0_col8\" class=\"data row0 col8\" >1.003650</td>\n",
       "      <td id=\"T_0e3b2_row0_col9\" class=\"data row0 col9\" >1.830620</td>\n",
       "      <td id=\"T_0e3b2_row0_col10\" class=\"data row0 col10\" >3319.300000</td>\n",
       "      <td id=\"T_0e3b2_row0_col11\" class=\"data row0 col11\" >0.269849</td>\n",
       "      <td id=\"T_0e3b2_row0_col12\" class=\"data row0 col12\" >0.708806</td>\n",
       "      <td id=\"T_0e3b2_row0_col13\" class=\"data row0 col13\" >0.887303</td>\n",
       "      <td id=\"T_0e3b2_row0_col14\" class=\"data row0 col14\" >0.898352</td>\n",
       "      <td id=\"T_0e3b2_row0_col15\" class=\"data row0 col15\" >1738.750000</td>\n",
       "      <td id=\"T_0e3b2_row0_col16\" class=\"data row0 col16\" >4.083050</td>\n",
       "      <td id=\"T_0e3b2_row0_col17\" class=\"data row0 col17\" >4</td>\n",
       "      <td id=\"T_0e3b2_row0_col18\" class=\"data row0 col18\" >1</td>\n",
       "    </tr>\n",
       "    <tr>\n",
       "      <td id=\"T_0e3b2_row1_col0\" class=\"data row1 col0\" >936.347000</td>\n",
       "      <td id=\"T_0e3b2_row1_col1\" class=\"data row1 col1\" >0.750063</td>\n",
       "      <td id=\"T_0e3b2_row1_col2\" class=\"data row1 col2\" >1212.320000</td>\n",
       "      <td id=\"T_0e3b2_row1_col3\" class=\"data row1 col3\" >580.241000</td>\n",
       "      <td id=\"T_0e3b2_row1_col4\" class=\"data row1 col4\" >-0.097620</td>\n",
       "      <td id=\"T_0e3b2_row1_col5\" class=\"data row1 col5\" >589.234000</td>\n",
       "      <td id=\"T_0e3b2_row1_col6\" class=\"data row1 col6\" >85.429900</td>\n",
       "      <td id=\"T_0e3b2_row1_col7\" class=\"data row1 col7\" >1120.660000</td>\n",
       "      <td id=\"T_0e3b2_row1_col8\" class=\"data row1 col8\" >0.327702</td>\n",
       "      <td id=\"T_0e3b2_row1_col9\" class=\"data row1 col9\" >2.646560</td>\n",
       "      <td id=\"T_0e3b2_row1_col10\" class=\"data row1 col10\" >1166.850000</td>\n",
       "      <td id=\"T_0e3b2_row1_col11\" class=\"data row1 col11\" >0.139448</td>\n",
       "      <td id=\"T_0e3b2_row1_col12\" class=\"data row1 col12\" >0.328383</td>\n",
       "      <td id=\"T_0e3b2_row1_col13\" class=\"data row1 col13\" >0.596715</td>\n",
       "      <td id=\"T_0e3b2_row1_col14\" class=\"data row1 col14\" >0.817968</td>\n",
       "      <td id=\"T_0e3b2_row1_col15\" class=\"data row1 col15\" >906.584000</td>\n",
       "      <td id=\"T_0e3b2_row1_col16\" class=\"data row1 col16\" >1.295220</td>\n",
       "      <td id=\"T_0e3b2_row1_col17\" class=\"data row1 col17\" >4</td>\n",
       "      <td id=\"T_0e3b2_row1_col18\" class=\"data row1 col18\" >1</td>\n",
       "    </tr>\n",
       "    <tr>\n",
       "      <td id=\"T_0e3b2_row2_col0\" class=\"data row2 col0\" >453.211000</td>\n",
       "      <td id=\"T_0e3b2_row2_col1\" class=\"data row2 col1\" >-0.394899</td>\n",
       "      <td id=\"T_0e3b2_row2_col2\" class=\"data row2 col2\" >489.010000</td>\n",
       "      <td id=\"T_0e3b2_row2_col3\" class=\"data row2 col3\" >920.608000</td>\n",
       "      <td id=\"T_0e3b2_row2_col4\" class=\"data row2 col4\" >0.623196</td>\n",
       "      <td id=\"T_0e3b2_row2_col5\" class=\"data row2 col5\" >1108.620000</td>\n",
       "      <td id=\"T_0e3b2_row2_col6\" class=\"data row2 col6\" >86.477900</td>\n",
       "      <td id=\"T_0e3b2_row2_col7\" class=\"data row2 col7\" >762.878000</td>\n",
       "      <td id=\"T_0e3b2_row2_col8\" class=\"data row2 col8\" >0.885375</td>\n",
       "      <td id=\"T_0e3b2_row2_col9\" class=\"data row2 col9\" >2.638610</td>\n",
       "      <td id=\"T_0e3b2_row2_col10\" class=\"data row2 col10\" >848.063000</td>\n",
       "      <td id=\"T_0e3b2_row2_col11\" class=\"data row2 col11\" >0.312123</td>\n",
       "      <td id=\"T_0e3b2_row2_col12\" class=\"data row2 col12\" >0.534172</td>\n",
       "      <td id=\"T_0e3b2_row2_col13\" class=\"data row2 col13\" >0.311971</td>\n",
       "      <td id=\"T_0e3b2_row2_col14\" class=\"data row2 col14\" >0.456355</td>\n",
       "      <td id=\"T_0e3b2_row2_col15\" class=\"data row2 col15\" >249.353000</td>\n",
       "      <td id=\"T_0e3b2_row2_col16\" class=\"data row2 col16\" >1.616330</td>\n",
       "      <td id=\"T_0e3b2_row2_col17\" class=\"data row2 col17\" >4</td>\n",
       "      <td id=\"T_0e3b2_row2_col18\" class=\"data row2 col18\" >1</td>\n",
       "    </tr>\n",
       "    <tr>\n",
       "      <td id=\"T_0e3b2_row3_col0\" class=\"data row3 col0\" >623.345000</td>\n",
       "      <td id=\"T_0e3b2_row3_col1\" class=\"data row3 col1\" >-0.704433</td>\n",
       "      <td id=\"T_0e3b2_row3_col2\" class=\"data row3 col2\" >784.508000</td>\n",
       "      <td id=\"T_0e3b2_row3_col3\" class=\"data row3 col3\" >641.113000</td>\n",
       "      <td id=\"T_0e3b2_row3_col4\" class=\"data row3 col4\" >-1.417190</td>\n",
       "      <td id=\"T_0e3b2_row3_col5\" class=\"data row3 col5\" >1401.970000</td>\n",
       "      <td id=\"T_0e3b2_row3_col6\" class=\"data row3 col6\" >71.111200</td>\n",
       "      <td id=\"T_0e3b2_row3_col7\" class=\"data row3 col7\" >920.656000</td>\n",
       "      <td id=\"T_0e3b2_row3_col8\" class=\"data row3 col8\" >1.114250</td>\n",
       "      <td id=\"T_0e3b2_row3_col9\" class=\"data row3 col9\" >2.597460</td>\n",
       "      <td id=\"T_0e3b2_row3_col10\" class=\"data row3 col10\" >2354.970000</td>\n",
       "      <td id=\"T_0e3b2_row3_col11\" class=\"data row3 col11\" >0.339255</td>\n",
       "      <td id=\"T_0e3b2_row3_col12\" class=\"data row3 col12\" >0.444235</td>\n",
       "      <td id=\"T_0e3b2_row3_col13\" class=\"data row3 col13\" >0.520729</td>\n",
       "      <td id=\"T_0e3b2_row3_col14\" class=\"data row3 col14\" >0.673211</td>\n",
       "      <td id=\"T_0e3b2_row3_col15\" class=\"data row3 col15\" >738.154000</td>\n",
       "      <td id=\"T_0e3b2_row3_col16\" class=\"data row3 col16\" >1.874510</td>\n",
       "      <td id=\"T_0e3b2_row3_col17\" class=\"data row3 col17\" >4</td>\n",
       "      <td id=\"T_0e3b2_row3_col18\" class=\"data row3 col18\" >1</td>\n",
       "    </tr>\n",
       "    <tr>\n",
       "      <td id=\"T_0e3b2_row4_col0\" class=\"data row4 col0\" >647.512000</td>\n",
       "      <td id=\"T_0e3b2_row4_col1\" class=\"data row4 col1\" >0.448698</td>\n",
       "      <td id=\"T_0e3b2_row4_col2\" class=\"data row4 col2\" >713.795000</td>\n",
       "      <td id=\"T_0e3b2_row4_col3\" class=\"data row4 col3\" >708.473000</td>\n",
       "      <td id=\"T_0e3b2_row4_col4\" class=\"data row4 col4\" >0.540553</td>\n",
       "      <td id=\"T_0e3b2_row4_col5\" class=\"data row4 col5\" >818.404000</td>\n",
       "      <td id=\"T_0e3b2_row4_col6\" class=\"data row4 col6\" >79.584700</td>\n",
       "      <td id=\"T_0e3b2_row4_col7\" class=\"data row4 col7\" >759.394000</td>\n",
       "      <td id=\"T_0e3b2_row4_col8\" class=\"data row4 col8\" >2.163930</td>\n",
       "      <td id=\"T_0e3b2_row4_col9\" class=\"data row4 col9\" >2.858670</td>\n",
       "      <td id=\"T_0e3b2_row4_col10\" class=\"data row4 col10\" >1611.420000</td>\n",
       "      <td id=\"T_0e3b2_row4_col11\" class=\"data row4 col11\" >0.513354</td>\n",
       "      <td id=\"T_0e3b2_row4_col12\" class=\"data row4 col12\" >0.575230</td>\n",
       "      <td id=\"T_0e3b2_row4_col13\" class=\"data row4 col13\" >0.167168</td>\n",
       "      <td id=\"T_0e3b2_row4_col14\" class=\"data row4 col14\" >0.356801</td>\n",
       "      <td id=\"T_0e3b2_row4_col15\" class=\"data row4 col15\" >961.520000</td>\n",
       "      <td id=\"T_0e3b2_row4_col16\" class=\"data row4 col16\" >0.221226</td>\n",
       "      <td id=\"T_0e3b2_row4_col17\" class=\"data row4 col17\" >4</td>\n",
       "      <td id=\"T_0e3b2_row4_col18\" class=\"data row4 col18\" >1</td>\n",
       "    </tr>\n",
       "  </tbody>\n",
       "</table>\n"
      ],
      "text/plain": [
       "<pandas.io.formats.style.Styler at 0x154f61bdca90>"
      ]
     },
     "execution_count": 19,
     "metadata": {},
     "output_type": "execute_result"
    }
   ],
   "source": [
    "df[-1].head().style.hide_index()"
   ]
  },
  {
   "cell_type": "markdown",
   "metadata": {},
   "source": [
    "### Applying Analysis Level Cuts"
   ]
  },
  {
   "cell_type": "code",
   "execution_count": 20,
   "metadata": {},
   "outputs": [],
   "source": [
    "tf.random.set_seed(prop_seed)\n",
    "np.random.seed(prop_seed)"
   ]
  },
  {
   "cell_type": "code",
   "execution_count": 21,
   "metadata": {},
   "outputs": [],
   "source": [
    "for i in range(len(df)):\n",
    "    df[i] = shuffle(df[i])"
   ]
  },
  {
   "cell_type": "code",
   "execution_count": 22,
   "metadata": {},
   "outputs": [],
   "source": [
    "df_train = []\n",
    "df_test = []\n",
    "for df_sub in df:\n",
    "    df_train.append(df_sub[:int(len(df_sub)/2)])\n",
    "    df_test.append(df_sub[int(len(df_sub)/2):])"
   ]
  },
  {
   "cell_type": "code",
   "execution_count": 23,
   "metadata": {},
   "outputs": [],
   "source": [
    "dtset = pd.concat(df,ignore_index=True)\n",
    "dtset['met'] = np.fabs(dtset['met'])\n",
    "\n",
    "dtset_train = pd.concat(df_train,ignore_index=True)\n",
    "dtset_train['met'] = np.fabs(dtset_train['met'])\n",
    "\n",
    "dtset_test = pd.concat(df_test,ignore_index=True)\n",
    "dtset_test['met'] = np.fabs(dtset_test['met'])"
   ]
  },
  {
   "cell_type": "code",
   "execution_count": 24,
   "metadata": {},
   "outputs": [],
   "source": [
    "del(df,df_test,df_train)"
   ]
  },
  {
   "cell_type": "code",
   "execution_count": 25,
   "metadata": {},
   "outputs": [],
   "source": [
    "dtset = dtset\\\n",
    "       [dtset['ptl'] >= 120.0]\\\n",
    "       [dtset['ptj'] >= 120.0]\\\n",
    "       [dtset['etaj'] <=  2.0]\\\n",
    "       [dtset['etaj'] >= -2.0]"
   ]
  },
  {
   "cell_type": "code",
   "execution_count": 26,
   "metadata": {},
   "outputs": [],
   "source": [
    "## Analysis Level Cuts\n",
    "dtset_train = dtset_train\\\n",
    "             [dtset_train['ptl'] >= 120.0]\\\n",
    "             [dtset_train['ptj'] >= 120.0]\\\n",
    "             [dtset_train['etaj'] <=  2.0]\\\n",
    "             [dtset_train['etaj'] >= -2.0]"
   ]
  },
  {
   "cell_type": "code",
   "execution_count": 27,
   "metadata": {},
   "outputs": [],
   "source": [
    "## Analysis Level Cuts\n",
    "dtset_test = dtset_test\\\n",
    "            [dtset_test['ptl'] >= 120.0]\\\n",
    "            [dtset_test['ptj'] >= 120.0]\\\n",
    "            [dtset_test['etaj'] <=  2.0]\\\n",
    "            [dtset_test['etaj'] >= -2.0]"
   ]
  },
  {
   "cell_type": "code",
   "execution_count": 28,
   "metadata": {},
   "outputs": [],
   "source": [
    "dtset_test = shuffle(dtset_test)\n",
    "dtset = shuffle(dtset)\n",
    "dtset_train = shuffle(dtset_train)"
   ]
  },
  {
   "cell_type": "markdown",
   "metadata": {
    "tags": []
   },
   "source": [
    "## Machine Learning"
   ]
  },
  {
   "cell_type": "markdown",
   "metadata": {},
   "source": [
    "### Making the Train and Test Dataset\n",
    "\n",
    "The division of training and the testing set is 80:20 percent"
   ]
  },
  {
   "cell_type": "code",
   "execution_count": 29,
   "metadata": {
    "tags": []
   },
   "outputs": [],
   "source": [
    "x_train = dtset_train.T[:-2].T\n",
    "y_train = dtset_train['tag']\n",
    "\n",
    "x_test = dtset_test.T[:-2].T\n",
    "y_test = dtset_test['tag']"
   ]
  },
  {
   "cell_type": "code",
   "execution_count": 30,
   "metadata": {},
   "outputs": [],
   "source": [
    "#del(dtset_train)"
   ]
  },
  {
   "cell_type": "code",
   "execution_count": 31,
   "metadata": {},
   "outputs": [
    {
     "name": "stdout",
     "output_type": "stream",
     "text": [
      "The Shapes are :\n",
      "X Train :  (7111419, 17)\n",
      "Y Train :  (7111419,)\n",
      "X Test :   (7110029, 17)\n",
      "Y Test :   (7110029,)\n"
     ]
    }
   ],
   "source": [
    "print('The Shapes are :')\n",
    "print('X Train : ',x_train.shape)\n",
    "print('Y Train : ',y_train.shape)\n",
    "print('X Test :  ',x_test.shape)\n",
    "print('Y Test :  ',y_test.shape)"
   ]
  },
  {
   "cell_type": "markdown",
   "metadata": {},
   "source": [
    "### Custom Functions for Saving and Backup"
   ]
  },
  {
   "cell_type": "code",
   "execution_count": 32,
   "metadata": {},
   "outputs": [],
   "source": [
    "# Callbacks\n",
    "backup_callback = tf.keras.callbacks.experimental.BackupAndRestore(backup_dir=back_callback_dir)\n",
    "\n",
    "log_dir = log_folder + datetime.datetime.now().strftime(\"%Y%m%d-%H%M%S\")\n",
    "tensorboard_callback = tf.keras.callbacks.TensorBoard(log_dir=log_dir, histogram_freq=1)"
   ]
  },
  {
   "cell_type": "code",
   "execution_count": 33,
   "metadata": {},
   "outputs": [],
   "source": [
    "def get_significance(model,x_test,type_test,cs_corr,total_events,L):\n",
    "    total_test = total_events\n",
    "    tot_pred = model.predict(x_test,batch_size=131072)\n",
    "    \n",
    "    pred_values = tf.cast(tf.greater(tot_pred.T,0.7),'int32')\n",
    "    truth_values = tf.cast(tf.equal(type_test,4),'int32')\n",
    "    signal = tf.multiply(pred_values,truth_values)\n",
    "    num_sig = tf.reduce_sum(signal).numpy()\n",
    "    \n",
    "    ns = cs_corr['n2n2']*(num_sig/(total_test[-1]))*L\n",
    "    del(pred_values,truth_values,signal,num_sig)\n",
    "\n",
    "    files = list(cs_corr.keys())\n",
    "    nb = 0\n",
    "    for i in range(len(cs_corr)-1):\n",
    "        pred_values = tf.cast(tf.greater(tot_pred.T,0.7),'int32')\n",
    "        back_values = tf.cast(tf.equal(type_test,i),'int32')\n",
    "        back = tf.multiply(pred_values,back_values)\n",
    "        num_back = tf.reduce_sum(back).numpy()\n",
    "\n",
    "        nb += cs_corr[files[i]]*(num_back/(total_test[i]))*L\n",
    "        del(pred_values,back_values,back,num_back)\n",
    "    \n",
    "    del(tot_pred)\n",
    "    return ns/np.sqrt(nb)"
   ]
  },
  {
   "cell_type": "code",
   "execution_count": 34,
   "metadata": {},
   "outputs": [],
   "source": [
    "class sig_callback(tf.keras.callbacks.Callback):\n",
    "    def __init__(self,model,x_test,type_test,cs_corr,dtset_type,total_events):\n",
    "        self.model = model\n",
    "        self.type_test = type_test\n",
    "        self.cs_corr = cs_corr\n",
    "        self.total_events = total_events\n",
    "        self.x_test = x_test\n",
    "        self.dtset_type = dtset_type\n",
    "\n",
    "    \n",
    "    def on_epoch_begin(self, epoch, logs=None):\n",
    "        global max_sig, model_max\n",
    "        sig = get_significance(self.model,self.x_test,self.type_test,\n",
    "                              self.cs_corr,self.total_events,3000)\n",
    "        print('The '+ self.dtset_type +' significance is : ',sig)\n",
    "        \n",
    "        if epoch==0:\n",
    "            model_max = self.model\n",
    "            max_sig = sig\n",
    "        \n",
    "        elif self.dtset_type == 'test' and max_sig < sig:\n",
    "            model_max = tf.keras.models.clone_model(self.model)\n",
    "            \n",
    "            max_sig = sig\n",
    "            \n",
    "        elif self.dtset_type == 'complete': \n",
    "            gc.collect()\n",
    "            \n",
    "        sig_epoch[self.dtset_type].append(sig)"
   ]
  },
  {
   "cell_type": "markdown",
   "metadata": {},
   "source": [
    "### The DNN Model"
   ]
  },
  {
   "cell_type": "code",
   "execution_count": 35,
   "metadata": {},
   "outputs": [],
   "source": [
    "model = Sequential()\n",
    "input_shape = x_train.shape\n",
    "\n",
    "model.add(Dense(30,activation = 'relu',input_dim = input_shape[1]))\n",
    "model.add(BatchNormalization())\n",
    "model.add(Dense(40,activation = 'relu',input_dim = 30))\n",
    "model.add(BatchNormalization())\n",
    "model.add(Dense(20,activation = 'relu',input_dim = 40))\n",
    "model.add(BatchNormalization())\n",
    "model.add(Dense(12,activation = 'relu',input_dim = 20))\n",
    "model.add(BatchNormalization())\n",
    "model.add(Dense(8,activation = 'relu',input_dim = 12))\n",
    "model.add(BatchNormalization())\n",
    "model.add(Dense(1,activation = 'sigmoid',input_dim = 8))\n",
    "\n",
    "model.compile(optimizer='adam', loss='binary_crossentropy',metrics=['accuracy'])"
   ]
  },
  {
   "cell_type": "code",
   "execution_count": 36,
   "metadata": {},
   "outputs": [
    {
     "data": {
      "image/png": "[encoded data removed]",
      "text/plain": [
       "<PIL.Image.Image image mode=RGBA size=1545x710>"
      ]
     },
     "execution_count": 36,
     "metadata": {},
     "output_type": "execute_result"
    }
   ],
   "source": [
    "visualkeras.graph_view(model,node_size=25,layer_spacing=100,ellipsize_after=20)"
   ]
  },
  {
   "cell_type": "markdown",
   "metadata": {
    "tags": []
   },
   "source": [
    "### Learning"
   ]
  },
  {
   "cell_type": "code",
   "execution_count": null,
   "metadata": {
    "scrolled": true,
    "tags": []
   },
   "outputs": [
    {
     "name": "stdout",
     "output_type": "stream",
     "text": [
      "Epoch 1/1000\n",
      "55/55 [==============================] - 5s 71ms/step - loss: 0.3664 - accuracy: 0.8388\n",
      "Epoch 2/1000\n",
      "55/55 [==============================] - 4s 74ms/step - loss: 0.1819 - accuracy: 0.9599\n",
      "Epoch 3/1000\n",
      "55/55 [==============================] - 4s 74ms/step - loss: 0.1305 - accuracy: 0.9589\n",
      "Epoch 4/1000\n",
      "55/55 [==============================] - 4s 71ms/step - loss: 0.0999 - accuracy: 0.9540\n",
      "Epoch 5/1000\n",
      "55/55 [==============================] - 4s 72ms/step - loss: 0.0784 - accuracy: 0.9477\n",
      "Epoch 6/1000\n",
      "55/55 [==============================] - 4s 70ms/step - loss: 0.0632 - accuracy: 0.9402\n",
      "Epoch 7/1000\n",
      "55/55 [==============================] - 4s 70ms/step - loss: 0.0525 - accuracy: 0.9339\n",
      "Epoch 8/1000\n",
      "55/55 [==============================] - 4s 71ms/step - loss: 0.0451 - accuracy: 0.9296\n",
      "Epoch 9/1000\n",
      "55/55 [==============================] - 4s 70ms/step - loss: 0.0391 - accuracy: 0.9258\n",
      "Epoch 10/1000\n",
      "55/55 [==============================] - 4s 70ms/step - loss: 0.0328 - accuracy: 0.9253\n",
      "Epoch 11/1000\n",
      "55/55 [==============================] - 4s 70ms/step - loss: 0.0280 - accuracy: 0.9232\n",
      "Epoch 12/1000\n",
      "55/55 [==============================] - 4s 71ms/step - loss: 0.0253 - accuracy: 0.9216\n",
      "Epoch 13/1000\n",
      "55/55 [==============================] - 4s 71ms/step - loss: 0.0234 - accuracy: 0.9197\n",
      "Epoch 14/1000\n",
      "55/55 [==============================] - 4s 71ms/step - loss: 0.0217 - accuracy: 0.9196\n",
      "Epoch 15/1000\n",
      "55/55 [==============================] - 4s 70ms/step - loss: 0.0205 - accuracy: 0.9190\n",
      "Epoch 16/1000\n",
      "55/55 [==============================] - 4s 71ms/step - loss: 0.0193 - accuracy: 0.9181\n",
      "Epoch 17/1000\n",
      "55/55 [==============================] - 4s 71ms/step - loss: 0.0184 - accuracy: 0.9173\n",
      "Epoch 18/1000\n",
      "55/55 [==============================] - 4s 71ms/step - loss: 0.0177 - accuracy: 0.9176\n",
      "Epoch 19/1000\n",
      "55/55 [==============================] - 4s 72ms/step - loss: 0.0170 - accuracy: 0.9159\n",
      "Epoch 20/1000\n",
      "55/55 [==============================] - 4s 72ms/step - loss: 0.0164 - accuracy: 0.9163\n",
      "Epoch 21/1000\n",
      "55/55 [==============================] - 4s 71ms/step - loss: 0.0160 - accuracy: 0.9148\n",
      "Epoch 22/1000\n",
      "55/55 [==============================] - 4s 70ms/step - loss: 0.0155 - accuracy: 0.9145\n",
      "Epoch 23/1000\n",
      "55/55 [==============================] - 4s 72ms/step - loss: 0.0151 - accuracy: 0.9146\n",
      "Epoch 24/1000\n",
      "55/55 [==============================] - 4s 72ms/step - loss: 0.0147 - accuracy: 0.9135\n",
      "Epoch 25/1000\n",
      "55/55 [==============================] - 4s 72ms/step - loss: 0.0145 - accuracy: 0.9137\n",
      "Epoch 26/1000\n",
      "55/55 [==============================] - 4s 71ms/step - loss: 0.0141 - accuracy: 0.9142\n",
      "Epoch 27/1000\n",
      "55/55 [==============================] - 4s 71ms/step - loss: 0.0138 - accuracy: 0.9134\n",
      "Epoch 28/1000\n",
      "55/55 [==============================] - 4s 71ms/step - loss: 0.0136 - accuracy: 0.9135\n",
      "Epoch 29/1000\n",
      "55/55 [==============================] - 4s 71ms/step - loss: 0.0133 - accuracy: 0.9138\n",
      "Epoch 30/1000\n",
      "55/55 [==============================] - 4s 71ms/step - loss: 0.0131 - accuracy: 0.9128\n",
      "Epoch 31/1000\n",
      "55/55 [==============================] - 4s 70ms/step - loss: 0.0129 - accuracy: 0.9122\n",
      "Epoch 32/1000\n",
      "55/55 [==============================] - 4s 72ms/step - loss: 0.0128 - accuracy: 0.9124\n",
      "Epoch 33/1000\n",
      "55/55 [==============================] - 4s 71ms/step - loss: 0.0125 - accuracy: 0.9123\n",
      "Epoch 34/1000\n",
      "55/55 [==============================] - 4s 72ms/step - loss: 0.0124 - accuracy: 0.9130\n",
      "Epoch 35/1000\n",
      "55/55 [==============================] - 4s 74ms/step - loss: 0.0123 - accuracy: 0.9123\n",
      "Epoch 36/1000\n",
      "55/55 [==============================] - 4s 72ms/step - loss: 0.0121 - accuracy: 0.9117\n",
      "Epoch 37/1000\n",
      "55/55 [==============================] - 4s 73ms/step - loss: 0.0121 - accuracy: 0.9129\n",
      "Epoch 38/1000\n",
      "55/55 [==============================] - 4s 72ms/step - loss: 0.0119 - accuracy: 0.9120\n",
      "Epoch 39/1000\n",
      "55/55 [==============================] - 4s 72ms/step - loss: 0.0119 - accuracy: 0.9119\n",
      "Epoch 40/1000\n",
      "55/55 [==============================] - 4s 71ms/step - loss: 0.0117 - accuracy: 0.9110\n",
      "Epoch 41/1000\n",
      "55/55 [==============================] - 4s 71ms/step - loss: 0.0116 - accuracy: 0.9120\n",
      "Epoch 42/1000\n",
      "55/55 [==============================] - 4s 71ms/step - loss: 0.0115 - accuracy: 0.9114\n",
      "Epoch 43/1000\n",
      "55/55 [==============================] - 4s 72ms/step - loss: 0.0114 - accuracy: 0.9117\n",
      "Epoch 44/1000\n",
      "55/55 [==============================] - 4s 71ms/step - loss: 0.0113 - accuracy: 0.9125\n",
      "Epoch 45/1000\n",
      "55/55 [==============================] - 4s 72ms/step - loss: 0.0113 - accuracy: 0.9114\n",
      "Epoch 46/1000\n",
      "55/55 [==============================] - 4s 72ms/step - loss: 0.0111 - accuracy: 0.9121\n",
      "Epoch 47/1000\n",
      "55/55 [==============================] - 4s 73ms/step - loss: 0.0111 - accuracy: 0.9126\n",
      "Epoch 48/1000\n",
      "55/55 [==============================] - 4s 75ms/step - loss: 0.0110 - accuracy: 0.9131\n",
      "Epoch 49/1000\n",
      "55/55 [==============================] - 4s 73ms/step - loss: 0.0109 - accuracy: 0.9128\n",
      "Epoch 50/1000\n",
      "55/55 [==============================] - 4s 74ms/step - loss: 0.0109 - accuracy: 0.9119\n",
      "Epoch 51/1000\n",
      "55/55 [==============================] - 4s 73ms/step - loss: 0.0108 - accuracy: 0.9125\n",
      "Epoch 52/1000\n",
      "55/55 [==============================] - 4s 74ms/step - loss: 0.0107 - accuracy: 0.9125\n",
      "Epoch 53/1000\n",
      "55/55 [==============================] - 4s 75ms/step - loss: 0.0108 - accuracy: 0.9128\n",
      "Epoch 54/1000\n",
      "55/55 [==============================] - 4s 74ms/step - loss: 0.0107 - accuracy: 0.9129\n",
      "Epoch 55/1000\n",
      "55/55 [==============================] - 4s 75ms/step - loss: 0.0106 - accuracy: 0.9137\n",
      "Epoch 56/1000\n",
      "55/55 [==============================] - 4s 75ms/step - loss: 0.0105 - accuracy: 0.9141\n",
      "Epoch 57/1000\n",
      "55/55 [==============================] - 4s 72ms/step - loss: 0.0105 - accuracy: 0.9140\n",
      "Epoch 58/1000\n",
      "55/55 [==============================] - 4s 73ms/step - loss: 0.0105 - accuracy: 0.9133\n",
      "Epoch 59/1000\n",
      "55/55 [==============================] - 4s 74ms/step - loss: 0.0104 - accuracy: 0.9138\n",
      "Epoch 60/1000\n",
      "55/55 [==============================] - 4s 75ms/step - loss: 0.0103 - accuracy: 0.9152\n",
      "Epoch 61/1000\n",
      "55/55 [==============================] - 4s 75ms/step - loss: 0.0110 - accuracy: 0.9077\n",
      "Epoch 62/1000\n",
      "55/55 [==============================] - 4s 75ms/step - loss: 0.0104 - accuracy: 0.9138\n",
      "Epoch 63/1000\n",
      "55/55 [==============================] - 4s 75ms/step - loss: 0.0103 - accuracy: 0.9155\n",
      "Epoch 64/1000\n",
      "55/55 [==============================] - 4s 77ms/step - loss: 0.0102 - accuracy: 0.9155\n",
      "Epoch 65/1000\n",
      "55/55 [==============================] - 4s 76ms/step - loss: 0.0101 - accuracy: 0.9160\n",
      "Epoch 66/1000\n",
      "55/55 [==============================] - 4s 74ms/step - loss: 0.0101 - accuracy: 0.9155\n",
      "Epoch 67/1000\n",
      "55/55 [==============================] - 4s 77ms/step - loss: 0.0101 - accuracy: 0.9162\n",
      "Epoch 68/1000\n",
      "55/55 [==============================] - 4s 79ms/step - loss: 0.0100 - accuracy: 0.9165\n",
      "Epoch 69/1000\n",
      "55/55 [==============================] - 4s 76ms/step - loss: 0.0100 - accuracy: 0.9166\n",
      "Epoch 70/1000\n",
      "55/55 [==============================] - 4s 75ms/step - loss: 0.0100 - accuracy: 0.9163\n",
      "Epoch 71/1000\n",
      "55/55 [==============================] - 4s 78ms/step - loss: 0.0102 - accuracy: 0.9143\n",
      "Epoch 72/1000\n",
      "55/55 [==============================] - 4s 77ms/step - loss: 0.0099 - accuracy: 0.9172\n",
      "Epoch 73/1000\n",
      "55/55 [==============================] - 4s 76ms/step - loss: 0.0099 - accuracy: 0.9176\n",
      "Epoch 74/1000\n",
      "55/55 [==============================] - 4s 75ms/step - loss: 0.0099 - accuracy: 0.9173\n",
      "Epoch 75/1000\n",
      "55/55 [==============================] - 4s 74ms/step - loss: 0.0099 - accuracy: 0.9177\n",
      "Epoch 76/1000\n",
      "55/55 [==============================] - 4s 76ms/step - loss: 0.0098 - accuracy: 0.9178\n",
      "Epoch 77/1000\n",
      "55/55 [==============================] - 4s 75ms/step - loss: 0.0098 - accuracy: 0.9179\n",
      "Epoch 78/1000\n",
      "55/55 [==============================] - 4s 73ms/step - loss: 0.0098 - accuracy: 0.9180\n",
      "Epoch 79/1000\n",
      "55/55 [==============================] - 4s 73ms/step - loss: 0.0098 - accuracy: 0.9182\n",
      "Epoch 80/1000\n",
      "55/55 [==============================] - 4s 74ms/step - loss: 0.0098 - accuracy: 0.9183\n",
      "Epoch 81/1000\n",
      "55/55 [==============================] - 4s 74ms/step - loss: 0.0097 - accuracy: 0.9185\n",
      "Epoch 82/1000\n",
      "55/55 [==============================] - 4s 73ms/step - loss: 0.0097 - accuracy: 0.9185\n",
      "Epoch 83/1000\n",
      "55/55 [==============================] - 4s 77ms/step - loss: 0.0097 - accuracy: 0.9184\n",
      "Epoch 84/1000\n",
      "55/55 [==============================] - 4s 78ms/step - loss: 0.0097 - accuracy: 0.9191\n",
      "Epoch 85/1000\n",
      "55/55 [==============================] - 4s 79ms/step - loss: 0.0097 - accuracy: 0.9186\n",
      "Epoch 86/1000\n",
      "55/55 [==============================] - 4s 76ms/step - loss: 0.0097 - accuracy: 0.9187\n",
      "Epoch 87/1000\n",
      "55/55 [==============================] - 4s 74ms/step - loss: 0.0097 - accuracy: 0.9187\n",
      "Epoch 88/1000\n",
      "55/55 [==============================] - 4s 74ms/step - loss: 0.0096 - accuracy: 0.9190\n",
      "Epoch 89/1000\n",
      "55/55 [==============================] - 4s 75ms/step - loss: 0.0096 - accuracy: 0.9189\n",
      "Epoch 90/1000\n",
      "55/55 [==============================] - 4s 75ms/step - loss: 0.0097 - accuracy: 0.9191\n",
      "Epoch 91/1000\n",
      "55/55 [==============================] - 4s 75ms/step - loss: 0.0097 - accuracy: 0.9188\n",
      "Epoch 92/1000\n",
      "55/55 [==============================] - 4s 73ms/step - loss: 0.0097 - accuracy: 0.9188\n",
      "Epoch 93/1000\n",
      "55/55 [==============================] - 4s 72ms/step - loss: 0.0096 - accuracy: 0.9193\n",
      "Epoch 94/1000\n",
      "55/55 [==============================] - 4s 73ms/step - loss: 0.0096 - accuracy: 0.9189\n",
      "Epoch 95/1000\n",
      "55/55 [==============================] - 4s 75ms/step - loss: 0.0096 - accuracy: 0.9192\n",
      "Epoch 96/1000\n",
      "55/55 [==============================] - 4s 74ms/step - loss: 0.0096 - accuracy: 0.9194\n",
      "Epoch 97/1000\n",
      "55/55 [==============================] - 4s 75ms/step - loss: 0.0096 - accuracy: 0.9194\n",
      "Epoch 98/1000\n",
      "55/55 [==============================] - 4s 76ms/step - loss: 0.0096 - accuracy: 0.9193\n",
      "Epoch 99/1000\n",
      "55/55 [==============================] - 4s 73ms/step - loss: 0.0096 - accuracy: 0.9191\n",
      "Epoch 100/1000\n",
      "55/55 [==============================] - 4s 75ms/step - loss: 0.0096 - accuracy: 0.9195\n",
      "Epoch 101/1000\n",
      "55/55 [==============================] - 4s 72ms/step - loss: 0.0096 - accuracy: 0.9193\n",
      "Epoch 102/1000\n",
      "55/55 [==============================] - 4s 73ms/step - loss: 0.0095 - accuracy: 0.9193\n",
      "Epoch 103/1000\n",
      "55/55 [==============================] - 4s 72ms/step - loss: 0.0095 - accuracy: 0.9197\n",
      "Epoch 104/1000\n",
      "55/55 [==============================] - 4s 73ms/step - loss: 0.0095 - accuracy: 0.9195\n",
      "Epoch 105/1000\n",
      "55/55 [==============================] - 4s 73ms/step - loss: 0.0095 - accuracy: 0.9201\n",
      "Epoch 106/1000\n",
      "55/55 [==============================] - 4s 72ms/step - loss: 0.0095 - accuracy: 0.9192\n",
      "Epoch 107/1000\n",
      "55/55 [==============================] - 4s 73ms/step - loss: 0.0095 - accuracy: 0.9197\n",
      "Epoch 108/1000\n",
      "55/55 [==============================] - 4s 75ms/step - loss: 0.0095 - accuracy: 0.9197\n",
      "Epoch 109/1000\n",
      "55/55 [==============================] - 4s 75ms/step - loss: 0.0096 - accuracy: 0.9195\n",
      "Epoch 110/1000\n",
      "55/55 [==============================] - 4s 74ms/step - loss: 0.0095 - accuracy: 0.9197\n",
      "Epoch 111/1000\n",
      "55/55 [==============================] - 4s 75ms/step - loss: 0.0095 - accuracy: 0.9193\n",
      "Epoch 112/1000\n",
      "55/55 [==============================] - 4s 76ms/step - loss: 0.0095 - accuracy: 0.9196\n",
      "Epoch 113/1000\n",
      "55/55 [==============================] - 4s 75ms/step - loss: 0.0095 - accuracy: 0.9202\n",
      "Epoch 114/1000\n",
      "55/55 [==============================] - 4s 74ms/step - loss: 0.0095 - accuracy: 0.9199\n",
      "Epoch 115/1000\n",
      "55/55 [==============================] - 4s 73ms/step - loss: 0.0095 - accuracy: 0.9197\n",
      "Epoch 116/1000\n",
      "55/55 [==============================] - 4s 71ms/step - loss: 0.0095 - accuracy: 0.9202\n",
      "Epoch 117/1000\n",
      "55/55 [==============================] - 4s 72ms/step - loss: 0.0095 - accuracy: 0.9202\n",
      "Epoch 118/1000\n",
      "55/55 [==============================] - 4s 73ms/step - loss: 0.0095 - accuracy: 0.9203\n",
      "Epoch 119/1000\n",
      "55/55 [==============================] - 4s 73ms/step - loss: 0.0094 - accuracy: 0.9202\n",
      "Epoch 120/1000\n",
      "55/55 [==============================] - 4s 74ms/step - loss: 0.0094 - accuracy: 0.9205\n",
      "Epoch 121/1000\n",
      "55/55 [==============================] - 4s 72ms/step - loss: 0.0094 - accuracy: 0.9204\n",
      "Epoch 122/1000\n",
      "55/55 [==============================] - 4s 72ms/step - loss: 0.0094 - accuracy: 0.9204\n",
      "Epoch 123/1000\n",
      "55/55 [==============================] - 4s 77ms/step - loss: 0.0094 - accuracy: 0.9203\n",
      "Epoch 124/1000\n",
      "55/55 [==============================] - 4s 74ms/step - loss: 0.0094 - accuracy: 0.9207\n",
      "Epoch 125/1000\n",
      "55/55 [==============================] - 4s 73ms/step - loss: 0.0094 - accuracy: 0.9203\n",
      "Epoch 126/1000\n",
      "26/55 [=============>................] - ETA: 2s - loss: 0.0094 - accuracy: 0.9207"
     ]
    }
   ],
   "source": [
    "try:\n",
    "    model.fit(x_train,y_train,\n",
    "              epochs=1000,batch_size=131072,\n",
    "              class_weight={0:0.999,1:0.03},\n",
    "              callbacks=[backup_callback,tensorboard_callback]#,\n",
    "                         #sig_callback(model,x_test,dtset_test['type'].values,\n",
    "                         #             cs_corr,'test',np.asarray(total_events)*0.5),\n",
    "                         #sig_callback(model,dtset.T[:-2].T,dtset['type'].values,\n",
    "                         #             cs_corr,'complete',np.asarray(total_events))],\n",
    "              )\n",
    "\n",
    "except:\n",
    "    pass"
   ]
  },
  {
   "cell_type": "markdown",
   "metadata": {},
   "source": [
    "### Analysis"
   ]
  },
  {
   "cell_type": "code",
   "execution_count": null,
   "metadata": {},
   "outputs": [],
   "source": [
    "sig_comp = pd.DataFrame([[int(i+1) for i in range(len(sig_epoch['complete']))],\n",
    "                          sig_epoch['test'],sig_epoch['complete']]).T\n",
    "sig_comp.rename(columns = {0:'Epoch',1:'Test Sig',2:'Comp Sig'}, inplace = True)"
   ]
  },
  {
   "cell_type": "code",
   "execution_count": null,
   "metadata": {},
   "outputs": [],
   "source": [
    "max_sig"
   ]
  },
  {
   "cell_type": "code",
   "execution_count": null,
   "metadata": {},
   "outputs": [],
   "source": [
    "sig_comp[sig_comp['Epoch']%100==0].style.hide_index()"
   ]
  },
  {
   "cell_type": "code",
   "execution_count": null,
   "metadata": {},
   "outputs": [],
   "source": [
    "plt.plot(sig_comp['Test Sig'])\n",
    "plt.plot(sig_comp['Comp Sig'])\n",
    "plt.legend(['Test','Comp'])\n",
    "plt.show()"
   ]
  },
  {
   "cell_type": "code",
   "execution_count": null,
   "metadata": {},
   "outputs": [],
   "source": [
    "pred_set = dtset.copy()\n",
    "pred_set['pred'] = model.predict(pred_set.T[:-2].T,batch_size = 4096,verbose=True)"
   ]
  },
  {
   "cell_type": "code",
   "execution_count": null,
   "metadata": {},
   "outputs": [],
   "source": [
    "prob_sig = 0.98\n",
    "L = 3000"
   ]
  },
  {
   "cell_type": "code",
   "execution_count": null,
   "metadata": {},
   "outputs": [],
   "source": [
    "print('Correctly identified signal (True Positive)     : ',len(pred_set[pred_set['pred'] >= prob_sig][pred_set['tag'] == 1]))\n",
    "print('Falsely identified signal (Flase Positive)      : ',len(pred_set[pred_set['pred'] >= prob_sig][pred_set['tag'] == 0]))\n",
    "print('Correctly identified background (True Negative) : ',len(pred_set[pred_set['pred'] < prob_sig][pred_set['tag'] == 0]))\n",
    "print('Falsely identified background (False Negative)  : ',len(pred_set[pred_set['pred'] < prob_sig][pred_set['tag'] == 1]))"
   ]
  },
  {
   "cell_type": "code",
   "execution_count": null,
   "metadata": {},
   "outputs": [],
   "source": [
    "print('Thus, the rate of correct signal prediction is : ',len(pred_set[pred_set['pred'] >= prob_sig][pred_set['tag'] == 1])/(len(pred_set[pred_set['pred'] >= prob_sig])))"
   ]
  },
  {
   "cell_type": "code",
   "execution_count": null,
   "metadata": {},
   "outputs": [],
   "source": [
    "ns = cs_corr['n2n2']*(len(pred_set[pred_set['pred'] >= prob_sig][pred_set['tag'] == 1])/(total_events[-1]))*L\n",
    "print('n2n2',(len(pred_set[pred_set['pred'] >= prob_sig][pred_set['tag'] == 1])),cs_corr['n2n2'])\n",
    "nb = 0\n",
    "\n",
    "for i in range(len(files)-1):\n",
    "    nb += cs_corr[files[i]]*(len(pred_set[pred_set['pred'] >= prob_sig][pred_set['tag'] == 0][pred_set['type'] == i])/((total_events[i])))*L\n",
    "    print(files[i],len(pred_set[pred_set['pred'] >= prob_sig][pred_set['tag'] == 0][pred_set['type'] == i]),cs_corr[files[i]])"
   ]
  },
  {
   "cell_type": "code",
   "execution_count": null,
   "metadata": {},
   "outputs": [],
   "source": [
    "print('The number of signal is :', ns)\n",
    "print('The number of background is :', nb)\n",
    "print('The significance is :',ns/np.sqrt(nb))"
   ]
  },
  {
   "cell_type": "code",
   "execution_count": null,
   "metadata": {},
   "outputs": [],
   "source": [
    "model.save(model_dir + \"dnn\" + str(mn2))"
   ]
  },
  {
   "cell_type": "code",
   "execution_count": null,
   "metadata": {
    "scrolled": true
   },
   "outputs": [],
   "source": [
    "for i in range(len(files)):\n",
    "    data = pred_set[pred_set[\"type\"] == i][pred_set[\"pred\"]>=0.5][\"pred\"].values\n",
    "    plt.hist(data,alpha=0.7,bins=40,weights=np.ones_like(data)/len(data))\n",
    "plt.show()"
   ]
  },
  {
   "cell_type": "code",
   "execution_count": null,
   "metadata": {},
   "outputs": [],
   "source": [
    "                 "
   ]
  }
 ],
 "metadata": {
  "interpreter": {
   "hash": "31f2aee4e71d21fbe5cf8b01ff0e069b9275f58929596ceb00d14d90e3e16cd6"
  },
  "kernelspec": {
   "display_name": "Python 3 (ipykernel)",
   "language": "python",
   "name": "python3"
  },
  "language_info": {
   "codemirror_mode": {
    "name": "ipython",
    "version": 3
   },
   "file_extension": ".py",
   "mimetype": "text/x-python",
   "name": "python",
   "nbconvert_exporter": "python",
   "pygments_lexer": "ipython3",
   "version": "3.10.4"
  }
 },
 "nbformat": 4,
 "nbformat_minor": 4
}

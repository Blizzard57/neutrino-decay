{
 "cells": [
  {
   "cell_type": "markdown",
   "metadata": {},
   "source": [
    "# Cuts on the Right Handed Neutrino Decay\n",
    "\n",
    "This notebook will contain some of the elementary cuts applied on the monoleptonic channel of the right handed neutrino decay.\n",
    "\n",
    "The signal and the background for the process are as follows :\n",
    "- Signal\n",
    "    - n2n2 <br>\n",
    "$p p → Z' → N_r N_r, N_r → Z v_l → j j v_l, N_r → W l → l j j$\n",
    "\n",
    "- Background \n",
    "    - ttbar <br>\n",
    "$p p → t t, t → W b, W → j j$\n",
    "\n",
    "    - wmp <br>\n",
    "$ p p → W → l v_l$\n",
    "\n",
    "    - wpmp <br>\n",
    "$ p p → W+ W- → l v_l j j$\n",
    "\n",
    "    - zwmp <br>\n",
    "$ p p → Z W, Z → j j, W → l v_l $\n",
    "\n",
    "    - zzjj <br>\n",
    "$ p p → Z Z, Z → j j $\n"
   ]
  },
  {
   "cell_type": "markdown",
   "metadata": {},
   "source": [
    "## Hyperparameters used\n",
    "\n",
    "### Testing parameters :\n",
    "- gX = 0.1\n",
    "- gN = 0.1\n",
    "- Zn2 = 2.838\n",
    "- Mzp = 3000 GeV\n",
    "- Beam Energy = 14 TeV\n",
    "- Default Jet Matching Settings\n",
    "\n",
    "### Generation Level Cuts :\n",
    "- Minimum $P_T$ of leading Lepton = 120\n",
    "- Minimum $P_T$ of leading Jet = 120\n",
    "- Minimum $\\eta_j$ = -2\n",
    "- Maximum $\\eta_j$ = 2\n",
    "\n",
    "### Analysis Level Cuts (Using Topology):\n",
    "- Minimum Number of Leptons = 1\n",
    "- Minimum number of Narrow Jets = 2\n",
    "- Minimum Number of Fat Jets = 2"
   ]
  },
  {
   "cell_type": "markdown",
   "metadata": {
    "tags": []
   },
   "source": [
    "## Preprocessing\n",
    "\n",
    "Preprocessing the python files to get the imports required and the Machine Learning to work properly"
   ]
  },
  {
   "cell_type": "code",
   "execution_count": 10,
   "metadata": {},
   "outputs": [],
   "source": [
    "import pandas as pd\n",
    "import numpy as np\n",
    "import matplotlib.pyplot as plt\n",
    "import seaborn as sns\n",
    "from matplotlib import style as mpl\n",
    "from tensorflow.keras.models import Sequential, load_model\n",
    "from tensorflow.keras.layers import LSTM, Dense, Dropout, BatchNormalization\n",
    "from sklearn.utils import shuffle\n",
    "from PIL import ImageFont\n",
    "import datetime\n",
    "import visualkeras\n",
    "import gc"
   ]
  },
  {
   "cell_type": "code",
   "execution_count": 3,
   "metadata": {},
   "outputs": [],
   "source": [
    "import warnings\n",
    "warnings.filterwarnings('ignore')"
   ]
  },
  {
   "cell_type": "code",
   "execution_count": 4,
   "metadata": {},
   "outputs": [],
   "source": [
    "import os\n",
    "#os.environ['CUDA_VISIBLE_DEVICES'] = '-1'"
   ]
  },
  {
   "cell_type": "code",
   "execution_count": 5,
   "metadata": {},
   "outputs": [],
   "source": [
    "import tensorflow as tf\n",
    "%load_ext tensorboard"
   ]
  },
  {
   "cell_type": "code",
   "execution_count": 6,
   "metadata": {},
   "outputs": [],
   "source": [
    "%matplotlib inline\n",
    "mpl.use('seaborn')"
   ]
  },
  {
   "cell_type": "markdown",
   "metadata": {},
   "source": [
    "### Hyperparameters"
   ]
  },
  {
   "cell_type": "code",
   "execution_count": 11,
   "metadata": {},
   "outputs": [
    {
     "ename": "InternalError",
     "evalue": "cudaGetDevice() failed. Status: CUDA driver version is insufficient for CUDA runtime version",
     "output_type": "error",
     "traceback": [
      "\u001b[0;31m---------------------------------------------------------------------------\u001b[0m",
      "\u001b[0;31mInternalError\u001b[0m                             Traceback (most recent call last)",
      "Input \u001b[0;32mIn [11]\u001b[0m, in \u001b[0;36m<cell line: 7>\u001b[0;34m()\u001b[0m\n\u001b[1;32m      5\u001b[0m model_dir \u001b[38;5;241m=\u001b[39m \u001b[38;5;124m\"\u001b[39m\u001b[38;5;124m/home2/kalp_shah/neutrino/datasets/model/\u001b[39m\u001b[38;5;124m\"\u001b[39m\n\u001b[1;32m      6\u001b[0m sig_epoch \u001b[38;5;241m=\u001b[39m {\u001b[38;5;124m'\u001b[39m\u001b[38;5;124mtest\u001b[39m\u001b[38;5;124m'\u001b[39m : [], \u001b[38;5;124m'\u001b[39m\u001b[38;5;124mcomplete\u001b[39m\u001b[38;5;124m'\u001b[39m : []}\n\u001b[0;32m----> 7\u001b[0m model_max \u001b[38;5;241m=\u001b[39m \u001b[43mSequential\u001b[49m\u001b[43m(\u001b[49m\u001b[43m)\u001b[49m\n\u001b[1;32m      8\u001b[0m max_sig \u001b[38;5;241m=\u001b[39m \u001b[38;5;241m0\u001b[39m\n",
      "File \u001b[0;32m~/apps/miniconda3/envs/tfml/lib/python3.10/site-packages/tensorflow/python/training/tracking/base.py:530\u001b[0m, in \u001b[0;36mno_automatic_dependency_tracking.<locals>._method_wrapper\u001b[0;34m(self, *args, **kwargs)\u001b[0m\n\u001b[1;32m    528\u001b[0m \u001b[38;5;28mself\u001b[39m\u001b[38;5;241m.\u001b[39m_self_setattr_tracking \u001b[38;5;241m=\u001b[39m \u001b[38;5;28;01mFalse\u001b[39;00m  \u001b[38;5;66;03m# pylint: disable=protected-access\u001b[39;00m\n\u001b[1;32m    529\u001b[0m \u001b[38;5;28;01mtry\u001b[39;00m:\n\u001b[0;32m--> 530\u001b[0m   result \u001b[38;5;241m=\u001b[39m \u001b[43mmethod\u001b[49m\u001b[43m(\u001b[49m\u001b[38;5;28;43mself\u001b[39;49m\u001b[43m,\u001b[49m\u001b[43m \u001b[49m\u001b[38;5;241;43m*\u001b[39;49m\u001b[43margs\u001b[49m\u001b[43m,\u001b[49m\u001b[43m \u001b[49m\u001b[38;5;241;43m*\u001b[39;49m\u001b[38;5;241;43m*\u001b[39;49m\u001b[43mkwargs\u001b[49m\u001b[43m)\u001b[49m\n\u001b[1;32m    531\u001b[0m \u001b[38;5;28;01mfinally\u001b[39;00m:\n\u001b[1;32m    532\u001b[0m   \u001b[38;5;28mself\u001b[39m\u001b[38;5;241m.\u001b[39m_self_setattr_tracking \u001b[38;5;241m=\u001b[39m previous_value  \u001b[38;5;66;03m# pylint: disable=protected-access\u001b[39;00m\n",
      "File \u001b[0;32m~/apps/miniconda3/envs/tfml/lib/python3.10/site-packages/keras/utils/traceback_utils.py:67\u001b[0m, in \u001b[0;36mfilter_traceback.<locals>.error_handler\u001b[0;34m(*args, **kwargs)\u001b[0m\n\u001b[1;32m     65\u001b[0m \u001b[38;5;28;01mexcept\u001b[39;00m \u001b[38;5;167;01mException\u001b[39;00m \u001b[38;5;28;01mas\u001b[39;00m e:  \u001b[38;5;66;03m# pylint: disable=broad-except\u001b[39;00m\n\u001b[1;32m     66\u001b[0m   filtered_tb \u001b[38;5;241m=\u001b[39m _process_traceback_frames(e\u001b[38;5;241m.\u001b[39m__traceback__)\n\u001b[0;32m---> 67\u001b[0m   \u001b[38;5;28;01mraise\u001b[39;00m e\u001b[38;5;241m.\u001b[39mwith_traceback(filtered_tb) \u001b[38;5;28;01mfrom\u001b[39;00m \u001b[38;5;28mNone\u001b[39m\n\u001b[1;32m     68\u001b[0m \u001b[38;5;28;01mfinally\u001b[39;00m:\n\u001b[1;32m     69\u001b[0m   \u001b[38;5;28;01mdel\u001b[39;00m filtered_tb\n",
      "File \u001b[0;32m~/apps/miniconda3/envs/tfml/lib/python3.10/site-packages/tensorflow/python/eager/context.py:571\u001b[0m, in \u001b[0;36mContext.ensure_initialized\u001b[0;34m(self)\u001b[0m\n\u001b[1;32m    567\u001b[0m     pywrap_tfe\u001b[38;5;241m.\u001b[39mTFE_ContextOptionsSetTfrtDistributedRuntime(\n\u001b[1;32m    568\u001b[0m         opts, \u001b[38;5;28mself\u001b[39m\u001b[38;5;241m.\u001b[39m_use_tfrt_distributed_runtime)\n\u001b[1;32m    569\u001b[0m   pywrap_tfe\u001b[38;5;241m.\u001b[39mTFE_ContextOptionsSetRunEagerOpAsFunction(\n\u001b[1;32m    570\u001b[0m       opts, \u001b[38;5;28mself\u001b[39m\u001b[38;5;241m.\u001b[39m_run_eager_op_as_function)\n\u001b[0;32m--> 571\u001b[0m   context_handle \u001b[38;5;241m=\u001b[39m pywrap_tfe\u001b[38;5;241m.\u001b[39mTFE_NewContext(opts)\n\u001b[1;32m    572\u001b[0m \u001b[38;5;28;01mfinally\u001b[39;00m:\n\u001b[1;32m    573\u001b[0m   pywrap_tfe\u001b[38;5;241m.\u001b[39mTFE_DeleteContextOptions(opts)\n",
      "\u001b[0;31mInternalError\u001b[0m: cudaGetDevice() failed. Status: CUDA driver version is insufficient for CUDA runtime version"
     ]
    }
   ],
   "source": [
    "mn2 = 1000\n",
    "train_div = 0.5\n",
    "back_callback_dir = \"/home2/kalp_shah/neutrino/codes/ml/backup/dnn\"\n",
    "log_folder = \"logs/dnn\"\n",
    "model_dir = \"/home2/kalp_shah/neutrino/datasets/model/\"\n",
    "sig_epoch = {'test' : [], 'complete' : []}\n",
    "model_max = Sequential()\n",
    "max_sig = 0"
   ]
  },
  {
   "cell_type": "code",
   "execution_count": null,
   "metadata": {},
   "outputs": [],
   "source": [
    "!rm -rf /home2/kalp_shah/neutrino/codes/ml/backup/dnn\n",
    "!rm -rf logs/dnn"
   ]
  },
  {
   "cell_type": "markdown",
   "metadata": {
    "tags": []
   },
   "source": [
    "## Calculating the Cross Section"
   ]
  },
  {
   "cell_type": "markdown",
   "metadata": {},
   "source": [
    "The calculation of the cross section is done as follows :\n",
    "\n",
    "$\\sigma_p = \\sigma_{LO} \\frac{\\sigma_{MGcuts}}{\\sigma_{MGno-cuts}} $"
   ]
  },
  {
   "cell_type": "code",
   "execution_count": null,
   "metadata": {},
   "outputs": [],
   "source": [
    "n2n2_cs = {500  : 5.13*1e-4,\n",
    "           750  : 3.83*1e-4,\n",
    "           1000 : 2.41*1e-4,\n",
    "           1250 : 9.56*1e-5,\n",
    "           1400 : 4.74*1e-5}"
   ]
  },
  {
   "cell_type": "code",
   "execution_count": null,
   "metadata": {},
   "outputs": [],
   "source": [
    "files = ['ttbar','wmp','wpwm','zwpm','n2n2']\n",
    "\n",
    "cs_lo_k = {\n",
    "            'ttbar':988.57,\n",
    "            'wmp'  :1.95*1e5,\n",
    "            'wpwm' :124.31,\n",
    "            'zwpm' :51.82,\n",
    "            'n2n2' :1\n",
    "          }\n",
    "\n",
    "br_ratio = {'ttbar':0.67*(1-0.67)*2,\n",
    "            'wmp'  :(1-0.67),\n",
    "            'wpwm' :(1-0.67)*0.67*2,\n",
    "            'zwpm' :0.7*(1-0.67),\n",
    "            'n2n2' :1\n",
    "           }\n",
    "\n",
    "cs_nmg = {'ttbar':393.30,\n",
    "          'wmp'  :7.865*1e4,\n",
    "          'wpwm' :74.96,\n",
    "          'zwpm' :14.28,\n",
    "          'n2n2' :1\n",
    "          }\n",
    "\n",
    "cs_mg = {'ttbar':5.883,\n",
    "         'wmp':111.5,\n",
    "         'wpwm':0.944,\n",
    "         'zwpm':0.2381,\n",
    "         'n2n2':n2n2_cs[mn2]\n",
    "         }\n",
    "\n",
    "cs_pb = []\n",
    "for f in files:\n",
    "    cs_pb.append((cs_lo_k[f]*br_ratio[f]*cs_mg[f])/cs_nmg[f])\n",
    "\n",
    "cs = [i*1e3 for i in cs_pb]\n",
    "cs_corr = {files[i] : cs[i] for i in range(len(files))}"
   ]
  },
  {
   "cell_type": "code",
   "execution_count": 8,
   "metadata": {},
   "outputs": [
    {
     "ename": "NameError",
     "evalue": "name 'cs_corr' is not defined",
     "output_type": "error",
     "traceback": [
      "\u001b[0;31m---------------------------------------------------------------------------\u001b[0m",
      "\u001b[0;31mNameError\u001b[0m                                 Traceback (most recent call last)",
      "Input \u001b[0;32mIn [8]\u001b[0m, in \u001b[0;36m<cell line: 1>\u001b[0;34m()\u001b[0m\n\u001b[0;32m----> 1\u001b[0m cs_print \u001b[38;5;241m=\u001b[39m pd\u001b[38;5;241m.\u001b[39mDataFrame([\u001b[43mcs_corr\u001b[49m\u001b[38;5;241m.\u001b[39mkeys(),cs_corr\u001b[38;5;241m.\u001b[39mvalues()])\u001b[38;5;241m.\u001b[39mT\n\u001b[1;32m      2\u001b[0m cs_print\u001b[38;5;241m.\u001b[39mrename(columns \u001b[38;5;241m=\u001b[39m {\u001b[38;5;241m0\u001b[39m:\u001b[38;5;124m'\u001b[39m\u001b[38;5;124mProcess\u001b[39m\u001b[38;5;124m'\u001b[39m,\u001b[38;5;241m1\u001b[39m:\u001b[38;5;124m'\u001b[39m\u001b[38;5;124mCross section (fb)\u001b[39m\u001b[38;5;124m'\u001b[39m}, inplace \u001b[38;5;241m=\u001b[39m \u001b[38;5;28;01mTrue\u001b[39;00m)\n",
      "\u001b[0;31mNameError\u001b[0m: name 'cs_corr' is not defined"
     ]
    }
   ],
   "source": [
    "cs_print = pd.DataFrame([cs_corr.keys(),cs_corr.values()]).T\n",
    "cs_print.rename(columns = {0:'Process',1:'Cross section (fb)'}, inplace = True)"
   ]
  },
  {
   "cell_type": "code",
   "execution_count": 12,
   "metadata": {},
   "outputs": [
    {
     "data": {
      "text/html": [
       "<style type=\"text/css\">\n",
       "</style>\n",
       "<table id=\"T_8a0ca\">\n",
       "  <thead>\n",
       "    <tr>\n",
       "      <th id=\"T_8a0ca_level0_col0\" class=\"col_heading level0 col0\" >Process</th>\n",
       "      <th id=\"T_8a0ca_level0_col1\" class=\"col_heading level0 col1\" >Cross section (fb)</th>\n",
       "    </tr>\n",
       "  </thead>\n",
       "  <tbody>\n",
       "    <tr>\n",
       "      <td id=\"T_8a0ca_row0_col0\" class=\"data row0 col0\" >ttbar</td>\n",
       "      <td id=\"T_8a0ca_row0_col1\" class=\"data row0 col1\" >6538.845366</td>\n",
       "    </tr>\n",
       "    <tr>\n",
       "      <td id=\"T_8a0ca_row1_col0\" class=\"data row1 col0\" >wmp</td>\n",
       "      <td id=\"T_8a0ca_row1_col1\" class=\"data row1 col1\" >91227.272727</td>\n",
       "    </tr>\n",
       "    <tr>\n",
       "      <td id=\"T_8a0ca_row2_col0\" class=\"data row2 col0\" >wpwm</td>\n",
       "      <td id=\"T_8a0ca_row2_col1\" class=\"data row2 col1\" >692.256785</td>\n",
       "    </tr>\n",
       "    <tr>\n",
       "      <td id=\"T_8a0ca_row3_col0\" class=\"data row3 col0\" >zwpm</td>\n",
       "      <td id=\"T_8a0ca_row3_col1\" class=\"data row3 col1\" >199.590826</td>\n",
       "    </tr>\n",
       "    <tr>\n",
       "      <td id=\"T_8a0ca_row4_col0\" class=\"data row4 col0\" >n2n2</td>\n",
       "      <td id=\"T_8a0ca_row4_col1\" class=\"data row4 col1\" >0.399000</td>\n",
       "    </tr>\n",
       "  </tbody>\n",
       "</table>\n"
      ],
      "text/plain": [
       "<pandas.io.formats.style.Styler at 0x150854b37a00>"
      ]
     },
     "execution_count": 12,
     "metadata": {},
     "output_type": "execute_result"
    }
   ],
   "source": [
    "cs_print.style.hide_index()"
   ]
  },
  {
   "cell_type": "markdown",
   "metadata": {},
   "source": [
    "## Getting the Data"
   ]
  },
  {
   "cell_type": "markdown",
   "metadata": {},
   "source": [
    "Finding the amount of events in storage using the following formula :\n",
    "\n",
    "$ N_{p} = N_{files}*N_{Events-per-files} $"
   ]
  },
  {
   "cell_type": "code",
   "execution_count": 13,
   "metadata": {},
   "outputs": [],
   "source": [
    "no_of_files = {'ttbar':0,\n",
    "               'wmp':0,\n",
    "               'wpwm':0,\n",
    "               'zwpm':0,\n",
    "               'n2n2':0\n",
    "               }"
   ]
  },
  {
   "cell_type": "code",
   "execution_count": 14,
   "metadata": {
    "tags": []
   },
   "outputs": [],
   "source": [
    "df = []\n",
    "for f in range(len(files)):\n",
    "    con_df = []\n",
    "    \n",
    "    # The maximum file number \n",
    "    for i in range(1,60):\n",
    "        try:\n",
    "            if files[f] == 'n2n2':\n",
    "                con_df.append(pd.read_csv('~/neutrino/datasets/n2n2_' + str(mn2) + '/' + files[f] + str(i) + '.csv'))\n",
    "            else:\n",
    "                con_df.append(pd.read_csv('~/neutrino/datasets/backgrounds/' + files[f] + str(i) + '.csv'))\n",
    "            no_of_files[files[f]] += 1\n",
    "        except:\n",
    "            pass\n",
    "    \n",
    "    df.append(pd.concat(con_df,ignore_index=True))\n",
    "    df[-1]['type'] = f\n",
    "    \n",
    "    if files[f] == \"n2n2\":\n",
    "        df[-1]['tag'] = 1\n",
    "    else:\n",
    "        df[-1]['tag'] = 0"
   ]
  },
  {
   "cell_type": "markdown",
   "metadata": {},
   "source": [
    "### Total Number of Files"
   ]
  },
  {
   "cell_type": "code",
   "execution_count": 15,
   "metadata": {},
   "outputs": [],
   "source": [
    "red_merging = {'ttbar':98159,\n",
    "               'wmp':96494,\n",
    "               'wpwm':97633,\n",
    "               'zwpm':81076,\n",
    "               'n2n2':int(1e5)\n",
    "               }"
   ]
  },
  {
   "cell_type": "code",
   "execution_count": 16,
   "metadata": {},
   "outputs": [],
   "source": [
    "total_events = []\n",
    "\n",
    "for f in range(len(files)):\n",
    "    total_events.append(no_of_files[files[f]] * red_merging[files[f]])"
   ]
  },
  {
   "cell_type": "code",
   "execution_count": 17,
   "metadata": {},
   "outputs": [],
   "source": [
    "nf_print = pd.DataFrame([no_of_files.keys(),total_events]).T\n",
    "nf_print.rename(columns = {0:'Process',1:'Number of Events'}, inplace = True)"
   ]
  },
  {
   "cell_type": "code",
   "execution_count": 18,
   "metadata": {},
   "outputs": [
    {
     "data": {
      "text/html": [
       "<style type=\"text/css\">\n",
       "</style>\n",
       "<table id=\"T_6f1bc\">\n",
       "  <thead>\n",
       "    <tr>\n",
       "      <th id=\"T_6f1bc_level0_col0\" class=\"col_heading level0 col0\" >Process</th>\n",
       "      <th id=\"T_6f1bc_level0_col1\" class=\"col_heading level0 col1\" >Number of Events</th>\n",
       "    </tr>\n",
       "  </thead>\n",
       "  <tbody>\n",
       "    <tr>\n",
       "      <td id=\"T_6f1bc_row0_col0\" class=\"data row0 col0\" >ttbar</td>\n",
       "      <td id=\"T_6f1bc_row0_col1\" class=\"data row0 col1\" >4122678</td>\n",
       "    </tr>\n",
       "    <tr>\n",
       "      <td id=\"T_6f1bc_row1_col0\" class=\"data row1 col0\" >wmp</td>\n",
       "      <td id=\"T_6f1bc_row1_col1\" class=\"data row1 col1\" >3956254</td>\n",
       "    </tr>\n",
       "    <tr>\n",
       "      <td id=\"T_6f1bc_row2_col0\" class=\"data row2 col0\" >wpwm</td>\n",
       "      <td id=\"T_6f1bc_row2_col1\" class=\"data row2 col1\" >3905320</td>\n",
       "    </tr>\n",
       "    <tr>\n",
       "      <td id=\"T_6f1bc_row3_col0\" class=\"data row3 col0\" >zwpm</td>\n",
       "      <td id=\"T_6f1bc_row3_col1\" class=\"data row3 col1\" >3648420</td>\n",
       "    </tr>\n",
       "    <tr>\n",
       "      <td id=\"T_6f1bc_row4_col0\" class=\"data row4 col0\" >n2n2</td>\n",
       "      <td id=\"T_6f1bc_row4_col1\" class=\"data row4 col1\" >3900000</td>\n",
       "    </tr>\n",
       "  </tbody>\n",
       "</table>\n"
      ],
      "text/plain": [
       "<pandas.io.formats.style.Styler at 0x1509e3f8ec80>"
      ]
     },
     "execution_count": 18,
     "metadata": {},
     "output_type": "execute_result"
    }
   ],
   "source": [
    "nf_print.style.hide_index()"
   ]
  },
  {
   "cell_type": "markdown",
   "metadata": {},
   "source": [
    "### Sample Output"
   ]
  },
  {
   "cell_type": "code",
   "execution_count": 19,
   "metadata": {},
   "outputs": [
    {
     "data": {
      "text/html": [
       "<style type=\"text/css\">\n",
       "</style>\n",
       "<table id=\"T_89b1e\">\n",
       "  <thead>\n",
       "    <tr>\n",
       "      <th id=\"T_89b1e_level0_col0\" class=\"col_heading level0 col0\" >ptl</th>\n",
       "      <th id=\"T_89b1e_level0_col1\" class=\"col_heading level0 col1\" >etal</th>\n",
       "      <th id=\"T_89b1e_level0_col2\" class=\"col_heading level0 col2\" >energyl</th>\n",
       "      <th id=\"T_89b1e_level0_col3\" class=\"col_heading level0 col3\" >ptj</th>\n",
       "      <th id=\"T_89b1e_level0_col4\" class=\"col_heading level0 col4\" >etaj</th>\n",
       "      <th id=\"T_89b1e_level0_col5\" class=\"col_heading level0 col5\" >energyj</th>\n",
       "      <th id=\"T_89b1e_level0_col6\" class=\"col_heading level0 col6\" >massj</th>\n",
       "      <th id=\"T_89b1e_level0_col7\" class=\"col_heading level0 col7\" >mjj</th>\n",
       "      <th id=\"T_89b1e_level0_col8\" class=\"col_heading level0 col8\" >rjj</th>\n",
       "      <th id=\"T_89b1e_level0_col9\" class=\"col_heading level0 col9\" >rjl</th>\n",
       "      <th id=\"T_89b1e_level0_col10\" class=\"col_heading level0 col10\" >met</th>\n",
       "      <th id=\"T_89b1e_level0_col11\" class=\"col_heading level0 col11\" >n21_1</th>\n",
       "      <th id=\"T_89b1e_level0_col12\" class=\"col_heading level0 col12\" >n21_2</th>\n",
       "      <th id=\"T_89b1e_level0_col13\" class=\"col_heading level0 col13\" >n32_1</th>\n",
       "      <th id=\"T_89b1e_level0_col14\" class=\"col_heading level0 col14\" >n32_2</th>\n",
       "      <th id=\"T_89b1e_level0_col15\" class=\"col_heading level0 col15\" >infl</th>\n",
       "      <th id=\"T_89b1e_level0_col16\" class=\"col_heading level0 col16\" >drfl</th>\n",
       "      <th id=\"T_89b1e_level0_col17\" class=\"col_heading level0 col17\" >type</th>\n",
       "      <th id=\"T_89b1e_level0_col18\" class=\"col_heading level0 col18\" >tag</th>\n",
       "    </tr>\n",
       "  </thead>\n",
       "  <tbody>\n",
       "    <tr>\n",
       "      <td id=\"T_89b1e_row0_col0\" class=\"data row0 col0\" >576.562000</td>\n",
       "      <td id=\"T_89b1e_row0_col1\" class=\"data row0 col1\" >0.232894</td>\n",
       "      <td id=\"T_89b1e_row0_col2\" class=\"data row0 col2\" >592.269000</td>\n",
       "      <td id=\"T_89b1e_row0_col3\" class=\"data row0 col3\" >459.681000</td>\n",
       "      <td id=\"T_89b1e_row0_col4\" class=\"data row0 col4\" >0.248122</td>\n",
       "      <td id=\"T_89b1e_row0_col5\" class=\"data row0 col5\" >475.279000</td>\n",
       "      <td id=\"T_89b1e_row0_col6\" class=\"data row0 col6\" >36.131600</td>\n",
       "      <td id=\"T_89b1e_row0_col7\" class=\"data row0 col7\" >379.243000</td>\n",
       "      <td id=\"T_89b1e_row0_col8\" class=\"data row0 col8\" >1.145090</td>\n",
       "      <td id=\"T_89b1e_row0_col9\" class=\"data row0 col9\" >2.253050</td>\n",
       "      <td id=\"T_89b1e_row0_col10\" class=\"data row0 col10\" >889.067000</td>\n",
       "      <td id=\"T_89b1e_row0_col11\" class=\"data row0 col11\" >0.190804</td>\n",
       "      <td id=\"T_89b1e_row0_col12\" class=\"data row0 col12\" >0.258472</td>\n",
       "      <td id=\"T_89b1e_row0_col13\" class=\"data row0 col13\" >0.517955</td>\n",
       "      <td id=\"T_89b1e_row0_col14\" class=\"data row0 col14\" >0.670891</td>\n",
       "      <td id=\"T_89b1e_row0_col15\" class=\"data row0 col15\" >769.506000</td>\n",
       "      <td id=\"T_89b1e_row0_col16\" class=\"data row0 col16\" >1.864710</td>\n",
       "      <td id=\"T_89b1e_row0_col17\" class=\"data row0 col17\" >4</td>\n",
       "      <td id=\"T_89b1e_row0_col18\" class=\"data row0 col18\" >1</td>\n",
       "    </tr>\n",
       "    <tr>\n",
       "      <td id=\"T_89b1e_row1_col0\" class=\"data row1 col0\" >823.599000</td>\n",
       "      <td id=\"T_89b1e_row1_col1\" class=\"data row1 col1\" >-0.418800</td>\n",
       "      <td id=\"T_89b1e_row1_col2\" class=\"data row1 col2\" >896.887000</td>\n",
       "      <td id=\"T_89b1e_row1_col3\" class=\"data row1 col3\" >339.247000</td>\n",
       "      <td id=\"T_89b1e_row1_col4\" class=\"data row1 col4\" >-0.696095</td>\n",
       "      <td id=\"T_89b1e_row1_col5\" class=\"data row1 col5\" >431.789000</td>\n",
       "      <td id=\"T_89b1e_row1_col6\" class=\"data row1 col6\" >77.312200</td>\n",
       "      <td id=\"T_89b1e_row1_col7\" class=\"data row1 col7\" >1052.580000</td>\n",
       "      <td id=\"T_89b1e_row1_col8\" class=\"data row1 col8\" >2.671780</td>\n",
       "      <td id=\"T_89b1e_row1_col9\" class=\"data row1 col9\" >2.072780</td>\n",
       "      <td id=\"T_89b1e_row1_col10\" class=\"data row1 col10\" >1930.330000</td>\n",
       "      <td id=\"T_89b1e_row1_col11\" class=\"data row1 col11\" >0.197178</td>\n",
       "      <td id=\"T_89b1e_row1_col12\" class=\"data row1 col12\" >0.222316</td>\n",
       "      <td id=\"T_89b1e_row1_col13\" class=\"data row1 col13\" >0.468612</td>\n",
       "      <td id=\"T_89b1e_row1_col14\" class=\"data row1 col14\" >0.544453</td>\n",
       "      <td id=\"T_89b1e_row1_col15\" class=\"data row1 col15\" >1113.560000</td>\n",
       "      <td id=\"T_89b1e_row1_col16\" class=\"data row1 col16\" >1.817120</td>\n",
       "      <td id=\"T_89b1e_row1_col17\" class=\"data row1 col17\" >4</td>\n",
       "      <td id=\"T_89b1e_row1_col18\" class=\"data row1 col18\" >1</td>\n",
       "    </tr>\n",
       "    <tr>\n",
       "      <td id=\"T_89b1e_row2_col0\" class=\"data row2 col0\" >354.758000</td>\n",
       "      <td id=\"T_89b1e_row2_col1\" class=\"data row2 col1\" >-1.721930</td>\n",
       "      <td id=\"T_89b1e_row2_col2\" class=\"data row2 col2\" >1024.200000</td>\n",
       "      <td id=\"T_89b1e_row2_col3\" class=\"data row2 col3\" >883.807000</td>\n",
       "      <td id=\"T_89b1e_row2_col4\" class=\"data row2 col4\" >-0.817714</td>\n",
       "      <td id=\"T_89b1e_row2_col5\" class=\"data row2 col5\" >1200.200000</td>\n",
       "      <td id=\"T_89b1e_row2_col6\" class=\"data row2 col6\" >98.775000</td>\n",
       "      <td id=\"T_89b1e_row2_col7\" class=\"data row2 col7\" >1764.850000</td>\n",
       "      <td id=\"T_89b1e_row2_col8\" class=\"data row2 col8\" >2.820480</td>\n",
       "      <td id=\"T_89b1e_row2_col9\" class=\"data row2 col9\" >0.922735</td>\n",
       "      <td id=\"T_89b1e_row2_col10\" class=\"data row2 col10\" >3256.570000</td>\n",
       "      <td id=\"T_89b1e_row2_col11\" class=\"data row2 col11\" >0.328865</td>\n",
       "      <td id=\"T_89b1e_row2_col12\" class=\"data row2 col12\" >0.361102</td>\n",
       "      <td id=\"T_89b1e_row2_col13\" class=\"data row2 col13\" >0.409280</td>\n",
       "      <td id=\"T_89b1e_row2_col14\" class=\"data row2 col14\" >0.760725</td>\n",
       "      <td id=\"T_89b1e_row2_col15\" class=\"data row2 col15\" >1015.050000</td>\n",
       "      <td id=\"T_89b1e_row2_col16\" class=\"data row2 col16\" >2.092480</td>\n",
       "      <td id=\"T_89b1e_row2_col17\" class=\"data row2 col17\" >4</td>\n",
       "      <td id=\"T_89b1e_row2_col18\" class=\"data row2 col18\" >1</td>\n",
       "    </tr>\n",
       "    <tr>\n",
       "      <td id=\"T_89b1e_row3_col0\" class=\"data row3 col0\" >858.275000</td>\n",
       "      <td id=\"T_89b1e_row3_col1\" class=\"data row3 col1\" >0.386685</td>\n",
       "      <td id=\"T_89b1e_row3_col2\" class=\"data row3 col2\" >923.245000</td>\n",
       "      <td id=\"T_89b1e_row3_col3\" class=\"data row3 col3\" >1258.810000</td>\n",
       "      <td id=\"T_89b1e_row3_col4\" class=\"data row3 col4\" >0.184948</td>\n",
       "      <td id=\"T_89b1e_row3_col5\" class=\"data row3 col5\" >1285.290000</td>\n",
       "      <td id=\"T_89b1e_row3_col6\" class=\"data row3 col6\" >112.015000</td>\n",
       "      <td id=\"T_89b1e_row3_col7\" class=\"data row3 col7\" >1546.480000</td>\n",
       "      <td id=\"T_89b1e_row3_col8\" class=\"data row3 col8\" >1.122830</td>\n",
       "      <td id=\"T_89b1e_row3_col9\" class=\"data row3 col9\" >2.551460</td>\n",
       "      <td id=\"T_89b1e_row3_col10\" class=\"data row3 col10\" >388.116000</td>\n",
       "      <td id=\"T_89b1e_row3_col11\" class=\"data row3 col11\" >0.216487</td>\n",
       "      <td id=\"T_89b1e_row3_col12\" class=\"data row3 col12\" >0.234383</td>\n",
       "      <td id=\"T_89b1e_row3_col13\" class=\"data row3 col13\" >0.308864</td>\n",
       "      <td id=\"T_89b1e_row3_col14\" class=\"data row3 col14\" >0.722296</td>\n",
       "      <td id=\"T_89b1e_row3_col15\" class=\"data row3 col15\" >510.332000</td>\n",
       "      <td id=\"T_89b1e_row3_col16\" class=\"data row3 col16\" >2.045930</td>\n",
       "      <td id=\"T_89b1e_row3_col17\" class=\"data row3 col17\" >4</td>\n",
       "      <td id=\"T_89b1e_row3_col18\" class=\"data row3 col18\" >1</td>\n",
       "    </tr>\n",
       "    <tr>\n",
       "      <td id=\"T_89b1e_row4_col0\" class=\"data row4 col0\" >590.040000</td>\n",
       "      <td id=\"T_89b1e_row4_col1\" class=\"data row4 col1\" >-0.006999</td>\n",
       "      <td id=\"T_89b1e_row4_col2\" class=\"data row4 col2\" >590.055000</td>\n",
       "      <td id=\"T_89b1e_row4_col3\" class=\"data row4 col3\" >811.602000</td>\n",
       "      <td id=\"T_89b1e_row4_col4\" class=\"data row4 col4\" >0.445120</td>\n",
       "      <td id=\"T_89b1e_row4_col5\" class=\"data row4 col5\" >897.952000</td>\n",
       "      <td id=\"T_89b1e_row4_col6\" class=\"data row4 col6\" >90.893800</td>\n",
       "      <td id=\"T_89b1e_row4_col7\" class=\"data row4 col7\" >818.864000</td>\n",
       "      <td id=\"T_89b1e_row4_col8\" class=\"data row4 col8\" >1.162910</td>\n",
       "      <td id=\"T_89b1e_row4_col9\" class=\"data row4 col9\" >1.495500</td>\n",
       "      <td id=\"T_89b1e_row4_col10\" class=\"data row4 col10\" >1133.330000</td>\n",
       "      <td id=\"T_89b1e_row4_col11\" class=\"data row4 col11\" >0.172456</td>\n",
       "      <td id=\"T_89b1e_row4_col12\" class=\"data row4 col12\" >0.329166</td>\n",
       "      <td id=\"T_89b1e_row4_col13\" class=\"data row4 col13\" >0.461283</td>\n",
       "      <td id=\"T_89b1e_row4_col14\" class=\"data row4 col14\" >0.696238</td>\n",
       "      <td id=\"T_89b1e_row4_col15\" class=\"data row4 col15\" >351.882000</td>\n",
       "      <td id=\"T_89b1e_row4_col16\" class=\"data row4 col16\" >3.211960</td>\n",
       "      <td id=\"T_89b1e_row4_col17\" class=\"data row4 col17\" >4</td>\n",
       "      <td id=\"T_89b1e_row4_col18\" class=\"data row4 col18\" >1</td>\n",
       "    </tr>\n",
       "  </tbody>\n",
       "</table>\n"
      ],
      "text/plain": [
       "<pandas.io.formats.style.Styler at 0x1509e3f8d960>"
      ]
     },
     "execution_count": 19,
     "metadata": {},
     "output_type": "execute_result"
    }
   ],
   "source": [
    "df[-1].head().style.hide_index()"
   ]
  },
  {
   "cell_type": "markdown",
   "metadata": {},
   "source": [
    "### Applying Analysis Level Cuts"
   ]
  },
  {
   "cell_type": "code",
   "execution_count": 20,
   "metadata": {},
   "outputs": [],
   "source": [
    "for i in range(len(df)):\n",
    "    df[i] = shuffle(df[i])"
   ]
  },
  {
   "cell_type": "code",
   "execution_count": 21,
   "metadata": {},
   "outputs": [],
   "source": [
    "df_train = []\n",
    "df_test = []\n",
    "for df_sub in df:\n",
    "    df_train.append(df_sub[:int(len(df_sub)/2)])\n",
    "    df_test.append(df_sub[int(len(df_sub)/2):])"
   ]
  },
  {
   "cell_type": "code",
   "execution_count": 22,
   "metadata": {},
   "outputs": [],
   "source": [
    "dtset = pd.concat(df,ignore_index=True)\n",
    "dtset['met'] = np.fabs(dtset['met'])\n",
    "\n",
    "dtset_train = pd.concat(df_train,ignore_index=True)\n",
    "dtset_train['met'] = np.fabs(dtset_train['met'])\n",
    "\n",
    "dtset_test = pd.concat(df_test,ignore_index=True)\n",
    "dtset_test['met'] = np.fabs(dtset_test['met'])"
   ]
  },
  {
   "cell_type": "code",
   "execution_count": 23,
   "metadata": {},
   "outputs": [],
   "source": [
    "del(df,df_test,df_train)"
   ]
  },
  {
   "cell_type": "code",
   "execution_count": 24,
   "metadata": {},
   "outputs": [],
   "source": [
    "dtset = dtset\\\n",
    "       [dtset['ptl'] >= 120.0]\\\n",
    "       [dtset['ptj'] >= 120.0]\\\n",
    "       [dtset['etaj'] <=  2.0]\\\n",
    "       [dtset['etaj'] >= -2.0]"
   ]
  },
  {
   "cell_type": "code",
   "execution_count": 25,
   "metadata": {},
   "outputs": [],
   "source": [
    "## Analysis Level Cuts\n",
    "dtset_train = dtset_train\\\n",
    "             [dtset_train['ptl'] >= 120.0]\\\n",
    "             [dtset_train['ptj'] >= 120.0]\\\n",
    "             [dtset_train['etaj'] <=  2.0]\\\n",
    "             [dtset_train['etaj'] >= -2.0]"
   ]
  },
  {
   "cell_type": "code",
   "execution_count": 26,
   "metadata": {},
   "outputs": [],
   "source": [
    "## Analysis Level Cuts\n",
    "dtset_test = dtset_test\\\n",
    "            [dtset_test['ptl'] >= 120.0]\\\n",
    "            [dtset_test['ptj'] >= 120.0]\\\n",
    "            [dtset_test['etaj'] <=  2.0]\\\n",
    "            [dtset_test['etaj'] >= -2.0]"
   ]
  },
  {
   "cell_type": "code",
   "execution_count": 27,
   "metadata": {},
   "outputs": [],
   "source": [
    "dtset_test = shuffle(dtset_test)\n",
    "dtset = shuffle(dtset)\n",
    "dtset_train = shuffle(dtset_train)"
   ]
  },
  {
   "cell_type": "markdown",
   "metadata": {
    "tags": []
   },
   "source": [
    "## Machine Learning"
   ]
  },
  {
   "cell_type": "markdown",
   "metadata": {},
   "source": [
    "### Making the Train and Test Dataset\n",
    "\n",
    "The division of training and the testing set is 80:20 percent"
   ]
  },
  {
   "cell_type": "code",
   "execution_count": 28,
   "metadata": {
    "tags": []
   },
   "outputs": [],
   "source": [
    "x_train = dtset_train.T[:-2].T\n",
    "y_train = dtset_train['tag']\n",
    "\n",
    "x_test = dtset_test.T[:-2].T\n",
    "y_test = dtset_test['tag']"
   ]
  },
  {
   "cell_type": "code",
   "execution_count": 29,
   "metadata": {},
   "outputs": [],
   "source": [
    "del(dtset_train)"
   ]
  },
  {
   "cell_type": "code",
   "execution_count": 30,
   "metadata": {},
   "outputs": [
    {
     "name": "stdout",
     "output_type": "stream",
     "text": [
      "The Shapes are :\n",
      "X Train :  (6062662, 17)\n",
      "Y Train :  (6062662,)\n",
      "X Test :   (6062969, 17)\n",
      "Y Test :   (6062969,)\n"
     ]
    }
   ],
   "source": [
    "print('The Shapes are :')\n",
    "print('X Train : ',x_train.shape)\n",
    "print('Y Train : ',y_train.shape)\n",
    "print('X Test :  ',x_test.shape)\n",
    "print('Y Test :  ',y_test.shape)"
   ]
  },
  {
   "cell_type": "markdown",
   "metadata": {},
   "source": [
    "### Custom Functions for Saving and Backup"
   ]
  },
  {
   "cell_type": "code",
   "execution_count": 31,
   "metadata": {},
   "outputs": [],
   "source": [
    "# Callbacks\n",
    "backup_callback = tf.keras.callbacks.experimental.BackupAndRestore(backup_dir=back_callback_dir)\n",
    "\n",
    "log_dir = log_folder + datetime.datetime.now().strftime(\"%Y%m%d-%H%M%S\")\n",
    "tensorboard_callback = tf.keras.callbacks.TensorBoard(log_dir=log_dir, histogram_freq=1)"
   ]
  },
  {
   "cell_type": "code",
   "execution_count": 32,
   "metadata": {},
   "outputs": [],
   "source": [
    "def get_significance(model,x_test,type_test,cs_corr,total_events,L):\n",
    "    total_test = total_events\n",
    "    tot_pred = model.predict(x_test,batch_size=131072)\n",
    "    \n",
    "    pred_values = tf.cast(tf.greater(tot_pred.T,0.7),'int32')\n",
    "    truth_values = tf.cast(tf.equal(type_test,4),'int32')\n",
    "    signal = tf.multiply(pred_values,truth_values)\n",
    "    num_sig = tf.reduce_sum(signal).numpy()\n",
    "    \n",
    "    ns = cs_corr['n2n2']*(num_sig/(total_test[-1]))*L\n",
    "    del(pred_values,truth_values,signal,num_sig)\n",
    "\n",
    "    files = list(cs_corr.keys())\n",
    "    nb = 0\n",
    "    for i in range(len(cs_corr)-1):\n",
    "        pred_values = tf.cast(tf.greater(tot_pred.T,0.7),'int32')\n",
    "        back_values = tf.cast(tf.equal(type_test,i),'int32')\n",
    "        back = tf.multiply(pred_values,back_values)\n",
    "        num_back = tf.reduce_sum(back).numpy()\n",
    "\n",
    "        nb += cs_corr[files[i]]*(num_back/(total_test[i]))*L\n",
    "        del(pred_values,back_values,back,num_back)\n",
    "    \n",
    "    del(tot_pred)\n",
    "    return ns/np.sqrt(nb)"
   ]
  },
  {
   "cell_type": "code",
   "execution_count": 62,
   "metadata": {},
   "outputs": [],
   "source": [
    "class sig_callback(tf.keras.callbacks.Callback):\n",
    "    def __init__(self,model,x_test,type_test,cs_corr,dtset_type,total_events):\n",
    "        self.model = model\n",
    "        self.type_test = type_test\n",
    "        self.cs_corr = cs_corr\n",
    "        self.total_events = total_events\n",
    "        self.x_test = x_test\n",
    "        self.dtset_type = dtset_type\n",
    "\n",
    "    \n",
    "    def on_epoch_begin(self, epoch, logs=None):\n",
    "        global max_sig, model_max\n",
    "        sig = get_significance(self.model,self.x_test,self.type_test,\n",
    "                              self.cs_corr,self.total_events,3000)\n",
    "        print('The '+ self.dtset_type +' significance is : ',sig)\n",
    "        \n",
    "        if epoch==0:\n",
    "            model_max = self.model\n",
    "            max_sig = sig\n",
    "        \n",
    "        elif self.dtset_type == 'test' and max_sig < sig:\n",
    "            model_max = tf.keras.models.clone_model(self.model)\n",
    "            max_sig = sig\n",
    "            \n",
    "        elif self.dtset_type == 'complete': \n",
    "            gc.collect()\n",
    "            \n",
    "        sig_epoch[self.dtset_type].append(sig)"
   ]
  },
  {
   "cell_type": "markdown",
   "metadata": {},
   "source": [
    "### The DNN Model"
   ]
  },
  {
   "cell_type": "code",
   "execution_count": 63,
   "metadata": {},
   "outputs": [],
   "source": [
    "model = Sequential()\n",
    "input_shape = x_train.shape\n",
    "\n",
    "from keras.layers.normalization.batch_normalization import BatchNormalization\n",
    "model.add(Dense(10,activation = 'relu',input_dim = input_shape[1]))\n",
    "model.add(BatchNormalization())\n",
    "model.add(Dense(20,activation = 'relu',input_dim = 10))\n",
    "model.add(BatchNormalization())\n",
    "model.add(Dense(40,activation = 'relu',input_dim = 20))\n",
    "model.add(BatchNormalization())\n",
    "model.add(Dense(20,activation = 'relu',input_dim = 40))\n",
    "model.add(BatchNormalization())\n",
    "model.add(Dense(12,activation = 'relu',input_dim = 20))\n",
    "model.add(BatchNormalization())\n",
    "model.add(Dense(8,activation = 'relu',input_dim = 12))\n",
    "model.add(BatchNormalization())\n",
    "model.add(Dense(1,activation = 'sigmoid',input_dim = 8))\n",
    "\n",
    "model.compile(optimizer='adam', loss='binary_crossentropy',metrics=['accuracy'])"
   ]
  },
  {
   "cell_type": "code",
   "execution_count": 64,
   "metadata": {},
   "outputs": [
    {
     "data": {
      "image/png": "[encoded data removed]",
      "text/plain": [
       "<PIL.Image.Image image mode=RGBA size=1795x710 at 0x1503CB7F4E20>"
      ]
     },
     "execution_count": 64,
     "metadata": {},
     "output_type": "execute_result"
    }
   ],
   "source": [
    "visualkeras.graph_view(model,node_size=25,layer_spacing=100,ellipsize_after=20)"
   ]
  },
  {
   "cell_type": "markdown",
   "metadata": {
    "tags": []
   },
   "source": [
    "### Learning"
   ]
  },
  {
   "cell_type": "code",
   "execution_count": null,
   "metadata": {
    "tags": []
   },
   "outputs": [
    {
     "name": "stdout",
     "output_type": "stream",
     "text": [
      "The test significance is :  4.787853607195829\n",
      "The complete significance is :  5.098483313823928\n",
      "Epoch 89/400\n",
      "47/47 [==============================] - 2s 16ms/step - loss: 0.0033 - accuracy: 0.8315\n",
      "The test significance is :  5.018806871595884\n",
      "The complete significance is :  5.646749260550461\n",
      "Epoch 90/400\n",
      "47/47 [==============================] - 1s 16ms/step - loss: 0.0033 - accuracy: 0.8310\n",
      "The test significance is :  4.425892668320227\n",
      "The complete significance is :  4.875760370016775\n",
      "Epoch 91/400\n",
      "47/47 [==============================] - 1s 16ms/step - loss: 0.0033 - accuracy: 0.8320\n",
      "The test significance is :  4.965922293702927\n",
      "The complete significance is :  5.967919933397033\n",
      "Epoch 92/400\n",
      "47/47 [==============================] - 1s 16ms/step - loss: 0.0033 - accuracy: 0.8313\n",
      "The test significance is :  4.700523273820013\n",
      "The complete significance is :  5.322412667755322\n",
      "Epoch 93/400\n",
      "47/47 [==============================] - 1s 16ms/step - loss: 0.0033 - accuracy: 0.8310\n",
      "The test significance is :  4.540667704278378\n",
      "The complete significance is :  5.393541516247383\n",
      "Epoch 94/400\n",
      "47/47 [==============================] - 1s 17ms/step - loss: 0.0033 - accuracy: 0.8313\n",
      "The test significance is :  4.8576808813968375\n",
      "The complete significance is :  5.290278358883375\n",
      "Epoch 95/400\n",
      "47/47 [==============================] - 1s 18ms/step - loss: 0.0033 - accuracy: 0.8321\n",
      "The test significance is :  5.206838575227035\n",
      "The complete significance is :  5.923978464113789\n",
      "Epoch 96/400\n",
      "47/47 [==============================] - 1s 17ms/step - loss: 0.0033 - accuracy: 0.8316\n",
      "The test significance is :  4.9182147283625985\n",
      "The complete significance is :  5.675212799828071\n",
      "Epoch 97/400\n",
      "47/47 [==============================] - 1s 16ms/step - loss: 0.0033 - accuracy: 0.8317\n",
      "The test significance is :  4.855268062475275\n",
      "The complete significance is :  5.563490267876614\n",
      "Epoch 98/400\n",
      "47/47 [==============================] - 1s 17ms/step - loss: 0.0033 - accuracy: 0.8318\n",
      "The test significance is :  4.850019729355897\n",
      "The complete significance is :  5.595958112073197\n",
      "Epoch 99/400\n",
      "47/47 [==============================] - 1s 16ms/step - loss: 0.0033 - accuracy: 0.8314\n",
      "The test significance is :  4.7673266383074235\n",
      "The complete significance is :  5.208314175773274\n",
      "Epoch 100/400\n",
      "47/47 [==============================] - 1s 16ms/step - loss: 0.0033 - accuracy: 0.8318\n",
      "The test significance is :  4.7544049866030065\n",
      "The complete significance is :  6.061647953732285\n",
      "Epoch 101/400\n",
      "47/47 [==============================] - 1s 16ms/step - loss: 0.0033 - accuracy: 0.8312\n",
      "The test significance is :  4.918721570044936\n",
      "The complete significance is :  5.521909056394092\n",
      "Epoch 102/400\n",
      "47/47 [==============================] - 1s 16ms/step - loss: 0.0033 - accuracy: 0.8316\n",
      "The test significance is :  4.439520686775556\n",
      "The complete significance is :  4.9160436356598085\n",
      "Epoch 103/400\n",
      "47/47 [==============================] - 1s 16ms/step - loss: 0.0033 - accuracy: 0.8309\n",
      "The test significance is :  4.352934269027124\n",
      "The complete significance is :  4.874448757717285\n",
      "Epoch 104/400\n",
      "47/47 [==============================] - 1s 16ms/step - loss: 0.0033 - accuracy: 0.8312\n",
      "The test significance is :  5.295345833799934\n",
      "The complete significance is :  6.360323169116087\n",
      "Epoch 105/400\n",
      "47/47 [==============================] - 1s 16ms/step - loss: 0.0033 - accuracy: 0.8321\n",
      "The test significance is :  5.107138840284757\n",
      "The complete significance is :  5.656919648743567\n",
      "Epoch 106/400\n",
      "47/47 [==============================] - 1s 21ms/step - loss: 0.0033 - accuracy: 0.8311\n",
      "The test significance is :  4.890348800422519\n",
      "The complete significance is :  5.328459549291468\n",
      "Epoch 107/400\n",
      "47/47 [==============================] - 1s 17ms/step - loss: 0.0033 - accuracy: 0.8309\n",
      "The test significance is :  4.741319112945863\n",
      "The complete significance is :  5.96971550983149\n",
      "Epoch 108/400\n",
      "47/47 [==============================] - 1s 18ms/step - loss: 0.0033 - accuracy: 0.8312\n",
      "The test significance is :  4.809531478943835\n",
      "The complete significance is :  5.399045496622637\n",
      "Epoch 109/400\n",
      "47/47 [==============================] - 1s 17ms/step - loss: 0.0033 - accuracy: 0.8321\n",
      "The test significance is :  4.701869520399355\n",
      "The complete significance is :  5.5363400220394245\n",
      "Epoch 110/400\n",
      "47/47 [==============================] - 1s 16ms/step - loss: 0.0033 - accuracy: 0.8309\n",
      "The test significance is :  4.482801381042949\n",
      "The complete significance is :  4.875689660758\n",
      "Epoch 111/400\n",
      "47/47 [==============================] - 1s 16ms/step - loss: 0.0033 - accuracy: 0.8316\n",
      "The test significance is :  4.7484405504073965\n",
      "The complete significance is :  5.180826241182629\n",
      "Epoch 112/400\n",
      "47/47 [==============================] - 1s 16ms/step - loss: 0.0033 - accuracy: 0.8311\n",
      "The test significance is :  4.940192355810886\n",
      "The complete significance is :  5.550140791585054\n",
      "Epoch 113/400\n",
      "47/47 [==============================] - 1s 16ms/step - loss: 0.0033 - accuracy: 0.8313\n",
      "The test significance is :  4.854323929709878\n",
      "The complete significance is :  5.399050141863886\n",
      "Epoch 114/400\n",
      "47/47 [==============================] - 1s 16ms/step - loss: 0.0033 - accuracy: 0.8315\n",
      "The test significance is :  4.594280627828515\n",
      "The complete significance is :  4.546821794076137\n",
      "Epoch 115/400\n",
      "47/47 [==============================] - 1s 19ms/step - loss: 0.0033 - accuracy: 0.8314\n",
      "The test significance is :  4.772515552069158\n",
      "The complete significance is :  5.507790295301458\n",
      "Epoch 116/400\n",
      "47/47 [==============================] - 1s 17ms/step - loss: 0.0033 - accuracy: 0.8315\n",
      "The test significance is :  5.108817208221929\n",
      "The complete significance is :  5.9938276680022975\n",
      "Epoch 117/400\n",
      "47/47 [==============================] - 1s 16ms/step - loss: 0.0033 - accuracy: 0.8319\n",
      "The test significance is :  4.282943759631304\n",
      "The complete significance is :  4.507370075037016\n",
      "Epoch 118/400\n",
      "47/47 [==============================] - 1s 16ms/step - loss: 0.0033 - accuracy: 0.8315\n",
      "The test significance is :  4.990155048562241\n",
      "The complete significance is :  5.941553824045345\n",
      "Epoch 119/400\n",
      "47/47 [==============================] - 1s 16ms/step - loss: 0.0033 - accuracy: 0.8305\n",
      "The test significance is :  5.419888458982141\n",
      "The complete significance is :  6.108331738551617\n",
      "Epoch 120/400\n",
      "47/47 [==============================] - 1s 16ms/step - loss: 0.0033 - accuracy: 0.8322\n",
      "The test significance is :  4.747211048225204\n",
      "The complete significance is :  5.609618669922319\n",
      "Epoch 121/400\n",
      "47/47 [==============================] - 1s 16ms/step - loss: 0.0033 - accuracy: 0.8317\n",
      "The test significance is :  4.847126694830978\n",
      "The complete significance is :  5.4158558493156645\n",
      "Epoch 122/400\n",
      "47/47 [==============================] - 1s 16ms/step - loss: 0.0033 - accuracy: 0.8318\n",
      "The test significance is :  4.852267286049814\n",
      "The complete significance is :  5.310160687834411\n",
      "Epoch 123/400\n",
      "47/47 [==============================] - 1s 16ms/step - loss: 0.0033 - accuracy: 0.8310\n",
      "The test significance is :  4.6766504635383095\n",
      "The complete significance is :  5.183277204066205\n",
      "Epoch 124/400\n",
      "47/47 [==============================] - 1s 19ms/step - loss: 0.0033 - accuracy: 0.8316\n",
      "The test significance is :  5.253435639805995\n",
      "The complete significance is :  5.747532018080615\n",
      "Epoch 125/400\n",
      "47/47 [==============================] - 1s 16ms/step - loss: 0.0033 - accuracy: 0.8318\n",
      "The test significance is :  4.894214958204329\n",
      "The complete significance is :  5.786433255608961\n",
      "Epoch 126/400\n",
      "47/47 [==============================] - 1s 16ms/step - loss: 0.0033 - accuracy: 0.8312\n",
      "The test significance is :  5.021356166265818\n",
      "The complete significance is :  5.480599331913481\n",
      "Epoch 127/400\n",
      "47/47 [==============================] - 1s 16ms/step - loss: 0.0033 - accuracy: 0.8324\n",
      "The test significance is :  4.425211703459894\n",
      "The complete significance is :  5.25164870798839\n",
      "Epoch 128/400\n",
      "47/47 [==============================] - 1s 16ms/step - loss: 0.0033 - accuracy: 0.8316\n",
      "The test significance is :  4.444958275774919\n",
      "The complete significance is :  5.142761551122478\n",
      "Epoch 129/400\n",
      "47/47 [==============================] - 1s 16ms/step - loss: 0.0033 - accuracy: 0.8320\n",
      "The test significance is :  5.270690812924105\n",
      "The complete significance is :  5.181375378347995\n",
      "Epoch 130/400\n",
      "47/47 [==============================] - 1s 16ms/step - loss: 0.0033 - accuracy: 0.8315\n",
      "The test significance is :  4.525732679684891\n",
      "The complete significance is :  4.924144219063371\n",
      "Epoch 131/400\n",
      "47/47 [==============================] - 1s 16ms/step - loss: 0.0033 - accuracy: 0.8321\n",
      "The test significance is :  4.782414968392513\n",
      "The complete significance is :  5.451194869352464\n",
      "Epoch 132/400\n",
      "47/47 [==============================] - 1s 16ms/step - loss: 0.0033 - accuracy: 0.8313\n",
      "The test significance is :  5.128544783974564\n",
      "The complete significance is :  5.749034224987783\n",
      "Epoch 133/400\n",
      "47/47 [==============================] - 1s 17ms/step - loss: 0.0033 - accuracy: 0.8322\n",
      "The test significance is :  4.719908478765634\n",
      "The complete significance is :  5.3686323374172416\n",
      "Epoch 134/400\n",
      "47/47 [==============================] - 1s 16ms/step - loss: 0.0033 - accuracy: 0.8317\n",
      "The test significance is :  4.401115839369008\n",
      "The complete significance is :  5.150703541467213\n",
      "Epoch 135/400\n",
      "47/47 [==============================] - 1s 16ms/step - loss: 0.0033 - accuracy: 0.8315\n",
      "The test significance is :  4.627663251322314\n",
      "The complete significance is :  5.534423059277712\n",
      "Epoch 136/400\n",
      "47/47 [==============================] - 1s 16ms/step - loss: 0.0033 - accuracy: 0.8312\n",
      "The test significance is :  5.190017308879488\n",
      "The complete significance is :  5.379819919047434\n",
      "Epoch 137/400\n",
      "47/47 [==============================] - 1s 16ms/step - loss: 0.0033 - accuracy: 0.8324\n",
      "The test significance is :  5.28004843389259\n",
      "The complete significance is :  5.9530923336378105\n",
      "Epoch 138/400\n",
      "47/47 [==============================] - 1s 16ms/step - loss: 0.0033 - accuracy: 0.8319\n",
      "The test significance is :  4.709274536425022\n",
      "The complete significance is :  5.334186907419112\n",
      "Epoch 139/400\n",
      "47/47 [==============================] - 1s 17ms/step - loss: 0.0033 - accuracy: 0.8314\n",
      "The test significance is :  4.696571334830927\n",
      "The complete significance is :  5.147789773280414\n",
      "Epoch 140/400\n",
      "47/47 [==============================] - 1s 16ms/step - loss: 0.0033 - accuracy: 0.8320\n",
      "The test significance is :  4.769939469531652\n",
      "The complete significance is :  5.253839947570145\n",
      "Epoch 141/400\n",
      "47/47 [==============================] - 1s 16ms/step - loss: 0.0033 - accuracy: 0.8314\n",
      "The test significance is :  4.764174402278762\n",
      "The complete significance is :  5.518645592487626\n",
      "Epoch 142/400\n",
      "47/47 [==============================] - 1s 16ms/step - loss: 0.0033 - accuracy: 0.8321\n",
      "The test significance is :  4.531964013412248\n",
      "The complete significance is :  5.423187073926109\n",
      "Epoch 143/400\n",
      "47/47 [==============================] - 1s 18ms/step - loss: 0.0033 - accuracy: 0.8312\n",
      "The test significance is :  4.3773182587206145\n",
      "The complete significance is :  5.10048189480792\n",
      "Epoch 144/400\n",
      "47/47 [==============================] - 1s 16ms/step - loss: 0.0033 - accuracy: 0.8320\n",
      "The test significance is :  4.90710099385402\n",
      "The complete significance is :  5.538159259769625\n",
      "Epoch 145/400\n",
      "47/47 [==============================] - 1s 16ms/step - loss: 0.0033 - accuracy: 0.8317\n",
      "The test significance is :  4.9387742321530785\n",
      "The complete significance is :  5.445744429067718\n",
      "Epoch 146/400\n",
      "47/47 [==============================] - 1s 16ms/step - loss: 0.0033 - accuracy: 0.8318\n",
      "The test significance is :  4.882573733608747\n",
      "The complete significance is :  5.638844830214881\n",
      "Epoch 147/400\n",
      "47/47 [==============================] - 1s 16ms/step - loss: 0.0033 - accuracy: 0.8321\n",
      "The test significance is :  4.786141502962903\n",
      "The complete significance is :  5.631264795996644\n",
      "Epoch 148/400\n",
      "47/47 [==============================] - 1s 16ms/step - loss: 0.0033 - accuracy: 0.8323\n",
      "The test significance is :  5.146020646558733\n",
      "The complete significance is :  6.415014879302955\n",
      "Epoch 149/400\n",
      "47/47 [==============================] - 1s 17ms/step - loss: 0.0033 - accuracy: 0.8315\n",
      "The test significance is :  4.831335257685826\n",
      "The complete significance is :  5.330576175406619\n",
      "Epoch 150/400\n",
      "47/47 [==============================] - 1s 16ms/step - loss: 0.0033 - accuracy: 0.8321\n",
      "The test significance is :  4.860251951956469\n",
      "The complete significance is :  5.5829849960692925\n",
      "Epoch 151/400\n",
      "47/47 [==============================] - 1s 16ms/step - loss: 0.0033 - accuracy: 0.8316\n",
      "The test significance is :  4.398893743781125\n",
      "The complete significance is :  5.375869287510762\n",
      "Epoch 152/400\n",
      "47/47 [==============================] - 1s 16ms/step - loss: 0.0033 - accuracy: 0.8317\n",
      "The test significance is :  4.587893517110117\n",
      "The complete significance is :  5.463164722958845\n",
      "Epoch 153/400\n",
      "47/47 [==============================] - 1s 16ms/step - loss: 0.0033 - accuracy: 0.8324\n",
      "The test significance is :  4.813830637634103\n",
      "The complete significance is :  5.234088031219949\n",
      "Epoch 154/400\n",
      "47/47 [==============================] - 1s 17ms/step - loss: 0.0033 - accuracy: 0.8312\n",
      "The test significance is :  4.638793011670661\n",
      "The complete significance is :  5.239986880413108\n",
      "Epoch 155/400\n",
      "47/47 [==============================] - 1s 16ms/step - loss: 0.0033 - accuracy: 0.8319\n",
      "The test significance is :  4.996906341588888\n",
      "The complete significance is :  6.09162648540644\n",
      "Epoch 156/400\n",
      "47/47 [==============================] - 1s 17ms/step - loss: 0.0033 - accuracy: 0.8320\n",
      "The test significance is :  4.970009969089369\n",
      "The complete significance is :  6.0404327344247255\n",
      "Epoch 157/400\n",
      "47/47 [==============================] - 1s 19ms/step - loss: 0.0033 - accuracy: 0.8310\n",
      "The test significance is :  4.7652364746699485\n",
      "The complete significance is :  5.140214235478858\n",
      "Epoch 158/400\n",
      "47/47 [==============================] - 1s 17ms/step - loss: 0.0033 - accuracy: 0.8314\n",
      "The test significance is :  5.221135275189207\n",
      "The complete significance is :  5.798439305137535\n",
      "Epoch 159/400\n",
      "47/47 [==============================] - 1s 16ms/step - loss: 0.0033 - accuracy: 0.8320\n",
      "The test significance is :  4.542114940349544\n",
      "The complete significance is :  5.272420842742622\n",
      "Epoch 160/400\n",
      "47/47 [==============================] - 1s 16ms/step - loss: 0.0033 - accuracy: 0.8321\n",
      "The test significance is :  4.431211657636744\n",
      "The complete significance is :  5.2358844828380695\n",
      "Epoch 161/400\n",
      "47/47 [==============================] - 1s 16ms/step - loss: 0.0033 - accuracy: 0.8314\n",
      "The test significance is :  5.187139347941038\n",
      "The complete significance is :  6.135728182958259\n",
      "Epoch 162/400\n",
      "47/47 [==============================] - 1s 16ms/step - loss: 0.0033 - accuracy: 0.8317\n",
      "The test significance is :  4.191653714613984\n",
      "The complete significance is :  4.804465892407413\n",
      "Epoch 163/400\n",
      "47/47 [==============================] - 1s 17ms/step - loss: 0.0033 - accuracy: 0.8314\n",
      "The test significance is :  5.1173594834885066\n",
      "The complete significance is :  5.990867872784023\n",
      "Epoch 164/400\n",
      "47/47 [==============================] - 1s 16ms/step - loss: 0.0033 - accuracy: 0.8311\n",
      "The test significance is :  5.2597770033372555\n",
      "The complete significance is :  5.696862381813791\n",
      "Epoch 165/400\n",
      "47/47 [==============================] - 1s 16ms/step - loss: 0.0033 - accuracy: 0.8320\n",
      "The test significance is :  4.83200155358992\n",
      "The complete significance is :  5.871145185103016\n",
      "Epoch 166/400\n",
      "47/47 [==============================] - 1s 15ms/step - loss: 0.0033 - accuracy: 0.8316\n",
      "The test significance is :  4.519053887619779\n",
      "The complete significance is :  5.529365017613981\n",
      "Epoch 167/400\n",
      "47/47 [==============================] - 1s 16ms/step - loss: 0.0033 - accuracy: 0.8320\n",
      "The test significance is :  4.693858334221713\n",
      "The complete significance is :  5.236647953441149\n",
      "Epoch 168/400\n",
      "47/47 [==============================] - 1s 16ms/step - loss: 0.0033 - accuracy: 0.8310\n",
      "The test significance is :  6.983743110640797\n",
      "The complete significance is :  6.3644997277212605\n",
      "Epoch 169/400\n",
      "47/47 [==============================] - 1s 16ms/step - loss: 0.0033 - accuracy: 0.8306\n",
      "The test significance is :  4.878828406353258\n",
      "The complete significance is :  5.239366925873709\n",
      "Epoch 170/400\n",
      "47/47 [==============================] - 1s 16ms/step - loss: 0.0033 - accuracy: 0.8311\n",
      "The test significance is :  5.051664776539159\n",
      "The complete significance is :  5.2679468181569105\n",
      "Epoch 171/400\n",
      "47/47 [==============================] - 1s 16ms/step - loss: 0.0033 - accuracy: 0.8322\n",
      "The test significance is :  4.287940849855429\n",
      "The complete significance is :  4.798820679220758\n",
      "Epoch 172/400\n",
      "47/47 [==============================] - 1s 16ms/step - loss: 0.0033 - accuracy: 0.8316\n",
      "The test significance is :  4.450312671095534\n",
      "The complete significance is :  5.141686452274296\n",
      "Epoch 173/400\n",
      "47/47 [==============================] - 1s 16ms/step - loss: 0.0033 - accuracy: 0.8317\n",
      "The test significance is :  5.0632336166281435\n",
      "The complete significance is :  5.674911955113371\n",
      "Epoch 174/400\n",
      "47/47 [==============================] - 1s 16ms/step - loss: 0.0033 - accuracy: 0.8319\n",
      "The test significance is :  5.087129961459266\n",
      "The complete significance is :  5.944382917944814\n",
      "Epoch 175/400\n",
      "47/47 [==============================] - 1s 16ms/step - loss: 0.0033 - accuracy: 0.8312\n",
      "The test significance is :  4.090793628763573\n",
      "The complete significance is :  4.629252039448728\n",
      "Epoch 176/400\n",
      "47/47 [==============================] - 1s 16ms/step - loss: 0.0033 - accuracy: 0.8316\n",
      "The test significance is :  4.563948696429834\n",
      "The complete significance is :  4.997707553380616\n",
      "Epoch 177/400\n",
      "47/47 [==============================] - 1s 16ms/step - loss: 0.0033 - accuracy: 0.8320\n",
      "The test significance is :  4.770322307512595\n",
      "The complete significance is :  5.6845173013276655\n",
      "Epoch 178/400\n",
      "47/47 [==============================] - 1s 16ms/step - loss: 0.0033 - accuracy: 0.8312\n",
      "The test significance is :  4.93127564187583\n",
      "The complete significance is :  5.525562952236145\n",
      "Epoch 179/400\n",
      "47/47 [==============================] - 1s 16ms/step - loss: 0.0033 - accuracy: 0.8322\n",
      "The test significance is :  5.341684935486698\n",
      "The complete significance is :  5.760663077813995\n",
      "Epoch 180/400\n",
      "47/47 [==============================] - 1s 16ms/step - loss: 0.0033 - accuracy: 0.8321\n",
      "The test significance is :  4.110911874236619\n",
      "The complete significance is :  4.800575913829981\n",
      "Epoch 181/400\n",
      "47/47 [==============================] - 1s 16ms/step - loss: 0.0033 - accuracy: 0.8313\n",
      "The test significance is :  4.470647827260092\n",
      "The complete significance is :  4.896739046420977\n",
      "Epoch 182/400\n",
      "47/47 [==============================] - 1s 16ms/step - loss: 0.0033 - accuracy: 0.8322\n",
      "The test significance is :  5.1247448436017455\n",
      "The complete significance is :  6.00171356122969\n",
      "Epoch 183/400\n",
      "47/47 [==============================] - 1s 17ms/step - loss: 0.0033 - accuracy: 0.8317\n",
      "The test significance is :  4.781105806464749\n",
      "The complete significance is :  5.5091082321152065\n",
      "Epoch 184/400\n",
      "47/47 [==============================] - 1s 17ms/step - loss: 0.0033 - accuracy: 0.8318\n",
      "The test significance is :  4.410222601727896\n",
      "The complete significance is :  4.696332552552725\n",
      "Epoch 185/400\n",
      "47/47 [==============================] - 1s 16ms/step - loss: 0.0033 - accuracy: 0.8317\n",
      "The test significance is :  4.8545293509445635\n",
      "The complete significance is :  5.544394603650381\n",
      "Epoch 186/400\n",
      "47/47 [==============================] - 1s 17ms/step - loss: 0.0033 - accuracy: 0.8321\n",
      "The test significance is :  4.803575821452561\n",
      "The complete significance is :  5.109036254003064\n",
      "Epoch 187/400\n",
      "47/47 [==============================] - 1s 16ms/step - loss: 0.0033 - accuracy: 0.8321\n",
      "The test significance is :  4.5671039350721125\n",
      "The complete significance is :  5.12266874643758\n",
      "Epoch 188/400\n",
      "47/47 [==============================] - 1s 16ms/step - loss: 0.0033 - accuracy: 0.8321\n",
      "The test significance is :  4.390595258979199\n",
      "The complete significance is :  5.042682706356134\n",
      "Epoch 189/400\n",
      "47/47 [==============================] - 1s 16ms/step - loss: 0.0033 - accuracy: 0.8321\n",
      "The test significance is :  4.783678566383042\n",
      "The complete significance is :  5.504006866278067\n",
      "Epoch 190/400\n",
      "47/47 [==============================] - 1s 16ms/step - loss: 0.0033 - accuracy: 0.8318\n",
      "The test significance is :  4.8584854031813025\n",
      "The complete significance is :  5.557609060446196\n",
      "Epoch 191/400\n",
      "47/47 [==============================] - 1s 15ms/step - loss: 0.0033 - accuracy: 0.8319\n",
      "The test significance is :  4.445711225100287\n",
      "The complete significance is :  5.1461725505027465\n",
      "Epoch 192/400\n",
      "47/47 [==============================] - 1s 16ms/step - loss: 0.0033 - accuracy: 0.8318\n",
      "The test significance is :  5.485247890589179\n",
      "The complete significance is :  6.224429387539169\n",
      "Epoch 193/400\n",
      "47/47 [==============================] - 1s 17ms/step - loss: 0.0033 - accuracy: 0.8317\n",
      "The test significance is :  4.722844879335004\n",
      "The complete significance is :  5.460444666244388\n",
      "Epoch 194/400\n",
      "47/47 [==============================] - 1s 19ms/step - loss: 0.0033 - accuracy: 0.8317\n",
      "The test significance is :  5.158933568510111\n",
      "The complete significance is :  5.749470990697415\n",
      "Epoch 195/400\n",
      "47/47 [==============================] - 1s 17ms/step - loss: 0.0033 - accuracy: 0.8317\n",
      "The test significance is :  4.514442956052201\n",
      "The complete significance is :  5.023711349458608\n",
      "Epoch 196/400\n",
      "47/47 [==============================] - 1s 16ms/step - loss: 0.0033 - accuracy: 0.8315\n",
      "The test significance is :  5.181982863193056\n",
      "The complete significance is :  5.987417543482368\n",
      "Epoch 197/400\n",
      "47/47 [==============================] - 1s 16ms/step - loss: 0.0033 - accuracy: 0.8321\n",
      "The test significance is :  4.8565162754227424\n",
      "The complete significance is :  5.9016078884090275\n",
      "Epoch 198/400\n",
      "47/47 [==============================] - 1s 16ms/step - loss: 0.0033 - accuracy: 0.8323\n",
      "The test significance is :  4.979818125251884\n",
      "The complete significance is :  5.644891114507541\n",
      "Epoch 199/400\n",
      "47/47 [==============================] - 1s 16ms/step - loss: 0.0033 - accuracy: 0.8312\n",
      "The test significance is :  4.889969258264318\n",
      "The complete significance is :  5.6148247506411915\n",
      "Epoch 200/400\n",
      "47/47 [==============================] - 1s 16ms/step - loss: 0.0033 - accuracy: 0.8321\n",
      "The test significance is :  4.751715286245594\n",
      "The complete significance is :  5.510446447610828\n",
      "Epoch 201/400\n",
      "47/47 [==============================] - 1s 16ms/step - loss: 0.0033 - accuracy: 0.8315\n",
      "The test significance is :  4.610323949213116\n",
      "The complete significance is :  5.192217038761769\n",
      "Epoch 202/400\n",
      "47/47 [==============================] - 1s 16ms/step - loss: 0.0033 - accuracy: 0.8322\n",
      "The test significance is :  5.209984766410478\n",
      "The complete significance is :  6.30356613612061\n",
      "Epoch 203/400\n",
      "47/47 [==============================] - 1s 18ms/step - loss: 0.0033 - accuracy: 0.8315\n",
      "The test significance is :  4.480816869186034\n",
      "The complete significance is :  5.031106591760559\n",
      "Epoch 204/400\n",
      "47/47 [==============================] - 1s 16ms/step - loss: 0.0033 - accuracy: 0.8314\n",
      "The test significance is :  4.322611846151085\n",
      "The complete significance is :  5.148184347179367\n",
      "Epoch 205/400\n",
      "47/47 [==============================] - 1s 16ms/step - loss: 0.0033 - accuracy: 0.8322\n",
      "The test significance is :  4.762059009439966\n",
      "The complete significance is :  5.6024221831889465\n",
      "Epoch 206/400\n",
      "47/47 [==============================] - 1s 18ms/step - loss: 0.0033 - accuracy: 0.8320\n",
      "The test significance is :  4.617026228635085\n",
      "The complete significance is :  5.671191383349208\n",
      "Epoch 207/400\n",
      "47/47 [==============================] - 1s 20ms/step - loss: 0.0033 - accuracy: 0.8323\n",
      "The test significance is :  4.584337051488013\n",
      "The complete significance is :  5.0529949240675\n",
      "Epoch 208/400\n",
      "47/47 [==============================] - 1s 16ms/step - loss: 0.0033 - accuracy: 0.8310\n",
      "The test significance is :  4.415444769446056\n",
      "The complete significance is :  5.036046928936967\n",
      "Epoch 209/400\n",
      "47/47 [==============================] - 1s 16ms/step - loss: 0.0033 - accuracy: 0.8321\n",
      "The test significance is :  5.308321874550544\n",
      "The complete significance is :  6.0795561108241065\n",
      "Epoch 210/400\n",
      "47/47 [==============================] - 1s 16ms/step - loss: 0.0033 - accuracy: 0.8315\n",
      "The test significance is :  4.748310630395666\n",
      "The complete significance is :  4.960263673358746\n",
      "Epoch 211/400\n",
      "47/47 [==============================] - 1s 17ms/step - loss: 0.0033 - accuracy: 0.8325\n",
      "The test significance is :  4.715967554979584\n",
      "The complete significance is :  5.1921791891711715\n",
      "Epoch 212/400\n",
      "47/47 [==============================] - 1s 18ms/step - loss: 0.0033 - accuracy: 0.8317\n",
      "The test significance is :  5.456989347172425\n",
      "The complete significance is :  6.558490566478322\n",
      "Epoch 213/400\n",
      "47/47 [==============================] - 1s 17ms/step - loss: 0.0033 - accuracy: 0.8316\n",
      "The test significance is :  4.505956973698842\n",
      "The complete significance is :  5.280179099145519\n",
      "Epoch 214/400\n",
      "47/47 [==============================] - 1s 16ms/step - loss: 0.0033 - accuracy: 0.8322\n",
      "The test significance is :  4.566575240960923\n",
      "The complete significance is :  5.568908147662407\n",
      "Epoch 215/400\n",
      "47/47 [==============================] - 1s 16ms/step - loss: 0.0033 - accuracy: 0.8323\n",
      "The test significance is :  5.074893939077815\n",
      "The complete significance is :  6.145502917356746\n",
      "Epoch 216/400\n",
      "47/47 [==============================] - 1s 16ms/step - loss: 0.0033 - accuracy: 0.8318\n",
      "The test significance is :  4.831427891466806\n",
      "The complete significance is :  5.5829744773489605\n",
      "Epoch 217/400\n",
      "47/47 [==============================] - 1s 16ms/step - loss: 0.0033 - accuracy: 0.8322\n",
      "The test significance is :  4.751462954337176\n",
      "The complete significance is :  6.0721393469027385\n",
      "Epoch 218/400\n",
      "47/47 [==============================] - 1s 16ms/step - loss: 0.0033 - accuracy: 0.8320\n",
      "The test significance is :  4.90210577017841\n",
      "The complete significance is :  5.507931894901811\n",
      "Epoch 219/400\n",
      "47/47 [==============================] - 1s 16ms/step - loss: 0.0033 - accuracy: 0.8319\n",
      "The test significance is :  4.772710819457659\n",
      "The complete significance is :  5.3603544510729515\n",
      "Epoch 220/400\n",
      "47/47 [==============================] - 1s 16ms/step - loss: 0.0033 - accuracy: 0.8320\n",
      "The test significance is :  4.891866816162918\n",
      "The complete significance is :  5.480387380577554\n",
      "Epoch 221/400\n",
      "47/47 [==============================] - 1s 16ms/step - loss: 0.0033 - accuracy: 0.8322\n",
      "The test significance is :  4.6403672066157\n",
      "The complete significance is :  5.302084136597973\n",
      "Epoch 222/400\n",
      "47/47 [==============================] - 1s 16ms/step - loss: 0.0033 - accuracy: 0.8321\n",
      "The test significance is :  4.7949007258463086\n",
      "The complete significance is :  5.7376232503154805\n",
      "Epoch 223/400\n",
      "47/47 [==============================] - 1s 16ms/step - loss: 0.0033 - accuracy: 0.8309\n",
      "The test significance is :  4.463534300030932\n",
      "The complete significance is :  5.214080435525362\n",
      "Epoch 224/400\n",
      "47/47 [==============================] - 1s 18ms/step - loss: 0.0033 - accuracy: 0.8321\n",
      "The test significance is :  4.512892358778371\n",
      "The complete significance is :  4.974502211638401\n",
      "Epoch 225/400\n",
      "47/47 [==============================] - 1s 16ms/step - loss: 0.0033 - accuracy: 0.8314\n",
      "The test significance is :  4.311149129655403\n",
      "The complete significance is :  4.8594117792464955\n",
      "Epoch 226/400\n",
      "47/47 [==============================] - 1s 17ms/step - loss: 0.0033 - accuracy: 0.8320\n",
      "The test significance is :  4.259293467946765\n",
      "The complete significance is :  4.83058663676352\n",
      "Epoch 227/400\n",
      "47/47 [==============================] - 1s 16ms/step - loss: 0.0033 - accuracy: 0.8318\n",
      "The test significance is :  4.482953722214229\n",
      "The complete significance is :  5.070249379001262\n",
      "Epoch 228/400\n",
      "47/47 [==============================] - 1s 16ms/step - loss: 0.0033 - accuracy: 0.8317\n",
      "The test significance is :  4.562642031872798\n",
      "The complete significance is :  5.274298555854599\n",
      "Epoch 229/400\n",
      "47/47 [==============================] - 1s 16ms/step - loss: 0.0033 - accuracy: 0.8320\n",
      "The test significance is :  4.801043943735011\n",
      "The complete significance is :  5.814704875689111\n",
      "Epoch 230/400\n",
      "47/47 [==============================] - 1s 16ms/step - loss: 0.0033 - accuracy: 0.8318\n",
      "The test significance is :  4.370142811542743\n",
      "The complete significance is :  4.840074182402199\n",
      "Epoch 231/400\n",
      "47/47 [==============================] - 1s 16ms/step - loss: 0.0033 - accuracy: 0.8321\n",
      "The test significance is :  4.665108769964742\n",
      "The complete significance is :  5.585250368909696\n",
      "Epoch 232/400\n",
      "47/47 [==============================] - 1s 16ms/step - loss: 0.0033 - accuracy: 0.8326\n",
      "The test significance is :  4.354631238435426\n",
      "The complete significance is :  4.967780174532599\n",
      "Epoch 233/400\n",
      "47/47 [==============================] - 1s 16ms/step - loss: 0.0033 - accuracy: 0.8317\n",
      "The test significance is :  4.723071829600458\n",
      "The complete significance is :  5.369983350614605\n",
      "Epoch 234/400\n",
      "47/47 [==============================] - 1s 17ms/step - loss: 0.0033 - accuracy: 0.8323\n",
      "The test significance is :  4.931207003970676\n",
      "The complete significance is :  5.620483287537213\n",
      "Epoch 235/400\n",
      "47/47 [==============================] - 1s 17ms/step - loss: 0.0033 - accuracy: 0.8322\n",
      "The test significance is :  4.664001552767729\n",
      "The complete significance is :  5.268299294275198\n",
      "Epoch 236/400\n",
      "47/47 [==============================] - 1s 16ms/step - loss: 0.0033 - accuracy: 0.8314\n",
      "The test significance is :  4.402773248949911\n",
      "The complete significance is :  4.917799902277194\n",
      "Epoch 237/400\n",
      "47/47 [==============================] - 1s 16ms/step - loss: 0.0033 - accuracy: 0.8326\n",
      "The test significance is :  4.657434400618941\n",
      "The complete significance is :  5.376941569991455\n",
      "Epoch 238/400\n",
      "47/47 [==============================] - 1s 16ms/step - loss: 0.0033 - accuracy: 0.8316\n",
      "The test significance is :  4.7493663118409675\n",
      "The complete significance is :  5.83151205407593\n",
      "Epoch 239/400\n",
      "47/47 [==============================] - 1s 16ms/step - loss: 0.0033 - accuracy: 0.8320\n",
      "The test significance is :  4.384925700916148\n",
      "The complete significance is :  4.514107605852865\n",
      "Epoch 240/400\n",
      "47/47 [==============================] - 1s 16ms/step - loss: 0.0033 - accuracy: 0.8306\n",
      "The test significance is :  4.895872867309557\n",
      "The complete significance is :  5.279369928655072\n",
      "Epoch 241/400\n",
      "47/47 [==============================] - 1s 16ms/step - loss: 0.0033 - accuracy: 0.8314\n"
     ]
    }
   ],
   "source": [
    "#try:\n",
    "model.fit(x_train,y_train,\n",
    "              epochs=400,batch_size=131072,\n",
    "              class_weight={0:.995,1:0.005},\n",
    "              callbacks=[backup_callback,tensorboard_callback,\n",
    "                         sig_callback(model,x_test,dtset_test['type'].values,\n",
    "                                      cs_corr,'test',np.asarray(total_events)*0.5),\n",
    "                         sig_callback(model,dtset.T[:-2].T,dtset['type'].values,\n",
    "                                      cs_corr,'complete',np.asarray(total_events))],\n",
    "              )\n",
    "\n",
    "#except:\n",
    "#    pass"
   ]
  },
  {
   "cell_type": "markdown",
   "metadata": {},
   "source": [
    "### Analysis"
   ]
  },
  {
   "cell_type": "code",
   "execution_count": 50,
   "metadata": {},
   "outputs": [],
   "source": [
    "sig_comp = pd.DataFrame([[int(i+1) for i in range(len(sig_epoch['complete']))],\n",
    "                          sig_epoch['test'],sig_epoch['complete']]).T\n",
    "sig_comp.rename(columns = {0:'Epoch',1:'Test Sig',2:'Comp Sig'}, inplace = True)"
   ]
  },
  {
   "cell_type": "code",
   "execution_count": 51,
   "metadata": {},
   "outputs": [
    {
     "data": {
      "text/plain": [
       "6.043220305696901"
      ]
     },
     "execution_count": 51,
     "metadata": {},
     "output_type": "execute_result"
    }
   ],
   "source": [
    "max_sig"
   ]
  },
  {
   "cell_type": "code",
   "execution_count": 52,
   "metadata": {},
   "outputs": [
    {
     "data": {
      "text/html": [
       "<style type=\"text/css\">\n",
       "</style>\n",
       "<table id=\"T_af2cb\">\n",
       "  <thead>\n",
       "    <tr>\n",
       "      <th id=\"T_af2cb_level0_col0\" class=\"col_heading level0 col0\" >Epoch</th>\n",
       "      <th id=\"T_af2cb_level0_col1\" class=\"col_heading level0 col1\" >Test Sig</th>\n",
       "      <th id=\"T_af2cb_level0_col2\" class=\"col_heading level0 col2\" >Comp Sig</th>\n",
       "    </tr>\n",
       "  </thead>\n",
       "  <tbody>\n",
       "    <tr>\n",
       "      <td id=\"T_af2cb_row0_col0\" class=\"data row0 col0\" >30.000000</td>\n",
       "      <td id=\"T_af2cb_row0_col1\" class=\"data row0 col1\" >3.273465</td>\n",
       "      <td id=\"T_af2cb_row0_col2\" class=\"data row0 col2\" >2.931593</td>\n",
       "    </tr>\n",
       "    <tr>\n",
       "      <td id=\"T_af2cb_row1_col0\" class=\"data row1 col0\" >60.000000</td>\n",
       "      <td id=\"T_af2cb_row1_col1\" class=\"data row1 col1\" >3.694487</td>\n",
       "      <td id=\"T_af2cb_row1_col2\" class=\"data row1 col2\" >3.362176</td>\n",
       "    </tr>\n",
       "    <tr>\n",
       "      <td id=\"T_af2cb_row2_col0\" class=\"data row2 col0\" >90.000000</td>\n",
       "      <td id=\"T_af2cb_row2_col1\" class=\"data row2 col1\" >3.323170</td>\n",
       "      <td id=\"T_af2cb_row2_col2\" class=\"data row2 col2\" >3.012091</td>\n",
       "    </tr>\n",
       "    <tr>\n",
       "      <td id=\"T_af2cb_row3_col0\" class=\"data row3 col0\" >120.000000</td>\n",
       "      <td id=\"T_af2cb_row3_col1\" class=\"data row3 col1\" >5.676266</td>\n",
       "      <td id=\"T_af2cb_row3_col2\" class=\"data row3 col2\" >4.282149</td>\n",
       "    </tr>\n",
       "    <tr>\n",
       "      <td id=\"T_af2cb_row4_col0\" class=\"data row4 col0\" >150.000000</td>\n",
       "      <td id=\"T_af2cb_row4_col1\" class=\"data row4 col1\" >4.725989</td>\n",
       "      <td id=\"T_af2cb_row4_col2\" class=\"data row4 col2\" >4.242331</td>\n",
       "    </tr>\n",
       "    <tr>\n",
       "      <td id=\"T_af2cb_row5_col0\" class=\"data row5 col0\" >180.000000</td>\n",
       "      <td id=\"T_af2cb_row5_col1\" class=\"data row5 col1\" >5.005533</td>\n",
       "      <td id=\"T_af2cb_row5_col2\" class=\"data row5 col2\" >4.510703</td>\n",
       "    </tr>\n",
       "    <tr>\n",
       "      <td id=\"T_af2cb_row6_col0\" class=\"data row6 col0\" >210.000000</td>\n",
       "      <td id=\"T_af2cb_row6_col1\" class=\"data row6 col1\" >5.550377</td>\n",
       "      <td id=\"T_af2cb_row6_col2\" class=\"data row6 col2\" >5.107404</td>\n",
       "    </tr>\n",
       "    <tr>\n",
       "      <td id=\"T_af2cb_row7_col0\" class=\"data row7 col0\" >240.000000</td>\n",
       "      <td id=\"T_af2cb_row7_col1\" class=\"data row7 col1\" >4.512807</td>\n",
       "      <td id=\"T_af2cb_row7_col2\" class=\"data row7 col2\" >4.470280</td>\n",
       "    </tr>\n",
       "    <tr>\n",
       "      <td id=\"T_af2cb_row8_col0\" class=\"data row8 col0\" >270.000000</td>\n",
       "      <td id=\"T_af2cb_row8_col1\" class=\"data row8 col1\" >4.935593</td>\n",
       "      <td id=\"T_af2cb_row8_col2\" class=\"data row8 col2\" >5.073178</td>\n",
       "    </tr>\n",
       "    <tr>\n",
       "      <td id=\"T_af2cb_row9_col0\" class=\"data row9 col0\" >300.000000</td>\n",
       "      <td id=\"T_af2cb_row9_col1\" class=\"data row9 col1\" >5.038336</td>\n",
       "      <td id=\"T_af2cb_row9_col2\" class=\"data row9 col2\" >5.036247</td>\n",
       "    </tr>\n",
       "    <tr>\n",
       "      <td id=\"T_af2cb_row10_col0\" class=\"data row10 col0\" >330.000000</td>\n",
       "      <td id=\"T_af2cb_row10_col1\" class=\"data row10 col1\" >5.811824</td>\n",
       "      <td id=\"T_af2cb_row10_col2\" class=\"data row10 col2\" >6.187955</td>\n",
       "    </tr>\n",
       "    <tr>\n",
       "      <td id=\"T_af2cb_row11_col0\" class=\"data row11 col0\" >360.000000</td>\n",
       "      <td id=\"T_af2cb_row11_col1\" class=\"data row11 col1\" >4.639399</td>\n",
       "      <td id=\"T_af2cb_row11_col2\" class=\"data row11 col2\" >5.260844</td>\n",
       "    </tr>\n",
       "    <tr>\n",
       "      <td id=\"T_af2cb_row12_col0\" class=\"data row12 col0\" >390.000000</td>\n",
       "      <td id=\"T_af2cb_row12_col1\" class=\"data row12 col1\" >4.281731</td>\n",
       "      <td id=\"T_af2cb_row12_col2\" class=\"data row12 col2\" >4.555439</td>\n",
       "    </tr>\n",
       "    <tr>\n",
       "      <td id=\"T_af2cb_row13_col0\" class=\"data row13 col0\" >420.000000</td>\n",
       "      <td id=\"T_af2cb_row13_col1\" class=\"data row13 col1\" >5.318602</td>\n",
       "      <td id=\"T_af2cb_row13_col2\" class=\"data row13 col2\" >5.773037</td>\n",
       "    </tr>\n",
       "    <tr>\n",
       "      <td id=\"T_af2cb_row14_col0\" class=\"data row14 col0\" >450.000000</td>\n",
       "      <td id=\"T_af2cb_row14_col1\" class=\"data row14 col1\" >5.410098</td>\n",
       "      <td id=\"T_af2cb_row14_col2\" class=\"data row14 col2\" >6.335318</td>\n",
       "    </tr>\n",
       "    <tr>\n",
       "      <td id=\"T_af2cb_row15_col0\" class=\"data row15 col0\" >480.000000</td>\n",
       "      <td id=\"T_af2cb_row15_col1\" class=\"data row15 col1\" >4.576928</td>\n",
       "      <td id=\"T_af2cb_row15_col2\" class=\"data row15 col2\" >4.961420</td>\n",
       "    </tr>\n",
       "    <tr>\n",
       "      <td id=\"T_af2cb_row16_col0\" class=\"data row16 col0\" >510.000000</td>\n",
       "      <td id=\"T_af2cb_row16_col1\" class=\"data row16 col1\" >4.417298</td>\n",
       "      <td id=\"T_af2cb_row16_col2\" class=\"data row16 col2\" >5.067075</td>\n",
       "    </tr>\n",
       "    <tr>\n",
       "      <td id=\"T_af2cb_row17_col0\" class=\"data row17 col0\" >540.000000</td>\n",
       "      <td id=\"T_af2cb_row17_col1\" class=\"data row17 col1\" >4.371462</td>\n",
       "      <td id=\"T_af2cb_row17_col2\" class=\"data row17 col2\" >4.735363</td>\n",
       "    </tr>\n",
       "    <tr>\n",
       "      <td id=\"T_af2cb_row18_col0\" class=\"data row18 col0\" >570.000000</td>\n",
       "      <td id=\"T_af2cb_row18_col1\" class=\"data row18 col1\" >5.087557</td>\n",
       "      <td id=\"T_af2cb_row18_col2\" class=\"data row18 col2\" >5.322146</td>\n",
       "    </tr>\n",
       "    <tr>\n",
       "      <td id=\"T_af2cb_row19_col0\" class=\"data row19 col0\" >600.000000</td>\n",
       "      <td id=\"T_af2cb_row19_col1\" class=\"data row19 col1\" >5.091394</td>\n",
       "      <td id=\"T_af2cb_row19_col2\" class=\"data row19 col2\" >5.393572</td>\n",
       "    </tr>\n",
       "    <tr>\n",
       "      <td id=\"T_af2cb_row20_col0\" class=\"data row20 col0\" >630.000000</td>\n",
       "      <td id=\"T_af2cb_row20_col1\" class=\"data row20 col1\" >5.037815</td>\n",
       "      <td id=\"T_af2cb_row20_col2\" class=\"data row20 col2\" >5.558466</td>\n",
       "    </tr>\n",
       "    <tr>\n",
       "      <td id=\"T_af2cb_row21_col0\" class=\"data row21 col0\" >660.000000</td>\n",
       "      <td id=\"T_af2cb_row21_col1\" class=\"data row21 col1\" >4.732100</td>\n",
       "      <td id=\"T_af2cb_row21_col2\" class=\"data row21 col2\" >5.268852</td>\n",
       "    </tr>\n",
       "    <tr>\n",
       "      <td id=\"T_af2cb_row22_col0\" class=\"data row22 col0\" >690.000000</td>\n",
       "      <td id=\"T_af2cb_row22_col1\" class=\"data row22 col1\" >5.139935</td>\n",
       "      <td id=\"T_af2cb_row22_col2\" class=\"data row22 col2\" >5.423220</td>\n",
       "    </tr>\n",
       "    <tr>\n",
       "      <td id=\"T_af2cb_row23_col0\" class=\"data row23 col0\" >720.000000</td>\n",
       "      <td id=\"T_af2cb_row23_col1\" class=\"data row23 col1\" >4.018661</td>\n",
       "      <td id=\"T_af2cb_row23_col2\" class=\"data row23 col2\" >4.534760</td>\n",
       "    </tr>\n",
       "    <tr>\n",
       "      <td id=\"T_af2cb_row24_col0\" class=\"data row24 col0\" >750.000000</td>\n",
       "      <td id=\"T_af2cb_row24_col1\" class=\"data row24 col1\" >4.152502</td>\n",
       "      <td id=\"T_af2cb_row24_col2\" class=\"data row24 col2\" >4.580724</td>\n",
       "    </tr>\n",
       "    <tr>\n",
       "      <td id=\"T_af2cb_row25_col0\" class=\"data row25 col0\" >780.000000</td>\n",
       "      <td id=\"T_af2cb_row25_col1\" class=\"data row25 col1\" >4.497103</td>\n",
       "      <td id=\"T_af2cb_row25_col2\" class=\"data row25 col2\" >5.145953</td>\n",
       "    </tr>\n",
       "  </tbody>\n",
       "</table>\n"
      ],
      "text/plain": [
       "<pandas.io.formats.style.Styler at 0x1509e3a3abf0>"
      ]
     },
     "execution_count": 52,
     "metadata": {},
     "output_type": "execute_result"
    }
   ],
   "source": [
    "sig_comp[sig_comp['Epoch']%30==0].style.hide_index()"
   ]
  },
  {
   "cell_type": "code",
   "execution_count": 53,
   "metadata": {},
   "outputs": [
    {
     "data": {
      "image/png": "[encoded data removed]",
      "text/plain": [
       "<Figure size 576x396 with 1 Axes>"
      ]
     },
     "metadata": {},
     "output_type": "display_data"
    }
   ],
   "source": [
    "plt.plot(sig_comp['Test Sig'])\n",
    "plt.plot(sig_comp['Comp Sig'])\n",
    "plt.legend(['Test','Comp'])\n",
    "plt.show()"
   ]
  },
  {
   "cell_type": "code",
   "execution_count": 54,
   "metadata": {},
   "outputs": [
    {
     "name": "stdout",
     "output_type": "stream",
     "text": [
      "2961/2961 [==============================] - 5s 1ms/step\n"
     ]
    }
   ],
   "source": [
    "pred_set = dtset.copy()\n",
    "pred_set['pred'] = model_max.predict(pred_set.T[:-2].T,batch_size = 4096,verbose=True)"
   ]
  },
  {
   "cell_type": "code",
   "execution_count": 55,
   "metadata": {},
   "outputs": [
    {
     "name": "stdout",
     "output_type": "stream",
     "text": [
      "Correctly identified signal (True Positive)     :  1084068\n",
      "Falsely identified signal (Flase Positive)      :  1300\n",
      "Correctly identified background (True Negative) :  8904457\n",
      "Falsely identified background (False Negative)  :  2135806\n"
     ]
    }
   ],
   "source": [
    "print('Correctly identified signal (True Positive)     : ',len(pred_set[pred_set['pred'] >= 0.5][pred_set['tag'] == 1]))\n",
    "print('Falsely identified signal (Flase Positive)      : ',len(pred_set[pred_set['pred'] >= 0.5][pred_set['tag'] == 0]))\n",
    "print('Correctly identified background (True Negative) : ',len(pred_set[pred_set['pred'] < 0.5][pred_set['tag'] == 0]))\n",
    "print('Falsely identified background (False Negative)  : ',len(pred_set[pred_set['pred'] < 0.5][pred_set['tag'] == 1]))"
   ]
  },
  {
   "cell_type": "code",
   "execution_count": 84,
   "metadata": {},
   "outputs": [
    {
     "ename": "NameError",
     "evalue": "name 'df' is not defined",
     "output_type": "error",
     "traceback": [
      "\u001b[0;31m---------------------------------------------------------------------------\u001b[0m",
      "\u001b[0;31mNameError\u001b[0m                                 Traceback (most recent call last)",
      "Input \u001b[0;32mIn [84]\u001b[0m, in \u001b[0;36m<cell line: 1>\u001b[0;34m()\u001b[0m\n\u001b[0;32m----> 1\u001b[0m \u001b[38;5;28mprint\u001b[39m(\u001b[38;5;124m'\u001b[39m\u001b[38;5;124mThe amount of signal left is     :\u001b[39m\u001b[38;5;124m'\u001b[39m, \u001b[38;5;28mlen\u001b[39m(pred_set[pred_set[\u001b[38;5;124m'\u001b[39m\u001b[38;5;124mpred\u001b[39m\u001b[38;5;124m'\u001b[39m] \u001b[38;5;241m>\u001b[39m\u001b[38;5;241m=\u001b[39m \u001b[38;5;241m0.5\u001b[39m][pred_set[\u001b[38;5;124m'\u001b[39m\u001b[38;5;124mtag\u001b[39m\u001b[38;5;124m'\u001b[39m] \u001b[38;5;241m==\u001b[39m \u001b[38;5;241m1\u001b[39m])\u001b[38;5;241m/\u001b[39m\u001b[38;5;28mlen\u001b[39m(\u001b[43mdf\u001b[49m[\u001b[38;5;241m-\u001b[39m\u001b[38;5;241m1\u001b[39m]))\n\u001b[1;32m      2\u001b[0m \u001b[38;5;28mprint\u001b[39m(\u001b[38;5;124m'\u001b[39m\u001b[38;5;124mThe amount of background left is :\u001b[39m\u001b[38;5;124m'\u001b[39m, \u001b[38;5;28mlen\u001b[39m(pred_set[pred_set[\u001b[38;5;124m'\u001b[39m\u001b[38;5;124mpred\u001b[39m\u001b[38;5;124m'\u001b[39m] \u001b[38;5;241m>\u001b[39m\u001b[38;5;241m=\u001b[39m \u001b[38;5;241m0.5\u001b[39m][pred_set[\u001b[38;5;124m'\u001b[39m\u001b[38;5;124mtag\u001b[39m\u001b[38;5;124m'\u001b[39m] \u001b[38;5;241m==\u001b[39m \u001b[38;5;241m0\u001b[39m])\u001b[38;5;241m/\u001b[39mnp\u001b[38;5;241m.\u001b[39msum([\u001b[38;5;28mlen\u001b[39m(i) \u001b[38;5;28;01mfor\u001b[39;00m i \u001b[38;5;129;01min\u001b[39;00m df[:\u001b[38;5;241m-\u001b[39m\u001b[38;5;241m1\u001b[39m]]))\n",
      "\u001b[0;31mNameError\u001b[0m: name 'df' is not defined"
     ]
    }
   ],
   "source": [
    "print('The amount of signal left is     :', len(pred_set[pred_set['pred'] >= 0.5][pred_set['tag'] == 1])/len(df[-1]))\n",
    "print('The amount of background left is :', len(pred_set[pred_set['pred'] >= 0.5][pred_set['tag'] == 0])/np.sum([len(i) for i in df[:-1]]))"
   ]
  },
  {
   "cell_type": "code",
   "execution_count": 56,
   "metadata": {},
   "outputs": [
    {
     "name": "stdout",
     "output_type": "stream",
     "text": [
      "Thus, the rate of correct signal prediction is :  0.9988022495595964\n"
     ]
    }
   ],
   "source": [
    "print('Thus, the rate of correct signal prediction is : ',len(pred_set[pred_set['pred'] >= 0.5][pred_set['tag'] == 1])/(len(pred_set[pred_set['pred'] >= 0.5])))"
   ]
  },
  {
   "cell_type": "code",
   "execution_count": 57,
   "metadata": {},
   "outputs": [],
   "source": [
    "L = 3000"
   ]
  },
  {
   "cell_type": "code",
   "execution_count": 58,
   "metadata": {},
   "outputs": [
    {
     "name": "stdout",
     "output_type": "stream",
     "text": [
      "Thus, the rate of correct signal prediction is :  0.9988022495595964\n"
     ]
    }
   ],
   "source": [
    "print('Thus, the rate of correct signal prediction is : ',len(pred_set[pred_set['pred'] >= 0.5][pred_set['tag'] == 1])/(len(pred_set[pred_set['pred'] >= 0.5])))"
   ]
  },
  {
   "cell_type": "code",
   "execution_count": 59,
   "metadata": {},
   "outputs": [
    {
     "name": "stdout",
     "output_type": "stream",
     "text": [
      "n2n2 0.399 812485\n",
      "ttbar 12 6538.845366086956\n",
      "wmp 27 91227.27272727272\n",
      "wpwm 178 692.2567850586979\n",
      "zwpm 218 199.5908264705882\n"
     ]
    }
   ],
   "source": [
    "ns = cs_corr['n2n2']*(len(pred_set[pred_set['pred'] >= 0.7][pred_set['tag'] == 1])/(total_events[-1]))*L\n",
    "print('n2n2',cs_corr['n2n2'],(len(pred_set[pred_set['pred'] >= 0.7][pred_set['tag'] == 1])))\n",
    "nb = 0\n",
    "\n",
    "for i in range(len(files)-1):\n",
    "    nb += cs_corr[files[i]]*(len(pred_set[pred_set['pred'] >= 0.7][pred_set['tag'] == 0][pred_set['type'] == i])/((total_events[i])))*L\n",
    "    print(files[i],len(pred_set[pred_set['pred'] >= 0.7][pred_set['tag'] == 0][pred_set['type'] == i]),cs_corr[files[i]])"
   ]
  },
  {
   "cell_type": "code",
   "execution_count": 60,
   "metadata": {},
   "outputs": [
    {
     "name": "stdout",
     "output_type": "stream",
     "text": [
      "The number of signal is : 249.37039615384617\n",
      "The number of background is : 2055.3122647644063\n",
      "The significance is : 5.50054837279946\n"
     ]
    }
   ],
   "source": [
    "print('The number of signal is :', ns)\n",
    "print('The number of background is :', nb)\n",
    "print('The significance is :',ns/np.sqrt(nb))"
   ]
  },
  {
   "cell_type": "code",
   "execution_count": 90,
   "metadata": {},
   "outputs": [
    {
     "name": "stderr",
     "output_type": "stream",
     "text": [
      "2022-04-21 19:42:18.332973: W tensorflow/python/util/util.cc:368] Sets are not currently considered sequences, but this may change in the future, so consider avoiding using them.\n"
     ]
    },
    {
     "name": "stdout",
     "output_type": "stream",
     "text": [
      "INFO:tensorflow:Assets written to: /home2/kalp_shah/neutrino/datasets/model/dnn/assets\n"
     ]
    }
   ],
   "source": [
    "model.save(model_dir + \"dnn\")"
   ]
  },
  {
   "cell_type": "code",
   "execution_count": 28,
   "metadata": {},
   "outputs": [],
   "source": [
    "import tensorflow_probability as tfp\n",
    "cor = tfp.stats.correlation(dtset.values[:-2,:-2])"
   ]
  },
  {
   "cell_type": "code",
   "execution_count": 29,
   "metadata": {},
   "outputs": [
    {
     "name": "stdout",
     "output_type": "stream",
     "text": [
      "ptj energyj 0.8332972254692859\n",
      "energyj ptj 0.8332972254692859\n"
     ]
    }
   ],
   "source": [
    "for i in range(len(cor)):\n",
    "    for j in range(len(cor[i])):\n",
    "        if cor[i,j] > 0.8 and i!=j:\n",
    "            print(dtset.keys()[i],dtset.keys()[j],cor[i,j].numpy())"
   ]
  },
  {
   "cell_type": "code",
   "execution_count": 114,
   "metadata": {
    "scrolled": true
   },
   "outputs": [
    {
     "data": {
      "image/png": "[encoded data removed]",
      "text/plain": [
       "<Figure size 576x396 with 1 Axes>"
      ]
     },
     "metadata": {},
     "output_type": "display_data"
    }
   ],
   "source": [
    "for i in range(len(files)):\n",
    "    data = pred_set[pred_set[\"type\"] == i][pred_set[\"pred\"]>=0.5][\"pred\"].values\n",
    "    plt.hist(data,alpha=0.7,bins=40,weights=np.ones_like(data)/len(data))\n",
    "plt.show()"
   ]
  }
 ],
 "metadata": {
  "interpreter": {
   "hash": "31f2aee4e71d21fbe5cf8b01ff0e069b9275f58929596ceb00d14d90e3e16cd6"
  },
  "kernelspec": {
   "display_name": "Python 3 (ipykernel)",
   "language": "python",
   "name": "python3"
  },
  "language_info": {
   "codemirror_mode": {
    "name": "ipython",
    "version": 3
   },
   "file_extension": ".py",
   "mimetype": "text/x-python",
   "name": "python",
   "nbconvert_exporter": "python",
   "pygments_lexer": "ipython3",
   "version": "3.10.4"
  }
 },
 "nbformat": 4,
 "nbformat_minor": 4
}

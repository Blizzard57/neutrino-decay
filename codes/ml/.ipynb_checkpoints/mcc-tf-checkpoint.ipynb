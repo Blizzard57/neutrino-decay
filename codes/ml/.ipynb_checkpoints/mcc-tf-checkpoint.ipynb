{
 "cells": [
  {
   "cell_type": "code",
   "execution_count": 1,
   "metadata": {},
   "outputs": [],
   "source": [
    "import pandas as pd\n",
    "import numpy as np\n",
    "import matplotlib.pyplot as plt\n",
    "import seaborn as sns\n",
    "import matplotlib as mpl\n",
    "from keras.models import Sequential, load_model\n",
    "from keras.layers import LSTM, Dense, Dropout, BatchNormalization\n",
    "from sklearn.utils import shuffle\n",
    "from PIL import ImageFont"
   ]
  },
  {
   "cell_type": "code",
   "execution_count": 2,
   "metadata": {},
   "outputs": [],
   "source": [
    "import os\n",
    "os.environ['CUDA_VISIBLE_DEVICES'] = '-1'\n",
    "\n",
    "import tensorflow as tf"
   ]
  },
  {
   "cell_type": "code",
   "execution_count": 3,
   "metadata": {},
   "outputs": [],
   "source": [
    "files = ['ttbar','wmp','wpwm','zwpm','n2n2']\n",
    "\n",
    "cs_lo_k = {\n",
    "            'ttbar':988.57,\n",
    "            'wmp'  :1.95*1e5,\n",
    "            'wpwm' :124.31,\n",
    "            'zwpm' :51.82,\n",
    "            'n2n2' :1\n",
    "          }\n",
    "\n",
    "br_ratio = {\n",
    "            'ttbar':0.67*(1-0.67)*2,\n",
    "            'wmp'  :(1-0.67),\n",
    "            'wpwm' :(1-0.67)*0.67*2,\n",
    "            'zwpm' :0.7*(1-0.67),\n",
    "            'n2n2' :1\n",
    "          }\n",
    "\n",
    "cs_nmg = {\n",
    "         'ttbar':393.30,\n",
    "         'wmp'  :7.865*1e4,\n",
    "         'wpwm' :74.96,\n",
    "         'zwpm' :14.28,\n",
    "         'n2n2' :1\n",
    "         }\n",
    "\n",
    "cs_mg = {'ttbar':2.558,\n",
    "          'wmp':36.8,\n",
    "          'wpwm':2.9*1e-1,\n",
    "          'zwpm':7.33*1e-2,\n",
    "          'n2n2':3.99*1e-4\n",
    "        }\n",
    "\n",
    "cs_pb = []\n",
    "for f in files:\n",
    "  cs_pb.append((cs_lo_k[f]*br_ratio[f]*cs_mg[f])/cs_nmg[f])\n",
    "\n",
    "cs = [i*1e3 for i in cs_pb]\n",
    "#k_f = [1.954,1.356,1.92,2.09,1.0]\n",
    "\n",
    "cs_corr = {files[i] : cs[i] for i in range(len(files))}"
   ]
  },
  {
   "cell_type": "code",
   "execution_count": 4,
   "metadata": {},
   "outputs": [
    {
     "data": {
      "text/plain": [
       "{'ttbar': 2843.169547246376,\n",
       " 'wmp': 30109.0909090909,\n",
       " 'wpwm': 212.66363100320171,\n",
       " 'zwpm': 61.44480294117646,\n",
       " 'n2n2': 0.399}"
      ]
     },
     "execution_count": 4,
     "metadata": {},
     "output_type": "execute_result"
    }
   ],
   "source": [
    "cs_corr"
   ]
  },
  {
   "cell_type": "code",
   "execution_count": 5,
   "metadata": {},
   "outputs": [],
   "source": [
    "def get_res(x):\n",
    "    res = np.zeros(shape=(x.shape[0],5))\n",
    "    #print(x.shape[0],5)\n",
    "    for i in range(len(x)):\n",
    "        #print(i.x[i])\n",
    "        res[i,x[i]] = 1\n",
    "    \n",
    "    return res"
   ]
  },
  {
   "cell_type": "code",
   "execution_count": 6,
   "metadata": {},
   "outputs": [],
   "source": [
    "df = []\n",
    "for f in range(len(files)):\n",
    "    con_df = []\n",
    "    \n",
    "    for i in range(1,11):\n",
    "        con_df.append(pd.read_csv('~/datasets/comp/' + files[f] + str(i) + '.csv'))\n",
    "    \n",
    "    df.append(pd.concat(con_df,ignore_index=True))\n",
    "    df[-1]['type'] = f\n",
    "    \n",
    "    if files[f] == \"n2n2\":\n",
    "        df[-1]['tag'] = 1\n",
    "    else:\n",
    "        df[-1]['tag'] = 0"
   ]
  },
  {
   "cell_type": "code",
   "execution_count": 7,
   "metadata": {},
   "outputs": [
    {
     "data": {
      "text/html": [
       "<div>\n",
       "<style scoped>\n",
       "    .dataframe tbody tr th:only-of-type {\n",
       "        vertical-align: middle;\n",
       "    }\n",
       "\n",
       "    .dataframe tbody tr th {\n",
       "        vertical-align: top;\n",
       "    }\n",
       "\n",
       "    .dataframe thead th {\n",
       "        text-align: right;\n",
       "    }\n",
       "</style>\n",
       "<table border=\"1\" class=\"dataframe\">\n",
       "  <thead>\n",
       "    <tr style=\"text-align: right;\">\n",
       "      <th></th>\n",
       "      <th>ptl</th>\n",
       "      <th>etal</th>\n",
       "      <th>energyl</th>\n",
       "      <th>ptj</th>\n",
       "      <th>etaj</th>\n",
       "      <th>energyj</th>\n",
       "      <th>massj</th>\n",
       "      <th>mjj</th>\n",
       "      <th>rjj</th>\n",
       "      <th>rjl</th>\n",
       "      <th>met</th>\n",
       "      <th>n21_1</th>\n",
       "      <th>n21_2</th>\n",
       "      <th>n32_1</th>\n",
       "      <th>n32_2</th>\n",
       "      <th>infl</th>\n",
       "      <th>drfl</th>\n",
       "      <th>type</th>\n",
       "      <th>tag</th>\n",
       "    </tr>\n",
       "  </thead>\n",
       "  <tbody>\n",
       "    <tr>\n",
       "      <th>0</th>\n",
       "      <td>576.562</td>\n",
       "      <td>0.232894</td>\n",
       "      <td>592.269</td>\n",
       "      <td>459.681</td>\n",
       "      <td>0.248122</td>\n",
       "      <td>475.279</td>\n",
       "      <td>36.1316</td>\n",
       "      <td>379.243</td>\n",
       "      <td>1.14509</td>\n",
       "      <td>2.253050</td>\n",
       "      <td>889.067</td>\n",
       "      <td>0.190804</td>\n",
       "      <td>0.258472</td>\n",
       "      <td>0.517955</td>\n",
       "      <td>0.670891</td>\n",
       "      <td>769.506</td>\n",
       "      <td>1.86471</td>\n",
       "      <td>4</td>\n",
       "      <td>1</td>\n",
       "    </tr>\n",
       "    <tr>\n",
       "      <th>1</th>\n",
       "      <td>823.599</td>\n",
       "      <td>-0.418800</td>\n",
       "      <td>896.887</td>\n",
       "      <td>339.247</td>\n",
       "      <td>-0.696095</td>\n",
       "      <td>431.789</td>\n",
       "      <td>77.3122</td>\n",
       "      <td>1052.580</td>\n",
       "      <td>2.67178</td>\n",
       "      <td>2.072780</td>\n",
       "      <td>1930.330</td>\n",
       "      <td>0.197178</td>\n",
       "      <td>0.222316</td>\n",
       "      <td>0.468612</td>\n",
       "      <td>0.544453</td>\n",
       "      <td>1113.560</td>\n",
       "      <td>1.81712</td>\n",
       "      <td>4</td>\n",
       "      <td>1</td>\n",
       "    </tr>\n",
       "    <tr>\n",
       "      <th>2</th>\n",
       "      <td>354.758</td>\n",
       "      <td>-1.721930</td>\n",
       "      <td>1024.200</td>\n",
       "      <td>883.807</td>\n",
       "      <td>-0.817714</td>\n",
       "      <td>1200.200</td>\n",
       "      <td>98.7750</td>\n",
       "      <td>1764.850</td>\n",
       "      <td>2.82048</td>\n",
       "      <td>0.922735</td>\n",
       "      <td>3256.570</td>\n",
       "      <td>0.328865</td>\n",
       "      <td>0.361102</td>\n",
       "      <td>0.409280</td>\n",
       "      <td>0.760725</td>\n",
       "      <td>1015.050</td>\n",
       "      <td>2.09248</td>\n",
       "      <td>4</td>\n",
       "      <td>1</td>\n",
       "    </tr>\n",
       "    <tr>\n",
       "      <th>3</th>\n",
       "      <td>858.275</td>\n",
       "      <td>0.386685</td>\n",
       "      <td>923.245</td>\n",
       "      <td>1258.810</td>\n",
       "      <td>0.184948</td>\n",
       "      <td>1285.290</td>\n",
       "      <td>112.0150</td>\n",
       "      <td>1546.480</td>\n",
       "      <td>1.12283</td>\n",
       "      <td>2.551460</td>\n",
       "      <td>388.116</td>\n",
       "      <td>0.216487</td>\n",
       "      <td>0.234383</td>\n",
       "      <td>0.308864</td>\n",
       "      <td>0.722296</td>\n",
       "      <td>510.332</td>\n",
       "      <td>2.04593</td>\n",
       "      <td>4</td>\n",
       "      <td>1</td>\n",
       "    </tr>\n",
       "    <tr>\n",
       "      <th>4</th>\n",
       "      <td>590.040</td>\n",
       "      <td>-0.006999</td>\n",
       "      <td>590.055</td>\n",
       "      <td>811.602</td>\n",
       "      <td>0.445120</td>\n",
       "      <td>897.952</td>\n",
       "      <td>90.8938</td>\n",
       "      <td>818.864</td>\n",
       "      <td>1.16291</td>\n",
       "      <td>1.495500</td>\n",
       "      <td>1133.330</td>\n",
       "      <td>0.172456</td>\n",
       "      <td>0.329166</td>\n",
       "      <td>0.461283</td>\n",
       "      <td>0.696238</td>\n",
       "      <td>351.882</td>\n",
       "      <td>3.21196</td>\n",
       "      <td>4</td>\n",
       "      <td>1</td>\n",
       "    </tr>\n",
       "  </tbody>\n",
       "</table>\n",
       "</div>"
      ],
      "text/plain": [
       "       ptl      etal   energyl       ptj      etaj   energyj     massj  \\\n",
       "0  576.562  0.232894   592.269   459.681  0.248122   475.279   36.1316   \n",
       "1  823.599 -0.418800   896.887   339.247 -0.696095   431.789   77.3122   \n",
       "2  354.758 -1.721930  1024.200   883.807 -0.817714  1200.200   98.7750   \n",
       "3  858.275  0.386685   923.245  1258.810  0.184948  1285.290  112.0150   \n",
       "4  590.040 -0.006999   590.055   811.602  0.445120   897.952   90.8938   \n",
       "\n",
       "        mjj      rjj       rjl       met     n21_1     n21_2     n32_1  \\\n",
       "0   379.243  1.14509  2.253050   889.067  0.190804  0.258472  0.517955   \n",
       "1  1052.580  2.67178  2.072780  1930.330  0.197178  0.222316  0.468612   \n",
       "2  1764.850  2.82048  0.922735  3256.570  0.328865  0.361102  0.409280   \n",
       "3  1546.480  1.12283  2.551460   388.116  0.216487  0.234383  0.308864   \n",
       "4   818.864  1.16291  1.495500  1133.330  0.172456  0.329166  0.461283   \n",
       "\n",
       "      n32_2      infl     drfl  type  tag  \n",
       "0  0.670891   769.506  1.86471     4    1  \n",
       "1  0.544453  1113.560  1.81712     4    1  \n",
       "2  0.760725  1015.050  2.09248     4    1  \n",
       "3  0.722296   510.332  2.04593     4    1  \n",
       "4  0.696238   351.882  3.21196     4    1  "
      ]
     },
     "execution_count": 7,
     "metadata": {},
     "output_type": "execute_result"
    }
   ],
   "source": [
    "df[-1].head()"
   ]
  },
  {
   "cell_type": "code",
   "execution_count": 8,
   "metadata": {},
   "outputs": [],
   "source": [
    "dtset = pd.concat(df,ignore_index=True)\n",
    "dtset = shuffle(dtset)\n",
    "dtset['met'] = np.fabs(dtset['met'])"
   ]
  },
  {
   "cell_type": "code",
   "execution_count": 9,
   "metadata": {},
   "outputs": [
    {
     "name": "stderr",
     "output_type": "stream",
     "text": [
      "/tmp/ipykernel_40615/3308945723.py:2: UserWarning: Boolean Series key will be reindexed to match DataFrame index.\n",
      "  dtset = dtset[dtset['ptl'] >= 120.0][dtset['ptj'] >= 120.0][dtset['etaj'] <= 2.0][dtset['etaj'] >= -2.0]\n"
     ]
    }
   ],
   "source": [
    "## Analysis Level Cuts\n",
    "dtset = dtset[dtset['ptl'] >= 120.0][dtset['ptj'] >= 120.0][dtset['etaj'] <= 2.0][dtset['etaj'] >= -2.0]"
   ]
  },
  {
   "cell_type": "code",
   "execution_count": 10,
   "metadata": {},
   "outputs": [
    {
     "name": "stdout",
     "output_type": "stream",
     "text": [
      "Shapes :  (2296690, 17) (2296690, 5) (574173, 17) (574173, 5)\n"
     ]
    }
   ],
   "source": [
    "train_len = int(0.8*len(dtset))\n",
    "x_train = dtset.T[:-2].T[:train_len]\n",
    "y_train = get_res(dtset['type'][:train_len].values)\n",
    "\n",
    "x_test = dtset.T[:-2].T[train_len:]\n",
    "y_test = get_res(dtset['type'][train_len:].values)\n",
    "\n",
    "print('Shapes : ',x_train.shape,y_train.shape,x_test.shape,y_test.shape)"
   ]
  },
  {
   "cell_type": "code",
   "execution_count": 27,
   "metadata": {},
   "outputs": [],
   "source": [
    "model = Sequential()\n",
    "input_shape = x_train.shape\n",
    "\n",
    "from keras.layers.normalization.batch_normalization import BatchNormalization\n",
    "model.add(Dense(10,activation = 'relu',input_dim = input_shape[1]))\n",
    "model.add(BatchNormalization())\n",
    "model.add(Dense(25,activation = 'relu',input_dim = 10))\n",
    "model.add(BatchNormalization())\n",
    "model.add(Dense(40,activation = 'relu',input_dim = 25))\n",
    "model.add(BatchNormalization())\n",
    "model.add(Dense(20,activation = 'relu',input_dim = 40))\n",
    "model.add(BatchNormalization())\n",
    "model.add(Dense(12,activation = 'relu',input_dim = 20))\n",
    "model.add(BatchNormalization())\n",
    "model.add(Dense(8,activation = 'relu',input_dim = 12))\n",
    "model.add(BatchNormalization())\n",
    "model.add(Dense(5,activation = 'softmax',input_dim = 8))\n",
    "\n",
    "model.compile(optimizer='adam', loss='binary_crossentropy',metrics=['accuracy'])"
   ]
  },
  {
   "cell_type": "code",
   "execution_count": 28,
   "metadata": {},
   "outputs": [
    {
     "name": "stdout",
     "output_type": "stream",
     "text": [
      "Epoch 1/50\n",
      "14355/14355 [==============================] - 37s 3ms/step - loss: 1.4689 - accuracy: 0.2744 - val_loss: 0.6353 - val_accuracy: 0.2897\n",
      "Epoch 2/50\n",
      "14355/14355 [==============================] - 37s 3ms/step - loss: 1.4095 - accuracy: 0.2890 - val_loss: 0.6618 - val_accuracy: 0.2869\n",
      "Epoch 3/50\n",
      "14355/14355 [==============================] - 37s 3ms/step - loss: 1.3977 - accuracy: 0.2965 - val_loss: 0.5874 - val_accuracy: 0.3052\n",
      "Epoch 4/50\n",
      "14355/14355 [==============================] - 36s 3ms/step - loss: 1.3891 - accuracy: 0.3041 - val_loss: 0.6016 - val_accuracy: 0.3055\n",
      "Epoch 5/50\n",
      "14355/14355 [==============================] - 37s 3ms/step - loss: 1.3850 - accuracy: 0.3092 - val_loss: 0.5828 - val_accuracy: 0.3099\n",
      "Epoch 6/50\n",
      "14355/14355 [==============================] - 36s 3ms/step - loss: 1.3817 - accuracy: 0.3106 - val_loss: 0.5967 - val_accuracy: 0.3038\n",
      "Epoch 7/50\n",
      "14355/14355 [==============================] - 36s 3ms/step - loss: 1.3801 - accuracy: 0.3105 - val_loss: 0.5960 - val_accuracy: 0.3120\n",
      "Epoch 8/50\n",
      "14355/14355 [==============================] - 36s 3ms/step - loss: 1.3772 - accuracy: 0.3109 - val_loss: 0.5459 - val_accuracy: 0.3261\n",
      "Epoch 9/50\n",
      "14355/14355 [==============================] - 36s 3ms/step - loss: 1.3719 - accuracy: 0.3113 - val_loss: 0.5959 - val_accuracy: 0.3052\n",
      "Epoch 10/50\n",
      "14355/14355 [==============================] - 36s 3ms/step - loss: 1.3660 - accuracy: 0.3146 - val_loss: 0.5827 - val_accuracy: 0.3154\n",
      "Epoch 11/50\n",
      "14355/14355 [==============================] - 36s 3ms/step - loss: 1.3636 - accuracy: 0.3140 - val_loss: 0.6042 - val_accuracy: 0.3162\n",
      "Epoch 12/50\n",
      "14355/14355 [==============================] - 36s 3ms/step - loss: 1.3624 - accuracy: 0.3145 - val_loss: 0.5854 - val_accuracy: 0.3176\n",
      "Epoch 13/50\n",
      "14355/14355 [==============================] - 37s 3ms/step - loss: 1.3606 - accuracy: 0.3151 - val_loss: 0.5964 - val_accuracy: 0.3149\n",
      "Epoch 14/50\n",
      "14355/14355 [==============================] - 36s 3ms/step - loss: 1.3598 - accuracy: 0.3160 - val_loss: 0.5768 - val_accuracy: 0.3181\n",
      "Epoch 15/50\n",
      "14355/14355 [==============================] - 36s 3ms/step - loss: 1.3586 - accuracy: 0.3160 - val_loss: 0.5899 - val_accuracy: 0.3081\n",
      "Epoch 16/50\n",
      "14355/14355 [==============================] - 36s 3ms/step - loss: 1.3581 - accuracy: 0.3162 - val_loss: 0.5594 - val_accuracy: 0.3172\n",
      "Epoch 17/50\n",
      "14355/14355 [==============================] - 36s 3ms/step - loss: 1.3576 - accuracy: 0.3166 - val_loss: 0.5739 - val_accuracy: 0.3102\n",
      "Epoch 18/50\n",
      "14355/14355 [==============================] - 36s 3ms/step - loss: 1.3571 - accuracy: 0.3167 - val_loss: 0.5889 - val_accuracy: 0.3157\n",
      "Epoch 19/50\n",
      "14355/14355 [==============================] - 36s 3ms/step - loss: 1.3565 - accuracy: 0.3167 - val_loss: 0.5709 - val_accuracy: 0.3212\n",
      "Epoch 20/50\n",
      "14355/14355 [==============================] - 36s 3ms/step - loss: 1.3560 - accuracy: 0.3183 - val_loss: 0.5737 - val_accuracy: 0.3259\n",
      "Epoch 21/50\n",
      "14355/14355 [==============================] - 36s 3ms/step - loss: 1.3555 - accuracy: 0.3187 - val_loss: 0.5803 - val_accuracy: 0.3155\n",
      "Epoch 22/50\n",
      "14355/14355 [==============================] - 36s 3ms/step - loss: 1.3552 - accuracy: 0.3190 - val_loss: 0.5906 - val_accuracy: 0.3158\n",
      "Epoch 23/50\n",
      "14355/14355 [==============================] - 36s 3ms/step - loss: 1.3544 - accuracy: 0.3195 - val_loss: 0.5982 - val_accuracy: 0.3174\n",
      "Epoch 24/50\n",
      "14355/14355 [==============================] - 36s 3ms/step - loss: 1.3538 - accuracy: 0.3189 - val_loss: 0.5786 - val_accuracy: 0.3243\n",
      "Epoch 25/50\n",
      "14355/14355 [==============================] - 36s 3ms/step - loss: 1.3531 - accuracy: 0.3200 - val_loss: 0.5674 - val_accuracy: 0.3221\n",
      "Epoch 26/50\n",
      "14355/14355 [==============================] - 36s 3ms/step - loss: 1.3527 - accuracy: 0.3203 - val_loss: 0.5502 - val_accuracy: 0.3271\n",
      "Epoch 27/50\n",
      "14355/14355 [==============================] - 36s 3ms/step - loss: 1.3522 - accuracy: 0.3201 - val_loss: 0.5459 - val_accuracy: 0.3315\n",
      "Epoch 28/50\n",
      "14355/14355 [==============================] - 36s 3ms/step - loss: 1.3520 - accuracy: 0.3201 - val_loss: 0.5817 - val_accuracy: 0.3214\n",
      "Epoch 29/50\n",
      "14355/14355 [==============================] - 36s 3ms/step - loss: 1.3515 - accuracy: 0.3212 - val_loss: 0.5671 - val_accuracy: 0.3183\n",
      "Epoch 30/50\n",
      "14355/14355 [==============================] - 36s 3ms/step - loss: 1.3512 - accuracy: 0.3216 - val_loss: 0.5715 - val_accuracy: 0.3295\n",
      "Epoch 31/50\n",
      "14355/14355 [==============================] - 36s 3ms/step - loss: 1.3507 - accuracy: 0.3225 - val_loss: 0.5781 - val_accuracy: 0.3208\n",
      "Epoch 32/50\n",
      "14355/14355 [==============================] - 36s 3ms/step - loss: 1.3502 - accuracy: 0.3229 - val_loss: 0.5602 - val_accuracy: 0.3277\n",
      "Epoch 33/50\n",
      "14355/14355 [==============================] - 36s 3ms/step - loss: 1.3499 - accuracy: 0.3210 - val_loss: 0.5971 - val_accuracy: 0.3205\n",
      "Epoch 34/50\n",
      "14355/14355 [==============================] - 36s 3ms/step - loss: 1.3493 - accuracy: 0.3232 - val_loss: 0.5811 - val_accuracy: 0.3203\n",
      "Epoch 35/50\n",
      "14355/14355 [==============================] - 36s 3ms/step - loss: 1.3494 - accuracy: 0.3233 - val_loss: 0.5902 - val_accuracy: 0.3193\n",
      "Epoch 36/50\n",
      "14355/14355 [==============================] - 36s 3ms/step - loss: 1.3491 - accuracy: 0.3228 - val_loss: 0.5695 - val_accuracy: 0.3221\n",
      "Epoch 37/50\n",
      "14355/14355 [==============================] - 36s 3ms/step - loss: 1.3490 - accuracy: 0.3220 - val_loss: 0.5892 - val_accuracy: 0.3204\n",
      "Epoch 38/50\n",
      "14355/14355 [==============================] - 36s 3ms/step - loss: 1.3489 - accuracy: 0.3228 - val_loss: 0.5765 - val_accuracy: 0.3254\n",
      "Epoch 39/50\n",
      "14355/14355 [==============================] - 36s 3ms/step - loss: 1.3484 - accuracy: 0.3236 - val_loss: 0.5918 - val_accuracy: 0.3210\n",
      "Epoch 40/50\n",
      "14355/14355 [==============================] - 37s 3ms/step - loss: 1.3480 - accuracy: 0.3242 - val_loss: 0.5804 - val_accuracy: 0.3250\n",
      "Epoch 41/50\n",
      "14355/14355 [==============================] - 36s 3ms/step - loss: 1.3481 - accuracy: 0.3232 - val_loss: 0.5745 - val_accuracy: 0.3275\n",
      "Epoch 42/50\n",
      "14355/14355 [==============================] - 36s 3ms/step - loss: 1.3478 - accuracy: 0.3234 - val_loss: 0.5595 - val_accuracy: 0.3283\n",
      "Epoch 43/50\n",
      "14355/14355 [==============================] - 37s 3ms/step - loss: 1.3474 - accuracy: 0.3222 - val_loss: 0.5715 - val_accuracy: 0.3228\n",
      "Epoch 44/50\n",
      "14355/14355 [==============================] - 36s 3ms/step - loss: 1.3472 - accuracy: 0.3229 - val_loss: 0.5573 - val_accuracy: 0.3293\n",
      "Epoch 45/50\n",
      "14355/14355 [==============================] - 36s 3ms/step - loss: 1.3473 - accuracy: 0.3227 - val_loss: 0.5815 - val_accuracy: 0.3304\n",
      "Epoch 46/50\n",
      "14355/14355 [==============================] - 36s 3ms/step - loss: 1.3472 - accuracy: 0.3236 - val_loss: 0.5994 - val_accuracy: 0.3232\n",
      "Epoch 47/50\n",
      "14355/14355 [==============================] - 37s 3ms/step - loss: 1.3469 - accuracy: 0.3240 - val_loss: 0.5712 - val_accuracy: 0.3244\n",
      "Epoch 48/50\n",
      "14355/14355 [==============================] - 37s 3ms/step - loss: 1.3465 - accuracy: 0.3252 - val_loss: 0.5724 - val_accuracy: 0.3287\n",
      "Epoch 49/50\n",
      "14355/14355 [==============================] - 37s 3ms/step - loss: 1.3464 - accuracy: 0.3248 - val_loss: 0.5674 - val_accuracy: 0.3276\n",
      "Epoch 50/50\n",
      "14355/14355 [==============================] - 36s 3ms/step - loss: 1.3464 - accuracy: 0.3252 - val_loss: 0.5590 - val_accuracy: 0.3309\n"
     ]
    },
    {
     "data": {
      "text/plain": [
       "<keras.callbacks.History at 0x14ddb5183700>"
      ]
     },
     "execution_count": 28,
     "metadata": {},
     "output_type": "execute_result"
    }
   ],
   "source": [
    "model.fit(x_train,y_train,epochs=50,batch_size=128,validation_split=0.2,class_weight={0:5,1:7,2:4,3:4,4:.005})"
   ]
  },
  {
   "cell_type": "code",
   "execution_count": 29,
   "metadata": {},
   "outputs": [],
   "source": [
    "tot_pred = model.predict(dtset.T[:-2].T)"
   ]
  },
  {
   "cell_type": "code",
   "execution_count": 30,
   "metadata": {},
   "outputs": [],
   "source": [
    "def get_back_ax(x):\n",
    "    return x.argmax(axis=1)"
   ]
  },
  {
   "cell_type": "code",
   "execution_count": 31,
   "metadata": {},
   "outputs": [],
   "source": [
    "sol = get_back_ax(tot_pred)"
   ]
  },
  {
   "cell_type": "code",
   "execution_count": 32,
   "metadata": {
    "scrolled": true
   },
   "outputs": [
    {
     "data": {
      "text/plain": [
       "(2870863,)"
      ]
     },
     "execution_count": 32,
     "metadata": {},
     "output_type": "execute_result"
    }
   ],
   "source": [
    "sol.shape"
   ]
  },
  {
   "cell_type": "code",
   "execution_count": 33,
   "metadata": {},
   "outputs": [
    {
     "data": {
      "text/plain": [
       "array([1, 0, 0, 1, 3, 0, 0, 3, 0, 3, 1, 2, 2, 0, 3, 1, 0, 2, 3, 0, 1, 1,\n",
       "       0, 1, 3, 3, 2, 3, 0, 2, 0, 3, 0, 3, 4, 0, 3, 3, 3, 2, 2, 3, 3, 1,\n",
       "       1, 1, 3, 2])"
      ]
     },
     "execution_count": 33,
     "metadata": {},
     "output_type": "execute_result"
    }
   ],
   "source": [
    "sol[2:50]"
   ]
  },
  {
   "cell_type": "code",
   "execution_count": 34,
   "metadata": {},
   "outputs": [],
   "source": [
    "pred_set = dtset.copy()\n",
    "pred_set['pred'] = sol"
   ]
  },
  {
   "cell_type": "code",
   "execution_count": 35,
   "metadata": {},
   "outputs": [
    {
     "name": "stdout",
     "output_type": "stream",
     "text": [
      "The accuracy of the test set is :  0.7236181429638803\n"
     ]
    }
   ],
   "source": [
    "cor_pred = len(pred_set[train_len:][pred_set['pred'] == 4][pred_set['tag'] == 1]) + len(pred_set[train_len:][pred_set['pred'] != 4][pred_set['tag'] == 0])\n",
    "print('The accuracy of the test set is : ',cor_pred/(len(pred_set[train_len:])))"
   ]
  },
  {
   "cell_type": "code",
   "execution_count": 36,
   "metadata": {},
   "outputs": [],
   "source": [
    "import warnings\n",
    "warnings.filterwarnings('ignore')"
   ]
  },
  {
   "cell_type": "code",
   "execution_count": 37,
   "metadata": {},
   "outputs": [
    {
     "name": "stdout",
     "output_type": "stream",
     "text": [
      "Correctly identified signal (True Positive)     :  15707\n",
      "Falsely identified signal (Flase Positive)      :  14\n",
      "Correctly identified background (True Negative) :  2059072\n",
      "Falsely identified background (False Negative)  :  796070\n"
     ]
    }
   ],
   "source": [
    "print('Correctly identified signal (True Positive)     : ',len(pred_set[pred_set['pred'] == 4][pred_set['tag'] == 1]))\n",
    "print('Falsely identified signal (False Positive)      : ',len(pred_set[pred_set['pred'] == 4][pred_set['tag'] == 0]))\n",
    "print('Correctly identified background (True Negative) : ',len(pred_set[pred_set['pred'] != 4][pred_set['tag'] == 0]))\n",
    "print('Falsely identified background (False Negative)  : ',len(pred_set[pred_set['pred'] != 4][pred_set['tag'] == 1]))"
   ]
  },
  {
   "cell_type": "code",
   "execution_count": 38,
   "metadata": {},
   "outputs": [
    {
     "name": "stdout",
     "output_type": "stream",
     "text": [
      "The amount of signal left is     : 0.9434615861910024\n",
      "The amount of background left is : 0.5175010950280633\n"
     ]
    }
   ],
   "source": [
    "print('The amount of signal left is     :', len(pred_set[pred_set['pred'] == 4][pred_set['tag'] == 1])/len(df[-1]))\n",
    "print('The amount of background left is :', len(pred_set[pred_set['pred'] == 4][pred_set['tag'] == 0])/np.sum([len(i) for i in df[:-1]]))"
   ]
  },
  {
   "cell_type": "code",
   "execution_count": 39,
   "metadata": {},
   "outputs": [
    {
     "name": "stdout",
     "output_type": "stream",
     "text": [
      "Thus, the rate of correct signal prediction is :  0.9991094714076713\n"
     ]
    }
   ],
   "source": [
    "print('Thus, the rate of correct signal prediction is : ',len(pred_set[pred_set['pred'] == 4][dtset['tag'] == 1])/(len(pred_set[pred_set['pred'] == 4])))"
   ]
  },
  {
   "cell_type": "code",
   "execution_count": 40,
   "metadata": {},
   "outputs": [],
   "source": [
    "L = 3000"
   ]
  },
  {
   "cell_type": "code",
   "execution_count": 41,
   "metadata": {},
   "outputs": [
    {
     "name": "stdout",
     "output_type": "stream",
     "text": [
      "n2n2 15707 0.399\n",
      "ttbar 0 2843.169547246376\n",
      "wmp 0 30109.0909090909\n",
      "wpwm 8 212.66363100320171\n",
      "zwpm 6 61.44480294117646\n"
     ]
    }
   ],
   "source": [
    "ns = cs_corr['n2n2']*(len(pred_set[pred_set['pred'] == 4][pred_set['tag'] == 1])/(1e6))*L\n",
    "print('n2n2',(len(pred_set[pred_set['pred'] == 4][pred_set['tag'] == 1])),cs_corr['n2n2'])\n",
    "nb = 0\n",
    "\n",
    "for i in range(len(files)-1):\n",
    "    nb += cs_corr[files[i]]*(len(pred_set[pred_set['pred'] == 4][pred_set['tag'] == 0][pred_set['type'] == i])/((1e6)))*L\n",
    "    print(files[i],len(pred_set[pred_set['pred'] == 4][pred_set['tag'] == 0][pred_set['type'] == i]),cs_corr[files[i]])"
   ]
  },
  {
   "cell_type": "code",
   "execution_count": 42,
   "metadata": {},
   "outputs": [
    {
     "name": "stdout",
     "output_type": "stream",
     "text": [
      "The number of signal is : 18.801278999999997\n",
      "The number of background is : 6.209933597018017\n",
      "The significance is : 7.544733709422232\n"
     ]
    }
   ],
   "source": [
    "print('The number of signal is :', ns)\n",
    "print('The number of background is :', nb)\n",
    "print('The significance is :',ns/np.sqrt(nb))"
   ]
  },
  {
   "cell_type": "code",
   "execution_count": 43,
   "metadata": {},
   "outputs": [
    {
     "data": {
      "text/html": [
       "<div>\n",
       "<style scoped>\n",
       "    .dataframe tbody tr th:only-of-type {\n",
       "        vertical-align: middle;\n",
       "    }\n",
       "\n",
       "    .dataframe tbody tr th {\n",
       "        vertical-align: top;\n",
       "    }\n",
       "\n",
       "    .dataframe thead th {\n",
       "        text-align: right;\n",
       "    }\n",
       "</style>\n",
       "<table border=\"1\" class=\"dataframe\">\n",
       "  <thead>\n",
       "    <tr style=\"text-align: right;\">\n",
       "      <th></th>\n",
       "      <th>ptl</th>\n",
       "      <th>etal</th>\n",
       "      <th>energyl</th>\n",
       "      <th>ptj</th>\n",
       "      <th>etaj</th>\n",
       "      <th>energyj</th>\n",
       "      <th>massj</th>\n",
       "      <th>mjj</th>\n",
       "      <th>rjj</th>\n",
       "      <th>rjl</th>\n",
       "      <th>met</th>\n",
       "      <th>n21_1</th>\n",
       "      <th>n21_2</th>\n",
       "      <th>n32_1</th>\n",
       "      <th>n32_2</th>\n",
       "      <th>infl</th>\n",
       "      <th>drfl</th>\n",
       "      <th>type</th>\n",
       "      <th>tag</th>\n",
       "    </tr>\n",
       "  </thead>\n",
       "  <tbody>\n",
       "    <tr>\n",
       "      <th>0</th>\n",
       "      <td>136.238</td>\n",
       "      <td>-1.427660</td>\n",
       "      <td>300.323</td>\n",
       "      <td>129.439</td>\n",
       "      <td>0.128849</td>\n",
       "      <td>131.679</td>\n",
       "      <td>17.4703</td>\n",
       "      <td>60.5694</td>\n",
       "      <td>0.661161</td>\n",
       "      <td>1.593140</td>\n",
       "      <td>120.812</td>\n",
       "      <td>0.065091</td>\n",
       "      <td>0.234445</td>\n",
       "      <td>0.000000</td>\n",
       "      <td>0.540246</td>\n",
       "      <td>25.6794</td>\n",
       "      <td>0.01788</td>\n",
       "      <td>2</td>\n",
       "      <td>0</td>\n",
       "    </tr>\n",
       "    <tr>\n",
       "      <th>1</th>\n",
       "      <td>177.032</td>\n",
       "      <td>1.327030</td>\n",
       "      <td>357.172</td>\n",
       "      <td>174.278</td>\n",
       "      <td>0.793436</td>\n",
       "      <td>233.272</td>\n",
       "      <td>23.5985</td>\n",
       "      <td>143.2140</td>\n",
       "      <td>2.138230</td>\n",
       "      <td>0.725024</td>\n",
       "      <td>815.576</td>\n",
       "      <td>0.417532</td>\n",
       "      <td>0.721365</td>\n",
       "      <td>0.505062</td>\n",
       "      <td>0.539998</td>\n",
       "      <td>123.9500</td>\n",
       "      <td>1.49283</td>\n",
       "      <td>2</td>\n",
       "      <td>0</td>\n",
       "    </tr>\n",
       "    <tr>\n",
       "      <th>2</th>\n",
       "      <td>207.788</td>\n",
       "      <td>1.245000</td>\n",
       "      <td>390.733</td>\n",
       "      <td>496.299</td>\n",
       "      <td>1.046030</td>\n",
       "      <td>797.173</td>\n",
       "      <td>76.4529</td>\n",
       "      <td>850.1020</td>\n",
       "      <td>2.101450</td>\n",
       "      <td>0.771494</td>\n",
       "      <td>1909.770</td>\n",
       "      <td>0.218092</td>\n",
       "      <td>0.368900</td>\n",
       "      <td>0.271128</td>\n",
       "      <td>0.504858</td>\n",
       "      <td>297.6910</td>\n",
       "      <td>1.82430</td>\n",
       "      <td>2</td>\n",
       "      <td>0</td>\n",
       "    </tr>\n",
       "    <tr>\n",
       "      <th>3</th>\n",
       "      <td>153.798</td>\n",
       "      <td>0.165185</td>\n",
       "      <td>155.901</td>\n",
       "      <td>391.888</td>\n",
       "      <td>-0.474061</td>\n",
       "      <td>437.114</td>\n",
       "      <td>17.7209</td>\n",
       "      <td>769.6290</td>\n",
       "      <td>2.880610</td>\n",
       "      <td>1.343040</td>\n",
       "      <td>727.674</td>\n",
       "      <td>0.000000</td>\n",
       "      <td>0.209790</td>\n",
       "      <td>0.383100</td>\n",
       "      <td>0.394240</td>\n",
       "      <td>398.0360</td>\n",
       "      <td>1.15835</td>\n",
       "      <td>2</td>\n",
       "      <td>0</td>\n",
       "    </tr>\n",
       "    <tr>\n",
       "      <th>4</th>\n",
       "      <td>163.467</td>\n",
       "      <td>0.292749</td>\n",
       "      <td>170.522</td>\n",
       "      <td>231.087</td>\n",
       "      <td>-0.338531</td>\n",
       "      <td>245.678</td>\n",
       "      <td>24.4810</td>\n",
       "      <td>205.6740</td>\n",
       "      <td>2.039720</td>\n",
       "      <td>0.758088</td>\n",
       "      <td>115.665</td>\n",
       "      <td>0.020697</td>\n",
       "      <td>0.095246</td>\n",
       "      <td>0.163543</td>\n",
       "      <td>0.641187</td>\n",
       "      <td>208.3450</td>\n",
       "      <td>2.38173</td>\n",
       "      <td>2</td>\n",
       "      <td>0</td>\n",
       "    </tr>\n",
       "  </tbody>\n",
       "</table>\n",
       "</div>"
      ],
      "text/plain": [
       "       ptl      etal  energyl      ptj      etaj  energyj    massj       mjj  \\\n",
       "0  136.238 -1.427660  300.323  129.439  0.128849  131.679  17.4703   60.5694   \n",
       "1  177.032  1.327030  357.172  174.278  0.793436  233.272  23.5985  143.2140   \n",
       "2  207.788  1.245000  390.733  496.299  1.046030  797.173  76.4529  850.1020   \n",
       "3  153.798  0.165185  155.901  391.888 -0.474061  437.114  17.7209  769.6290   \n",
       "4  163.467  0.292749  170.522  231.087 -0.338531  245.678  24.4810  205.6740   \n",
       "\n",
       "        rjj       rjl       met     n21_1     n21_2     n32_1     n32_2  \\\n",
       "0  0.661161  1.593140   120.812  0.065091  0.234445  0.000000  0.540246   \n",
       "1  2.138230  0.725024   815.576  0.417532  0.721365  0.505062  0.539998   \n",
       "2  2.101450  0.771494  1909.770  0.218092  0.368900  0.271128  0.504858   \n",
       "3  2.880610  1.343040   727.674  0.000000  0.209790  0.383100  0.394240   \n",
       "4  2.039720  0.758088   115.665  0.020697  0.095246  0.163543  0.641187   \n",
       "\n",
       "       infl     drfl  type  tag  \n",
       "0   25.6794  0.01788     2    0  \n",
       "1  123.9500  1.49283     2    0  \n",
       "2  297.6910  1.82430     2    0  \n",
       "3  398.0360  1.15835     2    0  \n",
       "4  208.3450  2.38173     2    0  "
      ]
     },
     "execution_count": 43,
     "metadata": {},
     "output_type": "execute_result"
    }
   ],
   "source": [
    "df[2].head()"
   ]
  },
  {
   "cell_type": "code",
   "execution_count": 44,
   "metadata": {},
   "outputs": [
    {
     "name": "stderr",
     "output_type": "stream",
     "text": [
      "2022-03-28 13:33:39.000110: W tensorflow/python/util/util.cc:368] Sets are not currently considered sequences, but this may change in the future, so consider avoiding using them.\n"
     ]
    },
    {
     "ename": "PermissionDeniedError",
     "evalue": "/home/blizzard; Permission denied",
     "output_type": "error",
     "traceback": [
      "\u001b[0;31m---------------------------------------------------------------------------\u001b[0m",
      "\u001b[0;31mPermissionDeniedError\u001b[0m                     Traceback (most recent call last)",
      "Input \u001b[0;32mIn [44]\u001b[0m, in \u001b[0;36m<cell line: 1>\u001b[0;34m()\u001b[0m\n\u001b[0;32m----> 1\u001b[0m \u001b[43mmodel\u001b[49m\u001b[38;5;241;43m.\u001b[39;49m\u001b[43msave\u001b[49m\u001b[43m(\u001b[49m\u001b[38;5;124;43m'\u001b[39;49m\u001b[38;5;124;43m/home/blizzard/Datasets/Models/s5\u001b[39;49m\u001b[38;5;124;43m'\u001b[39;49m\u001b[43m)\u001b[49m\n",
      "File \u001b[0;32m~/apps/miniconda3/envs/tfml/lib/python3.10/site-packages/keras/utils/traceback_utils.py:67\u001b[0m, in \u001b[0;36mfilter_traceback.<locals>.error_handler\u001b[0;34m(*args, **kwargs)\u001b[0m\n\u001b[1;32m     65\u001b[0m \u001b[38;5;28;01mexcept\u001b[39;00m \u001b[38;5;167;01mException\u001b[39;00m \u001b[38;5;28;01mas\u001b[39;00m e:  \u001b[38;5;66;03m# pylint: disable=broad-except\u001b[39;00m\n\u001b[1;32m     66\u001b[0m   filtered_tb \u001b[38;5;241m=\u001b[39m _process_traceback_frames(e\u001b[38;5;241m.\u001b[39m__traceback__)\n\u001b[0;32m---> 67\u001b[0m   \u001b[38;5;28;01mraise\u001b[39;00m e\u001b[38;5;241m.\u001b[39mwith_traceback(filtered_tb) \u001b[38;5;28;01mfrom\u001b[39;00m \u001b[38;5;28mNone\u001b[39m\n\u001b[1;32m     68\u001b[0m \u001b[38;5;28;01mfinally\u001b[39;00m:\n\u001b[1;32m     69\u001b[0m   \u001b[38;5;28;01mdel\u001b[39;00m filtered_tb\n",
      "File \u001b[0;32m~/apps/miniconda3/envs/tfml/lib/python3.10/site-packages/tensorflow/python/lib/io/file_io.py:515\u001b[0m, in \u001b[0;36mrecursive_create_dir_v2\u001b[0;34m(path)\u001b[0m\n\u001b[1;32m    503\u001b[0m \u001b[38;5;129m@tf_export\u001b[39m(\u001b[38;5;124m\"\u001b[39m\u001b[38;5;124mio.gfile.makedirs\u001b[39m\u001b[38;5;124m\"\u001b[39m)\n\u001b[1;32m    504\u001b[0m \u001b[38;5;28;01mdef\u001b[39;00m \u001b[38;5;21mrecursive_create_dir_v2\u001b[39m(path):\n\u001b[1;32m    505\u001b[0m   \u001b[38;5;124;03m\"\"\"Creates a directory and all parent/intermediate directories.\u001b[39;00m\n\u001b[1;32m    506\u001b[0m \n\u001b[1;32m    507\u001b[0m \u001b[38;5;124;03m  It succeeds if path already exists and is writable.\u001b[39;00m\n\u001b[0;32m   (...)\u001b[0m\n\u001b[1;32m    513\u001b[0m \u001b[38;5;124;03m    errors.OpError: If the operation fails.\u001b[39;00m\n\u001b[1;32m    514\u001b[0m \u001b[38;5;124;03m  \"\"\"\u001b[39;00m\n\u001b[0;32m--> 515\u001b[0m   \u001b[43m_pywrap_file_io\u001b[49m\u001b[38;5;241;43m.\u001b[39;49m\u001b[43mRecursivelyCreateDir\u001b[49m\u001b[43m(\u001b[49m\u001b[43mcompat\u001b[49m\u001b[38;5;241;43m.\u001b[39;49m\u001b[43mpath_to_bytes\u001b[49m\u001b[43m(\u001b[49m\u001b[43mpath\u001b[49m\u001b[43m)\u001b[49m\u001b[43m)\u001b[49m\n",
      "\u001b[0;31mPermissionDeniedError\u001b[0m: /home/blizzard; Permission denied"
     ]
    }
   ],
   "source": [
    "model.save('/home/blizzard/Datasets/Models/s5')"
   ]
  }
 ],
 "metadata": {
  "interpreter": {
   "hash": "31f2aee4e71d21fbe5cf8b01ff0e069b9275f58929596ceb00d14d90e3e16cd6"
  },
  "kernelspec": {
   "display_name": "Python 3 (ipykernel)",
   "language": "python",
   "name": "python3"
  },
  "language_info": {
   "codemirror_mode": {
    "name": "ipython",
    "version": 3
   },
   "file_extension": ".py",
   "mimetype": "text/x-python",
   "name": "python",
   "nbconvert_exporter": "python",
   "pygments_lexer": "ipython3",
   "version": "3.10.4"
  }
 },
 "nbformat": 4,
 "nbformat_minor": 2
}

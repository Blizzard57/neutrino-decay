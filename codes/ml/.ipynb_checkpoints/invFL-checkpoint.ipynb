{
 "cells": [
  {
   "cell_type": "code",
   "execution_count": 1,
   "metadata": {},
   "outputs": [],
   "source": [
    "import pandas as pd\n",
    "import matplotlib.pyplot as plt\n",
    "import matplotlib as mlp\n",
    "import numpy as np\n",
    "%matplotlib inline\n",
    "mlp.style.use('seaborn')"
   ]
  },
  {
   "cell_type": "code",
   "execution_count": 7,
   "metadata": {},
   "outputs": [],
   "source": [
    "files = ['ttbar','wmp','wpwm','zwpm','n2n2']\n",
    "\n",
    "cs_pb = [1.258,24.6,1.6*1e-2,3.83*1e-2,3.99*1e-4]\n",
    "cs = [i*1e3 for i in cs_pb]\n",
    "k_f = [1.954,1.356,1.92,2.09,1.0]\n",
    "\n",
    "cs_corr = {files[i] : cs[i]*k_f[i] for i in range(len(files))}"
   ]
  },
  {
   "cell_type": "code",
   "execution_count": 35,
   "metadata": {},
   "outputs": [],
   "source": [
    "df = []\n",
    "\n",
    "for f in files:\n",
    "    df.append(pd.read_csv('~/Datasets/Test/' + f + '.csv'))\n",
    "    df[-1]['type'] = files.index(f)"
   ]
  },
  {
   "cell_type": "code",
   "execution_count": 13,
   "metadata": {},
   "outputs": [],
   "source": [
    "df = []\n",
    "\n",
    "for mn2 in ['500','750','1000','1250','1400']:\n",
    "    con_df = []\n",
    "    \n",
    "    # The maximum file number \n",
    "    for i in range(1,60):\n",
    "        try:\n",
    "            con_df.append(pd.read_csv('~/neutrino/datasets/old_signal/n2n2_' + str(mn2) + '/' + 'n2n2' + str(i) + '.csv'))\n",
    "        except:\n",
    "            pass\n",
    "    \n",
    "    df.append(pd.concat(con_df,ignore_index=True))"
   ]
  },
  {
   "cell_type": "code",
   "execution_count": 14,
   "metadata": {},
   "outputs": [
    {
     "data": {
      "text/html": [
       "<div>\n",
       "<style scoped>\n",
       "    .dataframe tbody tr th:only-of-type {\n",
       "        vertical-align: middle;\n",
       "    }\n",
       "\n",
       "    .dataframe tbody tr th {\n",
       "        vertical-align: top;\n",
       "    }\n",
       "\n",
       "    .dataframe thead th {\n",
       "        text-align: right;\n",
       "    }\n",
       "</style>\n",
       "<table border=\"1\" class=\"dataframe\">\n",
       "  <thead>\n",
       "    <tr style=\"text-align: right;\">\n",
       "      <th></th>\n",
       "      <th>ptl</th>\n",
       "      <th>etal</th>\n",
       "      <th>energyl</th>\n",
       "      <th>ptj</th>\n",
       "      <th>etaj</th>\n",
       "      <th>energyj</th>\n",
       "      <th>massj</th>\n",
       "      <th>mjj</th>\n",
       "      <th>rjj</th>\n",
       "      <th>rjl</th>\n",
       "      <th>met</th>\n",
       "      <th>n21_1</th>\n",
       "      <th>n21_2</th>\n",
       "      <th>n32_1</th>\n",
       "      <th>n32_2</th>\n",
       "      <th>infl</th>\n",
       "      <th>drfl</th>\n",
       "    </tr>\n",
       "  </thead>\n",
       "  <tbody>\n",
       "    <tr>\n",
       "      <th>0</th>\n",
       "      <td>1104.900</td>\n",
       "      <td>-0.498788</td>\n",
       "      <td>1245.210</td>\n",
       "      <td>521.032</td>\n",
       "      <td>0.367960</td>\n",
       "      <td>564.013</td>\n",
       "      <td>90.5043</td>\n",
       "      <td>932.40</td>\n",
       "      <td>2.970440</td>\n",
       "      <td>0.882596</td>\n",
       "      <td>916.698</td>\n",
       "      <td>0.229465</td>\n",
       "      <td>0.309615</td>\n",
       "      <td>0.661435</td>\n",
       "      <td>0.708160</td>\n",
       "      <td>1145.530</td>\n",
       "      <td>0.366924</td>\n",
       "    </tr>\n",
       "    <tr>\n",
       "      <th>1</th>\n",
       "      <td>463.370</td>\n",
       "      <td>-0.589513</td>\n",
       "      <td>546.246</td>\n",
       "      <td>536.705</td>\n",
       "      <td>-0.902176</td>\n",
       "      <td>774.201</td>\n",
       "      <td>77.1665</td>\n",
       "      <td>1555.54</td>\n",
       "      <td>0.121289</td>\n",
       "      <td>2.775800</td>\n",
       "      <td>1132.200</td>\n",
       "      <td>0.388342</td>\n",
       "      <td>0.418008</td>\n",
       "      <td>0.515155</td>\n",
       "      <td>0.544950</td>\n",
       "      <td>289.301</td>\n",
       "      <td>1.434180</td>\n",
       "    </tr>\n",
       "    <tr>\n",
       "      <th>2</th>\n",
       "      <td>326.953</td>\n",
       "      <td>0.479720</td>\n",
       "      <td>365.302</td>\n",
       "      <td>820.111</td>\n",
       "      <td>-1.076740</td>\n",
       "      <td>1345.130</td>\n",
       "      <td>70.9080</td>\n",
       "      <td>1871.85</td>\n",
       "      <td>3.115210</td>\n",
       "      <td>1.565820</td>\n",
       "      <td>380.290</td>\n",
       "      <td>0.307497</td>\n",
       "      <td>0.516269</td>\n",
       "      <td>0.584650</td>\n",
       "      <td>0.743368</td>\n",
       "      <td>185.410</td>\n",
       "      <td>1.580950</td>\n",
       "    </tr>\n",
       "    <tr>\n",
       "      <th>3</th>\n",
       "      <td>576.619</td>\n",
       "      <td>0.253533</td>\n",
       "      <td>595.251</td>\n",
       "      <td>839.700</td>\n",
       "      <td>0.970868</td>\n",
       "      <td>1270.700</td>\n",
       "      <td>89.8498</td>\n",
       "      <td>1020.67</td>\n",
       "      <td>2.183250</td>\n",
       "      <td>3.044240</td>\n",
       "      <td>883.217</td>\n",
       "      <td>0.370345</td>\n",
       "      <td>0.749497</td>\n",
       "      <td>0.154525</td>\n",
       "      <td>0.624320</td>\n",
       "      <td>1006.080</td>\n",
       "      <td>2.154560</td>\n",
       "    </tr>\n",
       "    <tr>\n",
       "      <th>4</th>\n",
       "      <td>485.512</td>\n",
       "      <td>1.259330</td>\n",
       "      <td>924.152</td>\n",
       "      <td>755.471</td>\n",
       "      <td>-0.157772</td>\n",
       "      <td>769.641</td>\n",
       "      <td>85.3534</td>\n",
       "      <td>1227.45</td>\n",
       "      <td>2.392510</td>\n",
       "      <td>1.623280</td>\n",
       "      <td>1367.740</td>\n",
       "      <td>0.037809</td>\n",
       "      <td>0.292483</td>\n",
       "      <td>0.601904</td>\n",
       "      <td>0.742156</td>\n",
       "      <td>263.920</td>\n",
       "      <td>1.977800</td>\n",
       "    </tr>\n",
       "  </tbody>\n",
       "</table>\n",
       "</div>"
      ],
      "text/plain": [
       "        ptl      etal   energyl      ptj      etaj   energyj    massj  \\\n",
       "0  1104.900 -0.498788  1245.210  521.032  0.367960   564.013  90.5043   \n",
       "1   463.370 -0.589513   546.246  536.705 -0.902176   774.201  77.1665   \n",
       "2   326.953  0.479720   365.302  820.111 -1.076740  1345.130  70.9080   \n",
       "3   576.619  0.253533   595.251  839.700  0.970868  1270.700  89.8498   \n",
       "4   485.512  1.259330   924.152  755.471 -0.157772   769.641  85.3534   \n",
       "\n",
       "       mjj       rjj       rjl       met     n21_1     n21_2     n32_1  \\\n",
       "0   932.40  2.970440  0.882596   916.698  0.229465  0.309615  0.661435   \n",
       "1  1555.54  0.121289  2.775800  1132.200  0.388342  0.418008  0.515155   \n",
       "2  1871.85  3.115210  1.565820   380.290  0.307497  0.516269  0.584650   \n",
       "3  1020.67  2.183250  3.044240   883.217  0.370345  0.749497  0.154525   \n",
       "4  1227.45  2.392510  1.623280  1367.740  0.037809  0.292483  0.601904   \n",
       "\n",
       "      n32_2      infl      drfl  \n",
       "0  0.708160  1145.530  0.366924  \n",
       "1  0.544950   289.301  1.434180  \n",
       "2  0.743368   185.410  1.580950  \n",
       "3  0.624320  1006.080  2.154560  \n",
       "4  0.742156   263.920  1.977800  "
      ]
     },
     "execution_count": 14,
     "metadata": {},
     "output_type": "execute_result"
    }
   ],
   "source": [
    "df[-1].head()"
   ]
  },
  {
   "cell_type": "code",
   "execution_count": 15,
   "metadata": {},
   "outputs": [
    {
     "ename": "NameError",
     "evalue": "name 'cs_corr' is not defined",
     "output_type": "error",
     "traceback": [
      "\u001b[0;31m---------------------------------------------------------------------------\u001b[0m",
      "\u001b[0;31mNameError\u001b[0m                                 Traceback (most recent call last)",
      "Input \u001b[0;32mIn [15]\u001b[0m, in \u001b[0;36m<cell line: 1>\u001b[0;34m()\u001b[0m\n\u001b[0;32m----> 1\u001b[0m \u001b[43mcs_corr\u001b[49m\n",
      "\u001b[0;31mNameError\u001b[0m: name 'cs_corr' is not defined"
     ]
    }
   ],
   "source": [
    "cs_corr"
   ]
  },
  {
   "cell_type": "code",
   "execution_count": 16,
   "metadata": {},
   "outputs": [
    {
     "data": {
      "image/png": "[encoded data removed]",
      "text/plain": [
       "<Figure size 576x396 with 1 Axes>"
      ]
     },
     "metadata": {},
     "output_type": "display_data"
    }
   ],
   "source": [
    "for f in range(5):\n",
    "    plt.hist(df[f]['infl'],bins=100,alpha=0.5)\n",
    "plt.show()"
   ]
  },
  {
   "cell_type": "code",
   "execution_count": 10,
   "metadata": {},
   "outputs": [
    {
     "data": {
      "text/plain": [
       "537.6705"
      ]
     },
     "execution_count": 10,
     "metadata": {},
     "output_type": "execute_result"
    }
   ],
   "source": [
    "np.median(df[1]['infl'].values)"
   ]
  },
  {
   "cell_type": "code",
   "execution_count": 39,
   "metadata": {},
   "outputs": [],
   "source": [
    "dtset = pd.concat(df,ignore_index=True)"
   ]
  },
  {
   "cell_type": "code",
   "execution_count": 58,
   "metadata": {},
   "outputs": [],
   "source": [
    "l = np.array([])\n",
    "\n",
    "for i,f in enumerate(files):\n",
    "    l = np.append(l,np.asarray([cs_corr[f]]*len(df[i])))"
   ]
  },
  {
   "cell_type": "code",
   "execution_count": 64,
   "metadata": {},
   "outputs": [
    {
     "data": {
      "image/png": "[encoded data removed]",
      "text/plain": [
       "<Figure size 576x396 with 1 Axes>"
      ]
     },
     "metadata": {},
     "output_type": "display_data"
    }
   ],
   "source": [
    "plt.hist(dtset['infl'],weights=l,bins=100)\n",
    "plt.xlim([700,1200])\n",
    "plt.show()"
   ]
  },
  {
   "cell_type": "code",
   "execution_count": null,
   "metadata": {},
   "outputs": [],
   "source": []
  }
 ],
 "metadata": {
  "interpreter": {
   "hash": "31f2aee4e71d21fbe5cf8b01ff0e069b9275f58929596ceb00d14d90e3e16cd6"
  },
  "kernelspec": {
   "display_name": "Python 3 (ipykernel)",
   "language": "python",
   "name": "python3"
  },
  "language_info": {
   "codemirror_mode": {
    "name": "ipython",
    "version": 3
   },
   "file_extension": ".py",
   "mimetype": "text/x-python",
   "name": "python",
   "nbconvert_exporter": "python",
   "pygments_lexer": "ipython3",
   "version": "3.10.4"
  }
 },
 "nbformat": 4,
 "nbformat_minor": 4
}

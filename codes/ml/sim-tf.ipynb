{
 "cells": [
  {
   "cell_type": "code",
   "execution_count": 4,
   "metadata": {},
   "outputs": [],
   "source": [
    "import pandas as pd\n",
    "import numpy as np\n",
    "import matplotlib.pyplot as plt\n",
    "import seaborn as sns\n",
    "import matplotlib as mpl\n",
    "from keras.models import Sequential, load_model\n",
    "from keras.layers import LSTM, Dense, Dropout, BatchNormalization\n",
    "from sklearn.utils import shuffle\n",
    "from PIL import ImageFont\n",
    "import visualkeras"
   ]
  },
  {
   "cell_type": "code",
   "execution_count": 5,
   "metadata": {},
   "outputs": [],
   "source": [
    "import tensorflow_probability as tfp"
   ]
  },
  {
   "cell_type": "code",
   "execution_count": 6,
   "metadata": {},
   "outputs": [
    {
     "name": "stdout",
     "output_type": "stream",
     "text": [
      "[PhysicalDevice(name='/physical_device:GPU:0', device_type='GPU')]\n"
     ]
    }
   ],
   "source": [
    "import tensorflow as tf\n",
    "print(tf.config.list_physical_devices('GPU'))"
   ]
  },
  {
   "cell_type": "code",
   "execution_count": 7,
   "metadata": {},
   "outputs": [],
   "source": [
    "files = ['ttbar','wmp','wpwm','zwpm','n2n2']\n",
    "\n",
    "cs_lo_k = {\n",
    "            'ttbar':988.57,\n",
    "            'wmp'  :1.95*1e5,\n",
    "            'wpwm' :124.31,\n",
    "            'zwpm' :51.82,\n",
    "            'n2n2' :1\n",
    "          }\n",
    "\n",
    "br_ratio = {\n",
    "            'ttbar':0.67*(1-0.67)*2,\n",
    "            'wmp'  :(1-0.67),\n",
    "            'wpwm' :(1-0.67)*0.67*2,\n",
    "            'zwpm' :0.7*(1-0.67),\n",
    "            'n2n2' :1\n",
    "          }\n",
    "\n",
    "cs_nmg = {\n",
    "         'ttbar':393.30,\n",
    "         'wmp'  :7.865*1e4,\n",
    "         'wpwm' :74.96,\n",
    "         'zwpm' :14.28,\n",
    "         'n2n2' :1\n",
    "         }\n",
    "\n",
    "cs_mg = {'ttbar':2.558,\n",
    "          'wmp':36.8,\n",
    "          'wpwm':2.9*1e-1,\n",
    "          'zwpm':7.33*1e-2,\n",
    "          'n2n2':3.99*1e-4\n",
    "        }\n",
    "\n",
    "cs_pb = []\n",
    "for f in files:\n",
    "  cs_pb.append((cs_lo_k[f]*br_ratio[f]*cs_mg[f])/cs_nmg[f])\n",
    "\n",
    "cs = [i*1e3 for i in cs_pb]\n",
    "#k_f = [1.954,1.356,1.92,2.09,1.0]\n",
    "\n",
    "cs_corr = {files[i] : cs[i] for i in range(len(files))}"
   ]
  },
  {
   "cell_type": "code",
   "execution_count": 8,
   "metadata": {},
   "outputs": [
    {
     "data": {
      "text/plain": [
       "{'ttbar': 2843.169547246376,\n",
       " 'wmp': 30109.0909090909,\n",
       " 'wpwm': 212.66363100320171,\n",
       " 'zwpm': 61.44480294117646,\n",
       " 'n2n2': 0.399}"
      ]
     },
     "execution_count": 8,
     "metadata": {},
     "output_type": "execute_result"
    }
   ],
   "source": [
    "cs_corr"
   ]
  },
  {
   "cell_type": "code",
   "execution_count": 9,
   "metadata": {},
   "outputs": [],
   "source": [
    "df = []\n",
    "for f in range(len(files)):\n",
    "    con_df = []\n",
    "    \n",
    "    for i in range(1,11):\n",
    "        con_df.append(pd.read_csv('~/Datasets/Comp/' + files[f] + str(i) + '.csv'))\n",
    "    \n",
    "    df.append(pd.concat(con_df,ignore_index=True))\n",
    "    df[-1]['type'] = f\n",
    "    \n",
    "    if files[f] == \"n2n2\":\n",
    "        df[-1]['tag'] = 1\n",
    "    else:\n",
    "        df[-1]['tag'] = 0"
   ]
  },
  {
   "cell_type": "code",
   "execution_count": 10,
   "metadata": {},
   "outputs": [
    {
     "data": {
      "text/html": [
       "<div>\n",
       "<style scoped>\n",
       "    .dataframe tbody tr th:only-of-type {\n",
       "        vertical-align: middle;\n",
       "    }\n",
       "\n",
       "    .dataframe tbody tr th {\n",
       "        vertical-align: top;\n",
       "    }\n",
       "\n",
       "    .dataframe thead th {\n",
       "        text-align: right;\n",
       "    }\n",
       "</style>\n",
       "<table border=\"1\" class=\"dataframe\">\n",
       "  <thead>\n",
       "    <tr style=\"text-align: right;\">\n",
       "      <th></th>\n",
       "      <th>ptl</th>\n",
       "      <th>etal</th>\n",
       "      <th>energyl</th>\n",
       "      <th>ptj</th>\n",
       "      <th>etaj</th>\n",
       "      <th>energyj</th>\n",
       "      <th>massj</th>\n",
       "      <th>mjj</th>\n",
       "      <th>rjj</th>\n",
       "      <th>rjl</th>\n",
       "      <th>met</th>\n",
       "      <th>n21_1</th>\n",
       "      <th>n21_2</th>\n",
       "      <th>n32_1</th>\n",
       "      <th>n32_2</th>\n",
       "      <th>infl</th>\n",
       "      <th>drfl</th>\n",
       "      <th>type</th>\n",
       "      <th>tag</th>\n",
       "    </tr>\n",
       "  </thead>\n",
       "  <tbody>\n",
       "    <tr>\n",
       "      <th>0</th>\n",
       "      <td>576.562</td>\n",
       "      <td>0.232894</td>\n",
       "      <td>592.269</td>\n",
       "      <td>459.681</td>\n",
       "      <td>0.248122</td>\n",
       "      <td>475.279</td>\n",
       "      <td>36.1316</td>\n",
       "      <td>379.243</td>\n",
       "      <td>1.14509</td>\n",
       "      <td>2.253050</td>\n",
       "      <td>889.067</td>\n",
       "      <td>0.190804</td>\n",
       "      <td>0.258472</td>\n",
       "      <td>0.517955</td>\n",
       "      <td>0.670891</td>\n",
       "      <td>769.506</td>\n",
       "      <td>1.86471</td>\n",
       "      <td>4</td>\n",
       "      <td>1</td>\n",
       "    </tr>\n",
       "    <tr>\n",
       "      <th>1</th>\n",
       "      <td>823.599</td>\n",
       "      <td>-0.418800</td>\n",
       "      <td>896.887</td>\n",
       "      <td>339.247</td>\n",
       "      <td>-0.696095</td>\n",
       "      <td>431.789</td>\n",
       "      <td>77.3122</td>\n",
       "      <td>1052.580</td>\n",
       "      <td>2.67178</td>\n",
       "      <td>2.072780</td>\n",
       "      <td>1930.330</td>\n",
       "      <td>0.197178</td>\n",
       "      <td>0.222316</td>\n",
       "      <td>0.468612</td>\n",
       "      <td>0.544453</td>\n",
       "      <td>1113.560</td>\n",
       "      <td>1.81712</td>\n",
       "      <td>4</td>\n",
       "      <td>1</td>\n",
       "    </tr>\n",
       "    <tr>\n",
       "      <th>2</th>\n",
       "      <td>354.758</td>\n",
       "      <td>-1.721930</td>\n",
       "      <td>1024.200</td>\n",
       "      <td>883.807</td>\n",
       "      <td>-0.817714</td>\n",
       "      <td>1200.200</td>\n",
       "      <td>98.7750</td>\n",
       "      <td>1764.850</td>\n",
       "      <td>2.82048</td>\n",
       "      <td>0.922735</td>\n",
       "      <td>3256.570</td>\n",
       "      <td>0.328865</td>\n",
       "      <td>0.361102</td>\n",
       "      <td>0.409280</td>\n",
       "      <td>0.760725</td>\n",
       "      <td>1015.050</td>\n",
       "      <td>2.09248</td>\n",
       "      <td>4</td>\n",
       "      <td>1</td>\n",
       "    </tr>\n",
       "    <tr>\n",
       "      <th>3</th>\n",
       "      <td>858.275</td>\n",
       "      <td>0.386685</td>\n",
       "      <td>923.245</td>\n",
       "      <td>1258.810</td>\n",
       "      <td>0.184948</td>\n",
       "      <td>1285.290</td>\n",
       "      <td>112.0150</td>\n",
       "      <td>1546.480</td>\n",
       "      <td>1.12283</td>\n",
       "      <td>2.551460</td>\n",
       "      <td>388.116</td>\n",
       "      <td>0.216487</td>\n",
       "      <td>0.234383</td>\n",
       "      <td>0.308864</td>\n",
       "      <td>0.722296</td>\n",
       "      <td>510.332</td>\n",
       "      <td>2.04593</td>\n",
       "      <td>4</td>\n",
       "      <td>1</td>\n",
       "    </tr>\n",
       "    <tr>\n",
       "      <th>4</th>\n",
       "      <td>590.040</td>\n",
       "      <td>-0.006999</td>\n",
       "      <td>590.055</td>\n",
       "      <td>811.602</td>\n",
       "      <td>0.445120</td>\n",
       "      <td>897.952</td>\n",
       "      <td>90.8938</td>\n",
       "      <td>818.864</td>\n",
       "      <td>1.16291</td>\n",
       "      <td>1.495500</td>\n",
       "      <td>1133.330</td>\n",
       "      <td>0.172456</td>\n",
       "      <td>0.329166</td>\n",
       "      <td>0.461283</td>\n",
       "      <td>0.696238</td>\n",
       "      <td>351.882</td>\n",
       "      <td>3.21196</td>\n",
       "      <td>4</td>\n",
       "      <td>1</td>\n",
       "    </tr>\n",
       "  </tbody>\n",
       "</table>\n",
       "</div>"
      ],
      "text/plain": [
       "       ptl      etal   energyl       ptj      etaj   energyj     massj  \\\n",
       "0  576.562  0.232894   592.269   459.681  0.248122   475.279   36.1316   \n",
       "1  823.599 -0.418800   896.887   339.247 -0.696095   431.789   77.3122   \n",
       "2  354.758 -1.721930  1024.200   883.807 -0.817714  1200.200   98.7750   \n",
       "3  858.275  0.386685   923.245  1258.810  0.184948  1285.290  112.0150   \n",
       "4  590.040 -0.006999   590.055   811.602  0.445120   897.952   90.8938   \n",
       "\n",
       "        mjj      rjj       rjl       met     n21_1     n21_2     n32_1  \\\n",
       "0   379.243  1.14509  2.253050   889.067  0.190804  0.258472  0.517955   \n",
       "1  1052.580  2.67178  2.072780  1930.330  0.197178  0.222316  0.468612   \n",
       "2  1764.850  2.82048  0.922735  3256.570  0.328865  0.361102  0.409280   \n",
       "3  1546.480  1.12283  2.551460   388.116  0.216487  0.234383  0.308864   \n",
       "4   818.864  1.16291  1.495500  1133.330  0.172456  0.329166  0.461283   \n",
       "\n",
       "      n32_2      infl     drfl  type  tag  \n",
       "0  0.670891   769.506  1.86471     4    1  \n",
       "1  0.544453  1113.560  1.81712     4    1  \n",
       "2  0.760725  1015.050  2.09248     4    1  \n",
       "3  0.722296   510.332  2.04593     4    1  \n",
       "4  0.696238   351.882  3.21196     4    1  "
      ]
     },
     "execution_count": 10,
     "metadata": {},
     "output_type": "execute_result"
    }
   ],
   "source": [
    "df[-1].head()"
   ]
  },
  {
   "cell_type": "code",
   "execution_count": 11,
   "metadata": {},
   "outputs": [],
   "source": [
    "dtset = pd.concat(df,ignore_index=True)\n",
    "dtset = shuffle(dtset)\n",
    "dtset['met'] = np.fabs(dtset['met'])"
   ]
  },
  {
   "cell_type": "code",
   "execution_count": 12,
   "metadata": {},
   "outputs": [
    {
     "name": "stderr",
     "output_type": "stream",
     "text": [
      "/tmp/ipykernel_200/3308945723.py:2: UserWarning: Boolean Series key will be reindexed to match DataFrame index.\n",
      "  dtset = dtset[dtset['ptl'] >= 120.0][dtset['ptj'] >= 120.0][dtset['etaj'] <= 2.0][dtset['etaj'] >= -2.0]\n"
     ]
    }
   ],
   "source": [
    "## Analysis Level Cuts\n",
    "dtset = dtset[dtset['ptl'] >= 120.0][dtset['ptj'] >= 120.0][dtset['etaj'] <= 2.0][dtset['etaj'] >= -2.0]"
   ]
  },
  {
   "cell_type": "code",
   "execution_count": 10,
   "metadata": {},
   "outputs": [
    {
     "name": "stderr",
     "output_type": "stream",
     "text": [
      "2022-03-25 23:48:17.570387: W tensorflow/core/framework/cpu_allocator_impl.cc:82] Allocation of 436371176 exceeds 10% of free system memory.\n",
      "2022-03-25 23:48:26.302911: W tensorflow/core/framework/cpu_allocator_impl.cc:82] Allocation of 436371176 exceeds 10% of free system memory.\n"
     ]
    }
   ],
   "source": [
    "cor = tfp.stats.correlation(dtset.values[:,:])"
   ]
  },
  {
   "cell_type": "code",
   "execution_count": 12,
   "metadata": {},
   "outputs": [
    {
     "name": "stdout",
     "output_type": "stream",
     "text": [
      "ptj energyj 0.8332973315995427\n",
      "energyj ptj 0.8332973315995427\n"
     ]
    }
   ],
   "source": [
    "for i in range(len(cor)):\n",
    "    for j in range(len(cor[i])):\n",
    "        if cor[i,j] > 0.8 and i!=j:\n",
    "            print(dtset.keys()[i],dtset.keys()[j],cor[i,j].numpy())"
   ]
  },
  {
   "cell_type": "code",
   "execution_count": 13,
   "metadata": {},
   "outputs": [
    {
     "data": {
      "text/html": [
       "<div>\n",
       "<style scoped>\n",
       "    .dataframe tbody tr th:only-of-type {\n",
       "        vertical-align: middle;\n",
       "    }\n",
       "\n",
       "    .dataframe tbody tr th {\n",
       "        vertical-align: top;\n",
       "    }\n",
       "\n",
       "    .dataframe thead th {\n",
       "        text-align: right;\n",
       "    }\n",
       "</style>\n",
       "<table border=\"1\" class=\"dataframe\">\n",
       "  <thead>\n",
       "    <tr style=\"text-align: right;\">\n",
       "      <th></th>\n",
       "      <th>ptl</th>\n",
       "      <th>etal</th>\n",
       "      <th>energyl</th>\n",
       "      <th>ptj</th>\n",
       "      <th>etaj</th>\n",
       "      <th>energyj</th>\n",
       "      <th>massj</th>\n",
       "      <th>mjj</th>\n",
       "      <th>rjj</th>\n",
       "      <th>rjl</th>\n",
       "      <th>met</th>\n",
       "      <th>n21_1</th>\n",
       "      <th>n21_2</th>\n",
       "      <th>n32_1</th>\n",
       "      <th>n32_2</th>\n",
       "      <th>infl</th>\n",
       "      <th>drfl</th>\n",
       "      <th>type</th>\n",
       "      <th>tag</th>\n",
       "    </tr>\n",
       "  </thead>\n",
       "  <tbody>\n",
       "    <tr>\n",
       "      <th>2889095</th>\n",
       "      <td>1680.200</td>\n",
       "      <td>-0.721871</td>\n",
       "      <td>2137.320</td>\n",
       "      <td>643.200</td>\n",
       "      <td>-0.653916</td>\n",
       "      <td>789.558</td>\n",
       "      <td>78.0634</td>\n",
       "      <td>858.348</td>\n",
       "      <td>0.986222</td>\n",
       "      <td>2.210400</td>\n",
       "      <td>2519.180</td>\n",
       "      <td>0.124872</td>\n",
       "      <td>0.414822</td>\n",
       "      <td>0.448093</td>\n",
       "      <td>0.629633</td>\n",
       "      <td>1202.85000</td>\n",
       "      <td>1.904480</td>\n",
       "      <td>4</td>\n",
       "      <td>1</td>\n",
       "    </tr>\n",
       "    <tr>\n",
       "      <th>1065051</th>\n",
       "      <td>171.589</td>\n",
       "      <td>-1.772230</td>\n",
       "      <td>519.392</td>\n",
       "      <td>215.958</td>\n",
       "      <td>-0.495517</td>\n",
       "      <td>244.361</td>\n",
       "      <td>25.5926</td>\n",
       "      <td>306.185</td>\n",
       "      <td>1.787500</td>\n",
       "      <td>1.392330</td>\n",
       "      <td>724.848</td>\n",
       "      <td>0.504676</td>\n",
       "      <td>0.649846</td>\n",
       "      <td>0.388556</td>\n",
       "      <td>0.509750</td>\n",
       "      <td>394.25700</td>\n",
       "      <td>2.387810</td>\n",
       "      <td>1</td>\n",
       "      <td>0</td>\n",
       "    </tr>\n",
       "    <tr>\n",
       "      <th>1039379</th>\n",
       "      <td>232.606</td>\n",
       "      <td>-1.465800</td>\n",
       "      <td>530.564</td>\n",
       "      <td>203.991</td>\n",
       "      <td>-1.014730</td>\n",
       "      <td>320.629</td>\n",
       "      <td>38.2409</td>\n",
       "      <td>237.687</td>\n",
       "      <td>1.772120</td>\n",
       "      <td>3.146400</td>\n",
       "      <td>612.292</td>\n",
       "      <td>0.000000</td>\n",
       "      <td>0.210730</td>\n",
       "      <td>0.404972</td>\n",
       "      <td>0.683437</td>\n",
       "      <td>231.00800</td>\n",
       "      <td>2.224660</td>\n",
       "      <td>1</td>\n",
       "      <td>0</td>\n",
       "    </tr>\n",
       "    <tr>\n",
       "      <th>2229516</th>\n",
       "      <td>221.972</td>\n",
       "      <td>-1.200690</td>\n",
       "      <td>402.147</td>\n",
       "      <td>617.258</td>\n",
       "      <td>-0.541735</td>\n",
       "      <td>712.376</td>\n",
       "      <td>57.2684</td>\n",
       "      <td>1078.570</td>\n",
       "      <td>0.789508</td>\n",
       "      <td>2.507360</td>\n",
       "      <td>60.218</td>\n",
       "      <td>0.431570</td>\n",
       "      <td>0.716215</td>\n",
       "      <td>0.417707</td>\n",
       "      <td>0.695701</td>\n",
       "      <td>1.83353</td>\n",
       "      <td>0.008284</td>\n",
       "      <td>3</td>\n",
       "      <td>0</td>\n",
       "    </tr>\n",
       "    <tr>\n",
       "      <th>818298</th>\n",
       "      <td>149.701</td>\n",
       "      <td>1.916250</td>\n",
       "      <td>519.657</td>\n",
       "      <td>136.010</td>\n",
       "      <td>1.172730</td>\n",
       "      <td>241.230</td>\n",
       "      <td>15.0486</td>\n",
       "      <td>152.959</td>\n",
       "      <td>2.406990</td>\n",
       "      <td>0.809628</td>\n",
       "      <td>1292.960</td>\n",
       "      <td>0.412683</td>\n",
       "      <td>0.543303</td>\n",
       "      <td>0.380918</td>\n",
       "      <td>0.665851</td>\n",
       "      <td>204.57900</td>\n",
       "      <td>2.439700</td>\n",
       "      <td>1</td>\n",
       "      <td>0</td>\n",
       "    </tr>\n",
       "  </tbody>\n",
       "</table>\n",
       "</div>"
      ],
      "text/plain": [
       "              ptl      etal   energyl      ptj      etaj  energyj    massj  \\\n",
       "2889095  1680.200 -0.721871  2137.320  643.200 -0.653916  789.558  78.0634   \n",
       "1065051   171.589 -1.772230   519.392  215.958 -0.495517  244.361  25.5926   \n",
       "1039379   232.606 -1.465800   530.564  203.991 -1.014730  320.629  38.2409   \n",
       "2229516   221.972 -1.200690   402.147  617.258 -0.541735  712.376  57.2684   \n",
       "818298    149.701  1.916250   519.657  136.010  1.172730  241.230  15.0486   \n",
       "\n",
       "              mjj       rjj       rjl       met     n21_1     n21_2     n32_1  \\\n",
       "2889095   858.348  0.986222  2.210400  2519.180  0.124872  0.414822  0.448093   \n",
       "1065051   306.185  1.787500  1.392330   724.848  0.504676  0.649846  0.388556   \n",
       "1039379   237.687  1.772120  3.146400   612.292  0.000000  0.210730  0.404972   \n",
       "2229516  1078.570  0.789508  2.507360    60.218  0.431570  0.716215  0.417707   \n",
       "818298    152.959  2.406990  0.809628  1292.960  0.412683  0.543303  0.380918   \n",
       "\n",
       "            n32_2        infl      drfl  type  tag  \n",
       "2889095  0.629633  1202.85000  1.904480     4    1  \n",
       "1065051  0.509750   394.25700  2.387810     1    0  \n",
       "1039379  0.683437   231.00800  2.224660     1    0  \n",
       "2229516  0.695701     1.83353  0.008284     3    0  \n",
       "818298   0.665851   204.57900  2.439700     1    0  "
      ]
     },
     "execution_count": 13,
     "metadata": {},
     "output_type": "execute_result"
    }
   ],
   "source": [
    "dtset.head()"
   ]
  },
  {
   "cell_type": "code",
   "execution_count": 13,
   "metadata": {},
   "outputs": [
    {
     "name": "stdout",
     "output_type": "stream",
     "text": [
      "Shapes :  (2296690, 17) (2296690,) (574173, 17) (574173,)\n"
     ]
    }
   ],
   "source": [
    "train_len = int(0.8*len(dtset))\n",
    "x_train = dtset.T[:-2].T[:train_len]\n",
    "y_train = dtset['tag'][:train_len]\n",
    "\n",
    "x_test = dtset.T[:-2].T[train_len:]\n",
    "y_test = dtset['tag'][train_len:]\n",
    "\n",
    "print('Shapes : ',x_train.shape,y_train.shape,x_test.shape,y_test.shape)"
   ]
  },
  {
   "cell_type": "code",
   "execution_count": 14,
   "metadata": {},
   "outputs": [
    {
     "name": "stderr",
     "output_type": "stream",
     "text": [
      "2022-03-26 11:32:28.356924: W tensorflow/core/framework/cpu_allocator_impl.cc:82] Allocation of 312349840 exceeds 10% of free system memory.\n"
     ]
    }
   ],
   "source": [
    "x_train = tf.convert_to_tensor(x_train.values)\n",
    "y_train = tf.convert_to_tensor(y_train.values)"
   ]
  },
  {
   "cell_type": "code",
   "execution_count": 15,
   "metadata": {},
   "outputs": [],
   "source": [
    "with tf.device('/device:GPU:0'):\n",
    "    model = Sequential()\n",
    "    input_shape = x_train.shape\n",
    "\n",
    "    from keras.layers.normalization.batch_normalization import BatchNormalization\n",
    "    model.add(Dense(10,activation = 'relu',input_dim = input_shape[1]))\n",
    "    model.add(BatchNormalization())\n",
    "    model.add(Dense(25,activation = 'relu',input_dim = 10))\n",
    "    model.add(BatchNormalization())\n",
    "    model.add(Dense(35,activation = 'relu',input_dim = 25))\n",
    "    model.add(BatchNormalization())\n",
    "    model.add(Dense(20,activation = 'relu',input_dim = 35))\n",
    "    model.add(BatchNormalization())\n",
    "    model.add(Dense(12,activation = 'relu',input_dim = 20))\n",
    "    model.add(BatchNormalization())\n",
    "    model.add(Dense(8,activation = 'relu',input_dim = 12))\n",
    "    model.add(BatchNormalization())\n",
    "    model.add(Dense(1,activation = 'sigmoid',input_dim = 8))\n",
    "\n",
    "    model.compile(optimizer='adam', loss='binary_crossentropy',metrics=['accuracy'])"
   ]
  },
  {
   "cell_type": "code",
   "execution_count": 16,
   "metadata": {},
   "outputs": [
    {
     "name": "stderr",
     "output_type": "stream",
     "text": [
      "2022-03-26 11:32:33.331330: W tensorflow/core/framework/cpu_allocator_impl.cc:82] Allocation of 249879872 exceeds 10% of free system memory.\n"
     ]
    },
    {
     "name": "stdout",
     "output_type": "stream",
     "text": [
      "Epoch 1/5\n",
      "14352/14355 [============================>.] - ETA: 0s - loss: 0.0157 - accuracy: 0.7918"
     ]
    },
    {
     "name": "stderr",
     "output_type": "stream",
     "text": [
      "2022-03-26 11:35:26.668299: W tensorflow/core/framework/cpu_allocator_impl.cc:82] Allocation of 62469968 exceeds 10% of free system memory.\n"
     ]
    },
    {
     "name": "stdout",
     "output_type": "stream",
     "text": [
      "14355/14355 [==============================] - 187s 13ms/step - loss: 0.0157 - accuracy: 0.7918 - val_loss: 0.4334 - val_accuracy: 0.8181\n",
      "Epoch 2/5\n",
      "14355/14355 [==============================] - 187s 13ms/step - loss: 0.0100 - accuracy: 0.8043 - val_loss: 0.3723 - val_accuracy: 0.8447\n",
      "Epoch 3/5\n",
      "14355/14355 [==============================] - 184s 13ms/step - loss: 0.0090 - accuracy: 0.8349 - val_loss: 0.3675 - val_accuracy: 0.8510\n",
      "Epoch 4/5\n",
      "14355/14355 [==============================] - 183s 13ms/step - loss: 0.0088 - accuracy: 0.8413 - val_loss: 0.3752 - val_accuracy: 0.8502\n",
      "Epoch 5/5\n",
      "14355/14355 [==============================] - 181s 13ms/step - loss: 0.0086 - accuracy: 0.8438 - val_loss: 0.3634 - val_accuracy: 0.8578\n"
     ]
    }
   ],
   "source": [
    "with tf.device('/device:GPU:0'):\n",
    "        model.fit(x_train,y_train,epochs=5,batch_size=128,validation_split=0.2,class_weight={0:.985,1:0.015})"
   ]
  },
  {
   "cell_type": "code",
   "execution_count": 17,
   "metadata": {},
   "outputs": [
    {
     "data": {
      "image/png": "[encoded data removed]",
      "text/plain": [
       "<PIL.Image.Image image mode=RGBA size=1795x710 at 0x7FD888C5ED00>"
      ]
     },
     "execution_count": 17,
     "metadata": {},
     "output_type": "execute_result"
    }
   ],
   "source": [
    "visualkeras.graph_view(model,node_size=25,layer_spacing=100,ellipsize_after=20)"
   ]
  },
  {
   "cell_type": "code",
   "execution_count": 18,
   "metadata": {},
   "outputs": [
    {
     "name": "stderr",
     "output_type": "stream",
     "text": [
      "2022-03-26 11:48:09.131654: W tensorflow/core/framework/cpu_allocator_impl.cc:82] Allocation of 390437368 exceeds 10% of free system memory.\n",
      "2022-03-26 11:48:12.305487: W tensorflow/core/framework/cpu_allocator_impl.cc:82] Allocation of 390437368 exceeds 10% of free system memory.\n"
     ]
    }
   ],
   "source": [
    "with tf.device('/device:GPU:0'):\n",
    "    tot_pred = model.predict(dtset.T[:-2].T)"
   ]
  },
  {
   "cell_type": "code",
   "execution_count": 19,
   "metadata": {},
   "outputs": [],
   "source": [
    "pred_set = dtset.copy()\n",
    "pred_set['pred'] = tot_pred"
   ]
  },
  {
   "cell_type": "code",
   "execution_count": 20,
   "metadata": {},
   "outputs": [
    {
     "name": "stderr",
     "output_type": "stream",
     "text": [
      "/tmp/ipykernel_200/1394875520.py:1: UserWarning: Boolean Series key will be reindexed to match DataFrame index.\n",
      "  cor_pred = len(pred_set[train_len:][pred_set['pred'] >= 0.5][pred_set['tag'] == 1]) + len(pred_set[train_len:][pred_set['pred'] < 0.5][pred_set['tag'] == 0])\n"
     ]
    },
    {
     "name": "stdout",
     "output_type": "stream",
     "text": [
      "The accuracy of the test set is :  0.8574454040855283\n"
     ]
    }
   ],
   "source": [
    "cor_pred = len(pred_set[train_len:][pred_set['pred'] >= 0.5][pred_set['tag'] == 1]) + len(pred_set[train_len:][pred_set['pred'] < 0.5][pred_set['tag'] == 0])\n",
    "print('The accuracy of the test set is : ',cor_pred/(len(pred_set[train_len:])))"
   ]
  },
  {
   "cell_type": "code",
   "execution_count": 21,
   "metadata": {},
   "outputs": [],
   "source": [
    "import warnings\n",
    "warnings.filterwarnings('ignore')"
   ]
  },
  {
   "cell_type": "code",
   "execution_count": 22,
   "metadata": {},
   "outputs": [
    {
     "name": "stdout",
     "output_type": "stream",
     "text": [
      "Correctly identified signal (True Positive)     :  403827\n",
      "Falsely identified signal (Flase Positive)      :  2196\n",
      "Correctly identified background (True Negative) :  2056890\n",
      "Falsely identified background (False Negative)  :  407950\n"
     ]
    }
   ],
   "source": [
    "print('Correctly identified signal (True Positive)     : ',len(pred_set[pred_set['pred'] >= 0.5][pred_set['tag'] == 1]))\n",
    "print('Falsely identified signal (Flase Positive)      : ',len(pred_set[pred_set['pred'] >= 0.5][pred_set['tag'] == 0]))\n",
    "print('Correctly identified background (True Negative) : ',len(pred_set[pred_set['pred'] < 0.5][pred_set['tag'] == 0]))\n",
    "print('Falsely identified background (False Negative)  : ',len(pred_set[pred_set['pred'] < 0.5][pred_set['tag'] == 1]))"
   ]
  },
  {
   "cell_type": "code",
   "execution_count": 23,
   "metadata": {},
   "outputs": [
    {
     "name": "stdout",
     "output_type": "stream",
     "text": [
      "The amount of signal left is     : 0.4772720020328206\n",
      "The amount of background left is : 0.0008947652565421561\n"
     ]
    }
   ],
   "source": [
    "print('The amount of signal left is     :', len(pred_set[pred_set['pred'] >= 0.5][pred_set['tag'] == 1])/len(df[-1]))\n",
    "print('The amount of background left is :', len(pred_set[pred_set['pred'] >= 0.5][pred_set['tag'] == 0])/np.sum([len(i) for i in df[:-1]]))"
   ]
  },
  {
   "cell_type": "code",
   "execution_count": 24,
   "metadata": {},
   "outputs": [
    {
     "name": "stdout",
     "output_type": "stream",
     "text": [
      "Thus, the rate of correct signal prediction is :  0.9945914394012162\n"
     ]
    }
   ],
   "source": [
    "print('Thus, the rate of correct signal prediction is : ',len(pred_set[pred_set['pred'] >= 0.5][dtset['tag'] == 1])/(len(pred_set[pred_set['pred'] >= 0.5])))"
   ]
  },
  {
   "cell_type": "code",
   "execution_count": 25,
   "metadata": {},
   "outputs": [],
   "source": [
    "L = 3000"
   ]
  },
  {
   "cell_type": "code",
   "execution_count": 26,
   "metadata": {},
   "outputs": [
    {
     "name": "stdout",
     "output_type": "stream",
     "text": [
      "n2n2 0.399 403827\n",
      "ttbar 49 2843.169547246376\n",
      "wmp 146 30109.0909090909\n",
      "wpwm 945 212.66363100320171\n",
      "zwpm 1056 61.44480294117646\n"
     ]
    }
   ],
   "source": [
    "ns = cs_corr['n2n2']*(len(pred_set[pred_set['pred'] >= 0.5][pred_set['tag'] == 1])/(1e6))*L\n",
    "print('n2n2',cs_corr['n2n2'],(len(pred_set[pred_set['pred'] >= 0.5][pred_set['tag'] == 1])))\n",
    "nb = 0\n",
    "\n",
    "for i in range(len(files)-1):\n",
    "    nb += cs_corr[files[i]]*(len(pred_set[pred_set['pred'] >= 0.5][pred_set['tag'] == 0][pred_set['type'] == i])/((1e6)))*L\n",
    "    print(files[i],len(pred_set[pred_set['pred'] >= 0.5][pred_set['tag'] == 0][pred_set['type'] == i]),cs_corr[files[i]])"
   ]
  },
  {
   "cell_type": "code",
   "execution_count": 28,
   "metadata": {},
   "outputs": [
    {
     "name": "stdout",
     "output_type": "stream",
     "text": [
      "The number of signal is : 483.380919\n",
      "The number of background is : 14403.286271238756\n",
      "The significance is : 4.027714762218747\n"
     ]
    }
   ],
   "source": [
    "print('The number of signal is :', ns)\n",
    "print('The number of background is :', nb)\n",
    "print('The significance is :',ns/np.sqrt(nb))"
   ]
  },
  {
   "cell_type": "code",
   "execution_count": 29,
   "metadata": {},
   "outputs": [
    {
     "data": {
      "text/html": [
       "<div>\n",
       "<style scoped>\n",
       "    .dataframe tbody tr th:only-of-type {\n",
       "        vertical-align: middle;\n",
       "    }\n",
       "\n",
       "    .dataframe tbody tr th {\n",
       "        vertical-align: top;\n",
       "    }\n",
       "\n",
       "    .dataframe thead th {\n",
       "        text-align: right;\n",
       "    }\n",
       "</style>\n",
       "<table border=\"1\" class=\"dataframe\">\n",
       "  <thead>\n",
       "    <tr style=\"text-align: right;\">\n",
       "      <th></th>\n",
       "      <th>ptl</th>\n",
       "      <th>etal</th>\n",
       "      <th>energyl</th>\n",
       "      <th>ptj</th>\n",
       "      <th>etaj</th>\n",
       "      <th>energyj</th>\n",
       "      <th>massj</th>\n",
       "      <th>mjj</th>\n",
       "      <th>rjj</th>\n",
       "      <th>rjl</th>\n",
       "      <th>met</th>\n",
       "      <th>n21_1</th>\n",
       "      <th>n21_2</th>\n",
       "      <th>n32_1</th>\n",
       "      <th>n32_2</th>\n",
       "      <th>infl</th>\n",
       "      <th>drfl</th>\n",
       "      <th>type</th>\n",
       "      <th>tag</th>\n",
       "    </tr>\n",
       "  </thead>\n",
       "  <tbody>\n",
       "    <tr>\n",
       "      <th>0</th>\n",
       "      <td>136.238</td>\n",
       "      <td>-1.427660</td>\n",
       "      <td>300.323</td>\n",
       "      <td>129.439</td>\n",
       "      <td>0.128849</td>\n",
       "      <td>131.679</td>\n",
       "      <td>17.4703</td>\n",
       "      <td>60.5694</td>\n",
       "      <td>0.661161</td>\n",
       "      <td>1.593140</td>\n",
       "      <td>120.812</td>\n",
       "      <td>0.065091</td>\n",
       "      <td>0.234445</td>\n",
       "      <td>0.000000</td>\n",
       "      <td>0.540246</td>\n",
       "      <td>25.6794</td>\n",
       "      <td>0.01788</td>\n",
       "      <td>2</td>\n",
       "      <td>0</td>\n",
       "    </tr>\n",
       "    <tr>\n",
       "      <th>1</th>\n",
       "      <td>177.032</td>\n",
       "      <td>1.327030</td>\n",
       "      <td>357.172</td>\n",
       "      <td>174.278</td>\n",
       "      <td>0.793436</td>\n",
       "      <td>233.272</td>\n",
       "      <td>23.5985</td>\n",
       "      <td>143.2140</td>\n",
       "      <td>2.138230</td>\n",
       "      <td>0.725024</td>\n",
       "      <td>815.576</td>\n",
       "      <td>0.417532</td>\n",
       "      <td>0.721365</td>\n",
       "      <td>0.505062</td>\n",
       "      <td>0.539998</td>\n",
       "      <td>123.9500</td>\n",
       "      <td>1.49283</td>\n",
       "      <td>2</td>\n",
       "      <td>0</td>\n",
       "    </tr>\n",
       "    <tr>\n",
       "      <th>2</th>\n",
       "      <td>207.788</td>\n",
       "      <td>1.245000</td>\n",
       "      <td>390.733</td>\n",
       "      <td>496.299</td>\n",
       "      <td>1.046030</td>\n",
       "      <td>797.173</td>\n",
       "      <td>76.4529</td>\n",
       "      <td>850.1020</td>\n",
       "      <td>2.101450</td>\n",
       "      <td>0.771494</td>\n",
       "      <td>1909.770</td>\n",
       "      <td>0.218092</td>\n",
       "      <td>0.368900</td>\n",
       "      <td>0.271128</td>\n",
       "      <td>0.504858</td>\n",
       "      <td>297.6910</td>\n",
       "      <td>1.82430</td>\n",
       "      <td>2</td>\n",
       "      <td>0</td>\n",
       "    </tr>\n",
       "    <tr>\n",
       "      <th>3</th>\n",
       "      <td>153.798</td>\n",
       "      <td>0.165185</td>\n",
       "      <td>155.901</td>\n",
       "      <td>391.888</td>\n",
       "      <td>-0.474061</td>\n",
       "      <td>437.114</td>\n",
       "      <td>17.7209</td>\n",
       "      <td>769.6290</td>\n",
       "      <td>2.880610</td>\n",
       "      <td>1.343040</td>\n",
       "      <td>727.674</td>\n",
       "      <td>0.000000</td>\n",
       "      <td>0.209790</td>\n",
       "      <td>0.383100</td>\n",
       "      <td>0.394240</td>\n",
       "      <td>398.0360</td>\n",
       "      <td>1.15835</td>\n",
       "      <td>2</td>\n",
       "      <td>0</td>\n",
       "    </tr>\n",
       "    <tr>\n",
       "      <th>4</th>\n",
       "      <td>163.467</td>\n",
       "      <td>0.292749</td>\n",
       "      <td>170.522</td>\n",
       "      <td>231.087</td>\n",
       "      <td>-0.338531</td>\n",
       "      <td>245.678</td>\n",
       "      <td>24.4810</td>\n",
       "      <td>205.6740</td>\n",
       "      <td>2.039720</td>\n",
       "      <td>0.758088</td>\n",
       "      <td>115.665</td>\n",
       "      <td>0.020697</td>\n",
       "      <td>0.095246</td>\n",
       "      <td>0.163543</td>\n",
       "      <td>0.641187</td>\n",
       "      <td>208.3450</td>\n",
       "      <td>2.38173</td>\n",
       "      <td>2</td>\n",
       "      <td>0</td>\n",
       "    </tr>\n",
       "  </tbody>\n",
       "</table>\n",
       "</div>"
      ],
      "text/plain": [
       "       ptl      etal  energyl      ptj      etaj  energyj    massj       mjj  \\\n",
       "0  136.238 -1.427660  300.323  129.439  0.128849  131.679  17.4703   60.5694   \n",
       "1  177.032  1.327030  357.172  174.278  0.793436  233.272  23.5985  143.2140   \n",
       "2  207.788  1.245000  390.733  496.299  1.046030  797.173  76.4529  850.1020   \n",
       "3  153.798  0.165185  155.901  391.888 -0.474061  437.114  17.7209  769.6290   \n",
       "4  163.467  0.292749  170.522  231.087 -0.338531  245.678  24.4810  205.6740   \n",
       "\n",
       "        rjj       rjl       met     n21_1     n21_2     n32_1     n32_2  \\\n",
       "0  0.661161  1.593140   120.812  0.065091  0.234445  0.000000  0.540246   \n",
       "1  2.138230  0.725024   815.576  0.417532  0.721365  0.505062  0.539998   \n",
       "2  2.101450  0.771494  1909.770  0.218092  0.368900  0.271128  0.504858   \n",
       "3  2.880610  1.343040   727.674  0.000000  0.209790  0.383100  0.394240   \n",
       "4  2.039720  0.758088   115.665  0.020697  0.095246  0.163543  0.641187   \n",
       "\n",
       "       infl     drfl  type  tag  \n",
       "0   25.6794  0.01788     2    0  \n",
       "1  123.9500  1.49283     2    0  \n",
       "2  297.6910  1.82430     2    0  \n",
       "3  398.0360  1.15835     2    0  \n",
       "4  208.3450  2.38173     2    0  "
      ]
     },
     "execution_count": 29,
     "metadata": {},
     "output_type": "execute_result"
    }
   ],
   "source": [
    "df[2].head()"
   ]
  },
  {
   "cell_type": "code",
   "execution_count": 30,
   "metadata": {},
   "outputs": [
    {
     "name": "stderr",
     "output_type": "stream",
     "text": [
      "2022-03-26 13:38:59.665958: W tensorflow/python/util/util.cc:368] Sets are not currently considered sequences, but this may change in the future, so consider avoiding using them.\n"
     ]
    },
    {
     "name": "stdout",
     "output_type": "stream",
     "text": [
      "INFO:tensorflow:Assets written to: /home/blizzard/Datasets/Models/s4/assets\n"
     ]
    }
   ],
   "source": [
    "model.save('/home/blizzard/Datasets/Models/s4')"
   ]
  }
 ],
 "metadata": {
  "interpreter": {
   "hash": "31f2aee4e71d21fbe5cf8b01ff0e069b9275f58929596ceb00d14d90e3e16cd6"
  },
  "kernelspec": {
   "display_name": "Python 3.8.10 64-bit",
   "language": "python",
   "name": "python3"
  },
  "language_info": {
   "codemirror_mode": {
    "name": "ipython",
    "version": 3
   },
   "file_extension": ".py",
   "mimetype": "text/x-python",
   "name": "python",
   "nbconvert_exporter": "python",
   "pygments_lexer": "ipython3",
   "version": "3.8.10"
  },
  "orig_nbformat": 4
 },
 "nbformat": 4,
 "nbformat_minor": 2
}

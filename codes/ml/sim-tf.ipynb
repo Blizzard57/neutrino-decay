{
 "cells": [
  {
   "cell_type": "code",
   "execution_count": 1,
   "metadata": {},
   "outputs": [],
   "source": [
    "import pandas as pd\n",
    "import numpy as np\n",
    "import matplotlib.pyplot as plt\n",
    "import seaborn as sns\n",
    "import matplotlib as mpl\n",
    "from keras.models import Sequential, load_model\n",
    "from keras.layers import LSTM, Dense, Dropout, BatchNormalization\n",
    "from sklearn.utils import shuffle\n",
    "from PIL import ImageFont"
   ]
  },
  {
   "cell_type": "code",
   "execution_count": 2,
   "metadata": {},
   "outputs": [],
   "source": [
    "%matplotlib inline\n",
    "mpl.style.use('seaborn')"
   ]
  },
  {
   "cell_type": "code",
   "execution_count": 3,
   "metadata": {},
   "outputs": [],
   "source": [
    "import warnings\n",
    "warnings.filterwarnings('ignore')"
   ]
  },
  {
   "cell_type": "code",
   "execution_count": 4,
   "metadata": {},
   "outputs": [],
   "source": [
    "import os\n",
    "os.environ['CUDA_VISIBLE_DEVICES'] = '-1'"
   ]
  },
  {
   "cell_type": "code",
   "execution_count": 5,
   "metadata": {},
   "outputs": [],
   "source": [
    "import tensorflow as tf"
   ]
  },
  {
   "cell_type": "code",
   "execution_count": 6,
   "metadata": {},
   "outputs": [],
   "source": [
    "files = ['ttbar','wmp','wpwm','zwpm','n2n2']\n",
    "\n",
    "cs_lo_k = {\n",
    "            'ttbar':988.57,\n",
    "            'wmp'  :1.95*1e5,\n",
    "            'wpwm' :124.31,\n",
    "            'zwpm' :51.82,\n",
    "            'n2n2' :1\n",
    "          }\n",
    "\n",
    "br_ratio = {\n",
    "            'ttbar':0.67*(1-0.67)*2,\n",
    "            'wmp'  :(1-0.67),\n",
    "            'wpwm' :(1-0.67)*0.67*2,\n",
    "            'zwpm' :0.7*(1-0.67),\n",
    "            'n2n2' :1\n",
    "          }\n",
    "\n",
    "cs_nmg = {\n",
    "         'ttbar':393.30,\n",
    "         'wmp'  :7.865*1e4,\n",
    "         'wpwm' :74.96,\n",
    "         'zwpm' :14.28,\n",
    "         'n2n2' :1\n",
    "         }\n",
    "\n",
    "cs_mg = {'ttbar':5.883,\n",
    "          'wmp':111.5,\n",
    "          'wpwm':0.944,\n",
    "          'zwpm':0.2381,\n",
    "          'n2n2':3.99*1e-4\n",
    "        }\n",
    "\n",
    "cs_pb = []\n",
    "for f in files:\n",
    "    cs_pb.append((cs_lo_k[f]*br_ratio[f]*cs_mg[f])/cs_nmg[f])\n",
    "\n",
    "cs = [i*1e3 for i in cs_pb]\n",
    "#k_f = [1.954,1.356,1.92,2.09,1.0]\n",
    "\n",
    "cs_corr = {files[i] : cs[i] for i in range(len(files))}"
   ]
  },
  {
   "cell_type": "code",
   "execution_count": 7,
   "metadata": {},
   "outputs": [
    {
     "data": {
      "text/plain": [
       "{'ttbar': 6538.845366086956,\n",
       " 'wmp': 91227.27272727272,\n",
       " 'wpwm': 692.2567850586979,\n",
       " 'zwpm': 199.5908264705882,\n",
       " 'n2n2': 0.399}"
      ]
     },
     "execution_count": 7,
     "metadata": {},
     "output_type": "execute_result"
    }
   ],
   "source": [
    "cs_corr"
   ]
  },
  {
   "cell_type": "code",
   "execution_count": 8,
   "metadata": {},
   "outputs": [],
   "source": [
    "df = []\n",
    "for f in range(len(files)):\n",
    "    con_df = []\n",
    "    \n",
    "    for i in range(1,11):\n",
    "        con_df.append(pd.read_csv('~/datasets/comp/' + files[f] + str(i) + '.csv'))\n",
    "    \n",
    "    df.append(pd.concat(con_df,ignore_index=True))\n",
    "    df[-1]['type'] = f\n",
    "    \n",
    "    if files[f] == \"n2n2\":\n",
    "        df[-1]['tag'] = 1\n",
    "    else:\n",
    "        df[-1]['tag'] = 0"
   ]
  },
  {
   "cell_type": "code",
   "execution_count": 9,
   "metadata": {},
   "outputs": [
    {
     "data": {
      "text/html": [
       "<div>\n",
       "<style scoped>\n",
       "    .dataframe tbody tr th:only-of-type {\n",
       "        vertical-align: middle;\n",
       "    }\n",
       "\n",
       "    .dataframe tbody tr th {\n",
       "        vertical-align: top;\n",
       "    }\n",
       "\n",
       "    .dataframe thead th {\n",
       "        text-align: right;\n",
       "    }\n",
       "</style>\n",
       "<table border=\"1\" class=\"dataframe\">\n",
       "  <thead>\n",
       "    <tr style=\"text-align: right;\">\n",
       "      <th></th>\n",
       "      <th>ptl</th>\n",
       "      <th>etal</th>\n",
       "      <th>energyl</th>\n",
       "      <th>ptj</th>\n",
       "      <th>etaj</th>\n",
       "      <th>energyj</th>\n",
       "      <th>massj</th>\n",
       "      <th>mjj</th>\n",
       "      <th>rjj</th>\n",
       "      <th>rjl</th>\n",
       "      <th>met</th>\n",
       "      <th>n21_1</th>\n",
       "      <th>n21_2</th>\n",
       "      <th>n32_1</th>\n",
       "      <th>n32_2</th>\n",
       "      <th>infl</th>\n",
       "      <th>drfl</th>\n",
       "      <th>type</th>\n",
       "      <th>tag</th>\n",
       "    </tr>\n",
       "  </thead>\n",
       "  <tbody>\n",
       "    <tr>\n",
       "      <th>0</th>\n",
       "      <td>576.562</td>\n",
       "      <td>0.232894</td>\n",
       "      <td>592.269</td>\n",
       "      <td>459.681</td>\n",
       "      <td>0.248122</td>\n",
       "      <td>475.279</td>\n",
       "      <td>36.1316</td>\n",
       "      <td>379.243</td>\n",
       "      <td>1.14509</td>\n",
       "      <td>2.253050</td>\n",
       "      <td>889.067</td>\n",
       "      <td>0.190804</td>\n",
       "      <td>0.258472</td>\n",
       "      <td>0.517955</td>\n",
       "      <td>0.670891</td>\n",
       "      <td>769.506</td>\n",
       "      <td>1.86471</td>\n",
       "      <td>4</td>\n",
       "      <td>1</td>\n",
       "    </tr>\n",
       "    <tr>\n",
       "      <th>1</th>\n",
       "      <td>823.599</td>\n",
       "      <td>-0.418800</td>\n",
       "      <td>896.887</td>\n",
       "      <td>339.247</td>\n",
       "      <td>-0.696095</td>\n",
       "      <td>431.789</td>\n",
       "      <td>77.3122</td>\n",
       "      <td>1052.580</td>\n",
       "      <td>2.67178</td>\n",
       "      <td>2.072780</td>\n",
       "      <td>1930.330</td>\n",
       "      <td>0.197178</td>\n",
       "      <td>0.222316</td>\n",
       "      <td>0.468612</td>\n",
       "      <td>0.544453</td>\n",
       "      <td>1113.560</td>\n",
       "      <td>1.81712</td>\n",
       "      <td>4</td>\n",
       "      <td>1</td>\n",
       "    </tr>\n",
       "    <tr>\n",
       "      <th>2</th>\n",
       "      <td>354.758</td>\n",
       "      <td>-1.721930</td>\n",
       "      <td>1024.200</td>\n",
       "      <td>883.807</td>\n",
       "      <td>-0.817714</td>\n",
       "      <td>1200.200</td>\n",
       "      <td>98.7750</td>\n",
       "      <td>1764.850</td>\n",
       "      <td>2.82048</td>\n",
       "      <td>0.922735</td>\n",
       "      <td>3256.570</td>\n",
       "      <td>0.328865</td>\n",
       "      <td>0.361102</td>\n",
       "      <td>0.409280</td>\n",
       "      <td>0.760725</td>\n",
       "      <td>1015.050</td>\n",
       "      <td>2.09248</td>\n",
       "      <td>4</td>\n",
       "      <td>1</td>\n",
       "    </tr>\n",
       "    <tr>\n",
       "      <th>3</th>\n",
       "      <td>858.275</td>\n",
       "      <td>0.386685</td>\n",
       "      <td>923.245</td>\n",
       "      <td>1258.810</td>\n",
       "      <td>0.184948</td>\n",
       "      <td>1285.290</td>\n",
       "      <td>112.0150</td>\n",
       "      <td>1546.480</td>\n",
       "      <td>1.12283</td>\n",
       "      <td>2.551460</td>\n",
       "      <td>388.116</td>\n",
       "      <td>0.216487</td>\n",
       "      <td>0.234383</td>\n",
       "      <td>0.308864</td>\n",
       "      <td>0.722296</td>\n",
       "      <td>510.332</td>\n",
       "      <td>2.04593</td>\n",
       "      <td>4</td>\n",
       "      <td>1</td>\n",
       "    </tr>\n",
       "    <tr>\n",
       "      <th>4</th>\n",
       "      <td>590.040</td>\n",
       "      <td>-0.006999</td>\n",
       "      <td>590.055</td>\n",
       "      <td>811.602</td>\n",
       "      <td>0.445120</td>\n",
       "      <td>897.952</td>\n",
       "      <td>90.8938</td>\n",
       "      <td>818.864</td>\n",
       "      <td>1.16291</td>\n",
       "      <td>1.495500</td>\n",
       "      <td>1133.330</td>\n",
       "      <td>0.172456</td>\n",
       "      <td>0.329166</td>\n",
       "      <td>0.461283</td>\n",
       "      <td>0.696238</td>\n",
       "      <td>351.882</td>\n",
       "      <td>3.21196</td>\n",
       "      <td>4</td>\n",
       "      <td>1</td>\n",
       "    </tr>\n",
       "  </tbody>\n",
       "</table>\n",
       "</div>"
      ],
      "text/plain": [
       "       ptl      etal   energyl       ptj      etaj   energyj     massj  \\\n",
       "0  576.562  0.232894   592.269   459.681  0.248122   475.279   36.1316   \n",
       "1  823.599 -0.418800   896.887   339.247 -0.696095   431.789   77.3122   \n",
       "2  354.758 -1.721930  1024.200   883.807 -0.817714  1200.200   98.7750   \n",
       "3  858.275  0.386685   923.245  1258.810  0.184948  1285.290  112.0150   \n",
       "4  590.040 -0.006999   590.055   811.602  0.445120   897.952   90.8938   \n",
       "\n",
       "        mjj      rjj       rjl       met     n21_1     n21_2     n32_1  \\\n",
       "0   379.243  1.14509  2.253050   889.067  0.190804  0.258472  0.517955   \n",
       "1  1052.580  2.67178  2.072780  1930.330  0.197178  0.222316  0.468612   \n",
       "2  1764.850  2.82048  0.922735  3256.570  0.328865  0.361102  0.409280   \n",
       "3  1546.480  1.12283  2.551460   388.116  0.216487  0.234383  0.308864   \n",
       "4   818.864  1.16291  1.495500  1133.330  0.172456  0.329166  0.461283   \n",
       "\n",
       "      n32_2      infl     drfl  type  tag  \n",
       "0  0.670891   769.506  1.86471     4    1  \n",
       "1  0.544453  1113.560  1.81712     4    1  \n",
       "2  0.760725  1015.050  2.09248     4    1  \n",
       "3  0.722296   510.332  2.04593     4    1  \n",
       "4  0.696238   351.882  3.21196     4    1  "
      ]
     },
     "execution_count": 9,
     "metadata": {},
     "output_type": "execute_result"
    }
   ],
   "source": [
    "df[-1].head()"
   ]
  },
  {
   "cell_type": "code",
   "execution_count": 10,
   "metadata": {},
   "outputs": [],
   "source": [
    "dtset = pd.concat(df,ignore_index=True)\n",
    "dtset = shuffle(dtset)\n",
    "dtset['met'] = np.fabs(dtset['met'])"
   ]
  },
  {
   "cell_type": "code",
   "execution_count": 11,
   "metadata": {},
   "outputs": [],
   "source": [
    "## Analysis Level Cuts\n",
    "dtset = dtset[dtset['ptl'] >= 120.0][dtset['ptj'] >= 120.0][dtset['etaj'] <= 2.0][dtset['etaj'] >= -2.0]"
   ]
  },
  {
   "cell_type": "code",
   "execution_count": 12,
   "metadata": {},
   "outputs": [
    {
     "data": {
      "text/html": [
       "<div>\n",
       "<style scoped>\n",
       "    .dataframe tbody tr th:only-of-type {\n",
       "        vertical-align: middle;\n",
       "    }\n",
       "\n",
       "    .dataframe tbody tr th {\n",
       "        vertical-align: top;\n",
       "    }\n",
       "\n",
       "    .dataframe thead th {\n",
       "        text-align: right;\n",
       "    }\n",
       "</style>\n",
       "<table border=\"1\" class=\"dataframe\">\n",
       "  <thead>\n",
       "    <tr style=\"text-align: right;\">\n",
       "      <th></th>\n",
       "      <th>ptl</th>\n",
       "      <th>etal</th>\n",
       "      <th>energyl</th>\n",
       "      <th>ptj</th>\n",
       "      <th>etaj</th>\n",
       "      <th>energyj</th>\n",
       "      <th>massj</th>\n",
       "      <th>mjj</th>\n",
       "      <th>rjj</th>\n",
       "      <th>rjl</th>\n",
       "      <th>met</th>\n",
       "      <th>n21_1</th>\n",
       "      <th>n21_2</th>\n",
       "      <th>n32_1</th>\n",
       "      <th>n32_2</th>\n",
       "      <th>infl</th>\n",
       "      <th>drfl</th>\n",
       "      <th>type</th>\n",
       "      <th>tag</th>\n",
       "    </tr>\n",
       "  </thead>\n",
       "  <tbody>\n",
       "    <tr>\n",
       "      <th>2328116</th>\n",
       "      <td>166.813</td>\n",
       "      <td>0.279813</td>\n",
       "      <td>173.386</td>\n",
       "      <td>254.230</td>\n",
       "      <td>0.352519</td>\n",
       "      <td>271.790</td>\n",
       "      <td>29.4395</td>\n",
       "      <td>404.557</td>\n",
       "      <td>3.05915</td>\n",
       "      <td>0.437055</td>\n",
       "      <td>368.590</td>\n",
       "      <td>0.231744</td>\n",
       "      <td>0.302312</td>\n",
       "      <td>0.362637</td>\n",
       "      <td>0.407019</td>\n",
       "      <td>170.818</td>\n",
       "      <td>2.881140</td>\n",
       "      <td>3</td>\n",
       "      <td>0</td>\n",
       "    </tr>\n",
       "    <tr>\n",
       "      <th>298656</th>\n",
       "      <td>172.337</td>\n",
       "      <td>-1.449760</td>\n",
       "      <td>387.474</td>\n",
       "      <td>215.413</td>\n",
       "      <td>-0.650419</td>\n",
       "      <td>262.890</td>\n",
       "      <td>12.2127</td>\n",
       "      <td>276.733</td>\n",
       "      <td>2.32963</td>\n",
       "      <td>3.024540</td>\n",
       "      <td>2232.060</td>\n",
       "      <td>0.183070</td>\n",
       "      <td>0.433707</td>\n",
       "      <td>0.465962</td>\n",
       "      <td>0.540611</td>\n",
       "      <td>198.450</td>\n",
       "      <td>1.928980</td>\n",
       "      <td>0</td>\n",
       "      <td>0</td>\n",
       "    </tr>\n",
       "    <tr>\n",
       "      <th>1071065</th>\n",
       "      <td>241.458</td>\n",
       "      <td>-1.540570</td>\n",
       "      <td>589.341</td>\n",
       "      <td>315.713</td>\n",
       "      <td>-1.008730</td>\n",
       "      <td>491.203</td>\n",
       "      <td>27.5480</td>\n",
       "      <td>235.939</td>\n",
       "      <td>2.22513</td>\n",
       "      <td>0.571852</td>\n",
       "      <td>1082.930</td>\n",
       "      <td>0.000000</td>\n",
       "      <td>0.353036</td>\n",
       "      <td>0.646715</td>\n",
       "      <td>0.882511</td>\n",
       "      <td>159.273</td>\n",
       "      <td>1.871430</td>\n",
       "      <td>1</td>\n",
       "      <td>0</td>\n",
       "    </tr>\n",
       "    <tr>\n",
       "      <th>168264</th>\n",
       "      <td>235.601</td>\n",
       "      <td>1.960780</td>\n",
       "      <td>853.532</td>\n",
       "      <td>607.401</td>\n",
       "      <td>0.524314</td>\n",
       "      <td>710.457</td>\n",
       "      <td>157.3240</td>\n",
       "      <td>642.090</td>\n",
       "      <td>2.96183</td>\n",
       "      <td>1.453670</td>\n",
       "      <td>1491.500</td>\n",
       "      <td>0.129236</td>\n",
       "      <td>0.322998</td>\n",
       "      <td>0.358928</td>\n",
       "      <td>0.644124</td>\n",
       "      <td>170.036</td>\n",
       "      <td>0.202586</td>\n",
       "      <td>0</td>\n",
       "      <td>0</td>\n",
       "    </tr>\n",
       "    <tr>\n",
       "      <th>131067</th>\n",
       "      <td>156.873</td>\n",
       "      <td>-0.118152</td>\n",
       "      <td>157.970</td>\n",
       "      <td>141.430</td>\n",
       "      <td>-1.023620</td>\n",
       "      <td>222.570</td>\n",
       "      <td>12.3802</td>\n",
       "      <td>223.188</td>\n",
       "      <td>2.16313</td>\n",
       "      <td>3.256590</td>\n",
       "      <td>35.294</td>\n",
       "      <td>0.023580</td>\n",
       "      <td>0.202986</td>\n",
       "      <td>0.180170</td>\n",
       "      <td>0.477805</td>\n",
       "      <td>199.383</td>\n",
       "      <td>3.183400</td>\n",
       "      <td>0</td>\n",
       "      <td>0</td>\n",
       "    </tr>\n",
       "  </tbody>\n",
       "</table>\n",
       "</div>"
      ],
      "text/plain": [
       "             ptl      etal  energyl      ptj      etaj  energyj     massj  \\\n",
       "2328116  166.813  0.279813  173.386  254.230  0.352519  271.790   29.4395   \n",
       "298656   172.337 -1.449760  387.474  215.413 -0.650419  262.890   12.2127   \n",
       "1071065  241.458 -1.540570  589.341  315.713 -1.008730  491.203   27.5480   \n",
       "168264   235.601  1.960780  853.532  607.401  0.524314  710.457  157.3240   \n",
       "131067   156.873 -0.118152  157.970  141.430 -1.023620  222.570   12.3802   \n",
       "\n",
       "             mjj      rjj       rjl       met     n21_1     n21_2     n32_1  \\\n",
       "2328116  404.557  3.05915  0.437055   368.590  0.231744  0.302312  0.362637   \n",
       "298656   276.733  2.32963  3.024540  2232.060  0.183070  0.433707  0.465962   \n",
       "1071065  235.939  2.22513  0.571852  1082.930  0.000000  0.353036  0.646715   \n",
       "168264   642.090  2.96183  1.453670  1491.500  0.129236  0.322998  0.358928   \n",
       "131067   223.188  2.16313  3.256590    35.294  0.023580  0.202986  0.180170   \n",
       "\n",
       "            n32_2     infl      drfl  type  tag  \n",
       "2328116  0.407019  170.818  2.881140     3    0  \n",
       "298656   0.540611  198.450  1.928980     0    0  \n",
       "1071065  0.882511  159.273  1.871430     1    0  \n",
       "168264   0.644124  170.036  0.202586     0    0  \n",
       "131067   0.477805  199.383  3.183400     0    0  "
      ]
     },
     "execution_count": 12,
     "metadata": {},
     "output_type": "execute_result"
    }
   ],
   "source": [
    "dtset.head()"
   ]
  },
  {
   "cell_type": "code",
   "execution_count": 13,
   "metadata": {
    "scrolled": true
   },
   "outputs": [
    {
     "name": "stdout",
     "output_type": "stream",
     "text": [
      "Shapes :  (2296690, 17) (2296690,) (574173, 17) (574173,)\n"
     ]
    }
   ],
   "source": [
    "train_len = int(0.8*len(dtset))\n",
    "x_train = dtset.T[:-2].T[:train_len]\n",
    "y_train = dtset['tag'][:train_len]\n",
    "\n",
    "x_test = dtset.T[:-2].T[train_len:]\n",
    "y_test = dtset['tag'][train_len:]\n",
    "\n",
    "print('Shapes : ',x_train.shape,y_train.shape,x_test.shape,y_test.shape)"
   ]
  },
  {
   "cell_type": "code",
   "execution_count": 14,
   "metadata": {},
   "outputs": [
    {
     "name": "stderr",
     "output_type": "stream",
     "text": [
      "2022-03-28 19:40:27.118843: E tensorflow/stream_executor/cuda/cuda_driver.cc:271] failed call to cuInit: CUDA_ERROR_NO_DEVICE: no CUDA-capable device is detected\n",
      "2022-03-28 19:40:27.118921: I tensorflow/stream_executor/cuda/cuda_diagnostics.cc:169] retrieving CUDA diagnostic information for host: gnode51\n",
      "2022-03-28 19:40:27.118931: I tensorflow/stream_executor/cuda/cuda_diagnostics.cc:176] hostname: gnode51\n",
      "2022-03-28 19:40:27.119160: I tensorflow/stream_executor/cuda/cuda_diagnostics.cc:200] libcuda reported version is: 440.118.2\n",
      "2022-03-28 19:40:27.119208: I tensorflow/stream_executor/cuda/cuda_diagnostics.cc:204] kernel reported version is: 440.118.2\n",
      "2022-03-28 19:40:27.119216: I tensorflow/stream_executor/cuda/cuda_diagnostics.cc:310] kernel version seems to match DSO: 440.118.2\n",
      "2022-03-28 19:40:27.135421: I tensorflow/core/platform/cpu_feature_guard.cc:151] This TensorFlow binary is optimized with oneAPI Deep Neural Network Library (oneDNN) to use the following CPU instructions in performance-critical operations:  SSE4.1 SSE4.2 AVX AVX2 FMA\n",
      "To enable them in other operations, rebuild TensorFlow with the appropriate compiler flags.\n"
     ]
    }
   ],
   "source": [
    "model = Sequential()\n",
    "input_shape = x_train.shape\n",
    "\n",
    "from keras.layers.normalization.batch_normalization import BatchNormalization\n",
    "model.add(Dense(10,activation = 'relu',input_dim = input_shape[1]))\n",
    "model.add(BatchNormalization())\n",
    "model.add(Dense(25,activation = 'relu',input_dim = 10))\n",
    "model.add(BatchNormalization())\n",
    "model.add(Dense(40,activation = 'relu',input_dim = 25))\n",
    "model.add(BatchNormalization())\n",
    "model.add(Dense(20,activation = 'relu',input_dim = 40))\n",
    "model.add(BatchNormalization())\n",
    "model.add(Dense(12,activation = 'relu',input_dim = 20))\n",
    "model.add(BatchNormalization())\n",
    "model.add(Dense(8,activation = 'relu',input_dim = 12))\n",
    "model.add(BatchNormalization())\n",
    "model.add(Dense(1,activation = 'sigmoid',input_dim = 8))\n",
    "\n",
    "model.compile(optimizer='adam', loss='binary_crossentropy',metrics=['accuracy'])"
   ]
  },
  {
   "cell_type": "code",
   "execution_count": 35,
   "metadata": {},
   "outputs": [
    {
     "name": "stdout",
     "output_type": "stream",
     "text": [
      "Epoch 1/10\n",
      "14355/14355 [==============================] - 36s 2ms/step - loss: 0.0064 - accuracy: 0.8257 - val_loss: 0.3762 - val_accuracy: 0.8485\n",
      "Epoch 2/10\n",
      "14355/14355 [==============================] - 36s 2ms/step - loss: 0.0063 - accuracy: 0.8268 - val_loss: 0.4261 - val_accuracy: 0.8238\n",
      "Epoch 3/10\n",
      "14355/14355 [==============================] - 36s 2ms/step - loss: 0.0063 - accuracy: 0.8265 - val_loss: 0.4170 - val_accuracy: 0.8306\n",
      "Epoch 4/10\n",
      "14355/14355 [==============================] - 36s 2ms/step - loss: 0.0063 - accuracy: 0.8290 - val_loss: 0.3654 - val_accuracy: 0.8471\n",
      "Epoch 5/10\n",
      "14355/14355 [==============================] - 36s 2ms/step - loss: 0.0063 - accuracy: 0.8294 - val_loss: 0.4675 - val_accuracy: 0.8187\n",
      "Epoch 6/10\n",
      "14355/14355 [==============================] - 36s 2ms/step - loss: 0.0063 - accuracy: 0.8293 - val_loss: 0.3712 - val_accuracy: 0.8527\n",
      "Epoch 7/10\n",
      "14355/14355 [==============================] - 36s 2ms/step - loss: 0.0063 - accuracy: 0.8292 - val_loss: 0.4891 - val_accuracy: 0.8055\n",
      "Epoch 8/10\n",
      "14355/14355 [==============================] - 36s 2ms/step - loss: 0.0062 - accuracy: 0.8299 - val_loss: 0.4251 - val_accuracy: 0.8268\n",
      "Epoch 9/10\n",
      "14355/14355 [==============================] - 36s 2ms/step - loss: 0.0062 - accuracy: 0.8315 - val_loss: 0.4061 - val_accuracy: 0.8385\n",
      "Epoch 10/10\n",
      "14355/14355 [==============================] - 35s 2ms/step - loss: 0.0062 - accuracy: 0.8312 - val_loss: 0.4201 - val_accuracy: 0.8342\n"
     ]
    },
    {
     "data": {
      "text/plain": [
       "<keras.callbacks.History at 0x14e58d871fc0>"
      ]
     },
     "execution_count": 35,
     "metadata": {},
     "output_type": "execute_result"
    }
   ],
   "source": [
    "model.fit(x_train,y_train,epochs=10,batch_size=128,validation_split=0.2,class_weight={0:.99,1:0.01})"
   ]
  },
  {
   "cell_type": "code",
   "execution_count": 36,
   "metadata": {},
   "outputs": [],
   "source": [
    "tot_pred = model.predict(dtset.T[:-2].T)"
   ]
  },
  {
   "cell_type": "code",
   "execution_count": 37,
   "metadata": {},
   "outputs": [],
   "source": [
    "pred_set = dtset.copy()\n",
    "pred_set['pred'] = tot_pred"
   ]
  },
  {
   "cell_type": "code",
   "execution_count": 38,
   "metadata": {},
   "outputs": [
    {
     "name": "stdout",
     "output_type": "stream",
     "text": [
      "The accuracy of the test set is :  0.834579473433965\n"
     ]
    }
   ],
   "source": [
    "cor_pred = len(pred_set[train_len:][pred_set['pred'] >= 0.5][pred_set['tag'] == 1]) + len(pred_set[train_len:][pred_set['pred'] < 0.5][pred_set['tag'] == 0])\n",
    "print('The accuracy of the test set is : ',cor_pred/(len(pred_set[train_len:])))"
   ]
  },
  {
   "cell_type": "code",
   "execution_count": 39,
   "metadata": {},
   "outputs": [
    {
     "name": "stdout",
     "output_type": "stream",
     "text": [
      "Correctly identified signal (True Positive)     :  338105\n",
      "Falsely identified signal (Flase Positive)      :  1174\n",
      "Correctly identified background (True Negative) :  2057912\n",
      "Falsely identified background (False Negative)  :  473672\n"
     ]
    }
   ],
   "source": [
    "print('Correctly identified signal (True Positive)     : ',len(pred_set[pred_set['pred'] >= 0.5][pred_set['tag'] == 1]))\n",
    "print('Falsely identified signal (Flase Positive)      : ',len(pred_set[pred_set['pred'] >= 0.5][pred_set['tag'] == 0]))\n",
    "print('Correctly identified background (True Negative) : ',len(pred_set[pred_set['pred'] < 0.5][pred_set['tag'] == 0]))\n",
    "print('Falsely identified background (False Negative)  : ',len(pred_set[pred_set['pred'] < 0.5][pred_set['tag'] == 1]))"
   ]
  },
  {
   "cell_type": "code",
   "execution_count": 40,
   "metadata": {},
   "outputs": [
    {
     "name": "stdout",
     "output_type": "stream",
     "text": [
      "The amount of signal left is     : 0.39959698149778694\n",
      "The amount of background left is : 0.0004783490032698047\n"
     ]
    }
   ],
   "source": [
    "print('The amount of signal left is     :', len(pred_set[pred_set['pred'] >= 0.5][pred_set['tag'] == 1])/len(df[-1]))\n",
    "print('The amount of background left is :', len(pred_set[pred_set['pred'] >= 0.5][pred_set['tag'] == 0])/np.sum([len(i) for i in df[:-1]]))"
   ]
  },
  {
   "cell_type": "code",
   "execution_count": 41,
   "metadata": {},
   "outputs": [
    {
     "name": "stdout",
     "output_type": "stream",
     "text": [
      "Thus, the rate of correct signal prediction is :  0.9965397209965839\n"
     ]
    }
   ],
   "source": [
    "print('Thus, the rate of correct signal prediction is : ',len(pred_set[pred_set['pred'] >= 0.5][dtset['tag'] == 1])/(len(pred_set[pred_set['pred'] >= 0.5])))"
   ]
  },
  {
   "cell_type": "code",
   "execution_count": 42,
   "metadata": {},
   "outputs": [],
   "source": [
    "L = 3000"
   ]
  },
  {
   "cell_type": "code",
   "execution_count": 45,
   "metadata": {},
   "outputs": [
    {
     "name": "stdout",
     "output_type": "stream",
     "text": [
      "n2n2 0.399 224090\n",
      "ttbar 5 6538.845366086956\n",
      "wmp 30 91227.27272727272\n",
      "wpwm 163 692.2567850586979\n",
      "zwpm 185 199.5908264705882\n"
     ]
    }
   ],
   "source": [
    "ns = cs_corr['n2n2']*(len(pred_set[pred_set['pred'] >= 0.7][pred_set['tag'] == 1])/(1e6))*L\n",
    "print('n2n2',cs_corr['n2n2'],(len(pred_set[pred_set['pred'] >= 0.7][pred_set['tag'] == 1])))\n",
    "nb = 0\n",
    "\n",
    "for i in range(len(files)-1):\n",
    "    nb += cs_corr[files[i]]*(len(pred_set[pred_set['pred'] >= 0.7][pred_set['tag'] == 0][pred_set['type'] == i])/((1e6)))*L\n",
    "    print(files[i],len(pred_set[pred_set['pred'] >= 0.7][pred_set['tag'] == 0][pred_set['type'] == i]),cs_corr[files[i]])"
   ]
  },
  {
   "cell_type": "code",
   "execution_count": 46,
   "metadata": {},
   "outputs": [
    {
     "name": "stdout",
     "output_type": "stream",
     "text": [
      "The number of signal is : 268.23573000000005\n",
      "The number of background is : 8757.823702530732\n",
      "The significance is : 2.86627943545068\n"
     ]
    }
   ],
   "source": [
    "print('The number of signal is :', ns)\n",
    "print('The number of background is :', nb)\n",
    "print('The significance is :',ns/np.sqrt(nb))"
   ]
  },
  {
   "cell_type": "code",
   "execution_count": 24,
   "metadata": {},
   "outputs": [
    {
     "name": "stderr",
     "output_type": "stream",
     "text": [
      "2022-03-28 12:42:52.648281: W tensorflow/python/util/util.cc:368] Sets are not currently considered sequences, but this may change in the future, so consider avoiding using them.\n"
     ]
    },
    {
     "name": "stdout",
     "output_type": "stream",
     "text": [
      "INFO:tensorflow:Assets written to: /home2/kalp_shah/datasets/models/s4/assets\n"
     ]
    }
   ],
   "source": [
    "model.save('/home2/kalp_shah/datasets/models/s4')"
   ]
  },
  {
   "cell_type": "code",
   "execution_count": 28,
   "metadata": {},
   "outputs": [],
   "source": [
    "import tensorflow_probability as tfp\n",
    "cor = tfp.stats.correlation(dtset.values[:-2,:-2])"
   ]
  },
  {
   "cell_type": "code",
   "execution_count": 29,
   "metadata": {},
   "outputs": [
    {
     "name": "stdout",
     "output_type": "stream",
     "text": [
      "ptj energyj 0.8332972254692859\n",
      "energyj ptj 0.8332972254692859\n"
     ]
    }
   ],
   "source": [
    "for i in range(len(cor)):\n",
    "    for j in range(len(cor[i])):\n",
    "        if cor[i,j] > 0.8 and i!=j:\n",
    "            print(dtset.keys()[i],dtset.keys()[j],cor[i,j].numpy())"
   ]
  },
  {
   "cell_type": "code",
   "execution_count": 65,
   "metadata": {
    "scrolled": true
   },
   "outputs": [
    {
     "data": {
      "image/png": "[encoded data removed]",
      "text/plain": [
       "<Figure size 576x396 with 1 Axes>"
      ]
     },
     "metadata": {},
     "output_type": "display_data"
    }
   ],
   "source": [
    "for i in range(len(files)):\n",
    "    data = pred_set[pred_set[\"type\"] == i][pred_set[\"pred\"]>=0.5][\"pred\"].values\n",
    "    plt.hist(data,alpha=0.7,bins=20,weights=np.ones_like(data)/len(data))\n",
    "plt.show()"
   ]
  },
  {
   "cell_type": "code",
   "execution_count": 53,
   "metadata": {},
   "outputs": [
    {
     "data": {
      "text/plain": [
       "array([2.5260133e-06, 9.0794361e-05, 9.8490336e-06, ..., 9.6628992e-07,\n",
       "       2.2237360e-02, 1.9050436e-05], dtype=float32)"
      ]
     },
     "execution_count": 53,
     "metadata": {},
     "output_type": "execute_result"
    }
   ],
   "source": [
    "pred_set[pred_set[\"type\"] == 0][\"pred\"].values"
   ]
  },
  {
   "cell_type": "code",
   "execution_count": null,
   "metadata": {},
   "outputs": [],
   "source": []
  }
 ],
 "metadata": {
  "interpreter": {
   "hash": "31f2aee4e71d21fbe5cf8b01ff0e069b9275f58929596ceb00d14d90e3e16cd6"
  },
  "kernelspec": {
   "display_name": "Python 3 (ipykernel)",
   "language": "python",
   "name": "python3"
  },
  "language_info": {
   "codemirror_mode": {
    "name": "ipython",
    "version": 3
   },
   "file_extension": ".py",
   "mimetype": "text/x-python",
   "name": "python",
   "nbconvert_exporter": "python",
   "pygments_lexer": "ipython3",
   "version": "3.10.4"
  }
 },
 "nbformat": 4,
 "nbformat_minor": 2
}

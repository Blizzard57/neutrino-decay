{
 "cells": [
  {
   "cell_type": "code",
   "execution_count": 19,
   "metadata": {},
   "outputs": [],
   "source": [
    "import pandas as pd\n",
    "import matplotlib.pyplot as plt\n",
    "import matplotlib as mlp\n",
    "import numpy as np\n",
    "%matplotlib inline\n",
    "mlp.style.use('seaborn')"
   ]
  },
  {
   "cell_type": "code",
   "execution_count": 7,
   "metadata": {},
   "outputs": [],
   "source": [
    "files = ['ttbar','wmp','wpwm','zwpm','n2n2']\n",
    "\n",
    "cs_pb = [1.258,24.6,1.6*1e-2,3.83*1e-2,3.99*1e-4]\n",
    "cs = [i*1e3 for i in cs_pb]\n",
    "k_f = [1.954,1.356,1.92,2.09,1.0]\n",
    "\n",
    "cs_corr = {files[i] : cs[i]*k_f[i] for i in range(len(files))}"
   ]
  },
  {
   "cell_type": "code",
   "execution_count": 35,
   "metadata": {},
   "outputs": [],
   "source": [
    "df = []\n",
    "\n",
    "for f in files:\n",
    "    df.append(pd.read_csv('~/Datasets/Test/' + f + '.csv'))\n",
    "    df[-1]['type'] = files.index(f)"
   ]
  },
  {
   "cell_type": "code",
   "execution_count": 36,
   "metadata": {},
   "outputs": [
    {
     "data": {
      "text/html": [
       "<div>\n",
       "<style scoped>\n",
       "    .dataframe tbody tr th:only-of-type {\n",
       "        vertical-align: middle;\n",
       "    }\n",
       "\n",
       "    .dataframe tbody tr th {\n",
       "        vertical-align: top;\n",
       "    }\n",
       "\n",
       "    .dataframe thead th {\n",
       "        text-align: right;\n",
       "    }\n",
       "</style>\n",
       "<table border=\"1\" class=\"dataframe\">\n",
       "  <thead>\n",
       "    <tr style=\"text-align: right;\">\n",
       "      <th></th>\n",
       "      <th>ptl</th>\n",
       "      <th>etal</th>\n",
       "      <th>energyl</th>\n",
       "      <th>ptj</th>\n",
       "      <th>etaj</th>\n",
       "      <th>energyj</th>\n",
       "      <th>massj</th>\n",
       "      <th>mjj</th>\n",
       "      <th>rjj</th>\n",
       "      <th>rjl</th>\n",
       "      <th>met</th>\n",
       "      <th>n21_1</th>\n",
       "      <th>n21_2</th>\n",
       "      <th>n32_1</th>\n",
       "      <th>n32_2</th>\n",
       "      <th>infl</th>\n",
       "      <th>drfl</th>\n",
       "      <th>type</th>\n",
       "    </tr>\n",
       "  </thead>\n",
       "  <tbody>\n",
       "    <tr>\n",
       "      <th>0</th>\n",
       "      <td>316.064</td>\n",
       "      <td>0.634994</td>\n",
       "      <td>381.955</td>\n",
       "      <td>570.609</td>\n",
       "      <td>-0.359310</td>\n",
       "      <td>613.448</td>\n",
       "      <td>82.7576</td>\n",
       "      <td>1323.360</td>\n",
       "      <td>2.52446</td>\n",
       "      <td>3.17310</td>\n",
       "      <td>1836.780</td>\n",
       "      <td>0.168687</td>\n",
       "      <td>0.482113</td>\n",
       "      <td>0.447682</td>\n",
       "      <td>0.527171</td>\n",
       "      <td>220.519</td>\n",
       "      <td>1.15528</td>\n",
       "      <td>4</td>\n",
       "    </tr>\n",
       "    <tr>\n",
       "      <th>1</th>\n",
       "      <td>507.213</td>\n",
       "      <td>-1.307170</td>\n",
       "      <td>1005.880</td>\n",
       "      <td>378.800</td>\n",
       "      <td>0.016743</td>\n",
       "      <td>386.370</td>\n",
       "      <td>75.8449</td>\n",
       "      <td>618.869</td>\n",
       "      <td>2.27652</td>\n",
       "      <td>2.49565</td>\n",
       "      <td>1039.950</td>\n",
       "      <td>0.250802</td>\n",
       "      <td>0.390995</td>\n",
       "      <td>0.362755</td>\n",
       "      <td>0.759703</td>\n",
       "      <td>910.642</td>\n",
       "      <td>1.96478</td>\n",
       "      <td>4</td>\n",
       "    </tr>\n",
       "    <tr>\n",
       "      <th>2</th>\n",
       "      <td>168.801</td>\n",
       "      <td>-1.672920</td>\n",
       "      <td>465.500</td>\n",
       "      <td>813.888</td>\n",
       "      <td>0.836485</td>\n",
       "      <td>1119.370</td>\n",
       "      <td>91.4546</td>\n",
       "      <td>1623.390</td>\n",
       "      <td>1.11249</td>\n",
       "      <td>2.50977</td>\n",
       "      <td>374.644</td>\n",
       "      <td>0.255746</td>\n",
       "      <td>0.271414</td>\n",
       "      <td>0.581992</td>\n",
       "      <td>0.628363</td>\n",
       "      <td>146.167</td>\n",
       "      <td>2.05721</td>\n",
       "      <td>4</td>\n",
       "    </tr>\n",
       "    <tr>\n",
       "      <th>3</th>\n",
       "      <td>569.750</td>\n",
       "      <td>-0.032373</td>\n",
       "      <td>570.049</td>\n",
       "      <td>878.713</td>\n",
       "      <td>-1.320300</td>\n",
       "      <td>1765.450</td>\n",
       "      <td>101.6470</td>\n",
       "      <td>1719.630</td>\n",
       "      <td>2.61836</td>\n",
       "      <td>1.35779</td>\n",
       "      <td>1028.990</td>\n",
       "      <td>0.123016</td>\n",
       "      <td>0.140020</td>\n",
       "      <td>0.642637</td>\n",
       "      <td>0.783753</td>\n",
       "      <td>685.672</td>\n",
       "      <td>3.05219</td>\n",
       "      <td>4</td>\n",
       "    </tr>\n",
       "    <tr>\n",
       "      <th>4</th>\n",
       "      <td>411.686</td>\n",
       "      <td>1.234320</td>\n",
       "      <td>767.194</td>\n",
       "      <td>744.934</td>\n",
       "      <td>-0.015496</td>\n",
       "      <td>750.356</td>\n",
       "      <td>89.3052</td>\n",
       "      <td>1092.250</td>\n",
       "      <td>1.03615</td>\n",
       "      <td>3.36997</td>\n",
       "      <td>578.398</td>\n",
       "      <td>0.233484</td>\n",
       "      <td>0.279186</td>\n",
       "      <td>0.579068</td>\n",
       "      <td>0.838636</td>\n",
       "      <td>798.316</td>\n",
       "      <td>1.70490</td>\n",
       "      <td>4</td>\n",
       "    </tr>\n",
       "  </tbody>\n",
       "</table>\n",
       "</div>"
      ],
      "text/plain": [
       "       ptl      etal   energyl      ptj      etaj   energyj     massj  \\\n",
       "0  316.064  0.634994   381.955  570.609 -0.359310   613.448   82.7576   \n",
       "1  507.213 -1.307170  1005.880  378.800  0.016743   386.370   75.8449   \n",
       "2  168.801 -1.672920   465.500  813.888  0.836485  1119.370   91.4546   \n",
       "3  569.750 -0.032373   570.049  878.713 -1.320300  1765.450  101.6470   \n",
       "4  411.686  1.234320   767.194  744.934 -0.015496   750.356   89.3052   \n",
       "\n",
       "        mjj      rjj      rjl       met     n21_1     n21_2     n32_1  \\\n",
       "0  1323.360  2.52446  3.17310  1836.780  0.168687  0.482113  0.447682   \n",
       "1   618.869  2.27652  2.49565  1039.950  0.250802  0.390995  0.362755   \n",
       "2  1623.390  1.11249  2.50977   374.644  0.255746  0.271414  0.581992   \n",
       "3  1719.630  2.61836  1.35779  1028.990  0.123016  0.140020  0.642637   \n",
       "4  1092.250  1.03615  3.36997   578.398  0.233484  0.279186  0.579068   \n",
       "\n",
       "      n32_2     infl     drfl  type  \n",
       "0  0.527171  220.519  1.15528     4  \n",
       "1  0.759703  910.642  1.96478     4  \n",
       "2  0.628363  146.167  2.05721     4  \n",
       "3  0.783753  685.672  3.05219     4  \n",
       "4  0.838636  798.316  1.70490     4  "
      ]
     },
     "execution_count": 36,
     "metadata": {},
     "output_type": "execute_result"
    }
   ],
   "source": [
    "df[-1].head()"
   ]
  },
  {
   "cell_type": "code",
   "execution_count": 37,
   "metadata": {},
   "outputs": [
    {
     "data": {
      "text/plain": [
       "{'ttbar': 2458.132,\n",
       " 'wmp': 33357.600000000006,\n",
       " 'wpwm': 30.72,\n",
       " 'zwpm': 80.04699999999998,\n",
       " 'n2n2': 0.399}"
      ]
     },
     "execution_count": 37,
     "metadata": {},
     "output_type": "execute_result"
    }
   ],
   "source": [
    "cs_corr"
   ]
  },
  {
   "cell_type": "code",
   "execution_count": 38,
   "metadata": {},
   "outputs": [
    {
     "data": {
      "image/png": "[encoded data removed]",
      "text/plain": [
       "<Figure size 576x396 with 1 Axes>"
      ]
     },
     "metadata": {},
     "output_type": "display_data"
    }
   ],
   "source": [
    "for f,_ in enumerate(files):\n",
    "    plt.hist(df[f]['infl'],bins=100,alpha=0.5)\n",
    "plt.show()"
   ]
  },
  {
   "cell_type": "code",
   "execution_count": 39,
   "metadata": {},
   "outputs": [],
   "source": [
    "dtset = pd.concat(df,ignore_index=True)"
   ]
  },
  {
   "cell_type": "code",
   "execution_count": 58,
   "metadata": {},
   "outputs": [],
   "source": [
    "l = np.array([])\n",
    "\n",
    "for i,f in enumerate(files):\n",
    "    l = np.append(l,np.asarray([cs_corr[f]]*len(df[i])))"
   ]
  },
  {
   "cell_type": "code",
   "execution_count": 64,
   "metadata": {},
   "outputs": [
    {
     "data": {
      "image/png": "[encoded data removed]",
      "text/plain": [
       "<Figure size 576x396 with 1 Axes>"
      ]
     },
     "metadata": {},
     "output_type": "display_data"
    }
   ],
   "source": [
    "plt.hist(dtset['infl'],weights=l,bins=100)\n",
    "plt.xlim([700,1200])\n",
    "plt.show()"
   ]
  },
  {
   "cell_type": "code",
   "execution_count": null,
   "metadata": {},
   "outputs": [],
   "source": []
  }
 ],
 "metadata": {
  "interpreter": {
   "hash": "31f2aee4e71d21fbe5cf8b01ff0e069b9275f58929596ceb00d14d90e3e16cd6"
  },
  "kernelspec": {
   "display_name": "Python 3.8.10 64-bit",
   "language": "python",
   "name": "python3"
  },
  "language_info": {
   "codemirror_mode": {
    "name": "ipython",
    "version": 3
   },
   "file_extension": ".py",
   "mimetype": "text/x-python",
   "name": "python",
   "nbconvert_exporter": "python",
   "pygments_lexer": "ipython3",
   "version": "3.8.10"
  },
  "orig_nbformat": 4
 },
 "nbformat": 4,
 "nbformat_minor": 2
}

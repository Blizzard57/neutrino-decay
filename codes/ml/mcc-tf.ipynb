{
 "cells": [
  {
   "cell_type": "code",
   "execution_count": 15,
   "metadata": {},
   "outputs": [],
   "source": [
    "import pandas as pd\n",
    "import numpy as np\n",
    "import matplotlib.pyplot as plt\n",
    "import seaborn as sns\n",
    "import matplotlib as mpl\n",
    "from keras.models import Sequential, load_model\n",
    "from keras.layers import LSTM, Dense, Dropout, BatchNormalization\n",
    "from sklearn.utils import shuffle\n",
    "from PIL import ImageFont\n",
    "import datetime"
   ]
  },
  {
   "cell_type": "code",
   "execution_count": 2,
   "metadata": {},
   "outputs": [],
   "source": [
    "import os\n",
    "os.environ['CUDA_VISIBLE_DEVICES'] = '-1'\n",
    "\n",
    "import tensorflow as tf"
   ]
  },
  {
   "cell_type": "code",
   "execution_count": 12,
   "metadata": {},
   "outputs": [],
   "source": [
    "!rm -rf ./logs/"
   ]
  },
  {
   "cell_type": "code",
   "execution_count": 13,
   "metadata": {},
   "outputs": [],
   "source": [
    "import tensorflow as tf\n",
    "%load_ext tensorboard"
   ]
  },
  {
   "cell_type": "code",
   "execution_count": 3,
   "metadata": {},
   "outputs": [],
   "source": [
    "files = ['ttbar','wmp','wpwm','zwpm','n2n2']\n",
    "\n",
    "cs_lo_k = {\n",
    "            'ttbar':988.57,\n",
    "            'wmp'  :1.95*1e5,\n",
    "            'wpwm' :124.31,\n",
    "            'zwpm' :51.82,\n",
    "            'n2n2' :1\n",
    "          }\n",
    "\n",
    "br_ratio = {\n",
    "            'ttbar':0.67*(1-0.67)*2,\n",
    "            'wmp'  :(1-0.67),\n",
    "            'wpwm' :(1-0.67)*0.67*2,\n",
    "            'zwpm' :0.7*(1-0.67),\n",
    "            'n2n2' :1\n",
    "          }\n",
    "\n",
    "cs_nmg = {\n",
    "         'ttbar':393.30,\n",
    "         'wmp'  :7.865*1e4,\n",
    "         'wpwm' :74.96,\n",
    "         'zwpm' :14.28,\n",
    "         'n2n2' :1\n",
    "         }\n",
    "\n",
    "cs_mg = {'ttbar':5.883,\n",
    "          'wmp':111.5,\n",
    "          'wpwm':0.944,\n",
    "          'zwpm':0.2381,\n",
    "          'n2n2':3.99*1e-4\n",
    "        }\n",
    "\n",
    "cs_pb = []\n",
    "for f in files:\n",
    "    cs_pb.append((cs_lo_k[f]*br_ratio[f]*cs_mg[f])/cs_nmg[f])\n",
    "\n",
    "cs = [i*1e3 for i in cs_pb]\n",
    "#k_f = [1.954,1.356,1.92,2.09,1.0]\n",
    "\n",
    "cs_corr = {files[i] : cs[i] for i in range(len(files))}"
   ]
  },
  {
   "cell_type": "code",
   "execution_count": 27,
   "metadata": {},
   "outputs": [
    {
     "data": {
      "text/plain": [
       "[6538.845366086956,\n",
       " 91227.27272727272,\n",
       " 692.2567850586979,\n",
       " 199.5908264705882,\n",
       " 0.399]"
      ]
     },
     "execution_count": 27,
     "metadata": {},
     "output_type": "execute_result"
    }
   ],
   "source": [
    "list(cs_corr.values())"
   ]
  },
  {
   "cell_type": "code",
   "execution_count": 5,
   "metadata": {},
   "outputs": [],
   "source": [
    "def get_res(x):\n",
    "    res = np.zeros(shape=(x.shape[0],5))\n",
    "    #print(x.shape[0],5)\n",
    "    for i in range(len(x)):\n",
    "        #print(i.x[i])\n",
    "        res[i,x[i]] = 1\n",
    "    \n",
    "    return res"
   ]
  },
  {
   "cell_type": "code",
   "execution_count": 6,
   "metadata": {},
   "outputs": [],
   "source": [
    "no_of_files = {'ttbar':0,\n",
    "          'wmp':0,\n",
    "          'wpwm':0,\n",
    "          'zwpm':0,\n",
    "          'n2n2':0\n",
    "        }"
   ]
  },
  {
   "cell_type": "code",
   "execution_count": 7,
   "metadata": {},
   "outputs": [],
   "source": [
    "df = []\n",
    "for f in range(len(files)):\n",
    "    con_df = []\n",
    "    \n",
    "    for i in range(1,53):\n",
    "        try:\n",
    "            con_df.append(pd.read_csv('~/neutrino/datasets/csvdata/' + files[f] + str(i) + '.csv'))\n",
    "            no_of_files[files[f]] += 1\n",
    "        except:\n",
    "            pass\n",
    "            #print(\"Not Here : \",files[f],i)\n",
    "    \n",
    "    df.append(pd.concat(con_df,ignore_index=True))\n",
    "    df[-1]['type'] = f\n",
    "    \n",
    "    if files[f] == \"n2n2\":\n",
    "        df[-1]['tag'] = 1\n",
    "    else:\n",
    "        df[-1]['tag'] = 0"
   ]
  },
  {
   "cell_type": "code",
   "execution_count": 8,
   "metadata": {},
   "outputs": [
    {
     "data": {
      "text/html": [
       "<div>\n",
       "<style scoped>\n",
       "    .dataframe tbody tr th:only-of-type {\n",
       "        vertical-align: middle;\n",
       "    }\n",
       "\n",
       "    .dataframe tbody tr th {\n",
       "        vertical-align: top;\n",
       "    }\n",
       "\n",
       "    .dataframe thead th {\n",
       "        text-align: right;\n",
       "    }\n",
       "</style>\n",
       "<table border=\"1\" class=\"dataframe\">\n",
       "  <thead>\n",
       "    <tr style=\"text-align: right;\">\n",
       "      <th></th>\n",
       "      <th>ptl</th>\n",
       "      <th>etal</th>\n",
       "      <th>energyl</th>\n",
       "      <th>ptj</th>\n",
       "      <th>etaj</th>\n",
       "      <th>energyj</th>\n",
       "      <th>massj</th>\n",
       "      <th>mjj</th>\n",
       "      <th>rjj</th>\n",
       "      <th>rjl</th>\n",
       "      <th>met</th>\n",
       "      <th>n21_1</th>\n",
       "      <th>n21_2</th>\n",
       "      <th>n32_1</th>\n",
       "      <th>n32_2</th>\n",
       "      <th>infl</th>\n",
       "      <th>drfl</th>\n",
       "      <th>type</th>\n",
       "      <th>tag</th>\n",
       "    </tr>\n",
       "  </thead>\n",
       "  <tbody>\n",
       "    <tr>\n",
       "      <th>0</th>\n",
       "      <td>576.562</td>\n",
       "      <td>0.232894</td>\n",
       "      <td>592.269</td>\n",
       "      <td>459.681</td>\n",
       "      <td>0.248122</td>\n",
       "      <td>475.279</td>\n",
       "      <td>36.1316</td>\n",
       "      <td>379.243</td>\n",
       "      <td>1.14509</td>\n",
       "      <td>2.253050</td>\n",
       "      <td>889.067</td>\n",
       "      <td>0.190804</td>\n",
       "      <td>0.258472</td>\n",
       "      <td>0.517955</td>\n",
       "      <td>0.670891</td>\n",
       "      <td>769.506</td>\n",
       "      <td>1.86471</td>\n",
       "      <td>4</td>\n",
       "      <td>1</td>\n",
       "    </tr>\n",
       "    <tr>\n",
       "      <th>1</th>\n",
       "      <td>823.599</td>\n",
       "      <td>-0.418800</td>\n",
       "      <td>896.887</td>\n",
       "      <td>339.247</td>\n",
       "      <td>-0.696095</td>\n",
       "      <td>431.789</td>\n",
       "      <td>77.3122</td>\n",
       "      <td>1052.580</td>\n",
       "      <td>2.67178</td>\n",
       "      <td>2.072780</td>\n",
       "      <td>1930.330</td>\n",
       "      <td>0.197178</td>\n",
       "      <td>0.222316</td>\n",
       "      <td>0.468612</td>\n",
       "      <td>0.544453</td>\n",
       "      <td>1113.560</td>\n",
       "      <td>1.81712</td>\n",
       "      <td>4</td>\n",
       "      <td>1</td>\n",
       "    </tr>\n",
       "    <tr>\n",
       "      <th>2</th>\n",
       "      <td>354.758</td>\n",
       "      <td>-1.721930</td>\n",
       "      <td>1024.200</td>\n",
       "      <td>883.807</td>\n",
       "      <td>-0.817714</td>\n",
       "      <td>1200.200</td>\n",
       "      <td>98.7750</td>\n",
       "      <td>1764.850</td>\n",
       "      <td>2.82048</td>\n",
       "      <td>0.922735</td>\n",
       "      <td>3256.570</td>\n",
       "      <td>0.328865</td>\n",
       "      <td>0.361102</td>\n",
       "      <td>0.409280</td>\n",
       "      <td>0.760725</td>\n",
       "      <td>1015.050</td>\n",
       "      <td>2.09248</td>\n",
       "      <td>4</td>\n",
       "      <td>1</td>\n",
       "    </tr>\n",
       "    <tr>\n",
       "      <th>3</th>\n",
       "      <td>858.275</td>\n",
       "      <td>0.386685</td>\n",
       "      <td>923.245</td>\n",
       "      <td>1258.810</td>\n",
       "      <td>0.184948</td>\n",
       "      <td>1285.290</td>\n",
       "      <td>112.0150</td>\n",
       "      <td>1546.480</td>\n",
       "      <td>1.12283</td>\n",
       "      <td>2.551460</td>\n",
       "      <td>388.116</td>\n",
       "      <td>0.216487</td>\n",
       "      <td>0.234383</td>\n",
       "      <td>0.308864</td>\n",
       "      <td>0.722296</td>\n",
       "      <td>510.332</td>\n",
       "      <td>2.04593</td>\n",
       "      <td>4</td>\n",
       "      <td>1</td>\n",
       "    </tr>\n",
       "    <tr>\n",
       "      <th>4</th>\n",
       "      <td>590.040</td>\n",
       "      <td>-0.006999</td>\n",
       "      <td>590.055</td>\n",
       "      <td>811.602</td>\n",
       "      <td>0.445120</td>\n",
       "      <td>897.952</td>\n",
       "      <td>90.8938</td>\n",
       "      <td>818.864</td>\n",
       "      <td>1.16291</td>\n",
       "      <td>1.495500</td>\n",
       "      <td>1133.330</td>\n",
       "      <td>0.172456</td>\n",
       "      <td>0.329166</td>\n",
       "      <td>0.461283</td>\n",
       "      <td>0.696238</td>\n",
       "      <td>351.882</td>\n",
       "      <td>3.21196</td>\n",
       "      <td>4</td>\n",
       "      <td>1</td>\n",
       "    </tr>\n",
       "  </tbody>\n",
       "</table>\n",
       "</div>"
      ],
      "text/plain": [
       "       ptl      etal   energyl       ptj      etaj   energyj     massj  \\\n",
       "0  576.562  0.232894   592.269   459.681  0.248122   475.279   36.1316   \n",
       "1  823.599 -0.418800   896.887   339.247 -0.696095   431.789   77.3122   \n",
       "2  354.758 -1.721930  1024.200   883.807 -0.817714  1200.200   98.7750   \n",
       "3  858.275  0.386685   923.245  1258.810  0.184948  1285.290  112.0150   \n",
       "4  590.040 -0.006999   590.055   811.602  0.445120   897.952   90.8938   \n",
       "\n",
       "        mjj      rjj       rjl       met     n21_1     n21_2     n32_1  \\\n",
       "0   379.243  1.14509  2.253050   889.067  0.190804  0.258472  0.517955   \n",
       "1  1052.580  2.67178  2.072780  1930.330  0.197178  0.222316  0.468612   \n",
       "2  1764.850  2.82048  0.922735  3256.570  0.328865  0.361102  0.409280   \n",
       "3  1546.480  1.12283  2.551460   388.116  0.216487  0.234383  0.308864   \n",
       "4   818.864  1.16291  1.495500  1133.330  0.172456  0.329166  0.461283   \n",
       "\n",
       "      n32_2      infl     drfl  type  tag  \n",
       "0  0.670891   769.506  1.86471     4    1  \n",
       "1  0.544453  1113.560  1.81712     4    1  \n",
       "2  0.760725  1015.050  2.09248     4    1  \n",
       "3  0.722296   510.332  2.04593     4    1  \n",
       "4  0.696238   351.882  3.21196     4    1  "
      ]
     },
     "execution_count": 8,
     "metadata": {},
     "output_type": "execute_result"
    }
   ],
   "source": [
    "df[-1].head()"
   ]
  },
  {
   "cell_type": "code",
   "execution_count": 9,
   "metadata": {},
   "outputs": [],
   "source": [
    "dtset = pd.concat(df,ignore_index=True)\n",
    "dtset = shuffle(dtset)\n",
    "dtset['met'] = np.fabs(dtset['met'])"
   ]
  },
  {
   "cell_type": "code",
   "execution_count": 10,
   "metadata": {},
   "outputs": [
    {
     "name": "stderr",
     "output_type": "stream",
     "text": [
      "/tmp/ipykernel_24733/3308945723.py:2: UserWarning: Boolean Series key will be reindexed to match DataFrame index.\n",
      "  dtset = dtset[dtset['ptl'] >= 120.0][dtset['ptj'] >= 120.0][dtset['etaj'] <= 2.0][dtset['etaj'] >= -2.0]\n"
     ]
    }
   ],
   "source": [
    "## Analysis Level Cuts\n",
    "dtset = dtset[dtset['ptl'] >= 120.0][dtset['ptj'] >= 120.0][dtset['etaj'] <= 2.0][dtset['etaj'] >= -2.0]"
   ]
  },
  {
   "cell_type": "code",
   "execution_count": 11,
   "metadata": {},
   "outputs": [
    {
     "name": "stdout",
     "output_type": "stream",
     "text": [
      "Shapes :  (9034704, 17) (9034704, 5) (2258676, 17) (2258676, 5)\n"
     ]
    }
   ],
   "source": [
    "train_len = int(0.8*len(dtset))\n",
    "x_train = dtset.T[:-2].T[:train_len]\n",
    "y_train = get_res(dtset['type'][:train_len].values)\n",
    "\n",
    "x_test = dtset.T[:-2].T[train_len:]\n",
    "y_test = get_res(dtset['type'][train_len:].values)\n",
    "\n",
    "print('Shapes : ',x_train.shape,y_train.shape,x_test.shape,y_test.shape)"
   ]
  },
  {
   "cell_type": "code",
   "execution_count": 16,
   "metadata": {},
   "outputs": [],
   "source": [
    "backup_callback = tf.keras.callbacks.experimental.BackupAndRestore(backup_dir=\"/home2/kalp_shah/tmp/backup\")\n",
    "\n",
    "log_dir = \"logs/fit/\" + datetime.datetime.now().strftime(\"%Y%m%d-%H%M%S\")\n",
    "tensorboard_callback = tf.keras.callbacks.TensorBoard(log_dir=log_dir, histogram_freq=1)"
   ]
  },
  {
   "cell_type": "code",
   "execution_count": 80,
   "metadata": {},
   "outputs": [],
   "source": [
    "def significance(y_true, y_pred):\n",
    "    y_pred = tf.argmax(y_pred,axis=1,output_type = 'int32')\n",
    "    y_pred = tf.cast(y_pred,'float32')\n",
    "    \n",
    "    y_true = tf.argmax(y_true,axis=1,output_type = 'int32')\n",
    "    y_true = tf.cast(y_true,'float32')\n",
    "    \n",
    "    cross_sec = [6538.845366086956,91227.27272727272,692.2567850586979,199.5908264705882,0.399]\n",
    "    L = 3000\n",
    "    \n",
    "    # Signal\n",
    "    values = tf.logical_and(tf.equal(y_true,tf.cast(4,'float32')), tf.equal(y_pred, tf.cast(4,'float32')))\n",
    "    values = tf.cast(values,'float32')\n",
    "    \n",
    "    total_sum = tf.reduce_sum(tf.cast(tf.equal(y_true,tf.cast(4,'float32')),'float32'))\n",
    "    ns = (tf.reduce_sum(values)*cross_sec[4]*L)/total_sum\n",
    "    \n",
    "    nb = 0\n",
    "    for i in range(3):\n",
    "        values = tf.logical_and(tf.equal(y_true,tf.cast(i,'float32')), tf.equal(y_pred, tf.cast(4,'float32')))\n",
    "        values = tf.cast(values, 'float32')\n",
    "        \n",
    "        total_sum = tf.reduce_sum(tf.cast(tf.equal(y_true,tf.cast(i,'float32')),'float32'))\n",
    "        nb += (tf.reduce_sum(values)*cross_sec[i]*L)/total_sum\n",
    "    \n",
    "    print(ns,nb)\n",
    "    \n",
    "    return ns/tf.sqrt(nb)"
   ]
  },
  {
   "cell_type": "code",
   "execution_count": 91,
   "metadata": {},
   "outputs": [],
   "source": [
    "class Significance(tf.keras.metrics.Metric):\n",
    "\n",
    "    def __init__(self, name='significane', **kwargs):\n",
    "        super(Significance, self).__init__(name=name, **kwargs)\n",
    "        self.significance = self.add_weight(name='tp', initializer='zeros')\n",
    "\n",
    "    def update_state(self, y_true, y_pred, sample_weight=None):\n",
    "        y_pred = tf.argmax(y_pred,axis=1,output_type = 'int32')\n",
    "        y_pred = tf.cast(y_pred,self.dtype)\n",
    "\n",
    "        y_true = tf.argmax(y_true,axis=1,output_type = 'int32')\n",
    "        y_true = tf.cast(y_true,self.dtype)\n",
    "\n",
    "        cross_sec = [6538.845366086956,91227.27272727272,692.2567850586979,199.5908264705882,0.399]\n",
    "        L = 3000\n",
    "\n",
    "        # Signal\n",
    "        values = tf.logical_and(tf.equal(y_true,tf.cast(4,self.dtype)), tf.equal(y_pred, tf.cast(4,self.dtype)))\n",
    "        values = tf.cast(values,self.dtype)\n",
    "\n",
    "        total_sum = tf.reduce_sum(tf.cast(tf.equal(y_true,tf.cast(4,self.dtype)),self.dtype))\n",
    "        ns = (tf.reduce_sum(values)*cross_sec[4]*L)/total_sum\n",
    "\n",
    "        nb = 0\n",
    "        for i in range(3):\n",
    "            values = tf.logical_and(tf.equal(y_true,tf.cast(i,self.dtype)), tf.equal(y_pred, tf.cast(4,self.dtype)))\n",
    "            values = tf.cast(values, self.dtype)\n",
    "\n",
    "            total_sum = tf.reduce_sum(tf.cast(tf.equal(y_true,tf.cast(i,self.dtype)),self.dtype))\n",
    "            nb += (tf.reduce_sum(values)*cross_sec[i]*L)/total_sum\n",
    "\n",
    "        self.significance.assign(ns/tf.sqrt(nb))\n",
    "\n",
    "    def result(self):\n",
    "        return self.significance"
   ]
  },
  {
   "cell_type": "code",
   "execution_count": 92,
   "metadata": {},
   "outputs": [],
   "source": [
    "model = Sequential()\n",
    "input_shape = x_train.shape\n",
    "\n",
    "from keras.layers.normalization.batch_normalization import BatchNormalization\n",
    "model.add(Dense(10,activation = 'relu',input_dim = input_shape[1]))\n",
    "model.add(BatchNormalization())\n",
    "model.add(Dense(25,activation = 'relu',input_dim = 10))\n",
    "model.add(BatchNormalization())\n",
    "model.add(Dense(40,activation = 'relu',input_dim = 25))\n",
    "model.add(BatchNormalization())\n",
    "model.add(Dense(20,activation = 'relu',input_dim = 40))\n",
    "model.add(BatchNormalization())\n",
    "model.add(Dense(12,activation = 'relu',input_dim = 20))\n",
    "model.add(BatchNormalization())\n",
    "model.add(Dense(8,activation = 'relu',input_dim = 12))\n",
    "model.add(BatchNormalization())\n",
    "model.add(Dense(5,activation = 'softmax',input_dim = 8))\n",
    "\n",
    "model.compile(optimizer='adam', loss='binary_crossentropy',metrics=['accuracy',Significance()])"
   ]
  },
  {
   "cell_type": "code",
   "execution_count": 93,
   "metadata": {
    "scrolled": true
   },
   "outputs": [
    {
     "name": "stdout",
     "output_type": "stream",
     "text": [
      "Epoch 1/100\n",
      "14117/14117 [==============================] - 49s 3ms/step - loss: 0.3366 - accuracy: 0.5575 - significane: 0.3632 - val_loss: 0.3273 - val_accuracy: 0.5635 - val_significane: 0.3138\n",
      "Epoch 2/100\n",
      "14117/14117 [==============================] - 46s 3ms/step - loss: 0.3184 - accuracy: 0.5831 - significane: 1.8589 - val_loss: 0.3184 - val_accuracy: 0.5859 - val_significane: 0.2757\n",
      "Epoch 3/100\n",
      "14117/14117 [==============================] - 46s 3ms/step - loss: 0.3152 - accuracy: 0.5901 - significane: 0.3150 - val_loss: 0.3172 - val_accuracy: 0.5856 - val_significane: 0.2887\n",
      "Epoch 4/100\n",
      "14117/14117 [==============================] - 46s 3ms/step - loss: 0.3143 - accuracy: 0.5924 - significane: 2.8412 - val_loss: 0.3181 - val_accuracy: 0.5874 - val_significane: 0.2887\n",
      "Epoch 5/100\n",
      "14117/14117 [==============================] - 47s 3ms/step - loss: 0.3138 - accuracy: 0.5933 - significane: 0.2986 - val_loss: 0.3134 - val_accuracy: 0.5941 - val_significane: 0.2887\n",
      "Epoch 6/100\n",
      "14117/14117 [==============================] - 47s 3ms/step - loss: 0.3136 - accuracy: 0.5936 - significane: 0.3455 - val_loss: 0.3143 - val_accuracy: 0.5932 - val_significane: 0.2887\n",
      "Epoch 7/100\n",
      "14117/14117 [==============================] - 47s 3ms/step - loss: 0.3134 - accuracy: 0.5938 - significane: 0.5551 - val_loss: 0.3131 - val_accuracy: 0.5942 - val_significane: 0.2887\n",
      "Epoch 8/100\n",
      "14117/14117 [==============================] - 47s 3ms/step - loss: 0.3133 - accuracy: 0.5941 - significane: 0.5660 - val_loss: 0.3140 - val_accuracy: 0.5926 - val_significane: 0.2887\n",
      "Epoch 9/100\n",
      "10816/14117 [=====================>........] - ETA: 9s - loss: 0.3132 - accuracy: 0.5942 - significane: 0.5168"
     ]
    },
    {
     "ename": "KeyboardInterrupt",
     "evalue": "",
     "output_type": "error",
     "traceback": [
      "\u001b[0;31m---------------------------------------------------------------------------\u001b[0m",
      "\u001b[0;31mKeyboardInterrupt\u001b[0m                         Traceback (most recent call last)",
      "Input \u001b[0;32mIn [93]\u001b[0m, in \u001b[0;36m<cell line: 1>\u001b[0;34m()\u001b[0m\n\u001b[0;32m----> 1\u001b[0m \u001b[43mmodel\u001b[49m\u001b[38;5;241;43m.\u001b[39;49m\u001b[43mfit\u001b[49m\u001b[43m(\u001b[49m\u001b[43mx_train\u001b[49m\u001b[43m,\u001b[49m\u001b[43my_train\u001b[49m\u001b[43m,\u001b[49m\u001b[43mepochs\u001b[49m\u001b[38;5;241;43m=\u001b[39;49m\u001b[38;5;241;43m100\u001b[39;49m\u001b[43m,\u001b[49m\u001b[43mbatch_size\u001b[49m\u001b[38;5;241;43m=\u001b[39;49m\u001b[38;5;241;43m512\u001b[39;49m\u001b[43m,\u001b[49m\u001b[43mvalidation_split\u001b[49m\u001b[38;5;241;43m=\u001b[39;49m\u001b[38;5;241;43m0.2\u001b[39;49m\u001b[43m)\u001b[49m\n",
      "File \u001b[0;32m~/apps/miniconda3/envs/tfml/lib/python3.10/site-packages/keras/utils/traceback_utils.py:64\u001b[0m, in \u001b[0;36mfilter_traceback.<locals>.error_handler\u001b[0;34m(*args, **kwargs)\u001b[0m\n\u001b[1;32m     62\u001b[0m filtered_tb \u001b[38;5;241m=\u001b[39m \u001b[38;5;28;01mNone\u001b[39;00m\n\u001b[1;32m     63\u001b[0m \u001b[38;5;28;01mtry\u001b[39;00m:\n\u001b[0;32m---> 64\u001b[0m   \u001b[38;5;28;01mreturn\u001b[39;00m \u001b[43mfn\u001b[49m\u001b[43m(\u001b[49m\u001b[38;5;241;43m*\u001b[39;49m\u001b[43margs\u001b[49m\u001b[43m,\u001b[49m\u001b[43m \u001b[49m\u001b[38;5;241;43m*\u001b[39;49m\u001b[38;5;241;43m*\u001b[39;49m\u001b[43mkwargs\u001b[49m\u001b[43m)\u001b[49m\n\u001b[1;32m     65\u001b[0m \u001b[38;5;28;01mexcept\u001b[39;00m \u001b[38;5;167;01mException\u001b[39;00m \u001b[38;5;28;01mas\u001b[39;00m e:  \u001b[38;5;66;03m# pylint: disable=broad-except\u001b[39;00m\n\u001b[1;32m     66\u001b[0m   filtered_tb \u001b[38;5;241m=\u001b[39m _process_traceback_frames(e\u001b[38;5;241m.\u001b[39m__traceback__)\n",
      "File \u001b[0;32m~/apps/miniconda3/envs/tfml/lib/python3.10/site-packages/keras/engine/training.py:1216\u001b[0m, in \u001b[0;36mModel.fit\u001b[0;34m(self, x, y, batch_size, epochs, verbose, callbacks, validation_split, validation_data, shuffle, class_weight, sample_weight, initial_epoch, steps_per_epoch, validation_steps, validation_batch_size, validation_freq, max_queue_size, workers, use_multiprocessing)\u001b[0m\n\u001b[1;32m   1209\u001b[0m \u001b[38;5;28;01mwith\u001b[39;00m tf\u001b[38;5;241m.\u001b[39mprofiler\u001b[38;5;241m.\u001b[39mexperimental\u001b[38;5;241m.\u001b[39mTrace(\n\u001b[1;32m   1210\u001b[0m     \u001b[38;5;124m'\u001b[39m\u001b[38;5;124mtrain\u001b[39m\u001b[38;5;124m'\u001b[39m,\n\u001b[1;32m   1211\u001b[0m     epoch_num\u001b[38;5;241m=\u001b[39mepoch,\n\u001b[1;32m   1212\u001b[0m     step_num\u001b[38;5;241m=\u001b[39mstep,\n\u001b[1;32m   1213\u001b[0m     batch_size\u001b[38;5;241m=\u001b[39mbatch_size,\n\u001b[1;32m   1214\u001b[0m     _r\u001b[38;5;241m=\u001b[39m\u001b[38;5;241m1\u001b[39m):\n\u001b[1;32m   1215\u001b[0m   callbacks\u001b[38;5;241m.\u001b[39mon_train_batch_begin(step)\n\u001b[0;32m-> 1216\u001b[0m   tmp_logs \u001b[38;5;241m=\u001b[39m \u001b[38;5;28;43mself\u001b[39;49m\u001b[38;5;241;43m.\u001b[39;49m\u001b[43mtrain_function\u001b[49m\u001b[43m(\u001b[49m\u001b[43miterator\u001b[49m\u001b[43m)\u001b[49m\n\u001b[1;32m   1217\u001b[0m   \u001b[38;5;28;01mif\u001b[39;00m data_handler\u001b[38;5;241m.\u001b[39mshould_sync:\n\u001b[1;32m   1218\u001b[0m     context\u001b[38;5;241m.\u001b[39masync_wait()\n",
      "File \u001b[0;32m~/apps/miniconda3/envs/tfml/lib/python3.10/site-packages/tensorflow/python/util/traceback_utils.py:150\u001b[0m, in \u001b[0;36mfilter_traceback.<locals>.error_handler\u001b[0;34m(*args, **kwargs)\u001b[0m\n\u001b[1;32m    148\u001b[0m filtered_tb \u001b[38;5;241m=\u001b[39m \u001b[38;5;28;01mNone\u001b[39;00m\n\u001b[1;32m    149\u001b[0m \u001b[38;5;28;01mtry\u001b[39;00m:\n\u001b[0;32m--> 150\u001b[0m   \u001b[38;5;28;01mreturn\u001b[39;00m \u001b[43mfn\u001b[49m\u001b[43m(\u001b[49m\u001b[38;5;241;43m*\u001b[39;49m\u001b[43margs\u001b[49m\u001b[43m,\u001b[49m\u001b[43m \u001b[49m\u001b[38;5;241;43m*\u001b[39;49m\u001b[38;5;241;43m*\u001b[39;49m\u001b[43mkwargs\u001b[49m\u001b[43m)\u001b[49m\n\u001b[1;32m    151\u001b[0m \u001b[38;5;28;01mexcept\u001b[39;00m \u001b[38;5;167;01mException\u001b[39;00m \u001b[38;5;28;01mas\u001b[39;00m e:\n\u001b[1;32m    152\u001b[0m   filtered_tb \u001b[38;5;241m=\u001b[39m _process_traceback_frames(e\u001b[38;5;241m.\u001b[39m__traceback__)\n",
      "File \u001b[0;32m~/apps/miniconda3/envs/tfml/lib/python3.10/site-packages/tensorflow/python/eager/def_function.py:910\u001b[0m, in \u001b[0;36mFunction.__call__\u001b[0;34m(self, *args, **kwds)\u001b[0m\n\u001b[1;32m    907\u001b[0m compiler \u001b[38;5;241m=\u001b[39m \u001b[38;5;124m\"\u001b[39m\u001b[38;5;124mxla\u001b[39m\u001b[38;5;124m\"\u001b[39m \u001b[38;5;28;01mif\u001b[39;00m \u001b[38;5;28mself\u001b[39m\u001b[38;5;241m.\u001b[39m_jit_compile \u001b[38;5;28;01melse\u001b[39;00m \u001b[38;5;124m\"\u001b[39m\u001b[38;5;124mnonXla\u001b[39m\u001b[38;5;124m\"\u001b[39m\n\u001b[1;32m    909\u001b[0m \u001b[38;5;28;01mwith\u001b[39;00m OptionalXlaContext(\u001b[38;5;28mself\u001b[39m\u001b[38;5;241m.\u001b[39m_jit_compile):\n\u001b[0;32m--> 910\u001b[0m   result \u001b[38;5;241m=\u001b[39m \u001b[38;5;28;43mself\u001b[39;49m\u001b[38;5;241;43m.\u001b[39;49m\u001b[43m_call\u001b[49m\u001b[43m(\u001b[49m\u001b[38;5;241;43m*\u001b[39;49m\u001b[43margs\u001b[49m\u001b[43m,\u001b[49m\u001b[43m \u001b[49m\u001b[38;5;241;43m*\u001b[39;49m\u001b[38;5;241;43m*\u001b[39;49m\u001b[43mkwds\u001b[49m\u001b[43m)\u001b[49m\n\u001b[1;32m    912\u001b[0m new_tracing_count \u001b[38;5;241m=\u001b[39m \u001b[38;5;28mself\u001b[39m\u001b[38;5;241m.\u001b[39mexperimental_get_tracing_count()\n\u001b[1;32m    913\u001b[0m without_tracing \u001b[38;5;241m=\u001b[39m (tracing_count \u001b[38;5;241m==\u001b[39m new_tracing_count)\n",
      "File \u001b[0;32m~/apps/miniconda3/envs/tfml/lib/python3.10/site-packages/tensorflow/python/eager/def_function.py:942\u001b[0m, in \u001b[0;36mFunction._call\u001b[0;34m(self, *args, **kwds)\u001b[0m\n\u001b[1;32m    939\u001b[0m   \u001b[38;5;28mself\u001b[39m\u001b[38;5;241m.\u001b[39m_lock\u001b[38;5;241m.\u001b[39mrelease()\n\u001b[1;32m    940\u001b[0m   \u001b[38;5;66;03m# In this case we have created variables on the first call, so we run the\u001b[39;00m\n\u001b[1;32m    941\u001b[0m   \u001b[38;5;66;03m# defunned version which is guaranteed to never create variables.\u001b[39;00m\n\u001b[0;32m--> 942\u001b[0m   \u001b[38;5;28;01mreturn\u001b[39;00m \u001b[38;5;28;43mself\u001b[39;49m\u001b[38;5;241;43m.\u001b[39;49m\u001b[43m_stateless_fn\u001b[49m\u001b[43m(\u001b[49m\u001b[38;5;241;43m*\u001b[39;49m\u001b[43margs\u001b[49m\u001b[43m,\u001b[49m\u001b[43m \u001b[49m\u001b[38;5;241;43m*\u001b[39;49m\u001b[38;5;241;43m*\u001b[39;49m\u001b[43mkwds\u001b[49m\u001b[43m)\u001b[49m  \u001b[38;5;66;03m# pylint: disable=not-callable\u001b[39;00m\n\u001b[1;32m    943\u001b[0m \u001b[38;5;28;01melif\u001b[39;00m \u001b[38;5;28mself\u001b[39m\u001b[38;5;241m.\u001b[39m_stateful_fn \u001b[38;5;129;01mis\u001b[39;00m \u001b[38;5;129;01mnot\u001b[39;00m \u001b[38;5;28;01mNone\u001b[39;00m:\n\u001b[1;32m    944\u001b[0m   \u001b[38;5;66;03m# Release the lock early so that multiple threads can perform the call\u001b[39;00m\n\u001b[1;32m    945\u001b[0m   \u001b[38;5;66;03m# in parallel.\u001b[39;00m\n\u001b[1;32m    946\u001b[0m   \u001b[38;5;28mself\u001b[39m\u001b[38;5;241m.\u001b[39m_lock\u001b[38;5;241m.\u001b[39mrelease()\n",
      "File \u001b[0;32m~/apps/miniconda3/envs/tfml/lib/python3.10/site-packages/tensorflow/python/eager/function.py:3130\u001b[0m, in \u001b[0;36mFunction.__call__\u001b[0;34m(self, *args, **kwargs)\u001b[0m\n\u001b[1;32m   3127\u001b[0m \u001b[38;5;28;01mwith\u001b[39;00m \u001b[38;5;28mself\u001b[39m\u001b[38;5;241m.\u001b[39m_lock:\n\u001b[1;32m   3128\u001b[0m   (graph_function,\n\u001b[1;32m   3129\u001b[0m    filtered_flat_args) \u001b[38;5;241m=\u001b[39m \u001b[38;5;28mself\u001b[39m\u001b[38;5;241m.\u001b[39m_maybe_define_function(args, kwargs)\n\u001b[0;32m-> 3130\u001b[0m \u001b[38;5;28;01mreturn\u001b[39;00m \u001b[43mgraph_function\u001b[49m\u001b[38;5;241;43m.\u001b[39;49m\u001b[43m_call_flat\u001b[49m\u001b[43m(\u001b[49m\n\u001b[1;32m   3131\u001b[0m \u001b[43m    \u001b[49m\u001b[43mfiltered_flat_args\u001b[49m\u001b[43m,\u001b[49m\u001b[43m \u001b[49m\u001b[43mcaptured_inputs\u001b[49m\u001b[38;5;241;43m=\u001b[39;49m\u001b[43mgraph_function\u001b[49m\u001b[38;5;241;43m.\u001b[39;49m\u001b[43mcaptured_inputs\u001b[49m\u001b[43m)\u001b[49m\n",
      "File \u001b[0;32m~/apps/miniconda3/envs/tfml/lib/python3.10/site-packages/tensorflow/python/eager/function.py:1959\u001b[0m, in \u001b[0;36mConcreteFunction._call_flat\u001b[0;34m(self, args, captured_inputs, cancellation_manager)\u001b[0m\n\u001b[1;32m   1955\u001b[0m possible_gradient_type \u001b[38;5;241m=\u001b[39m gradients_util\u001b[38;5;241m.\u001b[39mPossibleTapeGradientTypes(args)\n\u001b[1;32m   1956\u001b[0m \u001b[38;5;28;01mif\u001b[39;00m (possible_gradient_type \u001b[38;5;241m==\u001b[39m gradients_util\u001b[38;5;241m.\u001b[39mPOSSIBLE_GRADIENT_TYPES_NONE\n\u001b[1;32m   1957\u001b[0m     \u001b[38;5;129;01mand\u001b[39;00m executing_eagerly):\n\u001b[1;32m   1958\u001b[0m   \u001b[38;5;66;03m# No tape is watching; skip to running the function.\u001b[39;00m\n\u001b[0;32m-> 1959\u001b[0m   \u001b[38;5;28;01mreturn\u001b[39;00m \u001b[38;5;28mself\u001b[39m\u001b[38;5;241m.\u001b[39m_build_call_outputs(\u001b[38;5;28;43mself\u001b[39;49m\u001b[38;5;241;43m.\u001b[39;49m\u001b[43m_inference_function\u001b[49m\u001b[38;5;241;43m.\u001b[39;49m\u001b[43mcall\u001b[49m\u001b[43m(\u001b[49m\n\u001b[1;32m   1960\u001b[0m \u001b[43m      \u001b[49m\u001b[43mctx\u001b[49m\u001b[43m,\u001b[49m\u001b[43m \u001b[49m\u001b[43margs\u001b[49m\u001b[43m,\u001b[49m\u001b[43m \u001b[49m\u001b[43mcancellation_manager\u001b[49m\u001b[38;5;241;43m=\u001b[39;49m\u001b[43mcancellation_manager\u001b[49m\u001b[43m)\u001b[49m)\n\u001b[1;32m   1961\u001b[0m forward_backward \u001b[38;5;241m=\u001b[39m \u001b[38;5;28mself\u001b[39m\u001b[38;5;241m.\u001b[39m_select_forward_and_backward_functions(\n\u001b[1;32m   1962\u001b[0m     args,\n\u001b[1;32m   1963\u001b[0m     possible_gradient_type,\n\u001b[1;32m   1964\u001b[0m     executing_eagerly)\n\u001b[1;32m   1965\u001b[0m forward_function, args_with_tangents \u001b[38;5;241m=\u001b[39m forward_backward\u001b[38;5;241m.\u001b[39mforward()\n",
      "File \u001b[0;32m~/apps/miniconda3/envs/tfml/lib/python3.10/site-packages/tensorflow/python/eager/function.py:635\u001b[0m, in \u001b[0;36m_EagerDefinedFunction.call\u001b[0;34m(self, ctx, args, cancellation_manager)\u001b[0m\n\u001b[1;32m    626\u001b[0m         outputs \u001b[38;5;241m=\u001b[39m functional_ops\u001b[38;5;241m.\u001b[39mpartitioned_call(\n\u001b[1;32m    627\u001b[0m             args\u001b[38;5;241m=\u001b[39margs,\n\u001b[1;32m    628\u001b[0m             f\u001b[38;5;241m=\u001b[39m\u001b[38;5;28mself\u001b[39m,\n\u001b[0;32m   (...)\u001b[0m\n\u001b[1;32m    631\u001b[0m             config\u001b[38;5;241m=\u001b[39mconfig,\n\u001b[1;32m    632\u001b[0m             executor_type\u001b[38;5;241m=\u001b[39mexecutor_type)\n\u001b[1;32m    634\u001b[0m \u001b[38;5;28;01mfor\u001b[39;00m i, func_graph_output \u001b[38;5;129;01min\u001b[39;00m \u001b[38;5;28menumerate\u001b[39m(\u001b[38;5;28mself\u001b[39m\u001b[38;5;241m.\u001b[39m_func_graph_outputs):\n\u001b[0;32m--> 635\u001b[0m   \u001b[43mhandle_data_util\u001b[49m\u001b[38;5;241;43m.\u001b[39;49m\u001b[43mcopy_handle_data\u001b[49m\u001b[43m(\u001b[49m\u001b[43mfunc_graph_output\u001b[49m\u001b[43m,\u001b[49m\u001b[43m \u001b[49m\u001b[43moutputs\u001b[49m\u001b[43m[\u001b[49m\u001b[43mi\u001b[49m\u001b[43m]\u001b[49m\u001b[43m)\u001b[49m\n\u001b[1;32m    636\u001b[0m \u001b[38;5;28;01mif\u001b[39;00m executing_eagerly:\n\u001b[1;32m    637\u001b[0m   \u001b[38;5;28;01mreturn\u001b[39;00m outputs\n",
      "File \u001b[0;32m~/apps/miniconda3/envs/tfml/lib/python3.10/site-packages/tensorflow/python/ops/handle_data_util.py:44\u001b[0m, in \u001b[0;36mcopy_handle_data\u001b[0;34m(source_t, target_t)\u001b[0m\n\u001b[1;32m     29\u001b[0m \u001b[38;5;28;01mdef\u001b[39;00m \u001b[38;5;21mcopy_handle_data\u001b[39m(source_t, target_t):\n\u001b[1;32m     30\u001b[0m   \u001b[38;5;124;03m\"\"\"Copies HandleData for variant and resource type tensors if available.\u001b[39;00m\n\u001b[1;32m     31\u001b[0m \n\u001b[1;32m     32\u001b[0m \u001b[38;5;124;03m  The CppShapeInferenceResult::HandleData proto contains information about the\u001b[39;00m\n\u001b[0;32m   (...)\u001b[0m\n\u001b[1;32m     42\u001b[0m \u001b[38;5;124;03m    target_t: The tensor to copy HandleData to.\u001b[39;00m\n\u001b[1;32m     43\u001b[0m \u001b[38;5;124;03m  \"\"\"\u001b[39;00m\n\u001b[0;32m---> 44\u001b[0m   \u001b[38;5;28;01mif\u001b[39;00m (\u001b[43mtarget_t\u001b[49m\u001b[38;5;241;43m.\u001b[39;49m\u001b[43mdtype\u001b[49m \u001b[38;5;241m==\u001b[39m dtypes\u001b[38;5;241m.\u001b[39mresource \u001b[38;5;129;01mor\u001b[39;00m\n\u001b[1;32m     45\u001b[0m       target_t\u001b[38;5;241m.\u001b[39mdtype \u001b[38;5;241m==\u001b[39m dtypes\u001b[38;5;241m.\u001b[39mvariant):\n\u001b[1;32m     46\u001b[0m     \u001b[38;5;28;01mif\u001b[39;00m \u001b[38;5;28misinstance\u001b[39m(source_t, ops\u001b[38;5;241m.\u001b[39mEagerTensor):\n\u001b[1;32m     47\u001b[0m       handle_data \u001b[38;5;241m=\u001b[39m source_t\u001b[38;5;241m.\u001b[39m_handle_data  \u001b[38;5;66;03m# pylint: disable=protected-access\u001b[39;00m\n",
      "File \u001b[0;32m~/apps/miniconda3/envs/tfml/lib/python3.10/site-packages/tensorflow/python/framework/ops.py:1119\u001b[0m, in \u001b[0;36m_EagerTensorBase.dtype\u001b[0;34m(self)\u001b[0m\n\u001b[1;32m   1116\u001b[0m   \u001b[38;5;28;01mexcept\u001b[39;00m core\u001b[38;5;241m.\u001b[39m_NotOkStatusException \u001b[38;5;28;01mas\u001b[39;00m e:  \u001b[38;5;66;03m# pylint: disable=protected-access\u001b[39;00m\n\u001b[1;32m   1117\u001b[0m     \u001b[38;5;28;01mraise\u001b[39;00m core\u001b[38;5;241m.\u001b[39m_status_to_exception(e) \u001b[38;5;28;01mfrom\u001b[39;00m \u001b[38;5;28mNone\u001b[39m  \u001b[38;5;66;03m# pylint: disable=protected-access\u001b[39;00m\n\u001b[0;32m-> 1119\u001b[0m \u001b[38;5;129m@property\u001b[39m\n\u001b[1;32m   1120\u001b[0m \u001b[38;5;28;01mdef\u001b[39;00m \u001b[38;5;21mdtype\u001b[39m(\u001b[38;5;28mself\u001b[39m):\n\u001b[1;32m   1121\u001b[0m   \u001b[38;5;66;03m# Note: using the intern table directly here as this is\u001b[39;00m\n\u001b[1;32m   1122\u001b[0m   \u001b[38;5;66;03m# performance-sensitive in some models.\u001b[39;00m\n\u001b[1;32m   1123\u001b[0m   \u001b[38;5;28;01mreturn\u001b[39;00m dtypes\u001b[38;5;241m.\u001b[39m_INTERN_TABLE[\u001b[38;5;28mself\u001b[39m\u001b[38;5;241m.\u001b[39m_datatype_enum()]  \u001b[38;5;66;03m# pylint: disable=protected-access\u001b[39;00m\n\u001b[1;32m   1125\u001b[0m \u001b[38;5;28;01mdef\u001b[39;00m \u001b[38;5;21mnumpy\u001b[39m(\u001b[38;5;28mself\u001b[39m):\n",
      "\u001b[0;31mKeyboardInterrupt\u001b[0m: "
     ]
    }
   ],
   "source": [
    "model.fit(x_train,y_train,epochs=100,batch_size=512,validation_split=0.2)#,class_weight={0:5,1:7,2:4,3:4,4:.005})"
   ]
  },
  {
   "cell_type": "code",
   "execution_count": 94,
   "metadata": {},
   "outputs": [],
   "source": [
    "tot_pred = model.predict(dtset.T[:-2].T)"
   ]
  },
  {
   "cell_type": "code",
   "execution_count": 95,
   "metadata": {},
   "outputs": [],
   "source": [
    "def get_back_ax(x):\n",
    "    return x.argmax(axis=1)"
   ]
  },
  {
   "cell_type": "code",
   "execution_count": 96,
   "metadata": {},
   "outputs": [],
   "source": [
    "sol = get_back_ax(tot_pred)"
   ]
  },
  {
   "cell_type": "code",
   "execution_count": 97,
   "metadata": {
    "scrolled": true
   },
   "outputs": [
    {
     "data": {
      "text/plain": [
       "(11293380,)"
      ]
     },
     "execution_count": 97,
     "metadata": {},
     "output_type": "execute_result"
    }
   ],
   "source": [
    "sol.shape"
   ]
  },
  {
   "cell_type": "code",
   "execution_count": 98,
   "metadata": {},
   "outputs": [
    {
     "data": {
      "text/plain": [
       "array([0, 1, 2, 3, 1, 4, 4, 3, 4, 4, 4, 0, 4, 3, 0, 0, 1, 0, 0, 3, 3, 3,\n",
       "       3, 0, 2, 3, 3, 3, 4, 3, 4, 0, 0, 1, 3, 3, 3, 3, 4, 3, 0, 0, 4, 3,\n",
       "       3, 1, 3, 3, 0, 0, 3, 0, 3, 3, 3, 1, 0, 3, 4, 4, 4, 4, 0, 3, 0, 1,\n",
       "       3, 0, 0, 1, 1, 3, 0, 0, 3, 0, 0, 3, 3, 3, 3, 2, 0, 1, 3, 4, 3, 1,\n",
       "       0, 0, 1, 0, 3, 0, 0, 0, 3, 4])"
      ]
     },
     "execution_count": 98,
     "metadata": {},
     "output_type": "execute_result"
    }
   ],
   "source": [
    "sol[2:100]"
   ]
  },
  {
   "cell_type": "code",
   "execution_count": 99,
   "metadata": {},
   "outputs": [],
   "source": [
    "pred_set = dtset.copy()\n",
    "pred_set['pred'] = sol"
   ]
  },
  {
   "cell_type": "code",
   "execution_count": 100,
   "metadata": {},
   "outputs": [
    {
     "name": "stderr",
     "output_type": "stream",
     "text": [
      "/tmp/ipykernel_24733/1342770027.py:1: UserWarning: Boolean Series key will be reindexed to match DataFrame index.\n",
      "  cor_pred = len(pred_set[train_len:][pred_set['pred'] == 4][pred_set['tag'] == 1]) + len(pred_set[train_len:][pred_set['pred'] != 4][pred_set['tag'] == 0])\n"
     ]
    },
    {
     "name": "stdout",
     "output_type": "stream",
     "text": [
      "The accuracy of the test set is :  0.9648395785849764\n"
     ]
    }
   ],
   "source": [
    "cor_pred = len(pred_set[train_len:][pred_set['pred'] == 4][pred_set['tag'] == 1]) + len(pred_set[train_len:][pred_set['pred'] != 4][pred_set['tag'] == 0])\n",
    "print('The accuracy of the test set is : ',cor_pred/(len(pred_set[train_len:])))"
   ]
  },
  {
   "cell_type": "code",
   "execution_count": 101,
   "metadata": {},
   "outputs": [],
   "source": [
    "import warnings\n",
    "warnings.filterwarnings('ignore')"
   ]
  },
  {
   "cell_type": "code",
   "execution_count": 102,
   "metadata": {},
   "outputs": [
    {
     "name": "stdout",
     "output_type": "stream",
     "text": [
      "Correctly identified signal (True Positive)     :  3095718\n",
      "Falsely identified signal (False Positive)      :  272399\n",
      "Correctly identified background (True Negative) :  7801107\n",
      "Falsely identified background (False Negative)  :  124156\n"
     ]
    }
   ],
   "source": [
    "print('Correctly identified signal (True Positive)     : ',len(pred_set[pred_set['pred'] == 4][pred_set['tag'] == 1]))\n",
    "print('Falsely identified signal (False Positive)      : ',len(pred_set[pred_set['pred'] == 4][pred_set['tag'] == 0]))\n",
    "print('Correctly identified background (True Negative) : ',len(pred_set[pred_set['pred'] != 4][pred_set['tag'] == 0]))\n",
    "print('Falsely identified background (False Negative)  : ',len(pred_set[pred_set['pred'] != 4][pred_set['tag'] == 1]))"
   ]
  },
  {
   "cell_type": "code",
   "execution_count": 103,
   "metadata": {},
   "outputs": [
    {
     "name": "stdout",
     "output_type": "stream",
     "text": [
      "The amount of signal left is     : 0.9304503176623131\n",
      "The amount of background left is : 0.028291674105721722\n"
     ]
    }
   ],
   "source": [
    "print('The amount of signal left is     :', len(pred_set[pred_set['pred'] == 4][pred_set['tag'] == 1])/len(df[-1]))\n",
    "print('The amount of background left is :', len(pred_set[pred_set['pred'] == 4][pred_set['tag'] == 0])/np.sum([len(i) for i in df[:-1]]))"
   ]
  },
  {
   "cell_type": "code",
   "execution_count": 104,
   "metadata": {},
   "outputs": [
    {
     "name": "stdout",
     "output_type": "stream",
     "text": [
      "Thus, the rate of correct signal prediction is :  0.9191242465745697\n"
     ]
    }
   ],
   "source": [
    "print('Thus, the rate of correct signal prediction is : ',len(pred_set[pred_set['pred'] == 4][dtset['tag'] == 1])/(len(pred_set[pred_set['pred'] == 4])))"
   ]
  },
  {
   "cell_type": "code",
   "execution_count": 105,
   "metadata": {},
   "outputs": [],
   "source": [
    "L = 3000"
   ]
  },
  {
   "cell_type": "code",
   "execution_count": 106,
   "metadata": {},
   "outputs": [
    {
     "name": "stdout",
     "output_type": "stream",
     "text": [
      "n2n2 3095718 0.399\n",
      "ttbar 25170 6538.845366086956\n",
      "wmp 26712 91227.27272727272\n",
      "wpwm 85232 692.2567850586979\n",
      "zwpm 135285 199.5908264705882\n"
     ]
    }
   ],
   "source": [
    "ns = cs_corr['n2n2']*(len(pred_set[pred_set['pred'] == 4][pred_set['tag'] == 1])/(no_of_files['n2n2']*1e5))*L\n",
    "print('n2n2',(len(pred_set[pred_set['pred'] == 4][pred_set['tag'] == 1])),cs_corr['n2n2'])\n",
    "nb = 0\n",
    "\n",
    "for i in range(len(files)-1):\n",
    "    nb += cs_corr[files[i]]*(len(pred_set[pred_set['pred'] == 4][pred_set['tag'] == 0][pred_set['type'] == i])/((no_of_files[files[i]]*1e5)))*L\n",
    "    print(files[i],len(pred_set[pred_set['pred'] == 4][pred_set['tag'] == 0][pred_set['type'] == i]),cs_corr[files[i]])"
   ]
  },
  {
   "cell_type": "code",
   "execution_count": 107,
   "metadata": {},
   "outputs": [
    {
     "name": "stdout",
     "output_type": "stream",
     "text": [
      "The number of signal is : 950.147293846154\n",
      "The number of background is : 2029700.677461161\n",
      "The significance is : 0.6669218365068351\n"
     ]
    }
   ],
   "source": [
    "print('The number of signal is :', ns)\n",
    "print('The number of background is :', nb)\n",
    "print('The significance is :',ns/np.sqrt(nb))"
   ]
  },
  {
   "cell_type": "code",
   "execution_count": 43,
   "metadata": {},
   "outputs": [
    {
     "data": {
      "text/html": [
       "<div>\n",
       "<style scoped>\n",
       "    .dataframe tbody tr th:only-of-type {\n",
       "        vertical-align: middle;\n",
       "    }\n",
       "\n",
       "    .dataframe tbody tr th {\n",
       "        vertical-align: top;\n",
       "    }\n",
       "\n",
       "    .dataframe thead th {\n",
       "        text-align: right;\n",
       "    }\n",
       "</style>\n",
       "<table border=\"1\" class=\"dataframe\">\n",
       "  <thead>\n",
       "    <tr style=\"text-align: right;\">\n",
       "      <th></th>\n",
       "      <th>ptl</th>\n",
       "      <th>etal</th>\n",
       "      <th>energyl</th>\n",
       "      <th>ptj</th>\n",
       "      <th>etaj</th>\n",
       "      <th>energyj</th>\n",
       "      <th>massj</th>\n",
       "      <th>mjj</th>\n",
       "      <th>rjj</th>\n",
       "      <th>rjl</th>\n",
       "      <th>met</th>\n",
       "      <th>n21_1</th>\n",
       "      <th>n21_2</th>\n",
       "      <th>n32_1</th>\n",
       "      <th>n32_2</th>\n",
       "      <th>infl</th>\n",
       "      <th>drfl</th>\n",
       "      <th>type</th>\n",
       "      <th>tag</th>\n",
       "    </tr>\n",
       "  </thead>\n",
       "  <tbody>\n",
       "    <tr>\n",
       "      <th>0</th>\n",
       "      <td>136.238</td>\n",
       "      <td>-1.427660</td>\n",
       "      <td>300.323</td>\n",
       "      <td>129.439</td>\n",
       "      <td>0.128849</td>\n",
       "      <td>131.679</td>\n",
       "      <td>17.4703</td>\n",
       "      <td>60.5694</td>\n",
       "      <td>0.661161</td>\n",
       "      <td>1.593140</td>\n",
       "      <td>120.812</td>\n",
       "      <td>0.065091</td>\n",
       "      <td>0.234445</td>\n",
       "      <td>0.000000</td>\n",
       "      <td>0.540246</td>\n",
       "      <td>25.6794</td>\n",
       "      <td>0.01788</td>\n",
       "      <td>2</td>\n",
       "      <td>0</td>\n",
       "    </tr>\n",
       "    <tr>\n",
       "      <th>1</th>\n",
       "      <td>177.032</td>\n",
       "      <td>1.327030</td>\n",
       "      <td>357.172</td>\n",
       "      <td>174.278</td>\n",
       "      <td>0.793436</td>\n",
       "      <td>233.272</td>\n",
       "      <td>23.5985</td>\n",
       "      <td>143.2140</td>\n",
       "      <td>2.138230</td>\n",
       "      <td>0.725024</td>\n",
       "      <td>815.576</td>\n",
       "      <td>0.417532</td>\n",
       "      <td>0.721365</td>\n",
       "      <td>0.505062</td>\n",
       "      <td>0.539998</td>\n",
       "      <td>123.9500</td>\n",
       "      <td>1.49283</td>\n",
       "      <td>2</td>\n",
       "      <td>0</td>\n",
       "    </tr>\n",
       "    <tr>\n",
       "      <th>2</th>\n",
       "      <td>207.788</td>\n",
       "      <td>1.245000</td>\n",
       "      <td>390.733</td>\n",
       "      <td>496.299</td>\n",
       "      <td>1.046030</td>\n",
       "      <td>797.173</td>\n",
       "      <td>76.4529</td>\n",
       "      <td>850.1020</td>\n",
       "      <td>2.101450</td>\n",
       "      <td>0.771494</td>\n",
       "      <td>1909.770</td>\n",
       "      <td>0.218092</td>\n",
       "      <td>0.368900</td>\n",
       "      <td>0.271128</td>\n",
       "      <td>0.504858</td>\n",
       "      <td>297.6910</td>\n",
       "      <td>1.82430</td>\n",
       "      <td>2</td>\n",
       "      <td>0</td>\n",
       "    </tr>\n",
       "    <tr>\n",
       "      <th>3</th>\n",
       "      <td>153.798</td>\n",
       "      <td>0.165185</td>\n",
       "      <td>155.901</td>\n",
       "      <td>391.888</td>\n",
       "      <td>-0.474061</td>\n",
       "      <td>437.114</td>\n",
       "      <td>17.7209</td>\n",
       "      <td>769.6290</td>\n",
       "      <td>2.880610</td>\n",
       "      <td>1.343040</td>\n",
       "      <td>727.674</td>\n",
       "      <td>0.000000</td>\n",
       "      <td>0.209790</td>\n",
       "      <td>0.383100</td>\n",
       "      <td>0.394240</td>\n",
       "      <td>398.0360</td>\n",
       "      <td>1.15835</td>\n",
       "      <td>2</td>\n",
       "      <td>0</td>\n",
       "    </tr>\n",
       "    <tr>\n",
       "      <th>4</th>\n",
       "      <td>163.467</td>\n",
       "      <td>0.292749</td>\n",
       "      <td>170.522</td>\n",
       "      <td>231.087</td>\n",
       "      <td>-0.338531</td>\n",
       "      <td>245.678</td>\n",
       "      <td>24.4810</td>\n",
       "      <td>205.6740</td>\n",
       "      <td>2.039720</td>\n",
       "      <td>0.758088</td>\n",
       "      <td>115.665</td>\n",
       "      <td>0.020697</td>\n",
       "      <td>0.095246</td>\n",
       "      <td>0.163543</td>\n",
       "      <td>0.641187</td>\n",
       "      <td>208.3450</td>\n",
       "      <td>2.38173</td>\n",
       "      <td>2</td>\n",
       "      <td>0</td>\n",
       "    </tr>\n",
       "  </tbody>\n",
       "</table>\n",
       "</div>"
      ],
      "text/plain": [
       "       ptl      etal  energyl      ptj      etaj  energyj    massj       mjj  \\\n",
       "0  136.238 -1.427660  300.323  129.439  0.128849  131.679  17.4703   60.5694   \n",
       "1  177.032  1.327030  357.172  174.278  0.793436  233.272  23.5985  143.2140   \n",
       "2  207.788  1.245000  390.733  496.299  1.046030  797.173  76.4529  850.1020   \n",
       "3  153.798  0.165185  155.901  391.888 -0.474061  437.114  17.7209  769.6290   \n",
       "4  163.467  0.292749  170.522  231.087 -0.338531  245.678  24.4810  205.6740   \n",
       "\n",
       "        rjj       rjl       met     n21_1     n21_2     n32_1     n32_2  \\\n",
       "0  0.661161  1.593140   120.812  0.065091  0.234445  0.000000  0.540246   \n",
       "1  2.138230  0.725024   815.576  0.417532  0.721365  0.505062  0.539998   \n",
       "2  2.101450  0.771494  1909.770  0.218092  0.368900  0.271128  0.504858   \n",
       "3  2.880610  1.343040   727.674  0.000000  0.209790  0.383100  0.394240   \n",
       "4  2.039720  0.758088   115.665  0.020697  0.095246  0.163543  0.641187   \n",
       "\n",
       "       infl     drfl  type  tag  \n",
       "0   25.6794  0.01788     2    0  \n",
       "1  123.9500  1.49283     2    0  \n",
       "2  297.6910  1.82430     2    0  \n",
       "3  398.0360  1.15835     2    0  \n",
       "4  208.3450  2.38173     2    0  "
      ]
     },
     "execution_count": 43,
     "metadata": {},
     "output_type": "execute_result"
    }
   ],
   "source": [
    "df[2].head()"
   ]
  },
  {
   "cell_type": "code",
   "execution_count": 44,
   "metadata": {},
   "outputs": [
    {
     "name": "stderr",
     "output_type": "stream",
     "text": [
      "2022-03-28 13:33:39.000110: W tensorflow/python/util/util.cc:368] Sets are not currently considered sequences, but this may change in the future, so consider avoiding using them.\n"
     ]
    },
    {
     "ename": "PermissionDeniedError",
     "evalue": "/home/blizzard; Permission denied",
     "output_type": "error",
     "traceback": [
      "\u001b[0;31m---------------------------------------------------------------------------\u001b[0m",
      "\u001b[0;31mPermissionDeniedError\u001b[0m                     Traceback (most recent call last)",
      "Input \u001b[0;32mIn [44]\u001b[0m, in \u001b[0;36m<cell line: 1>\u001b[0;34m()\u001b[0m\n\u001b[0;32m----> 1\u001b[0m \u001b[43mmodel\u001b[49m\u001b[38;5;241;43m.\u001b[39;49m\u001b[43msave\u001b[49m\u001b[43m(\u001b[49m\u001b[38;5;124;43m'\u001b[39;49m\u001b[38;5;124;43m/home/blizzard/Datasets/Models/s5\u001b[39;49m\u001b[38;5;124;43m'\u001b[39;49m\u001b[43m)\u001b[49m\n",
      "File \u001b[0;32m~/apps/miniconda3/envs/tfml/lib/python3.10/site-packages/keras/utils/traceback_utils.py:67\u001b[0m, in \u001b[0;36mfilter_traceback.<locals>.error_handler\u001b[0;34m(*args, **kwargs)\u001b[0m\n\u001b[1;32m     65\u001b[0m \u001b[38;5;28;01mexcept\u001b[39;00m \u001b[38;5;167;01mException\u001b[39;00m \u001b[38;5;28;01mas\u001b[39;00m e:  \u001b[38;5;66;03m# pylint: disable=broad-except\u001b[39;00m\n\u001b[1;32m     66\u001b[0m   filtered_tb \u001b[38;5;241m=\u001b[39m _process_traceback_frames(e\u001b[38;5;241m.\u001b[39m__traceback__)\n\u001b[0;32m---> 67\u001b[0m   \u001b[38;5;28;01mraise\u001b[39;00m e\u001b[38;5;241m.\u001b[39mwith_traceback(filtered_tb) \u001b[38;5;28;01mfrom\u001b[39;00m \u001b[38;5;28mNone\u001b[39m\n\u001b[1;32m     68\u001b[0m \u001b[38;5;28;01mfinally\u001b[39;00m:\n\u001b[1;32m     69\u001b[0m   \u001b[38;5;28;01mdel\u001b[39;00m filtered_tb\n",
      "File \u001b[0;32m~/apps/miniconda3/envs/tfml/lib/python3.10/site-packages/tensorflow/python/lib/io/file_io.py:515\u001b[0m, in \u001b[0;36mrecursive_create_dir_v2\u001b[0;34m(path)\u001b[0m\n\u001b[1;32m    503\u001b[0m \u001b[38;5;129m@tf_export\u001b[39m(\u001b[38;5;124m\"\u001b[39m\u001b[38;5;124mio.gfile.makedirs\u001b[39m\u001b[38;5;124m\"\u001b[39m)\n\u001b[1;32m    504\u001b[0m \u001b[38;5;28;01mdef\u001b[39;00m \u001b[38;5;21mrecursive_create_dir_v2\u001b[39m(path):\n\u001b[1;32m    505\u001b[0m   \u001b[38;5;124;03m\"\"\"Creates a directory and all parent/intermediate directories.\u001b[39;00m\n\u001b[1;32m    506\u001b[0m \n\u001b[1;32m    507\u001b[0m \u001b[38;5;124;03m  It succeeds if path already exists and is writable.\u001b[39;00m\n\u001b[0;32m   (...)\u001b[0m\n\u001b[1;32m    513\u001b[0m \u001b[38;5;124;03m    errors.OpError: If the operation fails.\u001b[39;00m\n\u001b[1;32m    514\u001b[0m \u001b[38;5;124;03m  \"\"\"\u001b[39;00m\n\u001b[0;32m--> 515\u001b[0m   \u001b[43m_pywrap_file_io\u001b[49m\u001b[38;5;241;43m.\u001b[39;49m\u001b[43mRecursivelyCreateDir\u001b[49m\u001b[43m(\u001b[49m\u001b[43mcompat\u001b[49m\u001b[38;5;241;43m.\u001b[39;49m\u001b[43mpath_to_bytes\u001b[49m\u001b[43m(\u001b[49m\u001b[43mpath\u001b[49m\u001b[43m)\u001b[49m\u001b[43m)\u001b[49m\n",
      "\u001b[0;31mPermissionDeniedError\u001b[0m: /home/blizzard; Permission denied"
     ]
    }
   ],
   "source": [
    "model.save('/home/iiit/Datasets/Models/s5')"
   ]
  }
 ],
 "metadata": {
  "interpreter": {
   "hash": "31f2aee4e71d21fbe5cf8b01ff0e069b9275f58929596ceb00d14d90e3e16cd6"
  },
  "kernelspec": {
   "display_name": "Python 3 (ipykernel)",
   "language": "python",
   "name": "python3"
  },
  "language_info": {
   "codemirror_mode": {
    "name": "ipython",
    "version": 3
   },
   "file_extension": ".py",
   "mimetype": "text/x-python",
   "name": "python",
   "nbconvert_exporter": "python",
   "pygments_lexer": "ipython3",
   "version": "3.10.4"
  }
 },
 "nbformat": 4,
 "nbformat_minor": 2
}

{
 "cells": [
  {
   "cell_type": "code",
   "execution_count": 1,
   "metadata": {},
   "outputs": [],
   "source": [
    "import pandas as pd\n",
    "import numpy as np\n",
    "import matplotlib.pyplot as plt\n",
    "import matplotlib as mpl\n",
    "from tensorflow.keras.models import Sequential, load_model\n",
    "from tensorflow.keras.layers import LSTM, Dense, Dropout, BatchNormalization\n",
    "from sklearn.utils import shuffle"
   ]
  },
  {
   "cell_type": "code",
   "execution_count": 2,
   "metadata": {},
   "outputs": [],
   "source": [
    "import os\n",
    "os.environ['CUDA_VISIBLE_DEVICES'] = '-1'\n",
    "\n",
    "import tensorflow as tf"
   ]
  },
  {
   "cell_type": "code",
   "execution_count": 3,
   "metadata": {},
   "outputs": [],
   "source": [
    "import warnings\n",
    "warnings.filterwarnings('ignore')"
   ]
  },
  {
   "cell_type": "code",
   "execution_count": 4,
   "metadata": {},
   "outputs": [
    {
     "name": "stderr",
     "output_type": "stream",
     "text": [
      "2022-05-11 11:18:51.027996: E tensorflow/stream_executor/cuda/cuda_driver.cc:271] failed call to cuInit: CUDA_ERROR_NO_DEVICE: no CUDA-capable device is detected\n",
      "2022-05-11 11:18:51.028043: I tensorflow/stream_executor/cuda/cuda_diagnostics.cc:169] retrieving CUDA diagnostic information for host: gnode32\n",
      "2022-05-11 11:18:51.028054: I tensorflow/stream_executor/cuda/cuda_diagnostics.cc:176] hostname: gnode32\n",
      "2022-05-11 11:18:51.028169: I tensorflow/stream_executor/cuda/cuda_diagnostics.cc:200] libcuda reported version is: 440.95.1\n",
      "2022-05-11 11:18:51.028201: I tensorflow/stream_executor/cuda/cuda_diagnostics.cc:204] kernel reported version is: 440.95.1\n",
      "2022-05-11 11:18:51.028209: I tensorflow/stream_executor/cuda/cuda_diagnostics.cc:310] kernel version seems to match DSO: 440.95.1\n",
      "2022-05-11 11:18:51.028530: I tensorflow/core/platform/cpu_feature_guard.cc:151] This TensorFlow binary is optimized with oneAPI Deep Neural Network Library (oneDNN) to use the following CPU instructions in performance-critical operations:  SSE4.1 SSE4.2 AVX AVX2 FMA\n",
      "To enable them in other operations, rebuild TensorFlow with the appropriate compiler flags.\n"
     ]
    }
   ],
   "source": [
    "mn2 = 1000\n",
    "prop_seed = 345\n",
    "train_div = 0.5\n",
    "back_callback_dir = \"/home2/kalp_shah/neutrino/codes/ml/backup/dnn\"\n",
    "log_folder = \"logs/dnn\"\n",
    "model_dir = \"/home2/kalp_shah/neutrino/datasets/model/\"\n",
    "sig_epoch = {'test' : [], 'complete' : []}\n",
    "model_max = Sequential()\n",
    "max_sig = 0"
   ]
  },
  {
   "cell_type": "code",
   "execution_count": 5,
   "metadata": {},
   "outputs": [],
   "source": [
    "n2n2_cs = {500  : 5.13*1e-4,\n",
    "           750  : 3.83*1e-4,\n",
    "           #1000 : 3.99*1e-4,\\\n",
    "           1000 : 2.42*1e-4,\n",
    "           1250 : 9.56*1e-5,\n",
    "           1400 : 4.74*1e-5}"
   ]
  },
  {
   "cell_type": "code",
   "execution_count": 6,
   "metadata": {},
   "outputs": [],
   "source": [
    "cs_lo_k = { 'ttbar':988.57,\n",
    "            'wmp'  :1.95*1e5,\n",
    "            'wpwm' :124.31,\n",
    "            'zwpm' :51.82,\n",
    "            'n2n2' :1}\n",
    "\n",
    "br_ratio = {'ttbar':0.67*(1-0.67)*2,\n",
    "            'wmp'  :(1-0.67),\n",
    "            'wpwm' :(1-0.67)*0.67*2,\n",
    "            'zwpm' :0.7*(1-0.67),\n",
    "            'n2n2' :1}\n",
    "\n",
    "cs_nmg = {  'ttbar':393.30,\n",
    "            'wmp'  :7.865*1e4,\n",
    "            'wpwm' :74.96,\n",
    "            'zwpm' :14.28,\n",
    "            'n2n2' :1}\n",
    "\n",
    "cs_mg = {   'ttbar':5.883,\n",
    "            'wmp':111.5,\n",
    "            'wpwm':0.944,\n",
    "            'zwpm':0.2381,\n",
    "            'n2n2':n2n2_cs[mn2]}"
   ]
  },
  {
   "cell_type": "code",
   "execution_count": 7,
   "metadata": {},
   "outputs": [],
   "source": [
    "files = ['ttbar','wmp','wpwm','zwpm','n2n2']\n",
    "\n",
    "# The cross sections are given in picobarn\n",
    "cs_pb = []\n",
    "for f in files:\n",
    "    cs_pb.append((cs_lo_k[f]*br_ratio[f]*cs_mg[f])/cs_nmg[f])\n",
    "\n",
    "cs = [i*1e3 for i in cs_pb]\n",
    "cs_corr = {files[i] : cs[i] for i in range(len(files))}"
   ]
  },
  {
   "cell_type": "code",
   "execution_count": 8,
   "metadata": {},
   "outputs": [],
   "source": [
    "no_of_files = {'ttbar':0,\n",
    "               'wmp':0,\n",
    "               'wpwm':0,\n",
    "               'zwpm':0,\n",
    "               'n2n2':0\n",
    "               }"
   ]
  },
  {
   "cell_type": "code",
   "execution_count": 9,
   "metadata": {},
   "outputs": [],
   "source": [
    "df = []\n",
    "for f in range(len(files)):\n",
    "    con_df = []\n",
    "    \n",
    "    # The maximum file number \n",
    "    for i in range(1,80):\n",
    "        try:\n",
    "            if files[f] == 'n2n2':\n",
    "                con_df.append(pd.read_csv('~/neutrino/datasets/n2n2_' + str(mn2) + '/' + files[f] + str(i) + '.csv'))\n",
    "            else:\n",
    "                con_df.append(pd.read_csv('~/neutrino/datasets/backgrounds/' + files[f] + str(i) + '.csv'))\n",
    "            no_of_files[files[f]] += 1\n",
    "        except:\n",
    "            pass\n",
    "    \n",
    "    df.append(pd.concat(con_df,ignore_index=True))\n",
    "    df[-1]['type'] = f\n",
    "    \n",
    "    if files[f] == \"n2n2\":\n",
    "        df[-1]['tag'] = 1\n",
    "    else:\n",
    "        df[-1]['tag'] = 0"
   ]
  },
  {
   "cell_type": "code",
   "execution_count": 10,
   "metadata": {},
   "outputs": [],
   "source": [
    "red_merging = {'ttbar':98159,\n",
    "               'wmp':96494,\n",
    "               'wpwm':97633,\n",
    "               'zwpm':81076,\n",
    "               'n2n2':int(1e5)\n",
    "               }"
   ]
  },
  {
   "cell_type": "code",
   "execution_count": 11,
   "metadata": {},
   "outputs": [],
   "source": [
    "total_events = []\n",
    "\n",
    "for f in range(len(files)):\n",
    "    total_events.append(no_of_files[files[f]] * red_merging[files[f]])"
   ]
  },
  {
   "cell_type": "code",
   "execution_count": 12,
   "metadata": {},
   "outputs": [],
   "source": [
    "nf_print = pd.DataFrame([no_of_files.keys(),total_events]).T\n",
    "nf_print.rename(columns = {0:'Process',1:'Number of Events'}, inplace = True)"
   ]
  },
  {
   "cell_type": "code",
   "execution_count": 13,
   "metadata": {},
   "outputs": [
    {
     "data": {
      "text/html": [
       "<style type=\"text/css\">\n",
       "</style>\n",
       "<table id=\"T_6540e\">\n",
       "  <thead>\n",
       "    <tr>\n",
       "      <th id=\"T_6540e_level0_col0\" class=\"col_heading level0 col0\" >Process</th>\n",
       "      <th id=\"T_6540e_level0_col1\" class=\"col_heading level0 col1\" >Number of Events</th>\n",
       "    </tr>\n",
       "  </thead>\n",
       "  <tbody>\n",
       "    <tr>\n",
       "      <td id=\"T_6540e_row0_col0\" class=\"data row0 col0\" >ttbar</td>\n",
       "      <td id=\"T_6540e_row0_col1\" class=\"data row0 col1\" >6085858</td>\n",
       "    </tr>\n",
       "    <tr>\n",
       "      <td id=\"T_6540e_row1_col0\" class=\"data row1 col0\" >wmp</td>\n",
       "      <td id=\"T_6540e_row1_col1\" class=\"data row1 col1\" >5886134</td>\n",
       "    </tr>\n",
       "    <tr>\n",
       "      <td id=\"T_6540e_row2_col0\" class=\"data row2 col0\" >wpwm</td>\n",
       "      <td id=\"T_6540e_row2_col1\" class=\"data row2 col1\" >4002953</td>\n",
       "    </tr>\n",
       "    <tr>\n",
       "      <td id=\"T_6540e_row3_col0\" class=\"data row3 col0\" >zwpm</td>\n",
       "      <td id=\"T_6540e_row3_col1\" class=\"data row3 col1\" >3648420</td>\n",
       "    </tr>\n",
       "    <tr>\n",
       "      <td id=\"T_6540e_row4_col0\" class=\"data row4 col0\" >n2n2</td>\n",
       "      <td id=\"T_6540e_row4_col1\" class=\"data row4 col1\" >6900000</td>\n",
       "    </tr>\n",
       "  </tbody>\n",
       "</table>\n"
      ],
      "text/plain": [
       "<pandas.io.formats.style.Styler at 0x14d728887610>"
      ]
     },
     "execution_count": 13,
     "metadata": {},
     "output_type": "execute_result"
    }
   ],
   "source": [
    "nf_print.style.hide_index()"
   ]
  },
  {
   "cell_type": "code",
   "execution_count": 14,
   "metadata": {},
   "outputs": [],
   "source": [
    "dtset = pd.concat(df,ignore_index=True)\n",
    "dtset['met'] = np.fabs(dtset['met'])"
   ]
  },
  {
   "cell_type": "code",
   "execution_count": 15,
   "metadata": {},
   "outputs": [],
   "source": [
    "dtset = dtset\\\n",
    "       [dtset['ptl'] >= 120.0]\\\n",
    "       [dtset['ptj'] >= 120.0]\\\n",
    "       [dtset['etaj'] <=  2.0]\\\n",
    "       [dtset['etaj'] >= -2.0]"
   ]
  },
  {
   "cell_type": "code",
   "execution_count": 24,
   "metadata": {},
   "outputs": [],
   "source": [
    "df_test = []\n",
    "for df_sub in df:\n",
    "    df_test.append(df_sub[int(len(df_sub)/2):])"
   ]
  },
  {
   "cell_type": "code",
   "execution_count": 25,
   "metadata": {},
   "outputs": [],
   "source": [
    "dtset_test = pd.concat(df_test,ignore_index=True)\n",
    "dtset_test['met'] = np.fabs(dtset_test['met'])"
   ]
  },
  {
   "cell_type": "code",
   "execution_count": 26,
   "metadata": {},
   "outputs": [],
   "source": [
    "dtset_test = dtset_test\\\n",
    "            [dtset_test['ptl'] >= 120.0]\\\n",
    "            [dtset_test['ptj'] >= 120.0]\\\n",
    "            [dtset_test['etaj'] <=  2.0]\\\n",
    "            [dtset_test['etaj'] >= -2.0]"
   ]
  },
  {
   "cell_type": "code",
   "execution_count": 16,
   "metadata": {},
   "outputs": [],
   "source": [
    "model = load_model('/home2/kalp_shah/neutrino/datasets/model/dnn_new_sig')"
   ]
  },
  {
   "cell_type": "code",
   "execution_count": 27,
   "metadata": {},
   "outputs": [
    {
     "name": "stdout",
     "output_type": "stream",
     "text": [
      "2009/2009 [==============================] - 8s 4ms/step\n"
     ]
    }
   ],
   "source": [
    "tot_pred = model.predict(dtset_test.T[:-2].T,batch_size = 4096,verbose=True)"
   ]
  },
  {
   "cell_type": "code",
   "execution_count": 28,
   "metadata": {},
   "outputs": [],
   "source": [
    "pred_set = dtset_test.copy()\n",
    "pred_set['pred'] = tot_pred"
   ]
  },
  {
   "cell_type": "code",
   "execution_count": 29,
   "metadata": {},
   "outputs": [],
   "source": [
    "prob_sig = 0.98\n",
    "L = 3000"
   ]
  },
  {
   "cell_type": "code",
   "execution_count": 30,
   "metadata": {},
   "outputs": [
    {
     "name": "stdout",
     "output_type": "stream",
     "text": [
      "Correctly identified signal (True Positive)     :  790712\n",
      "Falsely identified signal (Flase Positive)      :  153\n",
      "Correctly identified background (True Negative) :  5427694\n",
      "Falsely identified background (False Negative)  :  2009843\n"
     ]
    }
   ],
   "source": [
    "print('Correctly identified signal (True Positive)     : ',len(pred_set[pred_set['pred'] >= prob_sig][pred_set['tag'] == 1]))\n",
    "print('Falsely identified signal (Flase Positive)      : ',len(pred_set[pred_set['pred'] >= prob_sig][pred_set['tag'] == 0]))\n",
    "print('Correctly identified background (True Negative) : ',len(pred_set[pred_set['pred'] < prob_sig][pred_set['tag'] == 0]))\n",
    "print('Falsely identified background (False Negative)  : ',len(pred_set[pred_set['pred'] < prob_sig][pred_set['tag'] == 1]))"
   ]
  },
  {
   "cell_type": "code",
   "execution_count": 31,
   "metadata": {},
   "outputs": [
    {
     "name": "stdout",
     "output_type": "stream",
     "text": [
      "Thus, the rate of correct signal prediction is :  0.9998065409393512\n"
     ]
    }
   ],
   "source": [
    "print('Thus, the rate of correct signal prediction is : ',len(pred_set[pred_set['pred'] >= prob_sig][pred_set['tag'] == 1])/(len(pred_set[pred_set['pred'] >= prob_sig])))"
   ]
  },
  {
   "cell_type": "code",
   "execution_count": 32,
   "metadata": {},
   "outputs": [
    {
     "name": "stdout",
     "output_type": "stream",
     "text": [
      "n2n2 790712 0.242\n",
      "ttbar 6 6538.845366086956\n",
      "wmp 6 91227.27272727272\n",
      "wpwm 55 692.2567850586979\n",
      "zwpm 86 199.5908264705882\n"
     ]
    }
   ],
   "source": [
    "ns = cs_corr['n2n2']*(len(pred_set[pred_set['pred'] >= prob_sig][pred_set['tag'] == 1])/(total_events[-1]))*L\n",
    "print('n2n2',(len(pred_set[pred_set['pred'] >= prob_sig][pred_set['tag'] == 1])),cs_corr['n2n2'])\n",
    "nb = 0\n",
    "\n",
    "for i in range(len(files)-1):\n",
    "    nb += cs_corr[files[i]]*(len(pred_set[pred_set['pred'] >= prob_sig][pred_set['tag'] == 0][pred_set['type'] == i])/((total_events[i])))*L\n",
    "    print(files[i],len(pred_set[pred_set['pred'] >= prob_sig][pred_set['tag'] == 0][pred_set['type'] == i]),cs_corr[files[i]])"
   ]
  },
  {
   "cell_type": "code",
   "execution_count": 33,
   "metadata": {},
   "outputs": [
    {
     "name": "stdout",
     "output_type": "stream",
     "text": [
      "The number of signal is : 83.19665391304348\n",
      "The number of background is : 340.9646247785292\n",
      "The significance is : 4.505585113345106\n"
     ]
    }
   ],
   "source": [
    "print('The number of signal is :', ns)\n",
    "print('The number of background is :', nb)\n",
    "print('The significance is :',ns/np.sqrt(nb))"
   ]
  },
  {
   "cell_type": "code",
   "execution_count": null,
   "metadata": {},
   "outputs": [],
   "source": []
  }
 ],
 "metadata": {
  "interpreter": {
   "hash": "31f2aee4e71d21fbe5cf8b01ff0e069b9275f58929596ceb00d14d90e3e16cd6"
  },
  "kernelspec": {
   "display_name": "Python 3 (ipykernel)",
   "language": "python",
   "name": "python3"
  },
  "language_info": {
   "codemirror_mode": {
    "name": "ipython",
    "version": 3
   },
   "file_extension": ".py",
   "mimetype": "text/x-python",
   "name": "python",
   "nbconvert_exporter": "python",
   "pygments_lexer": "ipython3",
   "version": "3.10.4"
  }
 },
 "nbformat": 4,
 "nbformat_minor": 4
}
